{
 "metadata": {
  "language_info": {
   "codemirror_mode": {
    "name": "ipython",
    "version": 3
   },
   "file_extension": ".py",
   "mimetype": "text/x-python",
   "name": "python",
   "nbconvert_exporter": "python",
   "pygments_lexer": "ipython3",
   "version": "3.8.5-final"
  },
  "orig_nbformat": 2,
  "kernelspec": {
   "name": "python3",
   "display_name": "Python 3",
   "language": "python"
  }
 },
 "nbformat": 4,
 "nbformat_minor": 2,
 "cells": [
  {
   "cell_type": "code",
   "execution_count": 2,
   "metadata": {},
   "outputs": [],
   "source": [
    "import numpy as np\n",
    "import pandas as pd\n",
    "\n",
    "import matplotlib.pyplot as plt\n",
    "import seaborn as sns\n",
    "\n",
    "#import model_evaluation_utils as meu\n",
    "from sklearn.model_selection import train_test_split\n",
    "from collections import Counter\n",
    "from sklearn.preprocessing import StandardScaler\n",
    "from sklearn.preprocessing import LabelEncoder\n",
    "from sklearn.linear_model import LogisticRegression\n",
    "from sklearn.metrics import classification_report\n",
    "from sklearn.naive_bayes import GaussianNB\n",
    "from sklearn.tree import DecisionTreeClassifier\n",
    "from sklearn.neighbors import KNeighborsClassifier\n",
    "from sklearn.discriminant_analysis import LinearDiscriminantAnalysis\n",
    "from sklearn.metrics import accuracy_score\n",
    "from sklearn.model_selection import cross_val_score\n",
    "from sklearn import svm\n",
    "from sklearn.metrics import cohen_kappa_score\n",
    "from sklearn.metrics import confusion_matrix\n",
    "from sklearn.metrics import plot_confusion_matrix\n",
    "from sklearn.model_selection import GridSearchCV\n",
    "#import imblearn\n",
    "\n",
    "from scipy import stats\n",
    "\n",
    "bikeday = pd.read_csv('day.csv')\n",
    "bikehour = pd.read_csv('hour.csv')"
   ]
  },
  {
   "cell_type": "code",
   "execution_count": 2,
   "metadata": {},
   "outputs": [
    {
     "output_type": "execute_result",
     "data": {
      "text/plain": [
       "<bound method NDFrame._add_numeric_operations.<locals>.sum of        instant  dteday  season     yr   mnth     hr  holiday  weekday  \\\n",
       "0        False   False   False  False  False  False    False    False   \n",
       "1        False   False   False  False  False  False    False    False   \n",
       "2        False   False   False  False  False  False    False    False   \n",
       "3        False   False   False  False  False  False    False    False   \n",
       "4        False   False   False  False  False  False    False    False   \n",
       "...        ...     ...     ...    ...    ...    ...      ...      ...   \n",
       "17374    False   False   False  False  False  False    False    False   \n",
       "17375    False   False   False  False  False  False    False    False   \n",
       "17376    False   False   False  False  False  False    False    False   \n",
       "17377    False   False   False  False  False  False    False    False   \n",
       "17378    False   False   False  False  False  False    False    False   \n",
       "\n",
       "       workingday  weathersit   temp  atemp    hum  windspeed  casual  \\\n",
       "0           False       False  False  False  False      False   False   \n",
       "1           False       False  False  False  False      False   False   \n",
       "2           False       False  False  False  False      False   False   \n",
       "3           False       False  False  False  False      False   False   \n",
       "4           False       False  False  False  False      False   False   \n",
       "...           ...         ...    ...    ...    ...        ...     ...   \n",
       "17374       False       False  False  False  False      False   False   \n",
       "17375       False       False  False  False  False      False   False   \n",
       "17376       False       False  False  False  False      False   False   \n",
       "17377       False       False  False  False  False      False   False   \n",
       "17378       False       False  False  False  False      False   False   \n",
       "\n",
       "       registered    cnt  \n",
       "0           False  False  \n",
       "1           False  False  \n",
       "2           False  False  \n",
       "3           False  False  \n",
       "4           False  False  \n",
       "...           ...    ...  \n",
       "17374       False  False  \n",
       "17375       False  False  \n",
       "17376       False  False  \n",
       "17377       False  False  \n",
       "17378       False  False  \n",
       "\n",
       "[17379 rows x 17 columns]>"
      ]
     },
     "metadata": {},
     "execution_count": 2
    }
   ],
   "source": [
    "bikehour.isna().sum"
   ]
  },
  {
   "cell_type": "code",
   "execution_count": 3,
   "metadata": {},
   "outputs": [
    {
     "output_type": "execute_result",
     "data": {
      "text/plain": [
       "<bound method NDFrame._add_numeric_operations.<locals>.sum of      instant  dteday  season     yr   mnth  holiday  weekday  workingday  \\\n",
       "0      False   False   False  False  False    False    False       False   \n",
       "1      False   False   False  False  False    False    False       False   \n",
       "2      False   False   False  False  False    False    False       False   \n",
       "3      False   False   False  False  False    False    False       False   \n",
       "4      False   False   False  False  False    False    False       False   \n",
       "..       ...     ...     ...    ...    ...      ...      ...         ...   \n",
       "726    False   False   False  False  False    False    False       False   \n",
       "727    False   False   False  False  False    False    False       False   \n",
       "728    False   False   False  False  False    False    False       False   \n",
       "729    False   False   False  False  False    False    False       False   \n",
       "730    False   False   False  False  False    False    False       False   \n",
       "\n",
       "     weathersit   temp  atemp    hum  windspeed  casual  registered    cnt  \n",
       "0         False  False  False  False      False   False       False  False  \n",
       "1         False  False  False  False      False   False       False  False  \n",
       "2         False  False  False  False      False   False       False  False  \n",
       "3         False  False  False  False      False   False       False  False  \n",
       "4         False  False  False  False      False   False       False  False  \n",
       "..          ...    ...    ...    ...        ...     ...         ...    ...  \n",
       "726       False  False  False  False      False   False       False  False  \n",
       "727       False  False  False  False      False   False       False  False  \n",
       "728       False  False  False  False      False   False       False  False  \n",
       "729       False  False  False  False      False   False       False  False  \n",
       "730       False  False  False  False      False   False       False  False  \n",
       "\n",
       "[731 rows x 16 columns]>"
      ]
     },
     "metadata": {},
     "execution_count": 3
    }
   ],
   "source": [
    "bikeday.isnull().sum"
   ]
  },
  {
   "cell_type": "code",
   "execution_count": 4,
   "metadata": {},
   "outputs": [
    {
     "output_type": "execute_result",
     "data": {
      "text/plain": [
       "          instant      season          yr        mnth     holiday     weekday  \\\n",
       "count  731.000000  731.000000  731.000000  731.000000  731.000000  731.000000   \n",
       "mean   366.000000    2.496580    0.500684    6.519836    0.028728    2.997264   \n",
       "std    211.165812    1.110807    0.500342    3.451913    0.167155    2.004787   \n",
       "min      1.000000    1.000000    0.000000    1.000000    0.000000    0.000000   \n",
       "25%    183.500000    2.000000    0.000000    4.000000    0.000000    1.000000   \n",
       "50%    366.000000    3.000000    1.000000    7.000000    0.000000    3.000000   \n",
       "75%    548.500000    3.000000    1.000000   10.000000    0.000000    5.000000   \n",
       "max    731.000000    4.000000    1.000000   12.000000    1.000000    6.000000   \n",
       "\n",
       "       workingday  weathersit        temp       atemp         hum   windspeed  \\\n",
       "count  731.000000  731.000000  731.000000  731.000000  731.000000  731.000000   \n",
       "mean     0.683995    1.395349    0.495385    0.474354    0.627894    0.190486   \n",
       "std      0.465233    0.544894    0.183051    0.162961    0.142429    0.077498   \n",
       "min      0.000000    1.000000    0.059130    0.079070    0.000000    0.022392   \n",
       "25%      0.000000    1.000000    0.337083    0.337842    0.520000    0.134950   \n",
       "50%      1.000000    1.000000    0.498333    0.486733    0.626667    0.180975   \n",
       "75%      1.000000    2.000000    0.655417    0.608602    0.730209    0.233214   \n",
       "max      1.000000    3.000000    0.861667    0.840896    0.972500    0.507463   \n",
       "\n",
       "            casual   registered          cnt  \n",
       "count   731.000000   731.000000   731.000000  \n",
       "mean    848.176471  3656.172367  4504.348837  \n",
       "std     686.622488  1560.256377  1937.211452  \n",
       "min       2.000000    20.000000    22.000000  \n",
       "25%     315.500000  2497.000000  3152.000000  \n",
       "50%     713.000000  3662.000000  4548.000000  \n",
       "75%    1096.000000  4776.500000  5956.000000  \n",
       "max    3410.000000  6946.000000  8714.000000  "
      ],
      "text/html": "<div>\n<style scoped>\n    .dataframe tbody tr th:only-of-type {\n        vertical-align: middle;\n    }\n\n    .dataframe tbody tr th {\n        vertical-align: top;\n    }\n\n    .dataframe thead th {\n        text-align: right;\n    }\n</style>\n<table border=\"1\" class=\"dataframe\">\n  <thead>\n    <tr style=\"text-align: right;\">\n      <th></th>\n      <th>instant</th>\n      <th>season</th>\n      <th>yr</th>\n      <th>mnth</th>\n      <th>holiday</th>\n      <th>weekday</th>\n      <th>workingday</th>\n      <th>weathersit</th>\n      <th>temp</th>\n      <th>atemp</th>\n      <th>hum</th>\n      <th>windspeed</th>\n      <th>casual</th>\n      <th>registered</th>\n      <th>cnt</th>\n    </tr>\n  </thead>\n  <tbody>\n    <tr>\n      <th>count</th>\n      <td>731.000000</td>\n      <td>731.000000</td>\n      <td>731.000000</td>\n      <td>731.000000</td>\n      <td>731.000000</td>\n      <td>731.000000</td>\n      <td>731.000000</td>\n      <td>731.000000</td>\n      <td>731.000000</td>\n      <td>731.000000</td>\n      <td>731.000000</td>\n      <td>731.000000</td>\n      <td>731.000000</td>\n      <td>731.000000</td>\n      <td>731.000000</td>\n    </tr>\n    <tr>\n      <th>mean</th>\n      <td>366.000000</td>\n      <td>2.496580</td>\n      <td>0.500684</td>\n      <td>6.519836</td>\n      <td>0.028728</td>\n      <td>2.997264</td>\n      <td>0.683995</td>\n      <td>1.395349</td>\n      <td>0.495385</td>\n      <td>0.474354</td>\n      <td>0.627894</td>\n      <td>0.190486</td>\n      <td>848.176471</td>\n      <td>3656.172367</td>\n      <td>4504.348837</td>\n    </tr>\n    <tr>\n      <th>std</th>\n      <td>211.165812</td>\n      <td>1.110807</td>\n      <td>0.500342</td>\n      <td>3.451913</td>\n      <td>0.167155</td>\n      <td>2.004787</td>\n      <td>0.465233</td>\n      <td>0.544894</td>\n      <td>0.183051</td>\n      <td>0.162961</td>\n      <td>0.142429</td>\n      <td>0.077498</td>\n      <td>686.622488</td>\n      <td>1560.256377</td>\n      <td>1937.211452</td>\n    </tr>\n    <tr>\n      <th>min</th>\n      <td>1.000000</td>\n      <td>1.000000</td>\n      <td>0.000000</td>\n      <td>1.000000</td>\n      <td>0.000000</td>\n      <td>0.000000</td>\n      <td>0.000000</td>\n      <td>1.000000</td>\n      <td>0.059130</td>\n      <td>0.079070</td>\n      <td>0.000000</td>\n      <td>0.022392</td>\n      <td>2.000000</td>\n      <td>20.000000</td>\n      <td>22.000000</td>\n    </tr>\n    <tr>\n      <th>25%</th>\n      <td>183.500000</td>\n      <td>2.000000</td>\n      <td>0.000000</td>\n      <td>4.000000</td>\n      <td>0.000000</td>\n      <td>1.000000</td>\n      <td>0.000000</td>\n      <td>1.000000</td>\n      <td>0.337083</td>\n      <td>0.337842</td>\n      <td>0.520000</td>\n      <td>0.134950</td>\n      <td>315.500000</td>\n      <td>2497.000000</td>\n      <td>3152.000000</td>\n    </tr>\n    <tr>\n      <th>50%</th>\n      <td>366.000000</td>\n      <td>3.000000</td>\n      <td>1.000000</td>\n      <td>7.000000</td>\n      <td>0.000000</td>\n      <td>3.000000</td>\n      <td>1.000000</td>\n      <td>1.000000</td>\n      <td>0.498333</td>\n      <td>0.486733</td>\n      <td>0.626667</td>\n      <td>0.180975</td>\n      <td>713.000000</td>\n      <td>3662.000000</td>\n      <td>4548.000000</td>\n    </tr>\n    <tr>\n      <th>75%</th>\n      <td>548.500000</td>\n      <td>3.000000</td>\n      <td>1.000000</td>\n      <td>10.000000</td>\n      <td>0.000000</td>\n      <td>5.000000</td>\n      <td>1.000000</td>\n      <td>2.000000</td>\n      <td>0.655417</td>\n      <td>0.608602</td>\n      <td>0.730209</td>\n      <td>0.233214</td>\n      <td>1096.000000</td>\n      <td>4776.500000</td>\n      <td>5956.000000</td>\n    </tr>\n    <tr>\n      <th>max</th>\n      <td>731.000000</td>\n      <td>4.000000</td>\n      <td>1.000000</td>\n      <td>12.000000</td>\n      <td>1.000000</td>\n      <td>6.000000</td>\n      <td>1.000000</td>\n      <td>3.000000</td>\n      <td>0.861667</td>\n      <td>0.840896</td>\n      <td>0.972500</td>\n      <td>0.507463</td>\n      <td>3410.000000</td>\n      <td>6946.000000</td>\n      <td>8714.000000</td>\n    </tr>\n  </tbody>\n</table>\n</div>"
     },
     "metadata": {},
     "execution_count": 4
    }
   ],
   "source": [
    "bikeday.describe()"
   ]
  },
  {
   "cell_type": "code",
   "execution_count": 5,
   "metadata": {},
   "outputs": [
    {
     "output_type": "execute_result",
     "data": {
      "text/plain": [
       "          instant        season            yr          mnth            hr  \\\n",
       "count  17379.0000  17379.000000  17379.000000  17379.000000  17379.000000   \n",
       "mean    8690.0000      2.501640      0.502561      6.537775     11.546752   \n",
       "std     5017.0295      1.106918      0.500008      3.438776      6.914405   \n",
       "min        1.0000      1.000000      0.000000      1.000000      0.000000   \n",
       "25%     4345.5000      2.000000      0.000000      4.000000      6.000000   \n",
       "50%     8690.0000      3.000000      1.000000      7.000000     12.000000   \n",
       "75%    13034.5000      3.000000      1.000000     10.000000     18.000000   \n",
       "max    17379.0000      4.000000      1.000000     12.000000     23.000000   \n",
       "\n",
       "            holiday       weekday    workingday    weathersit          temp  \\\n",
       "count  17379.000000  17379.000000  17379.000000  17379.000000  17379.000000   \n",
       "mean       0.028770      3.003683      0.682721      1.425283      0.496987   \n",
       "std        0.167165      2.005771      0.465431      0.639357      0.192556   \n",
       "min        0.000000      0.000000      0.000000      1.000000      0.020000   \n",
       "25%        0.000000      1.000000      0.000000      1.000000      0.340000   \n",
       "50%        0.000000      3.000000      1.000000      1.000000      0.500000   \n",
       "75%        0.000000      5.000000      1.000000      2.000000      0.660000   \n",
       "max        1.000000      6.000000      1.000000      4.000000      1.000000   \n",
       "\n",
       "              atemp           hum     windspeed        casual    registered  \\\n",
       "count  17379.000000  17379.000000  17379.000000  17379.000000  17379.000000   \n",
       "mean       0.475775      0.627229      0.190098     35.676218    153.786869   \n",
       "std        0.171850      0.192930      0.122340     49.305030    151.357286   \n",
       "min        0.000000      0.000000      0.000000      0.000000      0.000000   \n",
       "25%        0.333300      0.480000      0.104500      4.000000     34.000000   \n",
       "50%        0.484800      0.630000      0.194000     17.000000    115.000000   \n",
       "75%        0.621200      0.780000      0.253700     48.000000    220.000000   \n",
       "max        1.000000      1.000000      0.850700    367.000000    886.000000   \n",
       "\n",
       "                cnt  \n",
       "count  17379.000000  \n",
       "mean     189.463088  \n",
       "std      181.387599  \n",
       "min        1.000000  \n",
       "25%       40.000000  \n",
       "50%      142.000000  \n",
       "75%      281.000000  \n",
       "max      977.000000  "
      ],
      "text/html": "<div>\n<style scoped>\n    .dataframe tbody tr th:only-of-type {\n        vertical-align: middle;\n    }\n\n    .dataframe tbody tr th {\n        vertical-align: top;\n    }\n\n    .dataframe thead th {\n        text-align: right;\n    }\n</style>\n<table border=\"1\" class=\"dataframe\">\n  <thead>\n    <tr style=\"text-align: right;\">\n      <th></th>\n      <th>instant</th>\n      <th>season</th>\n      <th>yr</th>\n      <th>mnth</th>\n      <th>hr</th>\n      <th>holiday</th>\n      <th>weekday</th>\n      <th>workingday</th>\n      <th>weathersit</th>\n      <th>temp</th>\n      <th>atemp</th>\n      <th>hum</th>\n      <th>windspeed</th>\n      <th>casual</th>\n      <th>registered</th>\n      <th>cnt</th>\n    </tr>\n  </thead>\n  <tbody>\n    <tr>\n      <th>count</th>\n      <td>17379.0000</td>\n      <td>17379.000000</td>\n      <td>17379.000000</td>\n      <td>17379.000000</td>\n      <td>17379.000000</td>\n      <td>17379.000000</td>\n      <td>17379.000000</td>\n      <td>17379.000000</td>\n      <td>17379.000000</td>\n      <td>17379.000000</td>\n      <td>17379.000000</td>\n      <td>17379.000000</td>\n      <td>17379.000000</td>\n      <td>17379.000000</td>\n      <td>17379.000000</td>\n      <td>17379.000000</td>\n    </tr>\n    <tr>\n      <th>mean</th>\n      <td>8690.0000</td>\n      <td>2.501640</td>\n      <td>0.502561</td>\n      <td>6.537775</td>\n      <td>11.546752</td>\n      <td>0.028770</td>\n      <td>3.003683</td>\n      <td>0.682721</td>\n      <td>1.425283</td>\n      <td>0.496987</td>\n      <td>0.475775</td>\n      <td>0.627229</td>\n      <td>0.190098</td>\n      <td>35.676218</td>\n      <td>153.786869</td>\n      <td>189.463088</td>\n    </tr>\n    <tr>\n      <th>std</th>\n      <td>5017.0295</td>\n      <td>1.106918</td>\n      <td>0.500008</td>\n      <td>3.438776</td>\n      <td>6.914405</td>\n      <td>0.167165</td>\n      <td>2.005771</td>\n      <td>0.465431</td>\n      <td>0.639357</td>\n      <td>0.192556</td>\n      <td>0.171850</td>\n      <td>0.192930</td>\n      <td>0.122340</td>\n      <td>49.305030</td>\n      <td>151.357286</td>\n      <td>181.387599</td>\n    </tr>\n    <tr>\n      <th>min</th>\n      <td>1.0000</td>\n      <td>1.000000</td>\n      <td>0.000000</td>\n      <td>1.000000</td>\n      <td>0.000000</td>\n      <td>0.000000</td>\n      <td>0.000000</td>\n      <td>0.000000</td>\n      <td>1.000000</td>\n      <td>0.020000</td>\n      <td>0.000000</td>\n      <td>0.000000</td>\n      <td>0.000000</td>\n      <td>0.000000</td>\n      <td>0.000000</td>\n      <td>1.000000</td>\n    </tr>\n    <tr>\n      <th>25%</th>\n      <td>4345.5000</td>\n      <td>2.000000</td>\n      <td>0.000000</td>\n      <td>4.000000</td>\n      <td>6.000000</td>\n      <td>0.000000</td>\n      <td>1.000000</td>\n      <td>0.000000</td>\n      <td>1.000000</td>\n      <td>0.340000</td>\n      <td>0.333300</td>\n      <td>0.480000</td>\n      <td>0.104500</td>\n      <td>4.000000</td>\n      <td>34.000000</td>\n      <td>40.000000</td>\n    </tr>\n    <tr>\n      <th>50%</th>\n      <td>8690.0000</td>\n      <td>3.000000</td>\n      <td>1.000000</td>\n      <td>7.000000</td>\n      <td>12.000000</td>\n      <td>0.000000</td>\n      <td>3.000000</td>\n      <td>1.000000</td>\n      <td>1.000000</td>\n      <td>0.500000</td>\n      <td>0.484800</td>\n      <td>0.630000</td>\n      <td>0.194000</td>\n      <td>17.000000</td>\n      <td>115.000000</td>\n      <td>142.000000</td>\n    </tr>\n    <tr>\n      <th>75%</th>\n      <td>13034.5000</td>\n      <td>3.000000</td>\n      <td>1.000000</td>\n      <td>10.000000</td>\n      <td>18.000000</td>\n      <td>0.000000</td>\n      <td>5.000000</td>\n      <td>1.000000</td>\n      <td>2.000000</td>\n      <td>0.660000</td>\n      <td>0.621200</td>\n      <td>0.780000</td>\n      <td>0.253700</td>\n      <td>48.000000</td>\n      <td>220.000000</td>\n      <td>281.000000</td>\n    </tr>\n    <tr>\n      <th>max</th>\n      <td>17379.0000</td>\n      <td>4.000000</td>\n      <td>1.000000</td>\n      <td>12.000000</td>\n      <td>23.000000</td>\n      <td>1.000000</td>\n      <td>6.000000</td>\n      <td>1.000000</td>\n      <td>4.000000</td>\n      <td>1.000000</td>\n      <td>1.000000</td>\n      <td>1.000000</td>\n      <td>0.850700</td>\n      <td>367.000000</td>\n      <td>886.000000</td>\n      <td>977.000000</td>\n    </tr>\n  </tbody>\n</table>\n</div>"
     },
     "metadata": {},
     "execution_count": 5
    }
   ],
   "source": [
    "bikehour.describe()"
   ]
  },
  {
   "cell_type": "code",
   "execution_count": 7,
   "metadata": {},
   "outputs": [
    {
     "output_type": "execute_result",
     "data": {
      "text/plain": [
       "(731, 16)"
      ]
     },
     "metadata": {},
     "execution_count": 7
    }
   ],
   "source": [
    "bikeday.shape"
   ]
  },
  {
   "cell_type": "code",
   "execution_count": 8,
   "metadata": {},
   "outputs": [
    {
     "output_type": "execute_result",
     "data": {
      "text/plain": [
       "(17379, 17)"
      ]
     },
     "metadata": {},
     "execution_count": 8
    }
   ],
   "source": [
    "bikehour.shape"
   ]
  },
  {
   "cell_type": "code",
   "execution_count": 9,
   "metadata": {},
   "outputs": [
    {
     "output_type": "execute_result",
     "data": {
      "text/plain": [
       "   instant      dteday  season  yr  mnth  holiday  weekday  workingday  \\\n",
       "0        1  2011-01-01       1   0     1        0        6           0   \n",
       "1        2  2011-01-02       1   0     1        0        0           0   \n",
       "2        3  2011-01-03       1   0     1        0        1           1   \n",
       "3        4  2011-01-04       1   0     1        0        2           1   \n",
       "4        5  2011-01-05       1   0     1        0        3           1   \n",
       "\n",
       "   weathersit      temp     atemp       hum  windspeed  casual  registered  \\\n",
       "0           2  0.344167  0.363625  0.805833   0.160446     331         654   \n",
       "1           2  0.363478  0.353739  0.696087   0.248539     131         670   \n",
       "2           1  0.196364  0.189405  0.437273   0.248309     120        1229   \n",
       "3           1  0.200000  0.212122  0.590435   0.160296     108        1454   \n",
       "4           1  0.226957  0.229270  0.436957   0.186900      82        1518   \n",
       "\n",
       "    cnt  \n",
       "0   985  \n",
       "1   801  \n",
       "2  1349  \n",
       "3  1562  \n",
       "4  1600  "
      ],
      "text/html": "<div>\n<style scoped>\n    .dataframe tbody tr th:only-of-type {\n        vertical-align: middle;\n    }\n\n    .dataframe tbody tr th {\n        vertical-align: top;\n    }\n\n    .dataframe thead th {\n        text-align: right;\n    }\n</style>\n<table border=\"1\" class=\"dataframe\">\n  <thead>\n    <tr style=\"text-align: right;\">\n      <th></th>\n      <th>instant</th>\n      <th>dteday</th>\n      <th>season</th>\n      <th>yr</th>\n      <th>mnth</th>\n      <th>holiday</th>\n      <th>weekday</th>\n      <th>workingday</th>\n      <th>weathersit</th>\n      <th>temp</th>\n      <th>atemp</th>\n      <th>hum</th>\n      <th>windspeed</th>\n      <th>casual</th>\n      <th>registered</th>\n      <th>cnt</th>\n    </tr>\n  </thead>\n  <tbody>\n    <tr>\n      <th>0</th>\n      <td>1</td>\n      <td>2011-01-01</td>\n      <td>1</td>\n      <td>0</td>\n      <td>1</td>\n      <td>0</td>\n      <td>6</td>\n      <td>0</td>\n      <td>2</td>\n      <td>0.344167</td>\n      <td>0.363625</td>\n      <td>0.805833</td>\n      <td>0.160446</td>\n      <td>331</td>\n      <td>654</td>\n      <td>985</td>\n    </tr>\n    <tr>\n      <th>1</th>\n      <td>2</td>\n      <td>2011-01-02</td>\n      <td>1</td>\n      <td>0</td>\n      <td>1</td>\n      <td>0</td>\n      <td>0</td>\n      <td>0</td>\n      <td>2</td>\n      <td>0.363478</td>\n      <td>0.353739</td>\n      <td>0.696087</td>\n      <td>0.248539</td>\n      <td>131</td>\n      <td>670</td>\n      <td>801</td>\n    </tr>\n    <tr>\n      <th>2</th>\n      <td>3</td>\n      <td>2011-01-03</td>\n      <td>1</td>\n      <td>0</td>\n      <td>1</td>\n      <td>0</td>\n      <td>1</td>\n      <td>1</td>\n      <td>1</td>\n      <td>0.196364</td>\n      <td>0.189405</td>\n      <td>0.437273</td>\n      <td>0.248309</td>\n      <td>120</td>\n      <td>1229</td>\n      <td>1349</td>\n    </tr>\n    <tr>\n      <th>3</th>\n      <td>4</td>\n      <td>2011-01-04</td>\n      <td>1</td>\n      <td>0</td>\n      <td>1</td>\n      <td>0</td>\n      <td>2</td>\n      <td>1</td>\n      <td>1</td>\n      <td>0.200000</td>\n      <td>0.212122</td>\n      <td>0.590435</td>\n      <td>0.160296</td>\n      <td>108</td>\n      <td>1454</td>\n      <td>1562</td>\n    </tr>\n    <tr>\n      <th>4</th>\n      <td>5</td>\n      <td>2011-01-05</td>\n      <td>1</td>\n      <td>0</td>\n      <td>1</td>\n      <td>0</td>\n      <td>3</td>\n      <td>1</td>\n      <td>1</td>\n      <td>0.226957</td>\n      <td>0.229270</td>\n      <td>0.436957</td>\n      <td>0.186900</td>\n      <td>82</td>\n      <td>1518</td>\n      <td>1600</td>\n    </tr>\n  </tbody>\n</table>\n</div>"
     },
     "metadata": {},
     "execution_count": 9
    }
   ],
   "source": [
    "bikeday.head(5)"
   ]
  },
  {
   "cell_type": "code",
   "execution_count": 10,
   "metadata": {},
   "outputs": [
    {
     "output_type": "execute_result",
     "data": {
      "text/plain": [
       "   instant      dteday  season  yr  mnth  hr  holiday  weekday  workingday  \\\n",
       "0        1  2011-01-01       1   0     1   0        0        6           0   \n",
       "1        2  2011-01-01       1   0     1   1        0        6           0   \n",
       "2        3  2011-01-01       1   0     1   2        0        6           0   \n",
       "3        4  2011-01-01       1   0     1   3        0        6           0   \n",
       "4        5  2011-01-01       1   0     1   4        0        6           0   \n",
       "\n",
       "   weathersit  temp   atemp   hum  windspeed  casual  registered  cnt  \n",
       "0           1  0.24  0.2879  0.81        0.0       3          13   16  \n",
       "1           1  0.22  0.2727  0.80        0.0       8          32   40  \n",
       "2           1  0.22  0.2727  0.80        0.0       5          27   32  \n",
       "3           1  0.24  0.2879  0.75        0.0       3          10   13  \n",
       "4           1  0.24  0.2879  0.75        0.0       0           1    1  "
      ],
      "text/html": "<div>\n<style scoped>\n    .dataframe tbody tr th:only-of-type {\n        vertical-align: middle;\n    }\n\n    .dataframe tbody tr th {\n        vertical-align: top;\n    }\n\n    .dataframe thead th {\n        text-align: right;\n    }\n</style>\n<table border=\"1\" class=\"dataframe\">\n  <thead>\n    <tr style=\"text-align: right;\">\n      <th></th>\n      <th>instant</th>\n      <th>dteday</th>\n      <th>season</th>\n      <th>yr</th>\n      <th>mnth</th>\n      <th>hr</th>\n      <th>holiday</th>\n      <th>weekday</th>\n      <th>workingday</th>\n      <th>weathersit</th>\n      <th>temp</th>\n      <th>atemp</th>\n      <th>hum</th>\n      <th>windspeed</th>\n      <th>casual</th>\n      <th>registered</th>\n      <th>cnt</th>\n    </tr>\n  </thead>\n  <tbody>\n    <tr>\n      <th>0</th>\n      <td>1</td>\n      <td>2011-01-01</td>\n      <td>1</td>\n      <td>0</td>\n      <td>1</td>\n      <td>0</td>\n      <td>0</td>\n      <td>6</td>\n      <td>0</td>\n      <td>1</td>\n      <td>0.24</td>\n      <td>0.2879</td>\n      <td>0.81</td>\n      <td>0.0</td>\n      <td>3</td>\n      <td>13</td>\n      <td>16</td>\n    </tr>\n    <tr>\n      <th>1</th>\n      <td>2</td>\n      <td>2011-01-01</td>\n      <td>1</td>\n      <td>0</td>\n      <td>1</td>\n      <td>1</td>\n      <td>0</td>\n      <td>6</td>\n      <td>0</td>\n      <td>1</td>\n      <td>0.22</td>\n      <td>0.2727</td>\n      <td>0.80</td>\n      <td>0.0</td>\n      <td>8</td>\n      <td>32</td>\n      <td>40</td>\n    </tr>\n    <tr>\n      <th>2</th>\n      <td>3</td>\n      <td>2011-01-01</td>\n      <td>1</td>\n      <td>0</td>\n      <td>1</td>\n      <td>2</td>\n      <td>0</td>\n      <td>6</td>\n      <td>0</td>\n      <td>1</td>\n      <td>0.22</td>\n      <td>0.2727</td>\n      <td>0.80</td>\n      <td>0.0</td>\n      <td>5</td>\n      <td>27</td>\n      <td>32</td>\n    </tr>\n    <tr>\n      <th>3</th>\n      <td>4</td>\n      <td>2011-01-01</td>\n      <td>1</td>\n      <td>0</td>\n      <td>1</td>\n      <td>3</td>\n      <td>0</td>\n      <td>6</td>\n      <td>0</td>\n      <td>1</td>\n      <td>0.24</td>\n      <td>0.2879</td>\n      <td>0.75</td>\n      <td>0.0</td>\n      <td>3</td>\n      <td>10</td>\n      <td>13</td>\n    </tr>\n    <tr>\n      <th>4</th>\n      <td>5</td>\n      <td>2011-01-01</td>\n      <td>1</td>\n      <td>0</td>\n      <td>1</td>\n      <td>4</td>\n      <td>0</td>\n      <td>6</td>\n      <td>0</td>\n      <td>1</td>\n      <td>0.24</td>\n      <td>0.2879</td>\n      <td>0.75</td>\n      <td>0.0</td>\n      <td>0</td>\n      <td>1</td>\n      <td>1</td>\n    </tr>\n  </tbody>\n</table>\n</div>"
     },
     "metadata": {},
     "execution_count": 10
    }
   ],
   "source": [
    "bikehour.head(5)"
   ]
  },
  {
   "cell_type": "code",
   "execution_count": 11,
   "metadata": {},
   "outputs": [],
   "source": [
    "# Do the conversion and renaming, expanding of feature set here"
   ]
  },
  {
   "cell_type": "code",
   "execution_count": null,
   "metadata": {},
   "outputs": [],
   "source": [
    "sns.set(rc={'figure.figsize':(11,8)})\n",
    "\n",
    "sns.set_context(\"paper\", font_scale=1, rc={\"lines.linewidth\": 2.5})\n",
    "#sns.set(style=\"ticks\", context=\"talk\")\n",
    "#plt.style.use(\"dark_background\")\n",
    "sns.set_style(\"dark\")\n",
    "\n",
    "#fig, ax = plt.subplots()\n",
    "ax = sns.pointplot(data = hdf[['hour','total_count','season']], x = 'hour', y = 'total_count',\n",
    "              scale = 0.2, hue = 'season');\n",
    "\n",
    "plt.setp(ax.get_legend().get_texts(), fontsize='15') # for legend text\n",
    "plt.setp(ax.get_legend().get_title(), fontsize='16') # for legend title\n",
    "\n",
    "ax.set(title = 'Season wise hourly distribution of bike rentals',ylabel= 'mean(total_count)');\n"
   ]
  },
  {
   "cell_type": "code",
   "execution_count": null,
   "metadata": {},
   "outputs": [],
   "source": [
    "sns.distplot(hdf.total_count);"
   ]
  },
  {
   "cell_type": "code",
   "execution_count": null,
   "metadata": {},
   "outputs": [],
   "source": [
    "# sample example\n",
    "q1 = hdf.cnt.quantile(0.25)\n",
    "q3 = hdf.cnt.quantile(0.75)\n",
    "iqr = q3 - q1\n",
    "lower_bound = q1 -(1.5 * iqr) \n",
    "upper_bound = q3 +(1.5 * iqr) \n",
    "hdf = hdf.loc[(hdf.cnt >= lower_bound) & (hdf.cnt <= upper_bound)]"
   ]
  },
  {
   "cell_type": "code",
   "execution_count": null,
   "metadata": {},
   "outputs": [],
   "source": [
    "# An alternative approach would be the transformation of the target values to a normal distribution and using mean and standard deviation.\n",
    "hdf = hdf[np.abs(hdf[\"total_count\"]-hdf[\"total_count\"].mean()) <= 3*hdf[\"total_count\"].std()]"
   ]
  },
  {
   "cell_type": "code",
   "execution_count": null,
   "metadata": {},
   "outputs": [],
   "source": [
    "# This is being left as an experiment for you to explore.\n",
    "X = train\n",
    "y= y.total_count.values.reshape(-1,1)\n",
    "\n",
    "lin_reg = linear_model.LinearRegression()"
   ]
  },
  {
   "cell_type": "code",
   "execution_count": null,
   "metadata": {},
   "outputs": [],
   "source": [
    "# You can use the k-fold cross validation (specifically 10-fold) as shown in the following snippet.\n",
    "predicted = cross_val_predict(lin_reg, X, y, cv=10)"
   ]
  },
  {
   "cell_type": "code",
   "execution_count": null,
   "metadata": {},
   "outputs": [],
   "source": [
    "# You can also make it a function and pass arguments accordingly.\n",
    "models=[RandomForestRegressor(max_features= 'auto', n_estimators= 100, n_jobs= -1),AdaBoostRegressor(),BaggingRegressor(),SVR(),KNeighborsRegressor()]\n",
    "model_names=['RandomForestRegressor','AdaBoostRegressor','BaggingRegressor','SVR','KNeighborsRegressor']\n",
    "rmsle=[]\n",
    "rmse = []\n",
    "d1= {}\n",
    "d2 = {} \n",
    "for model in range (len(models)):\n",
    "    clf=models[model]\n",
    "    clf.fit(x_train,y_train)\n",
    "    test_pred=clf.predict(x_test)\n",
    "    rmsle.append(np.sqrt(mean_squared_log_error(test_pred,y_test)))\n",
    "    rmse.append(np.sqrt(mean_squared_error(test_pred,y_test, squared=False)))\n",
    "\n",
    "d1={'Modelling Algo':model_names,'RMSLE':rmsle}   \n",
    "\n",
    "\n",
    "d2={'Modelling Algo':model_names,'RMSE':rmse}   \n",
    "\n",
    "\n",
    "\n",
    "rmsle_frame=pd.DataFrame(d1)\n",
    "#rmsle_frame\n",
    "\n",
    "rmse_frame=pd.DataFrame(d2)\n",
    "#rmse_frame\n",
    "\n",
    "\n",
    "sns.catplot(y='Modelling Algo',x='RMSLE',data=rmsle_frame,kind='bar',height=5,aspect=2);"
   ]
  },
  {
   "cell_type": "code",
   "execution_count": null,
   "metadata": {},
   "outputs": [],
   "source": [
    "# RMSE\n",
    "sns.catplot(y='Modelling Algo',x='RMSE',data=rmse_frame,kind='bar',height=5,aspect=2);"
   ]
  },
  {
   "cell_type": "code",
   "execution_count": null,
   "metadata": {},
   "outputs": [],
   "source": [
    "# Google map EXAMPLE\n",
    "%%html\n",
    "\n",
    "<iframe src=\"https://www.google.com/maps/d/u/0/embed?mid=1xwOR-Mjborq-vmpGz-JfhucdlDlAmo1c\" width=\"640\" height=\"480\"></iframe>"
   ]
  },
  {
   "cell_type": "code",
   "execution_count": null,
   "metadata": {},
   "outputs": [],
   "source": [
    "# For example, top 10 start stations by volume of traffic. (number of occurances)\n",
    "data2011['Start station'].value_counts()[0:10].plot(kind = 'bar');"
   ]
  },
  {
   "cell_type": "code",
   "execution_count": 103,
   "metadata": {},
   "outputs": [
    {
     "output_type": "execute_result",
     "data": {
      "text/plain": [
       "0        0 days 00:26:36\n",
       "1        0 days 00:07:28\n",
       "2        0 days 00:04:43\n",
       "3        0 days 00:10:42\n",
       "4        0 days 00:05:47\n",
       "               ...      \n",
       "162525   0 days 00:11:14\n",
       "162526   0 days 00:08:34\n",
       "162527   0 days 00:25:25\n",
       "162528   0 days 00:09:26\n",
       "162529   0 days 00:17:35\n",
       "Length: 162530, dtype: timedelta64[ns]"
      ]
     },
     "metadata": {},
     "execution_count": 103
    }
   ],
   "source": [
    "# Time Series\n",
    "import datetime\n",
    "df = pd.read_csv('202003-capitalbikeshare-tripdata.csv')\n",
    "df['Start date'] = pd.to_datetime(df['Start date'])\n",
    "df['End date'] = pd.to_datetime(df['End date'])\n",
    "df['End date'] - df['Start date']"
   ]
  },
  {
   "cell_type": "code",
   "execution_count": 104,
   "metadata": {},
   "outputs": [
    {
     "output_type": "execute_result",
     "data": {
      "text/plain": [
       "   Duration          Start date            End date  Start station number  \\\n",
       "0      1596 2020-03-01 00:01:16 2020-03-01 00:27:52                 31646   \n",
       "1       448 2020-03-01 00:02:04 2020-03-01 00:09:32                 31646   \n",
       "2       283 2020-03-01 00:03:45 2020-03-01 00:08:28                 31224   \n",
       "3       642 2020-03-01 00:05:49 2020-03-01 00:16:31                 31603   \n",
       "4       347 2020-03-01 00:06:53 2020-03-01 00:12:40                 31101   \n",
       "\n",
       "           Start station  End station number  \\\n",
       "0  Maine Ave & 9th St SW               31509   \n",
       "1  Maine Ave & 9th St SW               31272   \n",
       "2         18th & L St NW               31200   \n",
       "3          1st & M St NE               31611   \n",
       "4         14th & V St NW               31114   \n",
       "\n",
       "                            End station Bike number Member type  \n",
       "0              New Jersey Ave & R St NW      W24217      Member  \n",
       "1  Washington & Independence Ave SW/HHS      W21897      Member  \n",
       "2  Massachusetts Ave & Dupont Circle NW      W21703      Member  \n",
       "3                        13th & H St NE       78571      Member  \n",
       "4              18th St & Wyoming Ave NW      W23425      Member  "
      ],
      "text/html": "<div>\n<style scoped>\n    .dataframe tbody tr th:only-of-type {\n        vertical-align: middle;\n    }\n\n    .dataframe tbody tr th {\n        vertical-align: top;\n    }\n\n    .dataframe thead th {\n        text-align: right;\n    }\n</style>\n<table border=\"1\" class=\"dataframe\">\n  <thead>\n    <tr style=\"text-align: right;\">\n      <th></th>\n      <th>Duration</th>\n      <th>Start date</th>\n      <th>End date</th>\n      <th>Start station number</th>\n      <th>Start station</th>\n      <th>End station number</th>\n      <th>End station</th>\n      <th>Bike number</th>\n      <th>Member type</th>\n    </tr>\n  </thead>\n  <tbody>\n    <tr>\n      <th>0</th>\n      <td>1596</td>\n      <td>2020-03-01 00:01:16</td>\n      <td>2020-03-01 00:27:52</td>\n      <td>31646</td>\n      <td>Maine Ave &amp; 9th St SW</td>\n      <td>31509</td>\n      <td>New Jersey Ave &amp; R St NW</td>\n      <td>W24217</td>\n      <td>Member</td>\n    </tr>\n    <tr>\n      <th>1</th>\n      <td>448</td>\n      <td>2020-03-01 00:02:04</td>\n      <td>2020-03-01 00:09:32</td>\n      <td>31646</td>\n      <td>Maine Ave &amp; 9th St SW</td>\n      <td>31272</td>\n      <td>Washington &amp; Independence Ave SW/HHS</td>\n      <td>W21897</td>\n      <td>Member</td>\n    </tr>\n    <tr>\n      <th>2</th>\n      <td>283</td>\n      <td>2020-03-01 00:03:45</td>\n      <td>2020-03-01 00:08:28</td>\n      <td>31224</td>\n      <td>18th &amp; L St NW</td>\n      <td>31200</td>\n      <td>Massachusetts Ave &amp; Dupont Circle NW</td>\n      <td>W21703</td>\n      <td>Member</td>\n    </tr>\n    <tr>\n      <th>3</th>\n      <td>642</td>\n      <td>2020-03-01 00:05:49</td>\n      <td>2020-03-01 00:16:31</td>\n      <td>31603</td>\n      <td>1st &amp; M St NE</td>\n      <td>31611</td>\n      <td>13th &amp; H St NE</td>\n      <td>78571</td>\n      <td>Member</td>\n    </tr>\n    <tr>\n      <th>4</th>\n      <td>347</td>\n      <td>2020-03-01 00:06:53</td>\n      <td>2020-03-01 00:12:40</td>\n      <td>31101</td>\n      <td>14th &amp; V St NW</td>\n      <td>31114</td>\n      <td>18th St &amp; Wyoming Ave NW</td>\n      <td>W23425</td>\n      <td>Member</td>\n    </tr>\n  </tbody>\n</table>\n</div>"
     },
     "metadata": {},
     "execution_count": 104
    }
   ],
   "source": [
    "df.iloc[0:5]"
   ]
  },
  {
   "cell_type": "code",
   "execution_count": 73,
   "metadata": {},
   "outputs": [
    {
     "output_type": "execute_result",
     "data": {
      "text/plain": [
       "   Duration          Start date            End date  Start station number  \\\n",
       "0      1596 2020-03-01 00:01:16 2020-03-01 00:27:52                 31646   \n",
       "1       448 2020-03-01 00:02:04 2020-03-01 00:09:32                 31646   \n",
       "2       283 2020-03-01 00:03:45 2020-03-01 00:08:28                 31224   \n",
       "3       642 2020-03-01 00:05:49 2020-03-01 00:16:31                 31603   \n",
       "4       347 2020-03-01 00:06:53 2020-03-01 00:12:40                 31101   \n",
       "\n",
       "           Start station  End station number  \\\n",
       "0  Maine Ave & 9th St SW               31509   \n",
       "1  Maine Ave & 9th St SW               31272   \n",
       "2         18th & L St NW               31200   \n",
       "3          1st & M St NE               31611   \n",
       "4         14th & V St NW               31114   \n",
       "\n",
       "                            End station Bike number Member type  \n",
       "0              New Jersey Ave & R St NW      W24217      Member  \n",
       "1  Washington & Independence Ave SW/HHS      W21897      Member  \n",
       "2  Massachusetts Ave & Dupont Circle NW      W21703      Member  \n",
       "3                        13th & H St NE       78571      Member  \n",
       "4              18th St & Wyoming Ave NW      W23425      Member  "
      ],
      "text/html": "<div>\n<style scoped>\n    .dataframe tbody tr th:only-of-type {\n        vertical-align: middle;\n    }\n\n    .dataframe tbody tr th {\n        vertical-align: top;\n    }\n\n    .dataframe thead th {\n        text-align: right;\n    }\n</style>\n<table border=\"1\" class=\"dataframe\">\n  <thead>\n    <tr style=\"text-align: right;\">\n      <th></th>\n      <th>Duration</th>\n      <th>Start date</th>\n      <th>End date</th>\n      <th>Start station number</th>\n      <th>Start station</th>\n      <th>End station number</th>\n      <th>End station</th>\n      <th>Bike number</th>\n      <th>Member type</th>\n    </tr>\n  </thead>\n  <tbody>\n    <tr>\n      <th>0</th>\n      <td>1596</td>\n      <td>2020-03-01 00:01:16</td>\n      <td>2020-03-01 00:27:52</td>\n      <td>31646</td>\n      <td>Maine Ave &amp; 9th St SW</td>\n      <td>31509</td>\n      <td>New Jersey Ave &amp; R St NW</td>\n      <td>W24217</td>\n      <td>Member</td>\n    </tr>\n    <tr>\n      <th>1</th>\n      <td>448</td>\n      <td>2020-03-01 00:02:04</td>\n      <td>2020-03-01 00:09:32</td>\n      <td>31646</td>\n      <td>Maine Ave &amp; 9th St SW</td>\n      <td>31272</td>\n      <td>Washington &amp; Independence Ave SW/HHS</td>\n      <td>W21897</td>\n      <td>Member</td>\n    </tr>\n    <tr>\n      <th>2</th>\n      <td>283</td>\n      <td>2020-03-01 00:03:45</td>\n      <td>2020-03-01 00:08:28</td>\n      <td>31224</td>\n      <td>18th &amp; L St NW</td>\n      <td>31200</td>\n      <td>Massachusetts Ave &amp; Dupont Circle NW</td>\n      <td>W21703</td>\n      <td>Member</td>\n    </tr>\n    <tr>\n      <th>3</th>\n      <td>642</td>\n      <td>2020-03-01 00:05:49</td>\n      <td>2020-03-01 00:16:31</td>\n      <td>31603</td>\n      <td>1st &amp; M St NE</td>\n      <td>31611</td>\n      <td>13th &amp; H St NE</td>\n      <td>78571</td>\n      <td>Member</td>\n    </tr>\n    <tr>\n      <th>4</th>\n      <td>347</td>\n      <td>2020-03-01 00:06:53</td>\n      <td>2020-03-01 00:12:40</td>\n      <td>31101</td>\n      <td>14th &amp; V St NW</td>\n      <td>31114</td>\n      <td>18th St &amp; Wyoming Ave NW</td>\n      <td>W23425</td>\n      <td>Member</td>\n    </tr>\n  </tbody>\n</table>\n</div>"
     },
     "metadata": {},
     "execution_count": 73
    }
   ],
   "source": [
    "df.head(5)"
   ]
  },
  {
   "cell_type": "code",
   "execution_count": 74,
   "metadata": {},
   "outputs": [
    {
     "output_type": "execute_result",
     "data": {
      "text/plain": [
       "(162530, 9)"
      ]
     },
     "metadata": {},
     "execution_count": 74
    }
   ],
   "source": [
    "df.shape"
   ]
  },
  {
   "cell_type": "code",
   "execution_count": 75,
   "metadata": {},
   "outputs": [
    {
     "output_type": "execute_result",
     "data": {
      "text/plain": [
       "pandas._libs.tslibs.timestamps.Timestamp"
      ]
     },
     "metadata": {},
     "execution_count": 75
    }
   ],
   "source": [
    "type(df['Start date'][0])"
   ]
  },
  {
   "cell_type": "code",
   "execution_count": 77,
   "metadata": {},
   "outputs": [
    {
     "output_type": "execute_result",
     "data": {
      "text/plain": [
       "pandas._libs.tslibs.timestamps.Timestamp"
      ]
     },
     "metadata": {},
     "execution_count": 77
    }
   ],
   "source": [
    "type(df['End date'][0])"
   ]
  },
  {
   "cell_type": "code",
   "execution_count": 78,
   "metadata": {},
   "outputs": [
    {
     "output_type": "execute_result",
     "data": {
      "text/plain": [
       "   Duration          Start date            End date  Start station number  \\\n",
       "0      1596 2020-03-01 00:01:16 2020-03-01 00:27:52                 31646   \n",
       "1       448 2020-03-01 00:02:04 2020-03-01 00:09:32                 31646   \n",
       "2       283 2020-03-01 00:03:45 2020-03-01 00:08:28                 31224   \n",
       "3       642 2020-03-01 00:05:49 2020-03-01 00:16:31                 31603   \n",
       "4       347 2020-03-01 00:06:53 2020-03-01 00:12:40                 31101   \n",
       "\n",
       "           Start station  End station number  \\\n",
       "0  Maine Ave & 9th St SW               31509   \n",
       "1  Maine Ave & 9th St SW               31272   \n",
       "2         18th & L St NW               31200   \n",
       "3          1st & M St NE               31611   \n",
       "4         14th & V St NW               31114   \n",
       "\n",
       "                            End station Bike number Member type  \n",
       "0              New Jersey Ave & R St NW      W24217      Member  \n",
       "1  Washington & Independence Ave SW/HHS      W21897      Member  \n",
       "2  Massachusetts Ave & Dupont Circle NW      W21703      Member  \n",
       "3                        13th & H St NE       78571      Member  \n",
       "4              18th St & Wyoming Ave NW      W23425      Member  "
      ],
      "text/html": "<div>\n<style scoped>\n    .dataframe tbody tr th:only-of-type {\n        vertical-align: middle;\n    }\n\n    .dataframe tbody tr th {\n        vertical-align: top;\n    }\n\n    .dataframe thead th {\n        text-align: right;\n    }\n</style>\n<table border=\"1\" class=\"dataframe\">\n  <thead>\n    <tr style=\"text-align: right;\">\n      <th></th>\n      <th>Duration</th>\n      <th>Start date</th>\n      <th>End date</th>\n      <th>Start station number</th>\n      <th>Start station</th>\n      <th>End station number</th>\n      <th>End station</th>\n      <th>Bike number</th>\n      <th>Member type</th>\n    </tr>\n  </thead>\n  <tbody>\n    <tr>\n      <th>0</th>\n      <td>1596</td>\n      <td>2020-03-01 00:01:16</td>\n      <td>2020-03-01 00:27:52</td>\n      <td>31646</td>\n      <td>Maine Ave &amp; 9th St SW</td>\n      <td>31509</td>\n      <td>New Jersey Ave &amp; R St NW</td>\n      <td>W24217</td>\n      <td>Member</td>\n    </tr>\n    <tr>\n      <th>1</th>\n      <td>448</td>\n      <td>2020-03-01 00:02:04</td>\n      <td>2020-03-01 00:09:32</td>\n      <td>31646</td>\n      <td>Maine Ave &amp; 9th St SW</td>\n      <td>31272</td>\n      <td>Washington &amp; Independence Ave SW/HHS</td>\n      <td>W21897</td>\n      <td>Member</td>\n    </tr>\n    <tr>\n      <th>2</th>\n      <td>283</td>\n      <td>2020-03-01 00:03:45</td>\n      <td>2020-03-01 00:08:28</td>\n      <td>31224</td>\n      <td>18th &amp; L St NW</td>\n      <td>31200</td>\n      <td>Massachusetts Ave &amp; Dupont Circle NW</td>\n      <td>W21703</td>\n      <td>Member</td>\n    </tr>\n    <tr>\n      <th>3</th>\n      <td>642</td>\n      <td>2020-03-01 00:05:49</td>\n      <td>2020-03-01 00:16:31</td>\n      <td>31603</td>\n      <td>1st &amp; M St NE</td>\n      <td>31611</td>\n      <td>13th &amp; H St NE</td>\n      <td>78571</td>\n      <td>Member</td>\n    </tr>\n    <tr>\n      <th>4</th>\n      <td>347</td>\n      <td>2020-03-01 00:06:53</td>\n      <td>2020-03-01 00:12:40</td>\n      <td>31101</td>\n      <td>14th &amp; V St NW</td>\n      <td>31114</td>\n      <td>18th St &amp; Wyoming Ave NW</td>\n      <td>W23425</td>\n      <td>Member</td>\n    </tr>\n  </tbody>\n</table>\n</div>"
     },
     "metadata": {},
     "execution_count": 78
    }
   ],
   "source": [
    "df.head(5)"
   ]
  },
  {
   "cell_type": "code",
   "execution_count": 79,
   "metadata": {},
   "outputs": [
    {
     "output_type": "execute_result",
     "data": {
      "text/plain": [
       "RangeIndex(start=0, stop=162530, step=1)"
      ]
     },
     "metadata": {},
     "execution_count": 79
    }
   ],
   "source": [
    "df.index"
   ]
  },
  {
   "cell_type": "code",
   "execution_count": 105,
   "metadata": {},
   "outputs": [],
   "source": [
    "df.index = df['Start date']"
   ]
  },
  {
   "cell_type": "code",
   "execution_count": 81,
   "metadata": {},
   "outputs": [
    {
     "output_type": "execute_result",
     "data": {
      "text/plain": [
       "DatetimeIndex(['2020-03-01 00:01:16', '2020-03-01 00:02:04',\n",
       "               '2020-03-01 00:03:45', '2020-03-01 00:05:49',\n",
       "               '2020-03-01 00:06:53', '2020-03-01 00:10:26',\n",
       "               '2020-03-01 00:14:30', '2020-03-01 00:15:17',\n",
       "               '2020-03-01 00:16:20', '2020-03-01 00:17:39',\n",
       "               ...\n",
       "               '2020-03-31 22:59:36', '2020-03-31 23:02:31',\n",
       "               '2020-03-31 23:03:29', '2020-03-31 23:08:10',\n",
       "               '2020-03-31 23:14:43', '2020-03-31 23:17:58',\n",
       "               '2020-03-31 23:18:13', '2020-03-31 23:29:00',\n",
       "               '2020-03-31 23:41:17', '2020-03-31 23:45:05'],\n",
       "              dtype='datetime64[ns]', name='Start date', length=162530, freq=None)"
      ]
     },
     "metadata": {},
     "execution_count": 81
    }
   ],
   "source": [
    "df.index"
   ]
  },
  {
   "cell_type": "code",
   "execution_count": 106,
   "metadata": {},
   "outputs": [
    {
     "output_type": "execute_result",
     "data": {
      "text/plain": [
       "Start date\n",
       "2020-03-01 00:01:16    1596\n",
       "2020-03-01 00:02:04     448\n",
       "2020-03-01 00:03:45     283\n",
       "2020-03-01 00:05:49     642\n",
       "2020-03-01 00:06:53     347\n",
       "                       ... \n",
       "2020-03-01 23:47:18     821\n",
       "2020-03-01 23:49:41    1041\n",
       "2020-03-01 23:51:25     704\n",
       "2020-03-01 23:52:49     236\n",
       "2020-03-01 23:58:59     487\n",
       "Name: Duration, Length: 5322, dtype: int64"
      ]
     },
     "metadata": {},
     "execution_count": 106
    }
   ],
   "source": [
    "df['2020-03-01']['Duration']"
   ]
  },
  {
   "cell_type": "code",
   "execution_count": 83,
   "metadata": {},
   "outputs": [
    {
     "output_type": "execute_result",
     "data": {
      "text/plain": [
       "                     Duration          Start date            End date  \\\n",
       "Start date                                                              \n",
       "2020-03-17 19:16:32       243 2020-03-17 19:16:32 2020-03-17 19:20:36   \n",
       "2020-03-17 19:16:32      1032 2020-03-17 19:16:32 2020-03-17 19:33:45   \n",
       "2020-03-17 19:16:38       775 2020-03-17 19:16:38 2020-03-17 19:29:33   \n",
       "\n",
       "                     Start station number  \\\n",
       "Start date                                  \n",
       "2020-03-17 19:16:32                 31294   \n",
       "2020-03-17 19:16:32                 31247   \n",
       "2020-03-17 19:16:38                 31272   \n",
       "\n",
       "                                            Start station  End station number  \\\n",
       "Start date                                                                      \n",
       "2020-03-17 19:16:32                         7th & E St SW               31108   \n",
       "2020-03-17 19:16:32             Jefferson Dr & 14th St SW               31120   \n",
       "2020-03-17 19:16:38  Washington & Independence Ave SW/HHS               31251   \n",
       "\n",
       "                               End station Bike number Member type  \n",
       "Start date                                                          \n",
       "2020-03-17 19:16:32          4th & M St SW      W21754      Member  \n",
       "2020-03-17 19:16:32  10th & Florida Ave NW      W01468      Member  \n",
       "2020-03-17 19:16:38         12th & L St NW      W23590      Member  "
      ],
      "text/html": "<div>\n<style scoped>\n    .dataframe tbody tr th:only-of-type {\n        vertical-align: middle;\n    }\n\n    .dataframe tbody tr th {\n        vertical-align: top;\n    }\n\n    .dataframe thead th {\n        text-align: right;\n    }\n</style>\n<table border=\"1\" class=\"dataframe\">\n  <thead>\n    <tr style=\"text-align: right;\">\n      <th></th>\n      <th>Duration</th>\n      <th>Start date</th>\n      <th>End date</th>\n      <th>Start station number</th>\n      <th>Start station</th>\n      <th>End station number</th>\n      <th>End station</th>\n      <th>Bike number</th>\n      <th>Member type</th>\n    </tr>\n    <tr>\n      <th>Start date</th>\n      <th></th>\n      <th></th>\n      <th></th>\n      <th></th>\n      <th></th>\n      <th></th>\n      <th></th>\n      <th></th>\n      <th></th>\n    </tr>\n  </thead>\n  <tbody>\n    <tr>\n      <th>2020-03-17 19:16:32</th>\n      <td>243</td>\n      <td>2020-03-17 19:16:32</td>\n      <td>2020-03-17 19:20:36</td>\n      <td>31294</td>\n      <td>7th &amp; E St SW</td>\n      <td>31108</td>\n      <td>4th &amp; M St SW</td>\n      <td>W21754</td>\n      <td>Member</td>\n    </tr>\n    <tr>\n      <th>2020-03-17 19:16:32</th>\n      <td>1032</td>\n      <td>2020-03-17 19:16:32</td>\n      <td>2020-03-17 19:33:45</td>\n      <td>31247</td>\n      <td>Jefferson Dr &amp; 14th St SW</td>\n      <td>31120</td>\n      <td>10th &amp; Florida Ave NW</td>\n      <td>W01468</td>\n      <td>Member</td>\n    </tr>\n    <tr>\n      <th>2020-03-17 19:16:38</th>\n      <td>775</td>\n      <td>2020-03-17 19:16:38</td>\n      <td>2020-03-17 19:29:33</td>\n      <td>31272</td>\n      <td>Washington &amp; Independence Ave SW/HHS</td>\n      <td>31251</td>\n      <td>12th &amp; L St NW</td>\n      <td>W23590</td>\n      <td>Member</td>\n    </tr>\n  </tbody>\n</table>\n</div>"
     },
     "metadata": {},
     "execution_count": 83
    }
   ],
   "source": [
    "df['2020-03-17'][3456:3459]"
   ]
  },
  {
   "cell_type": "code",
   "execution_count": 84,
   "metadata": {},
   "outputs": [
    {
     "output_type": "execute_result",
     "data": {
      "text/plain": [
       "0"
      ]
     },
     "metadata": {},
     "execution_count": 84
    }
   ],
   "source": [
    "sum(df['Start date'] >= df['End date'])"
   ]
  },
  {
   "cell_type": "code",
   "execution_count": 85,
   "metadata": {},
   "outputs": [
    {
     "output_type": "execute_result",
     "data": {
      "text/plain": [
       "                     Duration          Start date            End date  \\\n",
       "Start date                                                              \n",
       "2020-03-12 09:06:50       375 2020-03-12 09:06:50 2020-03-12 09:13:05   \n",
       "2020-03-12 09:06:53       728 2020-03-12 09:06:53 2020-03-12 09:19:01   \n",
       "2020-03-12 09:06:55       961 2020-03-12 09:06:55 2020-03-12 09:22:57   \n",
       "2020-03-12 09:06:59       587 2020-03-12 09:06:59 2020-03-12 09:16:47   \n",
       "2020-03-12 09:07:06       717 2020-03-12 09:07:06 2020-03-12 09:19:03   \n",
       "2020-03-12 09:07:09       574 2020-03-12 09:07:09 2020-03-12 09:16:43   \n",
       "2020-03-12 09:07:17       301 2020-03-12 09:07:17 2020-03-12 09:12:18   \n",
       "2020-03-12 09:07:36       959 2020-03-12 09:07:36 2020-03-12 09:23:35   \n",
       "\n",
       "                     Start station number  \\\n",
       "Start date                                  \n",
       "2020-03-12 09:06:50                 31130   \n",
       "2020-03-12 09:06:53                 31113   \n",
       "2020-03-12 09:06:55                 31303   \n",
       "2020-03-12 09:06:59                 31244   \n",
       "2020-03-12 09:07:06                 31268   \n",
       "2020-03-12 09:07:09                 31218   \n",
       "2020-03-12 09:07:17                 31618   \n",
       "2020-03-12 09:07:36                 31118   \n",
       "\n",
       "                                                    Start station  \\\n",
       "Start date                                                          \n",
       "2020-03-12 09:06:50                                 7th & S St NW   \n",
       "2020-03-12 09:06:53                   Columbia Rd & Belmont St NW   \n",
       "2020-03-12 09:06:55  Tenleytown / Wisconsin Ave & Albemarle St NW   \n",
       "2020-03-12 09:06:59                                 4th & E St SW   \n",
       "2020-03-12 09:07:06                                12th & U St NW   \n",
       "2020-03-12 09:07:09                L'Enfant Plaza / 7th & C St SW   \n",
       "2020-03-12 09:07:17                      4th & East Capitol St NE   \n",
       "2020-03-12 09:07:36                               3rd & Elm St NW   \n",
       "\n",
       "                     End station number                       End station  \\\n",
       "Start date                                                                  \n",
       "2020-03-12 09:06:50               31642                  4th St & K St NW   \n",
       "2020-03-12 09:06:53               31216         14th St & New York Ave NW   \n",
       "2020-03-12 09:06:55               31121        Calvert St & Woodley Pl NW   \n",
       "2020-03-12 09:06:59               31230     Metro Center / 12th & G St NW   \n",
       "2020-03-12 09:07:06               31655          New Jersey Ave & F St NW   \n",
       "2020-03-12 09:07:09               31238                    14th & G St NW   \n",
       "2020-03-12 09:07:17               31623   Columbus Circle / Union Station   \n",
       "2020-03-12 09:07:36               31621  4th & D St NW / Judiciary Square   \n",
       "\n",
       "                    Bike number Member type  \n",
       "Start date                                   \n",
       "2020-03-12 09:06:50      W22303      Member  \n",
       "2020-03-12 09:06:53      W23806      Member  \n",
       "2020-03-12 09:06:55      W20455      Member  \n",
       "2020-03-12 09:06:59      W23546      Member  \n",
       "2020-03-12 09:07:06      W21093      Member  \n",
       "2020-03-12 09:07:09      W22263      Member  \n",
       "2020-03-12 09:07:17      W20559      Member  \n",
       "2020-03-12 09:07:36      W23077      Member  "
      ],
      "text/html": "<div>\n<style scoped>\n    .dataframe tbody tr th:only-of-type {\n        vertical-align: middle;\n    }\n\n    .dataframe tbody tr th {\n        vertical-align: top;\n    }\n\n    .dataframe thead th {\n        text-align: right;\n    }\n</style>\n<table border=\"1\" class=\"dataframe\">\n  <thead>\n    <tr style=\"text-align: right;\">\n      <th></th>\n      <th>Duration</th>\n      <th>Start date</th>\n      <th>End date</th>\n      <th>Start station number</th>\n      <th>Start station</th>\n      <th>End station number</th>\n      <th>End station</th>\n      <th>Bike number</th>\n      <th>Member type</th>\n    </tr>\n    <tr>\n      <th>Start date</th>\n      <th></th>\n      <th></th>\n      <th></th>\n      <th></th>\n      <th></th>\n      <th></th>\n      <th></th>\n      <th></th>\n      <th></th>\n    </tr>\n  </thead>\n  <tbody>\n    <tr>\n      <th>2020-03-12 09:06:50</th>\n      <td>375</td>\n      <td>2020-03-12 09:06:50</td>\n      <td>2020-03-12 09:13:05</td>\n      <td>31130</td>\n      <td>7th &amp; S St NW</td>\n      <td>31642</td>\n      <td>4th St &amp; K St NW</td>\n      <td>W22303</td>\n      <td>Member</td>\n    </tr>\n    <tr>\n      <th>2020-03-12 09:06:53</th>\n      <td>728</td>\n      <td>2020-03-12 09:06:53</td>\n      <td>2020-03-12 09:19:01</td>\n      <td>31113</td>\n      <td>Columbia Rd &amp; Belmont St NW</td>\n      <td>31216</td>\n      <td>14th St &amp; New York Ave NW</td>\n      <td>W23806</td>\n      <td>Member</td>\n    </tr>\n    <tr>\n      <th>2020-03-12 09:06:55</th>\n      <td>961</td>\n      <td>2020-03-12 09:06:55</td>\n      <td>2020-03-12 09:22:57</td>\n      <td>31303</td>\n      <td>Tenleytown / Wisconsin Ave &amp; Albemarle St NW</td>\n      <td>31121</td>\n      <td>Calvert St &amp; Woodley Pl NW</td>\n      <td>W20455</td>\n      <td>Member</td>\n    </tr>\n    <tr>\n      <th>2020-03-12 09:06:59</th>\n      <td>587</td>\n      <td>2020-03-12 09:06:59</td>\n      <td>2020-03-12 09:16:47</td>\n      <td>31244</td>\n      <td>4th &amp; E St SW</td>\n      <td>31230</td>\n      <td>Metro Center / 12th &amp; G St NW</td>\n      <td>W23546</td>\n      <td>Member</td>\n    </tr>\n    <tr>\n      <th>2020-03-12 09:07:06</th>\n      <td>717</td>\n      <td>2020-03-12 09:07:06</td>\n      <td>2020-03-12 09:19:03</td>\n      <td>31268</td>\n      <td>12th &amp; U St NW</td>\n      <td>31655</td>\n      <td>New Jersey Ave &amp; F St NW</td>\n      <td>W21093</td>\n      <td>Member</td>\n    </tr>\n    <tr>\n      <th>2020-03-12 09:07:09</th>\n      <td>574</td>\n      <td>2020-03-12 09:07:09</td>\n      <td>2020-03-12 09:16:43</td>\n      <td>31218</td>\n      <td>L'Enfant Plaza / 7th &amp; C St SW</td>\n      <td>31238</td>\n      <td>14th &amp; G St NW</td>\n      <td>W22263</td>\n      <td>Member</td>\n    </tr>\n    <tr>\n      <th>2020-03-12 09:07:17</th>\n      <td>301</td>\n      <td>2020-03-12 09:07:17</td>\n      <td>2020-03-12 09:12:18</td>\n      <td>31618</td>\n      <td>4th &amp; East Capitol St NE</td>\n      <td>31623</td>\n      <td>Columbus Circle / Union Station</td>\n      <td>W20559</td>\n      <td>Member</td>\n    </tr>\n    <tr>\n      <th>2020-03-12 09:07:36</th>\n      <td>959</td>\n      <td>2020-03-12 09:07:36</td>\n      <td>2020-03-12 09:23:35</td>\n      <td>31118</td>\n      <td>3rd &amp; Elm St NW</td>\n      <td>31621</td>\n      <td>4th &amp; D St NW / Judiciary Square</td>\n      <td>W23077</td>\n      <td>Member</td>\n    </tr>\n  </tbody>\n</table>\n</div>"
     },
     "metadata": {},
     "execution_count": 85
    }
   ],
   "source": [
    "df['2020-03-12'][2001:2009]"
   ]
  },
  {
   "cell_type": "code",
   "execution_count": 127,
   "metadata": {},
   "outputs": [
    {
     "output_type": "display_data",
     "data": {
      "text/plain": "<Figure size 432x288 with 1 Axes>",
      "image/svg+xml": "<?xml version=\"1.0\" encoding=\"utf-8\" standalone=\"no\"?>\r\n<!DOCTYPE svg PUBLIC \"-//W3C//DTD SVG 1.1//EN\"\r\n  \"http://www.w3.org/Graphics/SVG/1.1/DTD/svg11.dtd\">\r\n<!-- Created with matplotlib (https://matplotlib.org/) -->\r\n<svg height=\"336.309788pt\" version=\"1.1\" viewBox=\"0 0 401.696314 336.309788\" width=\"401.696314pt\" xmlns=\"http://www.w3.org/2000/svg\" xmlns:xlink=\"http://www.w3.org/1999/xlink\">\r\n <metadata>\r\n  <rdf:RDF xmlns:cc=\"http://creativecommons.org/ns#\" xmlns:dc=\"http://purl.org/dc/elements/1.1/\" xmlns:rdf=\"http://www.w3.org/1999/02/22-rdf-syntax-ns#\">\r\n   <cc:Work>\r\n    <dc:type rdf:resource=\"http://purl.org/dc/dcmitype/StillImage\"/>\r\n    <dc:date>2021-01-26T10:54:38.845381</dc:date>\r\n    <dc:format>image/svg+xml</dc:format>\r\n    <dc:creator>\r\n     <cc:Agent>\r\n      <dc:title>Matplotlib v3.3.2, https://matplotlib.org/</dc:title>\r\n     </cc:Agent>\r\n    </dc:creator>\r\n   </cc:Work>\r\n  </rdf:RDF>\r\n </metadata>\r\n <defs>\r\n  <style type=\"text/css\">*{stroke-linecap:butt;stroke-linejoin:round;}</style>\r\n </defs>\r\n <g id=\"figure_1\">\r\n  <g id=\"patch_1\">\r\n   <path d=\"M -0 336.309788 \r\nL 401.696314 336.309788 \r\nL 401.696314 0 \r\nL -0 0 \r\nz\r\n\" style=\"fill:none;\"/>\r\n  </g>\r\n  <g id=\"axes_1\">\r\n   <g id=\"patch_2\">\r\n    <path d=\"M 39.65 226.489036 \r\nL 374.45 226.489036 \r\nL 374.45 9.049036 \r\nL 39.65 9.049036 \r\nz\r\n\" style=\"fill:#ffffff;\"/>\r\n   </g>\r\n   <g id=\"patch_3\">\r\n    <path clip-path=\"url(#p8f685335a5)\" d=\"M 43.835 226.489036 \r\nL 77.315 226.489036 \r\nL 77.315 145.680354 \r\nL 43.835 145.680354 \r\nz\r\n\" style=\"fill:#107010;\"/>\r\n   </g>\r\n   <g id=\"patch_4\">\r\n    <path clip-path=\"url(#p8f685335a5)\" d=\"M 85.685 226.489036 \r\nL 119.165 226.489036 \r\nL 119.165 69.612449 \r\nL 85.685 69.612449 \r\nz\r\n\" style=\"fill:#107010;\"/>\r\n   </g>\r\n   <g id=\"patch_5\">\r\n    <path clip-path=\"url(#p8f685335a5)\" d=\"M 127.535 226.489036 \r\nL 161.015 226.489036 \r\nL 161.015 19.403322 \r\nL 127.535 19.403322 \r\nz\r\n\" style=\"fill:#107010;\"/>\r\n   </g>\r\n   <g id=\"patch_6\">\r\n    <path clip-path=\"url(#p8f685335a5)\" d=\"M 169.385 226.489036 \r\nL 202.865 226.489036 \r\nL 202.865 99.996513 \r\nL 169.385 99.996513 \r\nz\r\n\" style=\"fill:#107010;\"/>\r\n   </g>\r\n   <g id=\"patch_7\">\r\n    <path clip-path=\"url(#p8f685335a5)\" d=\"M 211.235 226.489036 \r\nL 244.715 226.489036 \r\nL 244.715 71.982837 \r\nL 211.235 71.982837 \r\nz\r\n\" style=\"fill:#107010;\"/>\r\n   </g>\r\n   <g id=\"patch_8\">\r\n    <path clip-path=\"url(#p8f685335a5)\" d=\"M 253.085 226.489036 \r\nL 286.565 226.489036 \r\nL 286.565 102.797881 \r\nL 253.085 102.797881 \r\nz\r\n\" style=\"fill:#107010;\"/>\r\n   </g>\r\n   <g id=\"patch_9\">\r\n    <path clip-path=\"url(#p8f685335a5)\" d=\"M 294.935 226.489036 \r\nL 328.415 226.489036 \r\nL 328.415 161.626601 \r\nL 294.935 161.626601 \r\nz\r\n\" style=\"fill:#107010;\"/>\r\n   </g>\r\n   <g id=\"patch_10\">\r\n    <path clip-path=\"url(#p8f685335a5)\" d=\"M 336.785 226.489036 \r\nL 370.265 226.489036 \r\nL 370.265 19.834301 \r\nL 336.785 19.834301 \r\nz\r\n\" style=\"fill:#107010;\"/>\r\n   </g>\r\n   <g id=\"matplotlib.axis_1\">\r\n    <g id=\"xtick_1\">\r\n     <g id=\"line2d_1\">\r\n      <defs>\r\n       <path d=\"M 0 0 \r\nL 0 3.5 \r\n\" id=\"m9f9228583f\" style=\"stroke:#000000;stroke-width:0.8;\"/>\r\n      </defs>\r\n      <g>\r\n       <use style=\"stroke:#000000;stroke-width:0.8;\" x=\"60.575\" xlink:href=\"#m9f9228583f\" y=\"226.489036\"/>\r\n      </g>\r\n     </g>\r\n     <g id=\"text_1\">\r\n      <!-- 2020-03-12 09:06:50 -->\r\n      <g transform=\"translate(24.976593 313.961102)rotate(-45)scale(0.1 -0.1)\">\r\n       <defs>\r\n        <path d=\"M 19.1875 8.296875 \r\nL 53.609375 8.296875 \r\nL 53.609375 0 \r\nL 7.328125 0 \r\nL 7.328125 8.296875 \r\nQ 12.9375 14.109375 22.625 23.890625 \r\nQ 32.328125 33.6875 34.8125 36.53125 \r\nQ 39.546875 41.84375 41.421875 45.53125 \r\nQ 43.3125 49.21875 43.3125 52.78125 \r\nQ 43.3125 58.59375 39.234375 62.25 \r\nQ 35.15625 65.921875 28.609375 65.921875 \r\nQ 23.96875 65.921875 18.8125 64.3125 \r\nQ 13.671875 62.703125 7.8125 59.421875 \r\nL 7.8125 69.390625 \r\nQ 13.765625 71.78125 18.9375 73 \r\nQ 24.125 74.21875 28.421875 74.21875 \r\nQ 39.75 74.21875 46.484375 68.546875 \r\nQ 53.21875 62.890625 53.21875 53.421875 \r\nQ 53.21875 48.921875 51.53125 44.890625 \r\nQ 49.859375 40.875 45.40625 35.40625 \r\nQ 44.1875 33.984375 37.640625 27.21875 \r\nQ 31.109375 20.453125 19.1875 8.296875 \r\nz\r\n\" id=\"DejaVuSans-50\"/>\r\n        <path d=\"M 31.78125 66.40625 \r\nQ 24.171875 66.40625 20.328125 58.90625 \r\nQ 16.5 51.421875 16.5 36.375 \r\nQ 16.5 21.390625 20.328125 13.890625 \r\nQ 24.171875 6.390625 31.78125 6.390625 \r\nQ 39.453125 6.390625 43.28125 13.890625 \r\nQ 47.125 21.390625 47.125 36.375 \r\nQ 47.125 51.421875 43.28125 58.90625 \r\nQ 39.453125 66.40625 31.78125 66.40625 \r\nz\r\nM 31.78125 74.21875 \r\nQ 44.046875 74.21875 50.515625 64.515625 \r\nQ 56.984375 54.828125 56.984375 36.375 \r\nQ 56.984375 17.96875 50.515625 8.265625 \r\nQ 44.046875 -1.421875 31.78125 -1.421875 \r\nQ 19.53125 -1.421875 13.0625 8.265625 \r\nQ 6.59375 17.96875 6.59375 36.375 \r\nQ 6.59375 54.828125 13.0625 64.515625 \r\nQ 19.53125 74.21875 31.78125 74.21875 \r\nz\r\n\" id=\"DejaVuSans-48\"/>\r\n        <path d=\"M 4.890625 31.390625 \r\nL 31.203125 31.390625 \r\nL 31.203125 23.390625 \r\nL 4.890625 23.390625 \r\nz\r\n\" id=\"DejaVuSans-45\"/>\r\n        <path d=\"M 40.578125 39.3125 \r\nQ 47.65625 37.796875 51.625 33 \r\nQ 55.609375 28.21875 55.609375 21.1875 \r\nQ 55.609375 10.40625 48.1875 4.484375 \r\nQ 40.765625 -1.421875 27.09375 -1.421875 \r\nQ 22.515625 -1.421875 17.65625 -0.515625 \r\nQ 12.796875 0.390625 7.625 2.203125 \r\nL 7.625 11.71875 \r\nQ 11.71875 9.328125 16.59375 8.109375 \r\nQ 21.484375 6.890625 26.8125 6.890625 \r\nQ 36.078125 6.890625 40.9375 10.546875 \r\nQ 45.796875 14.203125 45.796875 21.1875 \r\nQ 45.796875 27.640625 41.28125 31.265625 \r\nQ 36.765625 34.90625 28.71875 34.90625 \r\nL 20.21875 34.90625 \r\nL 20.21875 43.015625 \r\nL 29.109375 43.015625 \r\nQ 36.375 43.015625 40.234375 45.921875 \r\nQ 44.09375 48.828125 44.09375 54.296875 \r\nQ 44.09375 59.90625 40.109375 62.90625 \r\nQ 36.140625 65.921875 28.71875 65.921875 \r\nQ 24.65625 65.921875 20.015625 65.03125 \r\nQ 15.375 64.15625 9.8125 62.3125 \r\nL 9.8125 71.09375 \r\nQ 15.4375 72.65625 20.34375 73.4375 \r\nQ 25.25 74.21875 29.59375 74.21875 \r\nQ 40.828125 74.21875 47.359375 69.109375 \r\nQ 53.90625 64.015625 53.90625 55.328125 \r\nQ 53.90625 49.265625 50.4375 45.09375 \r\nQ 46.96875 40.921875 40.578125 39.3125 \r\nz\r\n\" id=\"DejaVuSans-51\"/>\r\n        <path d=\"M 12.40625 8.296875 \r\nL 28.515625 8.296875 \r\nL 28.515625 63.921875 \r\nL 10.984375 60.40625 \r\nL 10.984375 69.390625 \r\nL 28.421875 72.90625 \r\nL 38.28125 72.90625 \r\nL 38.28125 8.296875 \r\nL 54.390625 8.296875 \r\nL 54.390625 0 \r\nL 12.40625 0 \r\nz\r\n\" id=\"DejaVuSans-49\"/>\r\n        <path id=\"DejaVuSans-32\"/>\r\n        <path d=\"M 10.984375 1.515625 \r\nL 10.984375 10.5 \r\nQ 14.703125 8.734375 18.5 7.8125 \r\nQ 22.3125 6.890625 25.984375 6.890625 \r\nQ 35.75 6.890625 40.890625 13.453125 \r\nQ 46.046875 20.015625 46.78125 33.40625 \r\nQ 43.953125 29.203125 39.59375 26.953125 \r\nQ 35.25 24.703125 29.984375 24.703125 \r\nQ 19.046875 24.703125 12.671875 31.3125 \r\nQ 6.296875 37.9375 6.296875 49.421875 \r\nQ 6.296875 60.640625 12.9375 67.421875 \r\nQ 19.578125 74.21875 30.609375 74.21875 \r\nQ 43.265625 74.21875 49.921875 64.515625 \r\nQ 56.59375 54.828125 56.59375 36.375 \r\nQ 56.59375 19.140625 48.40625 8.859375 \r\nQ 40.234375 -1.421875 26.421875 -1.421875 \r\nQ 22.703125 -1.421875 18.890625 -0.6875 \r\nQ 15.09375 0.046875 10.984375 1.515625 \r\nz\r\nM 30.609375 32.421875 \r\nQ 37.25 32.421875 41.125 36.953125 \r\nQ 45.015625 41.5 45.015625 49.421875 \r\nQ 45.015625 57.28125 41.125 61.84375 \r\nQ 37.25 66.40625 30.609375 66.40625 \r\nQ 23.96875 66.40625 20.09375 61.84375 \r\nQ 16.21875 57.28125 16.21875 49.421875 \r\nQ 16.21875 41.5 20.09375 36.953125 \r\nQ 23.96875 32.421875 30.609375 32.421875 \r\nz\r\n\" id=\"DejaVuSans-57\"/>\r\n        <path d=\"M 11.71875 12.40625 \r\nL 22.015625 12.40625 \r\nL 22.015625 0 \r\nL 11.71875 0 \r\nz\r\nM 11.71875 51.703125 \r\nL 22.015625 51.703125 \r\nL 22.015625 39.3125 \r\nL 11.71875 39.3125 \r\nz\r\n\" id=\"DejaVuSans-58\"/>\r\n        <path d=\"M 33.015625 40.375 \r\nQ 26.375 40.375 22.484375 35.828125 \r\nQ 18.609375 31.296875 18.609375 23.390625 \r\nQ 18.609375 15.53125 22.484375 10.953125 \r\nQ 26.375 6.390625 33.015625 6.390625 \r\nQ 39.65625 6.390625 43.53125 10.953125 \r\nQ 47.40625 15.53125 47.40625 23.390625 \r\nQ 47.40625 31.296875 43.53125 35.828125 \r\nQ 39.65625 40.375 33.015625 40.375 \r\nz\r\nM 52.59375 71.296875 \r\nL 52.59375 62.3125 \r\nQ 48.875 64.0625 45.09375 64.984375 \r\nQ 41.3125 65.921875 37.59375 65.921875 \r\nQ 27.828125 65.921875 22.671875 59.328125 \r\nQ 17.53125 52.734375 16.796875 39.40625 \r\nQ 19.671875 43.65625 24.015625 45.921875 \r\nQ 28.375 48.1875 33.59375 48.1875 \r\nQ 44.578125 48.1875 50.953125 41.515625 \r\nQ 57.328125 34.859375 57.328125 23.390625 \r\nQ 57.328125 12.15625 50.6875 5.359375 \r\nQ 44.046875 -1.421875 33.015625 -1.421875 \r\nQ 20.359375 -1.421875 13.671875 8.265625 \r\nQ 6.984375 17.96875 6.984375 36.375 \r\nQ 6.984375 53.65625 15.1875 63.9375 \r\nQ 23.390625 74.21875 37.203125 74.21875 \r\nQ 40.921875 74.21875 44.703125 73.484375 \r\nQ 48.484375 72.75 52.59375 71.296875 \r\nz\r\n\" id=\"DejaVuSans-54\"/>\r\n        <path d=\"M 10.796875 72.90625 \r\nL 49.515625 72.90625 \r\nL 49.515625 64.59375 \r\nL 19.828125 64.59375 \r\nL 19.828125 46.734375 \r\nQ 21.96875 47.46875 24.109375 47.828125 \r\nQ 26.265625 48.1875 28.421875 48.1875 \r\nQ 40.625 48.1875 47.75 41.5 \r\nQ 54.890625 34.8125 54.890625 23.390625 \r\nQ 54.890625 11.625 47.5625 5.09375 \r\nQ 40.234375 -1.421875 26.90625 -1.421875 \r\nQ 22.3125 -1.421875 17.546875 -0.640625 \r\nQ 12.796875 0.140625 7.71875 1.703125 \r\nL 7.71875 11.625 \r\nQ 12.109375 9.234375 16.796875 8.0625 \r\nQ 21.484375 6.890625 26.703125 6.890625 \r\nQ 35.15625 6.890625 40.078125 11.328125 \r\nQ 45.015625 15.765625 45.015625 23.390625 \r\nQ 45.015625 31 40.078125 35.4375 \r\nQ 35.15625 39.890625 26.703125 39.890625 \r\nQ 22.75 39.890625 18.8125 39.015625 \r\nQ 14.890625 38.140625 10.796875 36.28125 \r\nz\r\n\" id=\"DejaVuSans-53\"/>\r\n       </defs>\r\n       <use xlink:href=\"#DejaVuSans-50\"/>\r\n       <use x=\"63.623047\" xlink:href=\"#DejaVuSans-48\"/>\r\n       <use x=\"127.246094\" xlink:href=\"#DejaVuSans-50\"/>\r\n       <use x=\"190.869141\" xlink:href=\"#DejaVuSans-48\"/>\r\n       <use x=\"254.492188\" xlink:href=\"#DejaVuSans-45\"/>\r\n       <use x=\"290.576172\" xlink:href=\"#DejaVuSans-48\"/>\r\n       <use x=\"354.199219\" xlink:href=\"#DejaVuSans-51\"/>\r\n       <use x=\"417.822266\" xlink:href=\"#DejaVuSans-45\"/>\r\n       <use x=\"453.90625\" xlink:href=\"#DejaVuSans-49\"/>\r\n       <use x=\"517.529297\" xlink:href=\"#DejaVuSans-50\"/>\r\n       <use x=\"581.152344\" xlink:href=\"#DejaVuSans-32\"/>\r\n       <use x=\"612.939453\" xlink:href=\"#DejaVuSans-48\"/>\r\n       <use x=\"676.5625\" xlink:href=\"#DejaVuSans-57\"/>\r\n       <use x=\"740.185547\" xlink:href=\"#DejaVuSans-58\"/>\r\n       <use x=\"773.876953\" xlink:href=\"#DejaVuSans-48\"/>\r\n       <use x=\"837.5\" xlink:href=\"#DejaVuSans-54\"/>\r\n       <use x=\"901.123047\" xlink:href=\"#DejaVuSans-58\"/>\r\n       <use x=\"934.814453\" xlink:href=\"#DejaVuSans-53\"/>\r\n       <use x=\"998.4375\" xlink:href=\"#DejaVuSans-48\"/>\r\n      </g>\r\n     </g>\r\n    </g>\r\n    <g id=\"xtick_2\">\r\n     <g id=\"line2d_2\">\r\n      <g>\r\n       <use style=\"stroke:#000000;stroke-width:0.8;\" x=\"102.425\" xlink:href=\"#m9f9228583f\" y=\"226.489036\"/>\r\n      </g>\r\n     </g>\r\n     <g id=\"text_2\">\r\n      <!-- 2020-03-12 09:06:53 -->\r\n      <g transform=\"translate(66.826593 313.961102)rotate(-45)scale(0.1 -0.1)\">\r\n       <use xlink:href=\"#DejaVuSans-50\"/>\r\n       <use x=\"63.623047\" xlink:href=\"#DejaVuSans-48\"/>\r\n       <use x=\"127.246094\" xlink:href=\"#DejaVuSans-50\"/>\r\n       <use x=\"190.869141\" xlink:href=\"#DejaVuSans-48\"/>\r\n       <use x=\"254.492188\" xlink:href=\"#DejaVuSans-45\"/>\r\n       <use x=\"290.576172\" xlink:href=\"#DejaVuSans-48\"/>\r\n       <use x=\"354.199219\" xlink:href=\"#DejaVuSans-51\"/>\r\n       <use x=\"417.822266\" xlink:href=\"#DejaVuSans-45\"/>\r\n       <use x=\"453.90625\" xlink:href=\"#DejaVuSans-49\"/>\r\n       <use x=\"517.529297\" xlink:href=\"#DejaVuSans-50\"/>\r\n       <use x=\"581.152344\" xlink:href=\"#DejaVuSans-32\"/>\r\n       <use x=\"612.939453\" xlink:href=\"#DejaVuSans-48\"/>\r\n       <use x=\"676.5625\" xlink:href=\"#DejaVuSans-57\"/>\r\n       <use x=\"740.185547\" xlink:href=\"#DejaVuSans-58\"/>\r\n       <use x=\"773.876953\" xlink:href=\"#DejaVuSans-48\"/>\r\n       <use x=\"837.5\" xlink:href=\"#DejaVuSans-54\"/>\r\n       <use x=\"901.123047\" xlink:href=\"#DejaVuSans-58\"/>\r\n       <use x=\"934.814453\" xlink:href=\"#DejaVuSans-53\"/>\r\n       <use x=\"998.4375\" xlink:href=\"#DejaVuSans-51\"/>\r\n      </g>\r\n     </g>\r\n    </g>\r\n    <g id=\"xtick_3\">\r\n     <g id=\"line2d_3\">\r\n      <g>\r\n       <use style=\"stroke:#000000;stroke-width:0.8;\" x=\"144.275\" xlink:href=\"#m9f9228583f\" y=\"226.489036\"/>\r\n      </g>\r\n     </g>\r\n     <g id=\"text_3\">\r\n      <!-- 2020-03-12 09:06:55 -->\r\n      <g transform=\"translate(108.676593 313.961102)rotate(-45)scale(0.1 -0.1)\">\r\n       <use xlink:href=\"#DejaVuSans-50\"/>\r\n       <use x=\"63.623047\" xlink:href=\"#DejaVuSans-48\"/>\r\n       <use x=\"127.246094\" xlink:href=\"#DejaVuSans-50\"/>\r\n       <use x=\"190.869141\" xlink:href=\"#DejaVuSans-48\"/>\r\n       <use x=\"254.492188\" xlink:href=\"#DejaVuSans-45\"/>\r\n       <use x=\"290.576172\" xlink:href=\"#DejaVuSans-48\"/>\r\n       <use x=\"354.199219\" xlink:href=\"#DejaVuSans-51\"/>\r\n       <use x=\"417.822266\" xlink:href=\"#DejaVuSans-45\"/>\r\n       <use x=\"453.90625\" xlink:href=\"#DejaVuSans-49\"/>\r\n       <use x=\"517.529297\" xlink:href=\"#DejaVuSans-50\"/>\r\n       <use x=\"581.152344\" xlink:href=\"#DejaVuSans-32\"/>\r\n       <use x=\"612.939453\" xlink:href=\"#DejaVuSans-48\"/>\r\n       <use x=\"676.5625\" xlink:href=\"#DejaVuSans-57\"/>\r\n       <use x=\"740.185547\" xlink:href=\"#DejaVuSans-58\"/>\r\n       <use x=\"773.876953\" xlink:href=\"#DejaVuSans-48\"/>\r\n       <use x=\"837.5\" xlink:href=\"#DejaVuSans-54\"/>\r\n       <use x=\"901.123047\" xlink:href=\"#DejaVuSans-58\"/>\r\n       <use x=\"934.814453\" xlink:href=\"#DejaVuSans-53\"/>\r\n       <use x=\"998.4375\" xlink:href=\"#DejaVuSans-53\"/>\r\n      </g>\r\n     </g>\r\n    </g>\r\n    <g id=\"xtick_4\">\r\n     <g id=\"line2d_4\">\r\n      <g>\r\n       <use style=\"stroke:#000000;stroke-width:0.8;\" x=\"186.125\" xlink:href=\"#m9f9228583f\" y=\"226.489036\"/>\r\n      </g>\r\n     </g>\r\n     <g id=\"text_4\">\r\n      <!-- 2020-03-12 09:06:59 -->\r\n      <g transform=\"translate(150.526593 313.961102)rotate(-45)scale(0.1 -0.1)\">\r\n       <use xlink:href=\"#DejaVuSans-50\"/>\r\n       <use x=\"63.623047\" xlink:href=\"#DejaVuSans-48\"/>\r\n       <use x=\"127.246094\" xlink:href=\"#DejaVuSans-50\"/>\r\n       <use x=\"190.869141\" xlink:href=\"#DejaVuSans-48\"/>\r\n       <use x=\"254.492188\" xlink:href=\"#DejaVuSans-45\"/>\r\n       <use x=\"290.576172\" xlink:href=\"#DejaVuSans-48\"/>\r\n       <use x=\"354.199219\" xlink:href=\"#DejaVuSans-51\"/>\r\n       <use x=\"417.822266\" xlink:href=\"#DejaVuSans-45\"/>\r\n       <use x=\"453.90625\" xlink:href=\"#DejaVuSans-49\"/>\r\n       <use x=\"517.529297\" xlink:href=\"#DejaVuSans-50\"/>\r\n       <use x=\"581.152344\" xlink:href=\"#DejaVuSans-32\"/>\r\n       <use x=\"612.939453\" xlink:href=\"#DejaVuSans-48\"/>\r\n       <use x=\"676.5625\" xlink:href=\"#DejaVuSans-57\"/>\r\n       <use x=\"740.185547\" xlink:href=\"#DejaVuSans-58\"/>\r\n       <use x=\"773.876953\" xlink:href=\"#DejaVuSans-48\"/>\r\n       <use x=\"837.5\" xlink:href=\"#DejaVuSans-54\"/>\r\n       <use x=\"901.123047\" xlink:href=\"#DejaVuSans-58\"/>\r\n       <use x=\"934.814453\" xlink:href=\"#DejaVuSans-53\"/>\r\n       <use x=\"998.4375\" xlink:href=\"#DejaVuSans-57\"/>\r\n      </g>\r\n     </g>\r\n    </g>\r\n    <g id=\"xtick_5\">\r\n     <g id=\"line2d_5\">\r\n      <g>\r\n       <use style=\"stroke:#000000;stroke-width:0.8;\" x=\"227.975\" xlink:href=\"#m9f9228583f\" y=\"226.489036\"/>\r\n      </g>\r\n     </g>\r\n     <g id=\"text_5\">\r\n      <!-- 2020-03-12 09:07:06 -->\r\n      <g transform=\"translate(192.376593 313.961102)rotate(-45)scale(0.1 -0.1)\">\r\n       <defs>\r\n        <path d=\"M 8.203125 72.90625 \r\nL 55.078125 72.90625 \r\nL 55.078125 68.703125 \r\nL 28.609375 0 \r\nL 18.3125 0 \r\nL 43.21875 64.59375 \r\nL 8.203125 64.59375 \r\nz\r\n\" id=\"DejaVuSans-55\"/>\r\n       </defs>\r\n       <use xlink:href=\"#DejaVuSans-50\"/>\r\n       <use x=\"63.623047\" xlink:href=\"#DejaVuSans-48\"/>\r\n       <use x=\"127.246094\" xlink:href=\"#DejaVuSans-50\"/>\r\n       <use x=\"190.869141\" xlink:href=\"#DejaVuSans-48\"/>\r\n       <use x=\"254.492188\" xlink:href=\"#DejaVuSans-45\"/>\r\n       <use x=\"290.576172\" xlink:href=\"#DejaVuSans-48\"/>\r\n       <use x=\"354.199219\" xlink:href=\"#DejaVuSans-51\"/>\r\n       <use x=\"417.822266\" xlink:href=\"#DejaVuSans-45\"/>\r\n       <use x=\"453.90625\" xlink:href=\"#DejaVuSans-49\"/>\r\n       <use x=\"517.529297\" xlink:href=\"#DejaVuSans-50\"/>\r\n       <use x=\"581.152344\" xlink:href=\"#DejaVuSans-32\"/>\r\n       <use x=\"612.939453\" xlink:href=\"#DejaVuSans-48\"/>\r\n       <use x=\"676.5625\" xlink:href=\"#DejaVuSans-57\"/>\r\n       <use x=\"740.185547\" xlink:href=\"#DejaVuSans-58\"/>\r\n       <use x=\"773.876953\" xlink:href=\"#DejaVuSans-48\"/>\r\n       <use x=\"837.5\" xlink:href=\"#DejaVuSans-55\"/>\r\n       <use x=\"901.123047\" xlink:href=\"#DejaVuSans-58\"/>\r\n       <use x=\"934.814453\" xlink:href=\"#DejaVuSans-48\"/>\r\n       <use x=\"998.4375\" xlink:href=\"#DejaVuSans-54\"/>\r\n      </g>\r\n     </g>\r\n    </g>\r\n    <g id=\"xtick_6\">\r\n     <g id=\"line2d_6\">\r\n      <g>\r\n       <use style=\"stroke:#000000;stroke-width:0.8;\" x=\"269.825\" xlink:href=\"#m9f9228583f\" y=\"226.489036\"/>\r\n      </g>\r\n     </g>\r\n     <g id=\"text_6\">\r\n      <!-- 2020-03-12 09:07:09 -->\r\n      <g transform=\"translate(234.226593 313.961102)rotate(-45)scale(0.1 -0.1)\">\r\n       <use xlink:href=\"#DejaVuSans-50\"/>\r\n       <use x=\"63.623047\" xlink:href=\"#DejaVuSans-48\"/>\r\n       <use x=\"127.246094\" xlink:href=\"#DejaVuSans-50\"/>\r\n       <use x=\"190.869141\" xlink:href=\"#DejaVuSans-48\"/>\r\n       <use x=\"254.492188\" xlink:href=\"#DejaVuSans-45\"/>\r\n       <use x=\"290.576172\" xlink:href=\"#DejaVuSans-48\"/>\r\n       <use x=\"354.199219\" xlink:href=\"#DejaVuSans-51\"/>\r\n       <use x=\"417.822266\" xlink:href=\"#DejaVuSans-45\"/>\r\n       <use x=\"453.90625\" xlink:href=\"#DejaVuSans-49\"/>\r\n       <use x=\"517.529297\" xlink:href=\"#DejaVuSans-50\"/>\r\n       <use x=\"581.152344\" xlink:href=\"#DejaVuSans-32\"/>\r\n       <use x=\"612.939453\" xlink:href=\"#DejaVuSans-48\"/>\r\n       <use x=\"676.5625\" xlink:href=\"#DejaVuSans-57\"/>\r\n       <use x=\"740.185547\" xlink:href=\"#DejaVuSans-58\"/>\r\n       <use x=\"773.876953\" xlink:href=\"#DejaVuSans-48\"/>\r\n       <use x=\"837.5\" xlink:href=\"#DejaVuSans-55\"/>\r\n       <use x=\"901.123047\" xlink:href=\"#DejaVuSans-58\"/>\r\n       <use x=\"934.814453\" xlink:href=\"#DejaVuSans-48\"/>\r\n       <use x=\"998.4375\" xlink:href=\"#DejaVuSans-57\"/>\r\n      </g>\r\n     </g>\r\n    </g>\r\n    <g id=\"xtick_7\">\r\n     <g id=\"line2d_7\">\r\n      <g>\r\n       <use style=\"stroke:#000000;stroke-width:0.8;\" x=\"311.675\" xlink:href=\"#m9f9228583f\" y=\"226.489036\"/>\r\n      </g>\r\n     </g>\r\n     <g id=\"text_7\">\r\n      <!-- 2020-03-12 09:07:17 -->\r\n      <g transform=\"translate(276.076593 313.961102)rotate(-45)scale(0.1 -0.1)\">\r\n       <use xlink:href=\"#DejaVuSans-50\"/>\r\n       <use x=\"63.623047\" xlink:href=\"#DejaVuSans-48\"/>\r\n       <use x=\"127.246094\" xlink:href=\"#DejaVuSans-50\"/>\r\n       <use x=\"190.869141\" xlink:href=\"#DejaVuSans-48\"/>\r\n       <use x=\"254.492188\" xlink:href=\"#DejaVuSans-45\"/>\r\n       <use x=\"290.576172\" xlink:href=\"#DejaVuSans-48\"/>\r\n       <use x=\"354.199219\" xlink:href=\"#DejaVuSans-51\"/>\r\n       <use x=\"417.822266\" xlink:href=\"#DejaVuSans-45\"/>\r\n       <use x=\"453.90625\" xlink:href=\"#DejaVuSans-49\"/>\r\n       <use x=\"517.529297\" xlink:href=\"#DejaVuSans-50\"/>\r\n       <use x=\"581.152344\" xlink:href=\"#DejaVuSans-32\"/>\r\n       <use x=\"612.939453\" xlink:href=\"#DejaVuSans-48\"/>\r\n       <use x=\"676.5625\" xlink:href=\"#DejaVuSans-57\"/>\r\n       <use x=\"740.185547\" xlink:href=\"#DejaVuSans-58\"/>\r\n       <use x=\"773.876953\" xlink:href=\"#DejaVuSans-48\"/>\r\n       <use x=\"837.5\" xlink:href=\"#DejaVuSans-55\"/>\r\n       <use x=\"901.123047\" xlink:href=\"#DejaVuSans-58\"/>\r\n       <use x=\"934.814453\" xlink:href=\"#DejaVuSans-49\"/>\r\n       <use x=\"998.4375\" xlink:href=\"#DejaVuSans-55\"/>\r\n      </g>\r\n     </g>\r\n    </g>\r\n    <g id=\"xtick_8\">\r\n     <g id=\"line2d_8\">\r\n      <g>\r\n       <use style=\"stroke:#000000;stroke-width:0.8;\" x=\"353.525\" xlink:href=\"#m9f9228583f\" y=\"226.489036\"/>\r\n      </g>\r\n     </g>\r\n     <g id=\"text_8\">\r\n      <!-- 2020-03-12 09:07:36 -->\r\n      <g transform=\"translate(317.926593 313.961102)rotate(-45)scale(0.1 -0.1)\">\r\n       <use xlink:href=\"#DejaVuSans-50\"/>\r\n       <use x=\"63.623047\" xlink:href=\"#DejaVuSans-48\"/>\r\n       <use x=\"127.246094\" xlink:href=\"#DejaVuSans-50\"/>\r\n       <use x=\"190.869141\" xlink:href=\"#DejaVuSans-48\"/>\r\n       <use x=\"254.492188\" xlink:href=\"#DejaVuSans-45\"/>\r\n       <use x=\"290.576172\" xlink:href=\"#DejaVuSans-48\"/>\r\n       <use x=\"354.199219\" xlink:href=\"#DejaVuSans-51\"/>\r\n       <use x=\"417.822266\" xlink:href=\"#DejaVuSans-45\"/>\r\n       <use x=\"453.90625\" xlink:href=\"#DejaVuSans-49\"/>\r\n       <use x=\"517.529297\" xlink:href=\"#DejaVuSans-50\"/>\r\n       <use x=\"581.152344\" xlink:href=\"#DejaVuSans-32\"/>\r\n       <use x=\"612.939453\" xlink:href=\"#DejaVuSans-48\"/>\r\n       <use x=\"676.5625\" xlink:href=\"#DejaVuSans-57\"/>\r\n       <use x=\"740.185547\" xlink:href=\"#DejaVuSans-58\"/>\r\n       <use x=\"773.876953\" xlink:href=\"#DejaVuSans-48\"/>\r\n       <use x=\"837.5\" xlink:href=\"#DejaVuSans-55\"/>\r\n       <use x=\"901.123047\" xlink:href=\"#DejaVuSans-58\"/>\r\n       <use x=\"934.814453\" xlink:href=\"#DejaVuSans-51\"/>\r\n       <use x=\"998.4375\" xlink:href=\"#DejaVuSans-54\"/>\r\n      </g>\r\n     </g>\r\n    </g>\r\n    <g id=\"text_9\">\r\n     <!-- Start date -->\r\n     <g transform=\"translate(181.971875 327.030101)scale(0.1 -0.1)\">\r\n      <defs>\r\n       <path d=\"M 53.515625 70.515625 \r\nL 53.515625 60.890625 \r\nQ 47.90625 63.578125 42.921875 64.890625 \r\nQ 37.9375 66.21875 33.296875 66.21875 \r\nQ 25.25 66.21875 20.875 63.09375 \r\nQ 16.5 59.96875 16.5 54.203125 \r\nQ 16.5 49.359375 19.40625 46.890625 \r\nQ 22.3125 44.4375 30.421875 42.921875 \r\nL 36.375 41.703125 \r\nQ 47.40625 39.59375 52.65625 34.296875 \r\nQ 57.90625 29 57.90625 20.125 \r\nQ 57.90625 9.515625 50.796875 4.046875 \r\nQ 43.703125 -1.421875 29.984375 -1.421875 \r\nQ 24.8125 -1.421875 18.96875 -0.25 \r\nQ 13.140625 0.921875 6.890625 3.21875 \r\nL 6.890625 13.375 \r\nQ 12.890625 10.015625 18.65625 8.296875 \r\nQ 24.421875 6.59375 29.984375 6.59375 \r\nQ 38.421875 6.59375 43.015625 9.90625 \r\nQ 47.609375 13.234375 47.609375 19.390625 \r\nQ 47.609375 24.75 44.3125 27.78125 \r\nQ 41.015625 30.8125 33.5 32.328125 \r\nL 27.484375 33.5 \r\nQ 16.453125 35.6875 11.515625 40.375 \r\nQ 6.59375 45.0625 6.59375 53.421875 \r\nQ 6.59375 63.09375 13.40625 68.65625 \r\nQ 20.21875 74.21875 32.171875 74.21875 \r\nQ 37.3125 74.21875 42.625 73.28125 \r\nQ 47.953125 72.359375 53.515625 70.515625 \r\nz\r\n\" id=\"DejaVuSans-83\"/>\r\n       <path d=\"M 18.3125 70.21875 \r\nL 18.3125 54.6875 \r\nL 36.8125 54.6875 \r\nL 36.8125 47.703125 \r\nL 18.3125 47.703125 \r\nL 18.3125 18.015625 \r\nQ 18.3125 11.328125 20.140625 9.421875 \r\nQ 21.96875 7.515625 27.59375 7.515625 \r\nL 36.8125 7.515625 \r\nL 36.8125 0 \r\nL 27.59375 0 \r\nQ 17.1875 0 13.234375 3.875 \r\nQ 9.28125 7.765625 9.28125 18.015625 \r\nL 9.28125 47.703125 \r\nL 2.6875 47.703125 \r\nL 2.6875 54.6875 \r\nL 9.28125 54.6875 \r\nL 9.28125 70.21875 \r\nz\r\n\" id=\"DejaVuSans-116\"/>\r\n       <path d=\"M 34.28125 27.484375 \r\nQ 23.390625 27.484375 19.1875 25 \r\nQ 14.984375 22.515625 14.984375 16.5 \r\nQ 14.984375 11.71875 18.140625 8.90625 \r\nQ 21.296875 6.109375 26.703125 6.109375 \r\nQ 34.1875 6.109375 38.703125 11.40625 \r\nQ 43.21875 16.703125 43.21875 25.484375 \r\nL 43.21875 27.484375 \r\nz\r\nM 52.203125 31.203125 \r\nL 52.203125 0 \r\nL 43.21875 0 \r\nL 43.21875 8.296875 \r\nQ 40.140625 3.328125 35.546875 0.953125 \r\nQ 30.953125 -1.421875 24.3125 -1.421875 \r\nQ 15.921875 -1.421875 10.953125 3.296875 \r\nQ 6 8.015625 6 15.921875 \r\nQ 6 25.140625 12.171875 29.828125 \r\nQ 18.359375 34.515625 30.609375 34.515625 \r\nL 43.21875 34.515625 \r\nL 43.21875 35.40625 \r\nQ 43.21875 41.609375 39.140625 45 \r\nQ 35.0625 48.390625 27.6875 48.390625 \r\nQ 23 48.390625 18.546875 47.265625 \r\nQ 14.109375 46.140625 10.015625 43.890625 \r\nL 10.015625 52.203125 \r\nQ 14.9375 54.109375 19.578125 55.046875 \r\nQ 24.21875 56 28.609375 56 \r\nQ 40.484375 56 46.34375 49.84375 \r\nQ 52.203125 43.703125 52.203125 31.203125 \r\nz\r\n\" id=\"DejaVuSans-97\"/>\r\n       <path d=\"M 41.109375 46.296875 \r\nQ 39.59375 47.171875 37.8125 47.578125 \r\nQ 36.03125 48 33.890625 48 \r\nQ 26.265625 48 22.1875 43.046875 \r\nQ 18.109375 38.09375 18.109375 28.8125 \r\nL 18.109375 0 \r\nL 9.078125 0 \r\nL 9.078125 54.6875 \r\nL 18.109375 54.6875 \r\nL 18.109375 46.1875 \r\nQ 20.953125 51.171875 25.484375 53.578125 \r\nQ 30.03125 56 36.53125 56 \r\nQ 37.453125 56 38.578125 55.875 \r\nQ 39.703125 55.765625 41.0625 55.515625 \r\nz\r\n\" id=\"DejaVuSans-114\"/>\r\n       <path d=\"M 45.40625 46.390625 \r\nL 45.40625 75.984375 \r\nL 54.390625 75.984375 \r\nL 54.390625 0 \r\nL 45.40625 0 \r\nL 45.40625 8.203125 \r\nQ 42.578125 3.328125 38.25 0.953125 \r\nQ 33.9375 -1.421875 27.875 -1.421875 \r\nQ 17.96875 -1.421875 11.734375 6.484375 \r\nQ 5.515625 14.40625 5.515625 27.296875 \r\nQ 5.515625 40.1875 11.734375 48.09375 \r\nQ 17.96875 56 27.875 56 \r\nQ 33.9375 56 38.25 53.625 \r\nQ 42.578125 51.265625 45.40625 46.390625 \r\nz\r\nM 14.796875 27.296875 \r\nQ 14.796875 17.390625 18.875 11.75 \r\nQ 22.953125 6.109375 30.078125 6.109375 \r\nQ 37.203125 6.109375 41.296875 11.75 \r\nQ 45.40625 17.390625 45.40625 27.296875 \r\nQ 45.40625 37.203125 41.296875 42.84375 \r\nQ 37.203125 48.484375 30.078125 48.484375 \r\nQ 22.953125 48.484375 18.875 42.84375 \r\nQ 14.796875 37.203125 14.796875 27.296875 \r\nz\r\n\" id=\"DejaVuSans-100\"/>\r\n       <path d=\"M 56.203125 29.59375 \r\nL 56.203125 25.203125 \r\nL 14.890625 25.203125 \r\nQ 15.484375 15.921875 20.484375 11.0625 \r\nQ 25.484375 6.203125 34.421875 6.203125 \r\nQ 39.59375 6.203125 44.453125 7.46875 \r\nQ 49.3125 8.734375 54.109375 11.28125 \r\nL 54.109375 2.78125 \r\nQ 49.265625 0.734375 44.1875 -0.34375 \r\nQ 39.109375 -1.421875 33.890625 -1.421875 \r\nQ 20.796875 -1.421875 13.15625 6.1875 \r\nQ 5.515625 13.8125 5.515625 26.8125 \r\nQ 5.515625 40.234375 12.765625 48.109375 \r\nQ 20.015625 56 32.328125 56 \r\nQ 43.359375 56 49.78125 48.890625 \r\nQ 56.203125 41.796875 56.203125 29.59375 \r\nz\r\nM 47.21875 32.234375 \r\nQ 47.125 39.59375 43.09375 43.984375 \r\nQ 39.0625 48.390625 32.421875 48.390625 \r\nQ 24.90625 48.390625 20.390625 44.140625 \r\nQ 15.875 39.890625 15.1875 32.171875 \r\nz\r\n\" id=\"DejaVuSans-101\"/>\r\n      </defs>\r\n      <use xlink:href=\"#DejaVuSans-83\"/>\r\n      <use x=\"63.476562\" xlink:href=\"#DejaVuSans-116\"/>\r\n      <use x=\"102.685547\" xlink:href=\"#DejaVuSans-97\"/>\r\n      <use x=\"163.964844\" xlink:href=\"#DejaVuSans-114\"/>\r\n      <use x=\"205.078125\" xlink:href=\"#DejaVuSans-116\"/>\r\n      <use x=\"244.287109\" xlink:href=\"#DejaVuSans-32\"/>\r\n      <use x=\"276.074219\" xlink:href=\"#DejaVuSans-100\"/>\r\n      <use x=\"339.550781\" xlink:href=\"#DejaVuSans-97\"/>\r\n      <use x=\"400.830078\" xlink:href=\"#DejaVuSans-116\"/>\r\n      <use x=\"440.039062\" xlink:href=\"#DejaVuSans-101\"/>\r\n     </g>\r\n    </g>\r\n   </g>\r\n   <g id=\"matplotlib.axis_2\">\r\n    <g id=\"ytick_1\">\r\n     <g id=\"line2d_9\">\r\n      <defs>\r\n       <path d=\"M 0 0 \r\nL -3.5 0 \r\n\" id=\"ma3411cb36d\" style=\"stroke:#000000;stroke-width:0.8;\"/>\r\n      </defs>\r\n      <g>\r\n       <use style=\"stroke:#000000;stroke-width:0.8;\" x=\"39.65\" xlink:href=\"#ma3411cb36d\" y=\"226.489036\"/>\r\n      </g>\r\n     </g>\r\n     <g id=\"text_10\">\r\n      <!-- 0 -->\r\n      <g transform=\"translate(26.2875 230.288255)scale(0.1 -0.1)\">\r\n       <use xlink:href=\"#DejaVuSans-48\"/>\r\n      </g>\r\n     </g>\r\n    </g>\r\n    <g id=\"ytick_2\">\r\n     <g id=\"line2d_10\">\r\n      <g>\r\n       <use style=\"stroke:#000000;stroke-width:0.8;\" x=\"39.65\" xlink:href=\"#ma3411cb36d\" y=\"183.391072\"/>\r\n      </g>\r\n     </g>\r\n     <g id=\"text_11\">\r\n      <!-- 200 -->\r\n      <g transform=\"translate(13.5625 187.190291)scale(0.1 -0.1)\">\r\n       <use xlink:href=\"#DejaVuSans-50\"/>\r\n       <use x=\"63.623047\" xlink:href=\"#DejaVuSans-48\"/>\r\n       <use x=\"127.246094\" xlink:href=\"#DejaVuSans-48\"/>\r\n      </g>\r\n     </g>\r\n    </g>\r\n    <g id=\"ytick_3\">\r\n     <g id=\"line2d_11\">\r\n      <g>\r\n       <use style=\"stroke:#000000;stroke-width:0.8;\" x=\"39.65\" xlink:href=\"#ma3411cb36d\" y=\"140.293109\"/>\r\n      </g>\r\n     </g>\r\n     <g id=\"text_12\">\r\n      <!-- 400 -->\r\n      <g transform=\"translate(13.5625 144.092328)scale(0.1 -0.1)\">\r\n       <defs>\r\n        <path d=\"M 37.796875 64.3125 \r\nL 12.890625 25.390625 \r\nL 37.796875 25.390625 \r\nz\r\nM 35.203125 72.90625 \r\nL 47.609375 72.90625 \r\nL 47.609375 25.390625 \r\nL 58.015625 25.390625 \r\nL 58.015625 17.1875 \r\nL 47.609375 17.1875 \r\nL 47.609375 0 \r\nL 37.796875 0 \r\nL 37.796875 17.1875 \r\nL 4.890625 17.1875 \r\nL 4.890625 26.703125 \r\nz\r\n\" id=\"DejaVuSans-52\"/>\r\n       </defs>\r\n       <use xlink:href=\"#DejaVuSans-52\"/>\r\n       <use x=\"63.623047\" xlink:href=\"#DejaVuSans-48\"/>\r\n       <use x=\"127.246094\" xlink:href=\"#DejaVuSans-48\"/>\r\n      </g>\r\n     </g>\r\n    </g>\r\n    <g id=\"ytick_4\">\r\n     <g id=\"line2d_12\">\r\n      <g>\r\n       <use style=\"stroke:#000000;stroke-width:0.8;\" x=\"39.65\" xlink:href=\"#ma3411cb36d\" y=\"97.195146\"/>\r\n      </g>\r\n     </g>\r\n     <g id=\"text_13\">\r\n      <!-- 600 -->\r\n      <g transform=\"translate(13.5625 100.994364)scale(0.1 -0.1)\">\r\n       <use xlink:href=\"#DejaVuSans-54\"/>\r\n       <use x=\"63.623047\" xlink:href=\"#DejaVuSans-48\"/>\r\n       <use x=\"127.246094\" xlink:href=\"#DejaVuSans-48\"/>\r\n      </g>\r\n     </g>\r\n    </g>\r\n    <g id=\"ytick_5\">\r\n     <g id=\"line2d_13\">\r\n      <g>\r\n       <use style=\"stroke:#000000;stroke-width:0.8;\" x=\"39.65\" xlink:href=\"#ma3411cb36d\" y=\"54.097182\"/>\r\n      </g>\r\n     </g>\r\n     <g id=\"text_14\">\r\n      <!-- 800 -->\r\n      <g transform=\"translate(13.5625 57.896401)scale(0.1 -0.1)\">\r\n       <defs>\r\n        <path d=\"M 31.78125 34.625 \r\nQ 24.75 34.625 20.71875 30.859375 \r\nQ 16.703125 27.09375 16.703125 20.515625 \r\nQ 16.703125 13.921875 20.71875 10.15625 \r\nQ 24.75 6.390625 31.78125 6.390625 \r\nQ 38.8125 6.390625 42.859375 10.171875 \r\nQ 46.921875 13.96875 46.921875 20.515625 \r\nQ 46.921875 27.09375 42.890625 30.859375 \r\nQ 38.875 34.625 31.78125 34.625 \r\nz\r\nM 21.921875 38.8125 \r\nQ 15.578125 40.375 12.03125 44.71875 \r\nQ 8.5 49.078125 8.5 55.328125 \r\nQ 8.5 64.0625 14.71875 69.140625 \r\nQ 20.953125 74.21875 31.78125 74.21875 \r\nQ 42.671875 74.21875 48.875 69.140625 \r\nQ 55.078125 64.0625 55.078125 55.328125 \r\nQ 55.078125 49.078125 51.53125 44.71875 \r\nQ 48 40.375 41.703125 38.8125 \r\nQ 48.828125 37.15625 52.796875 32.3125 \r\nQ 56.78125 27.484375 56.78125 20.515625 \r\nQ 56.78125 9.90625 50.3125 4.234375 \r\nQ 43.84375 -1.421875 31.78125 -1.421875 \r\nQ 19.734375 -1.421875 13.25 4.234375 \r\nQ 6.78125 9.90625 6.78125 20.515625 \r\nQ 6.78125 27.484375 10.78125 32.3125 \r\nQ 14.796875 37.15625 21.921875 38.8125 \r\nz\r\nM 18.3125 54.390625 \r\nQ 18.3125 48.734375 21.84375 45.5625 \r\nQ 25.390625 42.390625 31.78125 42.390625 \r\nQ 38.140625 42.390625 41.71875 45.5625 \r\nQ 45.3125 48.734375 45.3125 54.390625 \r\nQ 45.3125 60.0625 41.71875 63.234375 \r\nQ 38.140625 66.40625 31.78125 66.40625 \r\nQ 25.390625 66.40625 21.84375 63.234375 \r\nQ 18.3125 60.0625 18.3125 54.390625 \r\nz\r\n\" id=\"DejaVuSans-56\"/>\r\n       </defs>\r\n       <use xlink:href=\"#DejaVuSans-56\"/>\r\n       <use x=\"63.623047\" xlink:href=\"#DejaVuSans-48\"/>\r\n       <use x=\"127.246094\" xlink:href=\"#DejaVuSans-48\"/>\r\n      </g>\r\n     </g>\r\n    </g>\r\n    <g id=\"ytick_6\">\r\n     <g id=\"line2d_14\">\r\n      <g>\r\n       <use style=\"stroke:#000000;stroke-width:0.8;\" x=\"39.65\" xlink:href=\"#ma3411cb36d\" y=\"10.999219\"/>\r\n      </g>\r\n     </g>\r\n     <g id=\"text_15\">\r\n      <!-- 1000 -->\r\n      <g transform=\"translate(7.2 14.798437)scale(0.1 -0.1)\">\r\n       <use xlink:href=\"#DejaVuSans-49\"/>\r\n       <use x=\"63.623047\" xlink:href=\"#DejaVuSans-48\"/>\r\n       <use x=\"127.246094\" xlink:href=\"#DejaVuSans-48\"/>\r\n       <use x=\"190.869141\" xlink:href=\"#DejaVuSans-48\"/>\r\n      </g>\r\n     </g>\r\n    </g>\r\n   </g>\r\n   <g id=\"line2d_15\">\r\n    <path clip-path=\"url(#p8f685335a5)\" style=\"fill:none;stroke:#424242;stroke-linecap:square;stroke-width:2.7;\"/>\r\n   </g>\r\n   <g id=\"line2d_16\">\r\n    <path clip-path=\"url(#p8f685335a5)\" style=\"fill:none;stroke:#424242;stroke-linecap:square;stroke-width:2.7;\"/>\r\n   </g>\r\n   <g id=\"line2d_17\">\r\n    <path clip-path=\"url(#p8f685335a5)\" style=\"fill:none;stroke:#424242;stroke-linecap:square;stroke-width:2.7;\"/>\r\n   </g>\r\n   <g id=\"line2d_18\">\r\n    <path clip-path=\"url(#p8f685335a5)\" style=\"fill:none;stroke:#424242;stroke-linecap:square;stroke-width:2.7;\"/>\r\n   </g>\r\n   <g id=\"line2d_19\">\r\n    <path clip-path=\"url(#p8f685335a5)\" style=\"fill:none;stroke:#424242;stroke-linecap:square;stroke-width:2.7;\"/>\r\n   </g>\r\n   <g id=\"line2d_20\">\r\n    <path clip-path=\"url(#p8f685335a5)\" style=\"fill:none;stroke:#424242;stroke-linecap:square;stroke-width:2.7;\"/>\r\n   </g>\r\n   <g id=\"line2d_21\">\r\n    <path clip-path=\"url(#p8f685335a5)\" style=\"fill:none;stroke:#424242;stroke-linecap:square;stroke-width:2.7;\"/>\r\n   </g>\r\n   <g id=\"line2d_22\">\r\n    <path clip-path=\"url(#p8f685335a5)\" style=\"fill:none;stroke:#424242;stroke-linecap:square;stroke-width:2.7;\"/>\r\n   </g>\r\n   <g id=\"patch_11\">\r\n    <path d=\"M 39.65 226.489036 \r\nL 39.65 9.049036 \r\n\" style=\"fill:none;stroke:#000000;stroke-linecap:square;stroke-linejoin:miter;stroke-width:0.8;\"/>\r\n   </g>\r\n   <g id=\"patch_12\">\r\n    <path d=\"M 374.45 226.489036 \r\nL 374.45 9.049036 \r\n\" style=\"fill:none;stroke:#000000;stroke-linecap:square;stroke-linejoin:miter;stroke-width:0.8;\"/>\r\n   </g>\r\n   <g id=\"patch_13\">\r\n    <path d=\"M 39.65 226.489036 \r\nL 374.45 226.489036 \r\n\" style=\"fill:none;stroke:#000000;stroke-linecap:square;stroke-linejoin:miter;stroke-width:0.8;\"/>\r\n   </g>\r\n   <g id=\"patch_14\">\r\n    <path d=\"M 39.65 9.049036 \r\nL 374.45 9.049036 \r\n\" style=\"fill:none;stroke:#000000;stroke-linecap:square;stroke-linejoin:miter;stroke-width:0.8;\"/>\r\n   </g>\r\n  </g>\r\n </g>\r\n <defs>\r\n  <clipPath id=\"p8f685335a5\">\r\n   <rect height=\"217.44\" width=\"334.8\" x=\"39.65\" y=\"9.049036\"/>\r\n  </clipPath>\r\n </defs>\r\n</svg>\r\n",
      "image/png": "[encoded data removed]"
     },
     "metadata": {
      "needs_background": "light"
     }
    }
   ],
   "source": [
    "import matplotlib.pyplot as plt\n",
    "ax = sns.barplot( x = df['2020-03-12']['Duration'][2001:2009].index, y = df['2020-03-12']['Duration'][2001:2009].values, color = 'green')\n",
    "\n",
    "for item in ax.get_xticklabels():\n",
    "    item.set_rotation(45)"
   ]
  },
  {
   "cell_type": "code",
   "execution_count": 108,
   "metadata": {},
   "outputs": [
    {
     "output_type": "execute_result",
     "data": {
      "text/plain": [
       "Start date\n",
       "2020-03-20 00:01:03     784\n",
       "2020-03-20 00:02:01     437\n",
       "2020-03-20 00:07:23     600\n",
       "2020-03-20 00:11:06     326\n",
       "2020-03-20 00:12:22     350\n",
       "                       ... \n",
       "2020-03-20 23:55:48    2702\n",
       "2020-03-20 23:56:04    3217\n",
       "2020-03-20 23:56:15    3210\n",
       "2020-03-20 23:57:41    7447\n",
       "2020-03-20 23:57:46    7571\n",
       "Name: Duration, Length: 4809, dtype: int64"
      ]
     },
     "metadata": {},
     "execution_count": 108
    }
   ],
   "source": [
    "df['2020-03-20']['Duration']"
   ]
  },
  {
   "cell_type": "code",
   "execution_count": 87,
   "metadata": {},
   "outputs": [
    {
     "output_type": "execute_result",
     "data": {
      "text/plain": [
       "<AxesSubplot:xlabel='Start date'>"
      ]
     },
     "metadata": {},
     "execution_count": 87
    },
    {
     "output_type": "display_data",
     "data": {
      "text/plain": "<Figure size 432x288 with 1 Axes>",
      "image/svg+xml": "<?xml version=\"1.0\" encoding=\"utf-8\" standalone=\"no\"?>\r\n<!DOCTYPE svg PUBLIC \"-//W3C//DTD SVG 1.1//EN\"\r\n  \"http://www.w3.org/Graphics/SVG/1.1/DTD/svg11.dtd\">\r\n<!-- Created with matplotlib (https://matplotlib.org/) -->\r\n<svg height=\"358.724375pt\" version=\"1.1\" viewBox=\"0 0 388.0125 358.724375\" width=\"388.0125pt\" xmlns=\"http://www.w3.org/2000/svg\" xmlns:xlink=\"http://www.w3.org/1999/xlink\">\r\n <metadata>\r\n  <rdf:RDF xmlns:cc=\"http://creativecommons.org/ns#\" xmlns:dc=\"http://purl.org/dc/elements/1.1/\" xmlns:rdf=\"http://www.w3.org/1999/02/22-rdf-syntax-ns#\">\r\n   <cc:Work>\r\n    <dc:type rdf:resource=\"http://purl.org/dc/dcmitype/StillImage\"/>\r\n    <dc:date>2021-01-26T10:38:32.563417</dc:date>\r\n    <dc:format>image/svg+xml</dc:format>\r\n    <dc:creator>\r\n     <cc:Agent>\r\n      <dc:title>Matplotlib v3.3.2, https://matplotlib.org/</dc:title>\r\n     </cc:Agent>\r\n    </dc:creator>\r\n   </cc:Work>\r\n  </rdf:RDF>\r\n </metadata>\r\n <defs>\r\n  <style type=\"text/css\">*{stroke-linecap:butt;stroke-linejoin:round;}</style>\r\n </defs>\r\n <g id=\"figure_1\">\r\n  <g id=\"patch_1\">\r\n   <path d=\"M 0 358.724375 \r\nL 388.0125 358.724375 \r\nL 388.0125 0 \r\nL 0 0 \r\nz\r\n\" style=\"fill:none;\"/>\r\n  </g>\r\n  <g id=\"axes_1\">\r\n   <g id=\"patch_2\">\r\n    <path d=\"M 46.0125 224.64 \r\nL 380.8125 224.64 \r\nL 380.8125 7.2 \r\nL 46.0125 7.2 \r\nz\r\n\" style=\"fill:#ffffff;\"/>\r\n   </g>\r\n   <g id=\"patch_3\">\r\n    <path clip-path=\"url(#p5a60aaccfd)\" d=\"M 129.7125 224.64 \r\nL 297.1125 224.64 \r\nL 297.1125 17.554286 \r\nL 129.7125 17.554286 \r\nz\r\n\" style=\"fill:#1f77b4;\"/>\r\n   </g>\r\n   <g id=\"patch_4\">\r\n    <path clip-path=\"url(#p5a60aaccfd)\" d=\"M 129.7125 224.64 \r\nL 297.1125 224.64 \r\nL 297.1125 219.707257 \r\nL 129.7125 219.707257 \r\nz\r\n\" style=\"fill:#1f77b4;\"/>\r\n   </g>\r\n   <g id=\"patch_5\">\r\n    <path clip-path=\"url(#p5a60aaccfd)\" d=\"M 129.7125 224.64 \r\nL 297.1125 224.64 \r\nL 297.1125 222.202888 \r\nL 129.7125 222.202888 \r\nz\r\n\" style=\"fill:#1f77b4;\"/>\r\n   </g>\r\n   <g id=\"patch_6\">\r\n    <path clip-path=\"url(#p5a60aaccfd)\" d=\"M 129.7125 224.64 \r\nL 297.1125 224.64 \r\nL 297.1125 220.240805 \r\nL 129.7125 220.240805 \r\nz\r\n\" style=\"fill:#1f77b4;\"/>\r\n   </g>\r\n   <g id=\"patch_7\">\r\n    <path clip-path=\"url(#p5a60aaccfd)\" d=\"M 129.7125 224.64 \r\nL 297.1125 224.64 \r\nL 297.1125 223.084103 \r\nL 129.7125 223.084103 \r\nz\r\n\" style=\"fill:#1f77b4;\"/>\r\n   </g>\r\n   <g id=\"patch_8\">\r\n    <path clip-path=\"url(#p5a60aaccfd)\" d=\"M 129.7125 224.64 \r\nL 297.1125 224.64 \r\nL 297.1125 223.115084 \r\nL 129.7125 223.115084 \r\nz\r\n\" style=\"fill:#1f77b4;\"/>\r\n   </g>\r\n   <g id=\"patch_9\">\r\n    <path clip-path=\"url(#p5a60aaccfd)\" d=\"M 129.7125 224.64 \r\nL 297.1125 224.64 \r\nL 297.1125 221.197751 \r\nL 129.7125 221.197751 \r\nz\r\n\" style=\"fill:#1f77b4;\"/>\r\n   </g>\r\n   <g id=\"patch_10\">\r\n    <path clip-path=\"url(#p5a60aaccfd)\" d=\"M 129.7125 224.64 \r\nL 297.1125 224.64 \r\nL 297.1125 223.893032 \r\nL 129.7125 223.893032 \r\nz\r\n\" style=\"fill:#1f77b4;\"/>\r\n   </g>\r\n   <g id=\"patch_11\">\r\n    <path clip-path=\"url(#p5a60aaccfd)\" d=\"M 129.7125 224.64 \r\nL 297.1125 224.64 \r\nL 297.1125 222.922318 \r\nL 129.7125 222.922318 \r\nz\r\n\" style=\"fill:#1f77b4;\"/>\r\n   </g>\r\n   <g id=\"patch_12\">\r\n    <path clip-path=\"url(#p5a60aaccfd)\" d=\"M 129.7125 224.64 \r\nL 297.1125 224.64 \r\nL 297.1125 219.831178 \r\nL 129.7125 219.831178 \r\nz\r\n\" style=\"fill:#1f77b4;\"/>\r\n   </g>\r\n   <g id=\"patch_13\">\r\n    <path clip-path=\"url(#p5a60aaccfd)\" d=\"M 129.7125 224.64 \r\nL 297.1125 224.64 \r\nL 297.1125 222.257964 \r\nL 129.7125 222.257964 \r\nz\r\n\" style=\"fill:#1f77b4;\"/>\r\n   </g>\r\n   <g id=\"patch_14\">\r\n    <path clip-path=\"url(#p5a60aaccfd)\" d=\"M 129.7125 224.64 \r\nL 297.1125 224.64 \r\nL 297.1125 220.987774 \r\nL 129.7125 220.987774 \r\nz\r\n\" style=\"fill:#1f77b4;\"/>\r\n   </g>\r\n   <g id=\"matplotlib.axis_1\">\r\n    <g id=\"xtick_1\">\r\n     <g id=\"line2d_1\">\r\n      <defs>\r\n       <path d=\"M 0 0 \r\nL 0 3.5 \r\n\" id=\"m434bc20744\" style=\"stroke:#000000;stroke-width:0.8;\"/>\r\n      </defs>\r\n      <g>\r\n       <use style=\"stroke:#000000;stroke-width:0.8;\" x=\"213.4125\" xlink:href=\"#m434bc20744\" y=\"224.64\"/>\r\n      </g>\r\n     </g>\r\n     <g id=\"text_1\">\r\n      <!-- 2020-03-20 19:09:17 -->\r\n      <g transform=\"translate(216.171875 337.84625)rotate(-90)scale(0.1 -0.1)\">\r\n       <defs>\r\n        <path d=\"M 19.1875 8.296875 \r\nL 53.609375 8.296875 \r\nL 53.609375 0 \r\nL 7.328125 0 \r\nL 7.328125 8.296875 \r\nQ 12.9375 14.109375 22.625 23.890625 \r\nQ 32.328125 33.6875 34.8125 36.53125 \r\nQ 39.546875 41.84375 41.421875 45.53125 \r\nQ 43.3125 49.21875 43.3125 52.78125 \r\nQ 43.3125 58.59375 39.234375 62.25 \r\nQ 35.15625 65.921875 28.609375 65.921875 \r\nQ 23.96875 65.921875 18.8125 64.3125 \r\nQ 13.671875 62.703125 7.8125 59.421875 \r\nL 7.8125 69.390625 \r\nQ 13.765625 71.78125 18.9375 73 \r\nQ 24.125 74.21875 28.421875 74.21875 \r\nQ 39.75 74.21875 46.484375 68.546875 \r\nQ 53.21875 62.890625 53.21875 53.421875 \r\nQ 53.21875 48.921875 51.53125 44.890625 \r\nQ 49.859375 40.875 45.40625 35.40625 \r\nQ 44.1875 33.984375 37.640625 27.21875 \r\nQ 31.109375 20.453125 19.1875 8.296875 \r\nz\r\n\" id=\"DejaVuSans-50\"/>\r\n        <path d=\"M 31.78125 66.40625 \r\nQ 24.171875 66.40625 20.328125 58.90625 \r\nQ 16.5 51.421875 16.5 36.375 \r\nQ 16.5 21.390625 20.328125 13.890625 \r\nQ 24.171875 6.390625 31.78125 6.390625 \r\nQ 39.453125 6.390625 43.28125 13.890625 \r\nQ 47.125 21.390625 47.125 36.375 \r\nQ 47.125 51.421875 43.28125 58.90625 \r\nQ 39.453125 66.40625 31.78125 66.40625 \r\nz\r\nM 31.78125 74.21875 \r\nQ 44.046875 74.21875 50.515625 64.515625 \r\nQ 56.984375 54.828125 56.984375 36.375 \r\nQ 56.984375 17.96875 50.515625 8.265625 \r\nQ 44.046875 -1.421875 31.78125 -1.421875 \r\nQ 19.53125 -1.421875 13.0625 8.265625 \r\nQ 6.59375 17.96875 6.59375 36.375 \r\nQ 6.59375 54.828125 13.0625 64.515625 \r\nQ 19.53125 74.21875 31.78125 74.21875 \r\nz\r\n\" id=\"DejaVuSans-48\"/>\r\n        <path d=\"M 4.890625 31.390625 \r\nL 31.203125 31.390625 \r\nL 31.203125 23.390625 \r\nL 4.890625 23.390625 \r\nz\r\n\" id=\"DejaVuSans-45\"/>\r\n        <path d=\"M 40.578125 39.3125 \r\nQ 47.65625 37.796875 51.625 33 \r\nQ 55.609375 28.21875 55.609375 21.1875 \r\nQ 55.609375 10.40625 48.1875 4.484375 \r\nQ 40.765625 -1.421875 27.09375 -1.421875 \r\nQ 22.515625 -1.421875 17.65625 -0.515625 \r\nQ 12.796875 0.390625 7.625 2.203125 \r\nL 7.625 11.71875 \r\nQ 11.71875 9.328125 16.59375 8.109375 \r\nQ 21.484375 6.890625 26.8125 6.890625 \r\nQ 36.078125 6.890625 40.9375 10.546875 \r\nQ 45.796875 14.203125 45.796875 21.1875 \r\nQ 45.796875 27.640625 41.28125 31.265625 \r\nQ 36.765625 34.90625 28.71875 34.90625 \r\nL 20.21875 34.90625 \r\nL 20.21875 43.015625 \r\nL 29.109375 43.015625 \r\nQ 36.375 43.015625 40.234375 45.921875 \r\nQ 44.09375 48.828125 44.09375 54.296875 \r\nQ 44.09375 59.90625 40.109375 62.90625 \r\nQ 36.140625 65.921875 28.71875 65.921875 \r\nQ 24.65625 65.921875 20.015625 65.03125 \r\nQ 15.375 64.15625 9.8125 62.3125 \r\nL 9.8125 71.09375 \r\nQ 15.4375 72.65625 20.34375 73.4375 \r\nQ 25.25 74.21875 29.59375 74.21875 \r\nQ 40.828125 74.21875 47.359375 69.109375 \r\nQ 53.90625 64.015625 53.90625 55.328125 \r\nQ 53.90625 49.265625 50.4375 45.09375 \r\nQ 46.96875 40.921875 40.578125 39.3125 \r\nz\r\n\" id=\"DejaVuSans-51\"/>\r\n        <path id=\"DejaVuSans-32\"/>\r\n        <path d=\"M 12.40625 8.296875 \r\nL 28.515625 8.296875 \r\nL 28.515625 63.921875 \r\nL 10.984375 60.40625 \r\nL 10.984375 69.390625 \r\nL 28.421875 72.90625 \r\nL 38.28125 72.90625 \r\nL 38.28125 8.296875 \r\nL 54.390625 8.296875 \r\nL 54.390625 0 \r\nL 12.40625 0 \r\nz\r\n\" id=\"DejaVuSans-49\"/>\r\n        <path d=\"M 10.984375 1.515625 \r\nL 10.984375 10.5 \r\nQ 14.703125 8.734375 18.5 7.8125 \r\nQ 22.3125 6.890625 25.984375 6.890625 \r\nQ 35.75 6.890625 40.890625 13.453125 \r\nQ 46.046875 20.015625 46.78125 33.40625 \r\nQ 43.953125 29.203125 39.59375 26.953125 \r\nQ 35.25 24.703125 29.984375 24.703125 \r\nQ 19.046875 24.703125 12.671875 31.3125 \r\nQ 6.296875 37.9375 6.296875 49.421875 \r\nQ 6.296875 60.640625 12.9375 67.421875 \r\nQ 19.578125 74.21875 30.609375 74.21875 \r\nQ 43.265625 74.21875 49.921875 64.515625 \r\nQ 56.59375 54.828125 56.59375 36.375 \r\nQ 56.59375 19.140625 48.40625 8.859375 \r\nQ 40.234375 -1.421875 26.421875 -1.421875 \r\nQ 22.703125 -1.421875 18.890625 -0.6875 \r\nQ 15.09375 0.046875 10.984375 1.515625 \r\nz\r\nM 30.609375 32.421875 \r\nQ 37.25 32.421875 41.125 36.953125 \r\nQ 45.015625 41.5 45.015625 49.421875 \r\nQ 45.015625 57.28125 41.125 61.84375 \r\nQ 37.25 66.40625 30.609375 66.40625 \r\nQ 23.96875 66.40625 20.09375 61.84375 \r\nQ 16.21875 57.28125 16.21875 49.421875 \r\nQ 16.21875 41.5 20.09375 36.953125 \r\nQ 23.96875 32.421875 30.609375 32.421875 \r\nz\r\n\" id=\"DejaVuSans-57\"/>\r\n        <path d=\"M 11.71875 12.40625 \r\nL 22.015625 12.40625 \r\nL 22.015625 0 \r\nL 11.71875 0 \r\nz\r\nM 11.71875 51.703125 \r\nL 22.015625 51.703125 \r\nL 22.015625 39.3125 \r\nL 11.71875 39.3125 \r\nz\r\n\" id=\"DejaVuSans-58\"/>\r\n        <path d=\"M 8.203125 72.90625 \r\nL 55.078125 72.90625 \r\nL 55.078125 68.703125 \r\nL 28.609375 0 \r\nL 18.3125 0 \r\nL 43.21875 64.59375 \r\nL 8.203125 64.59375 \r\nz\r\n\" id=\"DejaVuSans-55\"/>\r\n       </defs>\r\n       <use xlink:href=\"#DejaVuSans-50\"/>\r\n       <use x=\"63.623047\" xlink:href=\"#DejaVuSans-48\"/>\r\n       <use x=\"127.246094\" xlink:href=\"#DejaVuSans-50\"/>\r\n       <use x=\"190.869141\" xlink:href=\"#DejaVuSans-48\"/>\r\n       <use x=\"254.492188\" xlink:href=\"#DejaVuSans-45\"/>\r\n       <use x=\"290.576172\" xlink:href=\"#DejaVuSans-48\"/>\r\n       <use x=\"354.199219\" xlink:href=\"#DejaVuSans-51\"/>\r\n       <use x=\"417.822266\" xlink:href=\"#DejaVuSans-45\"/>\r\n       <use x=\"453.90625\" xlink:href=\"#DejaVuSans-50\"/>\r\n       <use x=\"517.529297\" xlink:href=\"#DejaVuSans-48\"/>\r\n       <use x=\"581.152344\" xlink:href=\"#DejaVuSans-32\"/>\r\n       <use x=\"612.939453\" xlink:href=\"#DejaVuSans-49\"/>\r\n       <use x=\"676.5625\" xlink:href=\"#DejaVuSans-57\"/>\r\n       <use x=\"740.185547\" xlink:href=\"#DejaVuSans-58\"/>\r\n       <use x=\"773.876953\" xlink:href=\"#DejaVuSans-48\"/>\r\n       <use x=\"837.5\" xlink:href=\"#DejaVuSans-57\"/>\r\n       <use x=\"901.123047\" xlink:href=\"#DejaVuSans-58\"/>\r\n       <use x=\"934.814453\" xlink:href=\"#DejaVuSans-49\"/>\r\n       <use x=\"998.4375\" xlink:href=\"#DejaVuSans-55\"/>\r\n      </g>\r\n     </g>\r\n    </g>\r\n    <g id=\"xtick_2\">\r\n     <g id=\"line2d_2\">\r\n      <g>\r\n       <use style=\"stroke:#000000;stroke-width:0.8;\" x=\"213.4125\" xlink:href=\"#m434bc20744\" y=\"224.64\"/>\r\n      </g>\r\n     </g>\r\n     <g id=\"text_2\">\r\n      <!-- 2020-03-20 19:09:17 -->\r\n      <g transform=\"translate(216.171875 337.84625)rotate(-90)scale(0.1 -0.1)\">\r\n       <use xlink:href=\"#DejaVuSans-50\"/>\r\n       <use x=\"63.623047\" xlink:href=\"#DejaVuSans-48\"/>\r\n       <use x=\"127.246094\" xlink:href=\"#DejaVuSans-50\"/>\r\n       <use x=\"190.869141\" xlink:href=\"#DejaVuSans-48\"/>\r\n       <use x=\"254.492188\" xlink:href=\"#DejaVuSans-45\"/>\r\n       <use x=\"290.576172\" xlink:href=\"#DejaVuSans-48\"/>\r\n       <use x=\"354.199219\" xlink:href=\"#DejaVuSans-51\"/>\r\n       <use x=\"417.822266\" xlink:href=\"#DejaVuSans-45\"/>\r\n       <use x=\"453.90625\" xlink:href=\"#DejaVuSans-50\"/>\r\n       <use x=\"517.529297\" xlink:href=\"#DejaVuSans-48\"/>\r\n       <use x=\"581.152344\" xlink:href=\"#DejaVuSans-32\"/>\r\n       <use x=\"612.939453\" xlink:href=\"#DejaVuSans-49\"/>\r\n       <use x=\"676.5625\" xlink:href=\"#DejaVuSans-57\"/>\r\n       <use x=\"740.185547\" xlink:href=\"#DejaVuSans-58\"/>\r\n       <use x=\"773.876953\" xlink:href=\"#DejaVuSans-48\"/>\r\n       <use x=\"837.5\" xlink:href=\"#DejaVuSans-57\"/>\r\n       <use x=\"901.123047\" xlink:href=\"#DejaVuSans-58\"/>\r\n       <use x=\"934.814453\" xlink:href=\"#DejaVuSans-49\"/>\r\n       <use x=\"998.4375\" xlink:href=\"#DejaVuSans-55\"/>\r\n      </g>\r\n     </g>\r\n    </g>\r\n    <g id=\"xtick_3\">\r\n     <g id=\"line2d_3\">\r\n      <g>\r\n       <use style=\"stroke:#000000;stroke-width:0.8;\" x=\"213.4125\" xlink:href=\"#m434bc20744\" y=\"224.64\"/>\r\n      </g>\r\n     </g>\r\n     <g id=\"text_3\">\r\n      <!-- 2020-03-20 19:09:17 -->\r\n      <g transform=\"translate(216.171875 337.84625)rotate(-90)scale(0.1 -0.1)\">\r\n       <use xlink:href=\"#DejaVuSans-50\"/>\r\n       <use x=\"63.623047\" xlink:href=\"#DejaVuSans-48\"/>\r\n       <use x=\"127.246094\" xlink:href=\"#DejaVuSans-50\"/>\r\n       <use x=\"190.869141\" xlink:href=\"#DejaVuSans-48\"/>\r\n       <use x=\"254.492188\" xlink:href=\"#DejaVuSans-45\"/>\r\n       <use x=\"290.576172\" xlink:href=\"#DejaVuSans-48\"/>\r\n       <use x=\"354.199219\" xlink:href=\"#DejaVuSans-51\"/>\r\n       <use x=\"417.822266\" xlink:href=\"#DejaVuSans-45\"/>\r\n       <use x=\"453.90625\" xlink:href=\"#DejaVuSans-50\"/>\r\n       <use x=\"517.529297\" xlink:href=\"#DejaVuSans-48\"/>\r\n       <use x=\"581.152344\" xlink:href=\"#DejaVuSans-32\"/>\r\n       <use x=\"612.939453\" xlink:href=\"#DejaVuSans-49\"/>\r\n       <use x=\"676.5625\" xlink:href=\"#DejaVuSans-57\"/>\r\n       <use x=\"740.185547\" xlink:href=\"#DejaVuSans-58\"/>\r\n       <use x=\"773.876953\" xlink:href=\"#DejaVuSans-48\"/>\r\n       <use x=\"837.5\" xlink:href=\"#DejaVuSans-57\"/>\r\n       <use x=\"901.123047\" xlink:href=\"#DejaVuSans-58\"/>\r\n       <use x=\"934.814453\" xlink:href=\"#DejaVuSans-49\"/>\r\n       <use x=\"998.4375\" xlink:href=\"#DejaVuSans-55\"/>\r\n      </g>\r\n     </g>\r\n    </g>\r\n    <g id=\"xtick_4\">\r\n     <g id=\"line2d_4\">\r\n      <g>\r\n       <use style=\"stroke:#000000;stroke-width:0.8;\" x=\"213.4125\" xlink:href=\"#m434bc20744\" y=\"224.64\"/>\r\n      </g>\r\n     </g>\r\n     <g id=\"text_4\">\r\n      <!-- 2020-03-20 19:09:17 -->\r\n      <g transform=\"translate(216.171875 337.84625)rotate(-90)scale(0.1 -0.1)\">\r\n       <use xlink:href=\"#DejaVuSans-50\"/>\r\n       <use x=\"63.623047\" xlink:href=\"#DejaVuSans-48\"/>\r\n       <use x=\"127.246094\" xlink:href=\"#DejaVuSans-50\"/>\r\n       <use x=\"190.869141\" xlink:href=\"#DejaVuSans-48\"/>\r\n       <use x=\"254.492188\" xlink:href=\"#DejaVuSans-45\"/>\r\n       <use x=\"290.576172\" xlink:href=\"#DejaVuSans-48\"/>\r\n       <use x=\"354.199219\" xlink:href=\"#DejaVuSans-51\"/>\r\n       <use x=\"417.822266\" xlink:href=\"#DejaVuSans-45\"/>\r\n       <use x=\"453.90625\" xlink:href=\"#DejaVuSans-50\"/>\r\n       <use x=\"517.529297\" xlink:href=\"#DejaVuSans-48\"/>\r\n       <use x=\"581.152344\" xlink:href=\"#DejaVuSans-32\"/>\r\n       <use x=\"612.939453\" xlink:href=\"#DejaVuSans-49\"/>\r\n       <use x=\"676.5625\" xlink:href=\"#DejaVuSans-57\"/>\r\n       <use x=\"740.185547\" xlink:href=\"#DejaVuSans-58\"/>\r\n       <use x=\"773.876953\" xlink:href=\"#DejaVuSans-48\"/>\r\n       <use x=\"837.5\" xlink:href=\"#DejaVuSans-57\"/>\r\n       <use x=\"901.123047\" xlink:href=\"#DejaVuSans-58\"/>\r\n       <use x=\"934.814453\" xlink:href=\"#DejaVuSans-49\"/>\r\n       <use x=\"998.4375\" xlink:href=\"#DejaVuSans-55\"/>\r\n      </g>\r\n     </g>\r\n    </g>\r\n    <g id=\"xtick_5\">\r\n     <g id=\"line2d_5\">\r\n      <g>\r\n       <use style=\"stroke:#000000;stroke-width:0.8;\" x=\"213.4125\" xlink:href=\"#m434bc20744\" y=\"224.64\"/>\r\n      </g>\r\n     </g>\r\n     <g id=\"text_5\">\r\n      <!-- 2020-03-20 19:09:17 -->\r\n      <g transform=\"translate(216.171875 337.84625)rotate(-90)scale(0.1 -0.1)\">\r\n       <use xlink:href=\"#DejaVuSans-50\"/>\r\n       <use x=\"63.623047\" xlink:href=\"#DejaVuSans-48\"/>\r\n       <use x=\"127.246094\" xlink:href=\"#DejaVuSans-50\"/>\r\n       <use x=\"190.869141\" xlink:href=\"#DejaVuSans-48\"/>\r\n       <use x=\"254.492188\" xlink:href=\"#DejaVuSans-45\"/>\r\n       <use x=\"290.576172\" xlink:href=\"#DejaVuSans-48\"/>\r\n       <use x=\"354.199219\" xlink:href=\"#DejaVuSans-51\"/>\r\n       <use x=\"417.822266\" xlink:href=\"#DejaVuSans-45\"/>\r\n       <use x=\"453.90625\" xlink:href=\"#DejaVuSans-50\"/>\r\n       <use x=\"517.529297\" xlink:href=\"#DejaVuSans-48\"/>\r\n       <use x=\"581.152344\" xlink:href=\"#DejaVuSans-32\"/>\r\n       <use x=\"612.939453\" xlink:href=\"#DejaVuSans-49\"/>\r\n       <use x=\"676.5625\" xlink:href=\"#DejaVuSans-57\"/>\r\n       <use x=\"740.185547\" xlink:href=\"#DejaVuSans-58\"/>\r\n       <use x=\"773.876953\" xlink:href=\"#DejaVuSans-48\"/>\r\n       <use x=\"837.5\" xlink:href=\"#DejaVuSans-57\"/>\r\n       <use x=\"901.123047\" xlink:href=\"#DejaVuSans-58\"/>\r\n       <use x=\"934.814453\" xlink:href=\"#DejaVuSans-49\"/>\r\n       <use x=\"998.4375\" xlink:href=\"#DejaVuSans-55\"/>\r\n      </g>\r\n     </g>\r\n    </g>\r\n    <g id=\"xtick_6\">\r\n     <g id=\"line2d_6\">\r\n      <g>\r\n       <use style=\"stroke:#000000;stroke-width:0.8;\" x=\"213.4125\" xlink:href=\"#m434bc20744\" y=\"224.64\"/>\r\n      </g>\r\n     </g>\r\n     <g id=\"text_6\">\r\n      <!-- 2020-03-20 19:09:17 -->\r\n      <g transform=\"translate(216.171875 337.84625)rotate(-90)scale(0.1 -0.1)\">\r\n       <use xlink:href=\"#DejaVuSans-50\"/>\r\n       <use x=\"63.623047\" xlink:href=\"#DejaVuSans-48\"/>\r\n       <use x=\"127.246094\" xlink:href=\"#DejaVuSans-50\"/>\r\n       <use x=\"190.869141\" xlink:href=\"#DejaVuSans-48\"/>\r\n       <use x=\"254.492188\" xlink:href=\"#DejaVuSans-45\"/>\r\n       <use x=\"290.576172\" xlink:href=\"#DejaVuSans-48\"/>\r\n       <use x=\"354.199219\" xlink:href=\"#DejaVuSans-51\"/>\r\n       <use x=\"417.822266\" xlink:href=\"#DejaVuSans-45\"/>\r\n       <use x=\"453.90625\" xlink:href=\"#DejaVuSans-50\"/>\r\n       <use x=\"517.529297\" xlink:href=\"#DejaVuSans-48\"/>\r\n       <use x=\"581.152344\" xlink:href=\"#DejaVuSans-32\"/>\r\n       <use x=\"612.939453\" xlink:href=\"#DejaVuSans-49\"/>\r\n       <use x=\"676.5625\" xlink:href=\"#DejaVuSans-57\"/>\r\n       <use x=\"740.185547\" xlink:href=\"#DejaVuSans-58\"/>\r\n       <use x=\"773.876953\" xlink:href=\"#DejaVuSans-48\"/>\r\n       <use x=\"837.5\" xlink:href=\"#DejaVuSans-57\"/>\r\n       <use x=\"901.123047\" xlink:href=\"#DejaVuSans-58\"/>\r\n       <use x=\"934.814453\" xlink:href=\"#DejaVuSans-49\"/>\r\n       <use x=\"998.4375\" xlink:href=\"#DejaVuSans-55\"/>\r\n      </g>\r\n     </g>\r\n    </g>\r\n    <g id=\"xtick_7\">\r\n     <g id=\"line2d_7\">\r\n      <g>\r\n       <use style=\"stroke:#000000;stroke-width:0.8;\" x=\"213.4125\" xlink:href=\"#m434bc20744\" y=\"224.64\"/>\r\n      </g>\r\n     </g>\r\n     <g id=\"text_7\">\r\n      <!-- 2020-03-20 19:09:17 -->\r\n      <g transform=\"translate(216.171875 337.84625)rotate(-90)scale(0.1 -0.1)\">\r\n       <use xlink:href=\"#DejaVuSans-50\"/>\r\n       <use x=\"63.623047\" xlink:href=\"#DejaVuSans-48\"/>\r\n       <use x=\"127.246094\" xlink:href=\"#DejaVuSans-50\"/>\r\n       <use x=\"190.869141\" xlink:href=\"#DejaVuSans-48\"/>\r\n       <use x=\"254.492188\" xlink:href=\"#DejaVuSans-45\"/>\r\n       <use x=\"290.576172\" xlink:href=\"#DejaVuSans-48\"/>\r\n       <use x=\"354.199219\" xlink:href=\"#DejaVuSans-51\"/>\r\n       <use x=\"417.822266\" xlink:href=\"#DejaVuSans-45\"/>\r\n       <use x=\"453.90625\" xlink:href=\"#DejaVuSans-50\"/>\r\n       <use x=\"517.529297\" xlink:href=\"#DejaVuSans-48\"/>\r\n       <use x=\"581.152344\" xlink:href=\"#DejaVuSans-32\"/>\r\n       <use x=\"612.939453\" xlink:href=\"#DejaVuSans-49\"/>\r\n       <use x=\"676.5625\" xlink:href=\"#DejaVuSans-57\"/>\r\n       <use x=\"740.185547\" xlink:href=\"#DejaVuSans-58\"/>\r\n       <use x=\"773.876953\" xlink:href=\"#DejaVuSans-48\"/>\r\n       <use x=\"837.5\" xlink:href=\"#DejaVuSans-57\"/>\r\n       <use x=\"901.123047\" xlink:href=\"#DejaVuSans-58\"/>\r\n       <use x=\"934.814453\" xlink:href=\"#DejaVuSans-49\"/>\r\n       <use x=\"998.4375\" xlink:href=\"#DejaVuSans-55\"/>\r\n      </g>\r\n     </g>\r\n    </g>\r\n    <g id=\"xtick_8\">\r\n     <g id=\"line2d_8\">\r\n      <g>\r\n       <use style=\"stroke:#000000;stroke-width:0.8;\" x=\"213.4125\" xlink:href=\"#m434bc20744\" y=\"224.64\"/>\r\n      </g>\r\n     </g>\r\n     <g id=\"text_8\">\r\n      <!-- 2020-03-20 19:09:17 -->\r\n      <g transform=\"translate(216.171875 337.84625)rotate(-90)scale(0.1 -0.1)\">\r\n       <use xlink:href=\"#DejaVuSans-50\"/>\r\n       <use x=\"63.623047\" xlink:href=\"#DejaVuSans-48\"/>\r\n       <use x=\"127.246094\" xlink:href=\"#DejaVuSans-50\"/>\r\n       <use x=\"190.869141\" xlink:href=\"#DejaVuSans-48\"/>\r\n       <use x=\"254.492188\" xlink:href=\"#DejaVuSans-45\"/>\r\n       <use x=\"290.576172\" xlink:href=\"#DejaVuSans-48\"/>\r\n       <use x=\"354.199219\" xlink:href=\"#DejaVuSans-51\"/>\r\n       <use x=\"417.822266\" xlink:href=\"#DejaVuSans-45\"/>\r\n       <use x=\"453.90625\" xlink:href=\"#DejaVuSans-50\"/>\r\n       <use x=\"517.529297\" xlink:href=\"#DejaVuSans-48\"/>\r\n       <use x=\"581.152344\" xlink:href=\"#DejaVuSans-32\"/>\r\n       <use x=\"612.939453\" xlink:href=\"#DejaVuSans-49\"/>\r\n       <use x=\"676.5625\" xlink:href=\"#DejaVuSans-57\"/>\r\n       <use x=\"740.185547\" xlink:href=\"#DejaVuSans-58\"/>\r\n       <use x=\"773.876953\" xlink:href=\"#DejaVuSans-48\"/>\r\n       <use x=\"837.5\" xlink:href=\"#DejaVuSans-57\"/>\r\n       <use x=\"901.123047\" xlink:href=\"#DejaVuSans-58\"/>\r\n       <use x=\"934.814453\" xlink:href=\"#DejaVuSans-49\"/>\r\n       <use x=\"998.4375\" xlink:href=\"#DejaVuSans-55\"/>\r\n      </g>\r\n     </g>\r\n    </g>\r\n    <g id=\"xtick_9\">\r\n     <g id=\"line2d_9\">\r\n      <g>\r\n       <use style=\"stroke:#000000;stroke-width:0.8;\" x=\"213.4125\" xlink:href=\"#m434bc20744\" y=\"224.64\"/>\r\n      </g>\r\n     </g>\r\n     <g id=\"text_9\">\r\n      <!-- 2020-03-20 19:09:17 -->\r\n      <g transform=\"translate(216.171875 337.84625)rotate(-90)scale(0.1 -0.1)\">\r\n       <use xlink:href=\"#DejaVuSans-50\"/>\r\n       <use x=\"63.623047\" xlink:href=\"#DejaVuSans-48\"/>\r\n       <use x=\"127.246094\" xlink:href=\"#DejaVuSans-50\"/>\r\n       <use x=\"190.869141\" xlink:href=\"#DejaVuSans-48\"/>\r\n       <use x=\"254.492188\" xlink:href=\"#DejaVuSans-45\"/>\r\n       <use x=\"290.576172\" xlink:href=\"#DejaVuSans-48\"/>\r\n       <use x=\"354.199219\" xlink:href=\"#DejaVuSans-51\"/>\r\n       <use x=\"417.822266\" xlink:href=\"#DejaVuSans-45\"/>\r\n       <use x=\"453.90625\" xlink:href=\"#DejaVuSans-50\"/>\r\n       <use x=\"517.529297\" xlink:href=\"#DejaVuSans-48\"/>\r\n       <use x=\"581.152344\" xlink:href=\"#DejaVuSans-32\"/>\r\n       <use x=\"612.939453\" xlink:href=\"#DejaVuSans-49\"/>\r\n       <use x=\"676.5625\" xlink:href=\"#DejaVuSans-57\"/>\r\n       <use x=\"740.185547\" xlink:href=\"#DejaVuSans-58\"/>\r\n       <use x=\"773.876953\" xlink:href=\"#DejaVuSans-48\"/>\r\n       <use x=\"837.5\" xlink:href=\"#DejaVuSans-57\"/>\r\n       <use x=\"901.123047\" xlink:href=\"#DejaVuSans-58\"/>\r\n       <use x=\"934.814453\" xlink:href=\"#DejaVuSans-49\"/>\r\n       <use x=\"998.4375\" xlink:href=\"#DejaVuSans-55\"/>\r\n      </g>\r\n     </g>\r\n    </g>\r\n    <g id=\"xtick_10\">\r\n     <g id=\"line2d_10\">\r\n      <g>\r\n       <use style=\"stroke:#000000;stroke-width:0.8;\" x=\"213.4125\" xlink:href=\"#m434bc20744\" y=\"224.64\"/>\r\n      </g>\r\n     </g>\r\n     <g id=\"text_10\">\r\n      <!-- 2020-03-20 19:09:17 -->\r\n      <g transform=\"translate(216.171875 337.84625)rotate(-90)scale(0.1 -0.1)\">\r\n       <use xlink:href=\"#DejaVuSans-50\"/>\r\n       <use x=\"63.623047\" xlink:href=\"#DejaVuSans-48\"/>\r\n       <use x=\"127.246094\" xlink:href=\"#DejaVuSans-50\"/>\r\n       <use x=\"190.869141\" xlink:href=\"#DejaVuSans-48\"/>\r\n       <use x=\"254.492188\" xlink:href=\"#DejaVuSans-45\"/>\r\n       <use x=\"290.576172\" xlink:href=\"#DejaVuSans-48\"/>\r\n       <use x=\"354.199219\" xlink:href=\"#DejaVuSans-51\"/>\r\n       <use x=\"417.822266\" xlink:href=\"#DejaVuSans-45\"/>\r\n       <use x=\"453.90625\" xlink:href=\"#DejaVuSans-50\"/>\r\n       <use x=\"517.529297\" xlink:href=\"#DejaVuSans-48\"/>\r\n       <use x=\"581.152344\" xlink:href=\"#DejaVuSans-32\"/>\r\n       <use x=\"612.939453\" xlink:href=\"#DejaVuSans-49\"/>\r\n       <use x=\"676.5625\" xlink:href=\"#DejaVuSans-57\"/>\r\n       <use x=\"740.185547\" xlink:href=\"#DejaVuSans-58\"/>\r\n       <use x=\"773.876953\" xlink:href=\"#DejaVuSans-48\"/>\r\n       <use x=\"837.5\" xlink:href=\"#DejaVuSans-57\"/>\r\n       <use x=\"901.123047\" xlink:href=\"#DejaVuSans-58\"/>\r\n       <use x=\"934.814453\" xlink:href=\"#DejaVuSans-49\"/>\r\n       <use x=\"998.4375\" xlink:href=\"#DejaVuSans-55\"/>\r\n      </g>\r\n     </g>\r\n    </g>\r\n    <g id=\"xtick_11\">\r\n     <g id=\"line2d_11\">\r\n      <g>\r\n       <use style=\"stroke:#000000;stroke-width:0.8;\" x=\"213.4125\" xlink:href=\"#m434bc20744\" y=\"224.64\"/>\r\n      </g>\r\n     </g>\r\n     <g id=\"text_11\">\r\n      <!-- 2020-03-20 19:09:17 -->\r\n      <g transform=\"translate(216.171875 337.84625)rotate(-90)scale(0.1 -0.1)\">\r\n       <use xlink:href=\"#DejaVuSans-50\"/>\r\n       <use x=\"63.623047\" xlink:href=\"#DejaVuSans-48\"/>\r\n       <use x=\"127.246094\" xlink:href=\"#DejaVuSans-50\"/>\r\n       <use x=\"190.869141\" xlink:href=\"#DejaVuSans-48\"/>\r\n       <use x=\"254.492188\" xlink:href=\"#DejaVuSans-45\"/>\r\n       <use x=\"290.576172\" xlink:href=\"#DejaVuSans-48\"/>\r\n       <use x=\"354.199219\" xlink:href=\"#DejaVuSans-51\"/>\r\n       <use x=\"417.822266\" xlink:href=\"#DejaVuSans-45\"/>\r\n       <use x=\"453.90625\" xlink:href=\"#DejaVuSans-50\"/>\r\n       <use x=\"517.529297\" xlink:href=\"#DejaVuSans-48\"/>\r\n       <use x=\"581.152344\" xlink:href=\"#DejaVuSans-32\"/>\r\n       <use x=\"612.939453\" xlink:href=\"#DejaVuSans-49\"/>\r\n       <use x=\"676.5625\" xlink:href=\"#DejaVuSans-57\"/>\r\n       <use x=\"740.185547\" xlink:href=\"#DejaVuSans-58\"/>\r\n       <use x=\"773.876953\" xlink:href=\"#DejaVuSans-48\"/>\r\n       <use x=\"837.5\" xlink:href=\"#DejaVuSans-57\"/>\r\n       <use x=\"901.123047\" xlink:href=\"#DejaVuSans-58\"/>\r\n       <use x=\"934.814453\" xlink:href=\"#DejaVuSans-49\"/>\r\n       <use x=\"998.4375\" xlink:href=\"#DejaVuSans-55\"/>\r\n      </g>\r\n     </g>\r\n    </g>\r\n    <g id=\"xtick_12\">\r\n     <g id=\"line2d_12\">\r\n      <g>\r\n       <use style=\"stroke:#000000;stroke-width:0.8;\" x=\"213.4125\" xlink:href=\"#m434bc20744\" y=\"224.64\"/>\r\n      </g>\r\n     </g>\r\n     <g id=\"text_12\">\r\n      <!-- 2020-03-20 19:09:17 -->\r\n      <g transform=\"translate(216.171875 337.84625)rotate(-90)scale(0.1 -0.1)\">\r\n       <use xlink:href=\"#DejaVuSans-50\"/>\r\n       <use x=\"63.623047\" xlink:href=\"#DejaVuSans-48\"/>\r\n       <use x=\"127.246094\" xlink:href=\"#DejaVuSans-50\"/>\r\n       <use x=\"190.869141\" xlink:href=\"#DejaVuSans-48\"/>\r\n       <use x=\"254.492188\" xlink:href=\"#DejaVuSans-45\"/>\r\n       <use x=\"290.576172\" xlink:href=\"#DejaVuSans-48\"/>\r\n       <use x=\"354.199219\" xlink:href=\"#DejaVuSans-51\"/>\r\n       <use x=\"417.822266\" xlink:href=\"#DejaVuSans-45\"/>\r\n       <use x=\"453.90625\" xlink:href=\"#DejaVuSans-50\"/>\r\n       <use x=\"517.529297\" xlink:href=\"#DejaVuSans-48\"/>\r\n       <use x=\"581.152344\" xlink:href=\"#DejaVuSans-32\"/>\r\n       <use x=\"612.939453\" xlink:href=\"#DejaVuSans-49\"/>\r\n       <use x=\"676.5625\" xlink:href=\"#DejaVuSans-57\"/>\r\n       <use x=\"740.185547\" xlink:href=\"#DejaVuSans-58\"/>\r\n       <use x=\"773.876953\" xlink:href=\"#DejaVuSans-48\"/>\r\n       <use x=\"837.5\" xlink:href=\"#DejaVuSans-57\"/>\r\n       <use x=\"901.123047\" xlink:href=\"#DejaVuSans-58\"/>\r\n       <use x=\"934.814453\" xlink:href=\"#DejaVuSans-49\"/>\r\n       <use x=\"998.4375\" xlink:href=\"#DejaVuSans-55\"/>\r\n      </g>\r\n     </g>\r\n    </g>\r\n    <g id=\"text_13\">\r\n     <!-- Start date -->\r\n     <g transform=\"translate(188.334375 349.444687)scale(0.1 -0.1)\">\r\n      <defs>\r\n       <path d=\"M 53.515625 70.515625 \r\nL 53.515625 60.890625 \r\nQ 47.90625 63.578125 42.921875 64.890625 \r\nQ 37.9375 66.21875 33.296875 66.21875 \r\nQ 25.25 66.21875 20.875 63.09375 \r\nQ 16.5 59.96875 16.5 54.203125 \r\nQ 16.5 49.359375 19.40625 46.890625 \r\nQ 22.3125 44.4375 30.421875 42.921875 \r\nL 36.375 41.703125 \r\nQ 47.40625 39.59375 52.65625 34.296875 \r\nQ 57.90625 29 57.90625 20.125 \r\nQ 57.90625 9.515625 50.796875 4.046875 \r\nQ 43.703125 -1.421875 29.984375 -1.421875 \r\nQ 24.8125 -1.421875 18.96875 -0.25 \r\nQ 13.140625 0.921875 6.890625 3.21875 \r\nL 6.890625 13.375 \r\nQ 12.890625 10.015625 18.65625 8.296875 \r\nQ 24.421875 6.59375 29.984375 6.59375 \r\nQ 38.421875 6.59375 43.015625 9.90625 \r\nQ 47.609375 13.234375 47.609375 19.390625 \r\nQ 47.609375 24.75 44.3125 27.78125 \r\nQ 41.015625 30.8125 33.5 32.328125 \r\nL 27.484375 33.5 \r\nQ 16.453125 35.6875 11.515625 40.375 \r\nQ 6.59375 45.0625 6.59375 53.421875 \r\nQ 6.59375 63.09375 13.40625 68.65625 \r\nQ 20.21875 74.21875 32.171875 74.21875 \r\nQ 37.3125 74.21875 42.625 73.28125 \r\nQ 47.953125 72.359375 53.515625 70.515625 \r\nz\r\n\" id=\"DejaVuSans-83\"/>\r\n       <path d=\"M 18.3125 70.21875 \r\nL 18.3125 54.6875 \r\nL 36.8125 54.6875 \r\nL 36.8125 47.703125 \r\nL 18.3125 47.703125 \r\nL 18.3125 18.015625 \r\nQ 18.3125 11.328125 20.140625 9.421875 \r\nQ 21.96875 7.515625 27.59375 7.515625 \r\nL 36.8125 7.515625 \r\nL 36.8125 0 \r\nL 27.59375 0 \r\nQ 17.1875 0 13.234375 3.875 \r\nQ 9.28125 7.765625 9.28125 18.015625 \r\nL 9.28125 47.703125 \r\nL 2.6875 47.703125 \r\nL 2.6875 54.6875 \r\nL 9.28125 54.6875 \r\nL 9.28125 70.21875 \r\nz\r\n\" id=\"DejaVuSans-116\"/>\r\n       <path d=\"M 34.28125 27.484375 \r\nQ 23.390625 27.484375 19.1875 25 \r\nQ 14.984375 22.515625 14.984375 16.5 \r\nQ 14.984375 11.71875 18.140625 8.90625 \r\nQ 21.296875 6.109375 26.703125 6.109375 \r\nQ 34.1875 6.109375 38.703125 11.40625 \r\nQ 43.21875 16.703125 43.21875 25.484375 \r\nL 43.21875 27.484375 \r\nz\r\nM 52.203125 31.203125 \r\nL 52.203125 0 \r\nL 43.21875 0 \r\nL 43.21875 8.296875 \r\nQ 40.140625 3.328125 35.546875 0.953125 \r\nQ 30.953125 -1.421875 24.3125 -1.421875 \r\nQ 15.921875 -1.421875 10.953125 3.296875 \r\nQ 6 8.015625 6 15.921875 \r\nQ 6 25.140625 12.171875 29.828125 \r\nQ 18.359375 34.515625 30.609375 34.515625 \r\nL 43.21875 34.515625 \r\nL 43.21875 35.40625 \r\nQ 43.21875 41.609375 39.140625 45 \r\nQ 35.0625 48.390625 27.6875 48.390625 \r\nQ 23 48.390625 18.546875 47.265625 \r\nQ 14.109375 46.140625 10.015625 43.890625 \r\nL 10.015625 52.203125 \r\nQ 14.9375 54.109375 19.578125 55.046875 \r\nQ 24.21875 56 28.609375 56 \r\nQ 40.484375 56 46.34375 49.84375 \r\nQ 52.203125 43.703125 52.203125 31.203125 \r\nz\r\n\" id=\"DejaVuSans-97\"/>\r\n       <path d=\"M 41.109375 46.296875 \r\nQ 39.59375 47.171875 37.8125 47.578125 \r\nQ 36.03125 48 33.890625 48 \r\nQ 26.265625 48 22.1875 43.046875 \r\nQ 18.109375 38.09375 18.109375 28.8125 \r\nL 18.109375 0 \r\nL 9.078125 0 \r\nL 9.078125 54.6875 \r\nL 18.109375 54.6875 \r\nL 18.109375 46.1875 \r\nQ 20.953125 51.171875 25.484375 53.578125 \r\nQ 30.03125 56 36.53125 56 \r\nQ 37.453125 56 38.578125 55.875 \r\nQ 39.703125 55.765625 41.0625 55.515625 \r\nz\r\n\" id=\"DejaVuSans-114\"/>\r\n       <path d=\"M 45.40625 46.390625 \r\nL 45.40625 75.984375 \r\nL 54.390625 75.984375 \r\nL 54.390625 0 \r\nL 45.40625 0 \r\nL 45.40625 8.203125 \r\nQ 42.578125 3.328125 38.25 0.953125 \r\nQ 33.9375 -1.421875 27.875 -1.421875 \r\nQ 17.96875 -1.421875 11.734375 6.484375 \r\nQ 5.515625 14.40625 5.515625 27.296875 \r\nQ 5.515625 40.1875 11.734375 48.09375 \r\nQ 17.96875 56 27.875 56 \r\nQ 33.9375 56 38.25 53.625 \r\nQ 42.578125 51.265625 45.40625 46.390625 \r\nz\r\nM 14.796875 27.296875 \r\nQ 14.796875 17.390625 18.875 11.75 \r\nQ 22.953125 6.109375 30.078125 6.109375 \r\nQ 37.203125 6.109375 41.296875 11.75 \r\nQ 45.40625 17.390625 45.40625 27.296875 \r\nQ 45.40625 37.203125 41.296875 42.84375 \r\nQ 37.203125 48.484375 30.078125 48.484375 \r\nQ 22.953125 48.484375 18.875 42.84375 \r\nQ 14.796875 37.203125 14.796875 27.296875 \r\nz\r\n\" id=\"DejaVuSans-100\"/>\r\n       <path d=\"M 56.203125 29.59375 \r\nL 56.203125 25.203125 \r\nL 14.890625 25.203125 \r\nQ 15.484375 15.921875 20.484375 11.0625 \r\nQ 25.484375 6.203125 34.421875 6.203125 \r\nQ 39.59375 6.203125 44.453125 7.46875 \r\nQ 49.3125 8.734375 54.109375 11.28125 \r\nL 54.109375 2.78125 \r\nQ 49.265625 0.734375 44.1875 -0.34375 \r\nQ 39.109375 -1.421875 33.890625 -1.421875 \r\nQ 20.796875 -1.421875 13.15625 6.1875 \r\nQ 5.515625 13.8125 5.515625 26.8125 \r\nQ 5.515625 40.234375 12.765625 48.109375 \r\nQ 20.015625 56 32.328125 56 \r\nQ 43.359375 56 49.78125 48.890625 \r\nQ 56.203125 41.796875 56.203125 29.59375 \r\nz\r\nM 47.21875 32.234375 \r\nQ 47.125 39.59375 43.09375 43.984375 \r\nQ 39.0625 48.390625 32.421875 48.390625 \r\nQ 24.90625 48.390625 20.390625 44.140625 \r\nQ 15.875 39.890625 15.1875 32.171875 \r\nz\r\n\" id=\"DejaVuSans-101\"/>\r\n      </defs>\r\n      <use xlink:href=\"#DejaVuSans-83\"/>\r\n      <use x=\"63.476562\" xlink:href=\"#DejaVuSans-116\"/>\r\n      <use x=\"102.685547\" xlink:href=\"#DejaVuSans-97\"/>\r\n      <use x=\"163.964844\" xlink:href=\"#DejaVuSans-114\"/>\r\n      <use x=\"205.078125\" xlink:href=\"#DejaVuSans-116\"/>\r\n      <use x=\"244.287109\" xlink:href=\"#DejaVuSans-32\"/>\r\n      <use x=\"276.074219\" xlink:href=\"#DejaVuSans-100\"/>\r\n      <use x=\"339.550781\" xlink:href=\"#DejaVuSans-97\"/>\r\n      <use x=\"400.830078\" xlink:href=\"#DejaVuSans-116\"/>\r\n      <use x=\"440.039062\" xlink:href=\"#DejaVuSans-101\"/>\r\n     </g>\r\n    </g>\r\n   </g>\r\n   <g id=\"matplotlib.axis_2\">\r\n    <g id=\"ytick_1\">\r\n     <g id=\"line2d_13\">\r\n      <defs>\r\n       <path d=\"M 0 0 \r\nL -3.5 0 \r\n\" id=\"m9eba8e180d\" style=\"stroke:#000000;stroke-width:0.8;\"/>\r\n      </defs>\r\n      <g>\r\n       <use style=\"stroke:#000000;stroke-width:0.8;\" x=\"46.0125\" xlink:href=\"#m9eba8e180d\" y=\"224.64\"/>\r\n      </g>\r\n     </g>\r\n     <g id=\"text_14\">\r\n      <!-- 0 -->\r\n      <g transform=\"translate(32.65 228.439219)scale(0.1 -0.1)\">\r\n       <use xlink:href=\"#DejaVuSans-48\"/>\r\n      </g>\r\n     </g>\r\n    </g>\r\n    <g id=\"ytick_2\">\r\n     <g id=\"line2d_14\">\r\n      <g>\r\n       <use style=\"stroke:#000000;stroke-width:0.8;\" x=\"46.0125\" xlink:href=\"#m9eba8e180d\" y=\"190.217508\"/>\r\n      </g>\r\n     </g>\r\n     <g id=\"text_15\">\r\n      <!-- 10000 -->\r\n      <g transform=\"translate(7.2 194.016726)scale(0.1 -0.1)\">\r\n       <use xlink:href=\"#DejaVuSans-49\"/>\r\n       <use x=\"63.623047\" xlink:href=\"#DejaVuSans-48\"/>\r\n       <use x=\"127.246094\" xlink:href=\"#DejaVuSans-48\"/>\r\n       <use x=\"190.869141\" xlink:href=\"#DejaVuSans-48\"/>\r\n       <use x=\"254.492188\" xlink:href=\"#DejaVuSans-48\"/>\r\n      </g>\r\n     </g>\r\n    </g>\r\n    <g id=\"ytick_3\">\r\n     <g id=\"line2d_15\">\r\n      <g>\r\n       <use style=\"stroke:#000000;stroke-width:0.8;\" x=\"46.0125\" xlink:href=\"#m9eba8e180d\" y=\"155.795015\"/>\r\n      </g>\r\n     </g>\r\n     <g id=\"text_16\">\r\n      <!-- 20000 -->\r\n      <g transform=\"translate(7.2 159.594234)scale(0.1 -0.1)\">\r\n       <use xlink:href=\"#DejaVuSans-50\"/>\r\n       <use x=\"63.623047\" xlink:href=\"#DejaVuSans-48\"/>\r\n       <use x=\"127.246094\" xlink:href=\"#DejaVuSans-48\"/>\r\n       <use x=\"190.869141\" xlink:href=\"#DejaVuSans-48\"/>\r\n       <use x=\"254.492188\" xlink:href=\"#DejaVuSans-48\"/>\r\n      </g>\r\n     </g>\r\n    </g>\r\n    <g id=\"ytick_4\">\r\n     <g id=\"line2d_16\">\r\n      <g>\r\n       <use style=\"stroke:#000000;stroke-width:0.8;\" x=\"46.0125\" xlink:href=\"#m9eba8e180d\" y=\"121.372523\"/>\r\n      </g>\r\n     </g>\r\n     <g id=\"text_17\">\r\n      <!-- 30000 -->\r\n      <g transform=\"translate(7.2 125.171742)scale(0.1 -0.1)\">\r\n       <use xlink:href=\"#DejaVuSans-51\"/>\r\n       <use x=\"63.623047\" xlink:href=\"#DejaVuSans-48\"/>\r\n       <use x=\"127.246094\" xlink:href=\"#DejaVuSans-48\"/>\r\n       <use x=\"190.869141\" xlink:href=\"#DejaVuSans-48\"/>\r\n       <use x=\"254.492188\" xlink:href=\"#DejaVuSans-48\"/>\r\n      </g>\r\n     </g>\r\n    </g>\r\n    <g id=\"ytick_5\">\r\n     <g id=\"line2d_17\">\r\n      <g>\r\n       <use style=\"stroke:#000000;stroke-width:0.8;\" x=\"46.0125\" xlink:href=\"#m9eba8e180d\" y=\"86.95003\"/>\r\n      </g>\r\n     </g>\r\n     <g id=\"text_18\">\r\n      <!-- 40000 -->\r\n      <g transform=\"translate(7.2 90.749249)scale(0.1 -0.1)\">\r\n       <defs>\r\n        <path d=\"M 37.796875 64.3125 \r\nL 12.890625 25.390625 \r\nL 37.796875 25.390625 \r\nz\r\nM 35.203125 72.90625 \r\nL 47.609375 72.90625 \r\nL 47.609375 25.390625 \r\nL 58.015625 25.390625 \r\nL 58.015625 17.1875 \r\nL 47.609375 17.1875 \r\nL 47.609375 0 \r\nL 37.796875 0 \r\nL 37.796875 17.1875 \r\nL 4.890625 17.1875 \r\nL 4.890625 26.703125 \r\nz\r\n\" id=\"DejaVuSans-52\"/>\r\n       </defs>\r\n       <use xlink:href=\"#DejaVuSans-52\"/>\r\n       <use x=\"63.623047\" xlink:href=\"#DejaVuSans-48\"/>\r\n       <use x=\"127.246094\" xlink:href=\"#DejaVuSans-48\"/>\r\n       <use x=\"190.869141\" xlink:href=\"#DejaVuSans-48\"/>\r\n       <use x=\"254.492188\" xlink:href=\"#DejaVuSans-48\"/>\r\n      </g>\r\n     </g>\r\n    </g>\r\n    <g id=\"ytick_6\">\r\n     <g id=\"line2d_18\">\r\n      <g>\r\n       <use style=\"stroke:#000000;stroke-width:0.8;\" x=\"46.0125\" xlink:href=\"#m9eba8e180d\" y=\"52.527538\"/>\r\n      </g>\r\n     </g>\r\n     <g id=\"text_19\">\r\n      <!-- 50000 -->\r\n      <g transform=\"translate(7.2 56.326757)scale(0.1 -0.1)\">\r\n       <defs>\r\n        <path d=\"M 10.796875 72.90625 \r\nL 49.515625 72.90625 \r\nL 49.515625 64.59375 \r\nL 19.828125 64.59375 \r\nL 19.828125 46.734375 \r\nQ 21.96875 47.46875 24.109375 47.828125 \r\nQ 26.265625 48.1875 28.421875 48.1875 \r\nQ 40.625 48.1875 47.75 41.5 \r\nQ 54.890625 34.8125 54.890625 23.390625 \r\nQ 54.890625 11.625 47.5625 5.09375 \r\nQ 40.234375 -1.421875 26.90625 -1.421875 \r\nQ 22.3125 -1.421875 17.546875 -0.640625 \r\nQ 12.796875 0.140625 7.71875 1.703125 \r\nL 7.71875 11.625 \r\nQ 12.109375 9.234375 16.796875 8.0625 \r\nQ 21.484375 6.890625 26.703125 6.890625 \r\nQ 35.15625 6.890625 40.078125 11.328125 \r\nQ 45.015625 15.765625 45.015625 23.390625 \r\nQ 45.015625 31 40.078125 35.4375 \r\nQ 35.15625 39.890625 26.703125 39.890625 \r\nQ 22.75 39.890625 18.8125 39.015625 \r\nQ 14.890625 38.140625 10.796875 36.28125 \r\nz\r\n\" id=\"DejaVuSans-53\"/>\r\n       </defs>\r\n       <use xlink:href=\"#DejaVuSans-53\"/>\r\n       <use x=\"63.623047\" xlink:href=\"#DejaVuSans-48\"/>\r\n       <use x=\"127.246094\" xlink:href=\"#DejaVuSans-48\"/>\r\n       <use x=\"190.869141\" xlink:href=\"#DejaVuSans-48\"/>\r\n       <use x=\"254.492188\" xlink:href=\"#DejaVuSans-48\"/>\r\n      </g>\r\n     </g>\r\n    </g>\r\n    <g id=\"ytick_7\">\r\n     <g id=\"line2d_19\">\r\n      <g>\r\n       <use style=\"stroke:#000000;stroke-width:0.8;\" x=\"46.0125\" xlink:href=\"#m9eba8e180d\" y=\"18.105046\"/>\r\n      </g>\r\n     </g>\r\n     <g id=\"text_20\">\r\n      <!-- 60000 -->\r\n      <g transform=\"translate(7.2 21.904264)scale(0.1 -0.1)\">\r\n       <defs>\r\n        <path d=\"M 33.015625 40.375 \r\nQ 26.375 40.375 22.484375 35.828125 \r\nQ 18.609375 31.296875 18.609375 23.390625 \r\nQ 18.609375 15.53125 22.484375 10.953125 \r\nQ 26.375 6.390625 33.015625 6.390625 \r\nQ 39.65625 6.390625 43.53125 10.953125 \r\nQ 47.40625 15.53125 47.40625 23.390625 \r\nQ 47.40625 31.296875 43.53125 35.828125 \r\nQ 39.65625 40.375 33.015625 40.375 \r\nz\r\nM 52.59375 71.296875 \r\nL 52.59375 62.3125 \r\nQ 48.875 64.0625 45.09375 64.984375 \r\nQ 41.3125 65.921875 37.59375 65.921875 \r\nQ 27.828125 65.921875 22.671875 59.328125 \r\nQ 17.53125 52.734375 16.796875 39.40625 \r\nQ 19.671875 43.65625 24.015625 45.921875 \r\nQ 28.375 48.1875 33.59375 48.1875 \r\nQ 44.578125 48.1875 50.953125 41.515625 \r\nQ 57.328125 34.859375 57.328125 23.390625 \r\nQ 57.328125 12.15625 50.6875 5.359375 \r\nQ 44.046875 -1.421875 33.015625 -1.421875 \r\nQ 20.359375 -1.421875 13.671875 8.265625 \r\nQ 6.984375 17.96875 6.984375 36.375 \r\nQ 6.984375 53.65625 15.1875 63.9375 \r\nQ 23.390625 74.21875 37.203125 74.21875 \r\nQ 40.921875 74.21875 44.703125 73.484375 \r\nQ 48.484375 72.75 52.59375 71.296875 \r\nz\r\n\" id=\"DejaVuSans-54\"/>\r\n       </defs>\r\n       <use xlink:href=\"#DejaVuSans-54\"/>\r\n       <use x=\"63.623047\" xlink:href=\"#DejaVuSans-48\"/>\r\n       <use x=\"127.246094\" xlink:href=\"#DejaVuSans-48\"/>\r\n       <use x=\"190.869141\" xlink:href=\"#DejaVuSans-48\"/>\r\n       <use x=\"254.492188\" xlink:href=\"#DejaVuSans-48\"/>\r\n      </g>\r\n     </g>\r\n    </g>\r\n   </g>\r\n   <g id=\"patch_15\">\r\n    <path d=\"M 46.0125 224.64 \r\nL 46.0125 7.2 \r\n\" style=\"fill:none;stroke:#000000;stroke-linecap:square;stroke-linejoin:miter;stroke-width:0.8;\"/>\r\n   </g>\r\n   <g id=\"patch_16\">\r\n    <path d=\"M 380.8125 224.64 \r\nL 380.8125 7.2 \r\n\" style=\"fill:none;stroke:#000000;stroke-linecap:square;stroke-linejoin:miter;stroke-width:0.8;\"/>\r\n   </g>\r\n   <g id=\"patch_17\">\r\n    <path d=\"M 46.0125 224.64 \r\nL 380.8125 224.64 \r\n\" style=\"fill:none;stroke:#000000;stroke-linecap:square;stroke-linejoin:miter;stroke-width:0.8;\"/>\r\n   </g>\r\n   <g id=\"patch_18\">\r\n    <path d=\"M 46.0125 7.2 \r\nL 380.8125 7.2 \r\n\" style=\"fill:none;stroke:#000000;stroke-linecap:square;stroke-linejoin:miter;stroke-width:0.8;\"/>\r\n   </g>\r\n  </g>\r\n </g>\r\n <defs>\r\n  <clipPath id=\"p5a60aaccfd\">\r\n   <rect height=\"217.44\" width=\"334.8\" x=\"46.0125\" y=\"7.2\"/>\r\n  </clipPath>\r\n </defs>\r\n</svg>\r\n",
      "image/png": "[encoded data removed]"
     },
     "metadata": {
      "needs_background": "light"
     }
    }
   ],
   "source": [
    "df['2020-03-20']['Duration'][4008:4020].plot(kind = 'bar')"
   ]
  },
  {
   "cell_type": "code",
   "execution_count": 88,
   "metadata": {},
   "outputs": [
    {
     "output_type": "execute_result",
     "data": {
      "text/plain": [
       "(3819, 9)"
      ]
     },
     "metadata": {},
     "execution_count": 88
    }
   ],
   "source": [
    "df['2020-03-18'].shape"
   ]
  },
  {
   "cell_type": "code",
   "execution_count": 89,
   "metadata": {},
   "outputs": [
    {
     "output_type": "execute_result",
     "data": {
      "text/plain": [
       "3819"
      ]
     },
     "metadata": {},
     "execution_count": 89
    }
   ],
   "source": [
    "df['2020-03-18'].shape[0]"
   ]
  },
  {
   "cell_type": "code",
   "execution_count": 90,
   "metadata": {},
   "outputs": [
    {
     "output_type": "execute_result",
     "data": {
      "text/plain": [
       "1065.615372194413"
      ]
     },
     "metadata": {},
     "execution_count": 90
    }
   ],
   "source": [
    "df['2020-03-07']['Duration'].sum() / df['2020-03-07']['Duration'].shape[0] "
   ]
  },
  {
   "cell_type": "code",
   "execution_count": 91,
   "metadata": {},
   "outputs": [
    {
     "output_type": "execute_result",
     "data": {
      "text/plain": [
       "17.760256203240218"
      ]
     },
     "metadata": {},
     "execution_count": 91
    }
   ],
   "source": [
    "df['2020-03-07']['Duration'].sum() / df['2020-03-07']['Duration'].shape[0] / 60"
   ]
  },
  {
   "cell_type": "code",
   "execution_count": 92,
   "metadata": {},
   "outputs": [],
   "source": [
    "trip_duration_per_trip = df['2020-03-07']['Duration'].sum() / df['2020-03-07']['Duration'].shape[0] / 60"
   ]
  },
  {
   "cell_type": "code",
   "execution_count": 93,
   "metadata": {},
   "outputs": [
    {
     "output_type": "execute_result",
     "data": {
      "text/plain": [
       "17.760256203240218"
      ]
     },
     "metadata": {},
     "execution_count": 93
    }
   ],
   "source": [
    "trip_duration_per_trip"
   ]
  },
  {
   "cell_type": "code",
   "execution_count": 94,
   "metadata": {},
   "outputs": [
    {
     "output_type": "execute_result",
     "data": {
      "text/plain": [
       "6599356"
      ]
     },
     "metadata": {},
     "execution_count": 94
    }
   ],
   "source": [
    "df['2020-03-07']['Duration'].sum()"
   ]
  },
  {
   "cell_type": "code",
   "execution_count": 95,
   "metadata": {},
   "outputs": [],
   "source": [
    "trip_duration_per_trip_march = df['2020-03']['Duration'].sum() / df['2020-03']['Duration'].shape[0] / 60"
   ]
  },
  {
   "cell_type": "code",
   "execution_count": 96,
   "metadata": {},
   "outputs": [
    {
     "output_type": "execute_result",
     "data": {
      "text/plain": [
       "18.978877745646958"
      ]
     },
     "metadata": {},
     "execution_count": 96
    }
   ],
   "source": [
    "trip_duration_per_trip_march"
   ]
  },
  {
   "cell_type": "code",
   "execution_count": 97,
   "metadata": {},
   "outputs": [
    {
     "output_type": "execute_result",
     "data": {
      "text/plain": [
       "                     Duration          Start date            End date  \\\n",
       "Start date                                                              \n",
       "2020-03-01 00:01:16      1596 2020-03-01 00:01:16 2020-03-01 00:27:52   \n",
       "2020-03-01 00:02:04       448 2020-03-01 00:02:04 2020-03-01 00:09:32   \n",
       "2020-03-01 00:03:45       283 2020-03-01 00:03:45 2020-03-01 00:08:28   \n",
       "2020-03-01 00:05:49       642 2020-03-01 00:05:49 2020-03-01 00:16:31   \n",
       "2020-03-01 00:06:53       347 2020-03-01 00:06:53 2020-03-01 00:12:40   \n",
       "...                       ...                 ...                 ...   \n",
       "2020-03-31 23:17:58       673 2020-03-31 23:17:58 2020-03-31 23:29:12   \n",
       "2020-03-31 23:18:13       514 2020-03-31 23:18:13 2020-03-31 23:26:47   \n",
       "2020-03-31 23:29:00      1524 2020-03-31 23:29:00 2020-03-31 23:54:25   \n",
       "2020-03-31 23:41:17       565 2020-03-31 23:41:17 2020-03-31 23:50:43   \n",
       "2020-03-31 23:45:05      1054 2020-03-31 23:45:05 2020-04-01 00:02:40   \n",
       "\n",
       "                     Start station number                  Start station  \\\n",
       "Start date                                                                 \n",
       "2020-03-01 00:01:16                 31646          Maine Ave & 9th St SW   \n",
       "2020-03-01 00:02:04                 31646          Maine Ave & 9th St SW   \n",
       "2020-03-01 00:03:45                 31224                 18th & L St NW   \n",
       "2020-03-01 00:05:49                 31603                  1st & M St NE   \n",
       "2020-03-01 00:06:53                 31101                 14th & V St NW   \n",
       "...                                   ...                            ...   \n",
       "2020-03-31 23:17:58                 31235  19th St & Constitution Ave NW   \n",
       "2020-03-31 23:18:13                 31203     14th & Rhode Island Ave NW   \n",
       "2020-03-31 23:29:00                 31110       20th St & Florida Ave NW   \n",
       "2020-03-31 23:41:17                 31603                  1st & M St NE   \n",
       "2020-03-31 23:45:05                 31325      Reservoir Rd & 38th St NW   \n",
       "\n",
       "                     End station number                           End station  \\\n",
       "Start date                                                                      \n",
       "2020-03-01 00:01:16               31509              New Jersey Ave & R St NW   \n",
       "2020-03-01 00:02:04               31272  Washington & Independence Ave SW/HHS   \n",
       "2020-03-01 00:03:45               31200  Massachusetts Ave & Dupont Circle NW   \n",
       "2020-03-01 00:05:49               31611                        13th & H St NE   \n",
       "2020-03-01 00:06:53               31114              18th St & Wyoming Ave NW   \n",
       "...                                 ...                                   ...   \n",
       "2020-03-31 23:17:58               31265         5th St & Massachusetts Ave NW   \n",
       "2020-03-31 23:18:13               31324           18th & New Hampshire Ave NW   \n",
       "2020-03-31 23:29:00               31403                   5th & Kennedy St NW   \n",
       "2020-03-31 23:41:17               31256                        10th & E St NW   \n",
       "2020-03-31 23:45:05               31214                 17th & Corcoran St NW   \n",
       "\n",
       "                    Bike number Member type  \n",
       "Start date                                   \n",
       "2020-03-01 00:01:16      W24217      Member  \n",
       "2020-03-01 00:02:04      W21897      Member  \n",
       "2020-03-01 00:03:45      W21703      Member  \n",
       "2020-03-01 00:05:49       78571      Member  \n",
       "2020-03-01 00:06:53      W23425      Member  \n",
       "...                         ...         ...  \n",
       "2020-03-31 23:17:58      W22920      Member  \n",
       "2020-03-31 23:18:13       21054      Member  \n",
       "2020-03-31 23:29:00      W24341      Member  \n",
       "2020-03-31 23:41:17      W22691      Member  \n",
       "2020-03-31 23:45:05      W24051      Member  \n",
       "\n",
       "[162530 rows x 9 columns]"
      ],
      "text/html": "<div>\n<style scoped>\n    .dataframe tbody tr th:only-of-type {\n        vertical-align: middle;\n    }\n\n    .dataframe tbody tr th {\n        vertical-align: top;\n    }\n\n    .dataframe thead th {\n        text-align: right;\n    }\n</style>\n<table border=\"1\" class=\"dataframe\">\n  <thead>\n    <tr style=\"text-align: right;\">\n      <th></th>\n      <th>Duration</th>\n      <th>Start date</th>\n      <th>End date</th>\n      <th>Start station number</th>\n      <th>Start station</th>\n      <th>End station number</th>\n      <th>End station</th>\n      <th>Bike number</th>\n      <th>Member type</th>\n    </tr>\n    <tr>\n      <th>Start date</th>\n      <th></th>\n      <th></th>\n      <th></th>\n      <th></th>\n      <th></th>\n      <th></th>\n      <th></th>\n      <th></th>\n      <th></th>\n    </tr>\n  </thead>\n  <tbody>\n    <tr>\n      <th>2020-03-01 00:01:16</th>\n      <td>1596</td>\n      <td>2020-03-01 00:01:16</td>\n      <td>2020-03-01 00:27:52</td>\n      <td>31646</td>\n      <td>Maine Ave &amp; 9th St SW</td>\n      <td>31509</td>\n      <td>New Jersey Ave &amp; R St NW</td>\n      <td>W24217</td>\n      <td>Member</td>\n    </tr>\n    <tr>\n      <th>2020-03-01 00:02:04</th>\n      <td>448</td>\n      <td>2020-03-01 00:02:04</td>\n      <td>2020-03-01 00:09:32</td>\n      <td>31646</td>\n      <td>Maine Ave &amp; 9th St SW</td>\n      <td>31272</td>\n      <td>Washington &amp; Independence Ave SW/HHS</td>\n      <td>W21897</td>\n      <td>Member</td>\n    </tr>\n    <tr>\n      <th>2020-03-01 00:03:45</th>\n      <td>283</td>\n      <td>2020-03-01 00:03:45</td>\n      <td>2020-03-01 00:08:28</td>\n      <td>31224</td>\n      <td>18th &amp; L St NW</td>\n      <td>31200</td>\n      <td>Massachusetts Ave &amp; Dupont Circle NW</td>\n      <td>W21703</td>\n      <td>Member</td>\n    </tr>\n    <tr>\n      <th>2020-03-01 00:05:49</th>\n      <td>642</td>\n      <td>2020-03-01 00:05:49</td>\n      <td>2020-03-01 00:16:31</td>\n      <td>31603</td>\n      <td>1st &amp; M St NE</td>\n      <td>31611</td>\n      <td>13th &amp; H St NE</td>\n      <td>78571</td>\n      <td>Member</td>\n    </tr>\n    <tr>\n      <th>2020-03-01 00:06:53</th>\n      <td>347</td>\n      <td>2020-03-01 00:06:53</td>\n      <td>2020-03-01 00:12:40</td>\n      <td>31101</td>\n      <td>14th &amp; V St NW</td>\n      <td>31114</td>\n      <td>18th St &amp; Wyoming Ave NW</td>\n      <td>W23425</td>\n      <td>Member</td>\n    </tr>\n    <tr>\n      <th>...</th>\n      <td>...</td>\n      <td>...</td>\n      <td>...</td>\n      <td>...</td>\n      <td>...</td>\n      <td>...</td>\n      <td>...</td>\n      <td>...</td>\n      <td>...</td>\n    </tr>\n    <tr>\n      <th>2020-03-31 23:17:58</th>\n      <td>673</td>\n      <td>2020-03-31 23:17:58</td>\n      <td>2020-03-31 23:29:12</td>\n      <td>31235</td>\n      <td>19th St &amp; Constitution Ave NW</td>\n      <td>31265</td>\n      <td>5th St &amp; Massachusetts Ave NW</td>\n      <td>W22920</td>\n      <td>Member</td>\n    </tr>\n    <tr>\n      <th>2020-03-31 23:18:13</th>\n      <td>514</td>\n      <td>2020-03-31 23:18:13</td>\n      <td>2020-03-31 23:26:47</td>\n      <td>31203</td>\n      <td>14th &amp; Rhode Island Ave NW</td>\n      <td>31324</td>\n      <td>18th &amp; New Hampshire Ave NW</td>\n      <td>21054</td>\n      <td>Member</td>\n    </tr>\n    <tr>\n      <th>2020-03-31 23:29:00</th>\n      <td>1524</td>\n      <td>2020-03-31 23:29:00</td>\n      <td>2020-03-31 23:54:25</td>\n      <td>31110</td>\n      <td>20th St &amp; Florida Ave NW</td>\n      <td>31403</td>\n      <td>5th &amp; Kennedy St NW</td>\n      <td>W24341</td>\n      <td>Member</td>\n    </tr>\n    <tr>\n      <th>2020-03-31 23:41:17</th>\n      <td>565</td>\n      <td>2020-03-31 23:41:17</td>\n      <td>2020-03-31 23:50:43</td>\n      <td>31603</td>\n      <td>1st &amp; M St NE</td>\n      <td>31256</td>\n      <td>10th &amp; E St NW</td>\n      <td>W22691</td>\n      <td>Member</td>\n    </tr>\n    <tr>\n      <th>2020-03-31 23:45:05</th>\n      <td>1054</td>\n      <td>2020-03-31 23:45:05</td>\n      <td>2020-04-01 00:02:40</td>\n      <td>31325</td>\n      <td>Reservoir Rd &amp; 38th St NW</td>\n      <td>31214</td>\n      <td>17th &amp; Corcoran St NW</td>\n      <td>W24051</td>\n      <td>Member</td>\n    </tr>\n  </tbody>\n</table>\n<p>162530 rows × 9 columns</p>\n</div>"
     },
     "metadata": {},
     "execution_count": 97
    }
   ],
   "source": [
    "df"
   ]
  },
  {
   "cell_type": "code",
   "execution_count": 98,
   "metadata": {},
   "outputs": [],
   "source": [
    "df = df['Duration']"
   ]
  },
  {
   "cell_type": "code",
   "execution_count": 99,
   "metadata": {},
   "outputs": [
    {
     "output_type": "execute_result",
     "data": {
      "text/plain": [
       "Start date\n",
       "2020-03-01 00:01:16    1596\n",
       "2020-03-01 00:02:04     448\n",
       "2020-03-01 00:03:45     283\n",
       "2020-03-01 00:05:49     642\n",
       "2020-03-01 00:06:53     347\n",
       "                       ... \n",
       "2020-03-31 23:17:58     673\n",
       "2020-03-31 23:18:13     514\n",
       "2020-03-31 23:29:00    1524\n",
       "2020-03-31 23:41:17     565\n",
       "2020-03-31 23:45:05    1054\n",
       "Name: Duration, Length: 162530, dtype: int64"
      ]
     },
     "metadata": {},
     "execution_count": 99
    }
   ],
   "source": [
    "df"
   ]
  },
  {
   "cell_type": "code",
   "execution_count": 100,
   "metadata": {},
   "outputs": [
    {
     "output_type": "execute_result",
     "data": {
      "text/plain": [
       "Start date\n",
       "2020-03-01 00:01:16    1596\n",
       "2020-03-01 00:02:04     448\n",
       "2020-03-01 00:03:45     283\n",
       "2020-03-01 00:05:49     642\n",
       "2020-03-01 00:06:53     347\n",
       "                       ... \n",
       "2020-03-01 23:47:18     821\n",
       "2020-03-01 23:49:41    1041\n",
       "2020-03-01 23:51:25     704\n",
       "2020-03-01 23:52:49     236\n",
       "2020-03-01 23:58:59     487\n",
       "Name: Duration, Length: 5322, dtype: int64"
      ]
     },
     "metadata": {},
     "execution_count": 100
    }
   ],
   "source": [
    "df.loc['2020-03-01']"
   ]
  },
  {
   "cell_type": "code",
   "execution_count": 101,
   "metadata": {},
   "outputs": [
    {
     "output_type": "execute_result",
     "data": {
      "text/plain": [
       "Start date\n",
       "2020-03-01 00:01:16    1596\n",
       "2020-03-01 00:02:04     448\n",
       "2020-03-01 00:03:45     283\n",
       "2020-03-01 00:05:49     642\n",
       "2020-03-01 00:06:53     347\n",
       "Name: Duration, dtype: int64"
      ]
     },
     "metadata": {},
     "execution_count": 101
    }
   ],
   "source": [
    "df.iloc[0:5]"
   ]
  },
  {
   "cell_type": "code",
   "execution_count": 4,
   "metadata": {},
   "outputs": [
    {
     "output_type": "execute_result",
     "data": {
      "text/plain": [
       "                                                       data  last_updated  ttl\n",
       "stations  [{'last_reported': 1611652631, 'eightd_has_ava...    1611731795    5"
      ],
      "text/html": "<div>\n<style scoped>\n    .dataframe tbody tr th:only-of-type {\n        vertical-align: middle;\n    }\n\n    .dataframe tbody tr th {\n        vertical-align: top;\n    }\n\n    .dataframe thead th {\n        text-align: right;\n    }\n</style>\n<table border=\"1\" class=\"dataframe\">\n  <thead>\n    <tr style=\"text-align: right;\">\n      <th></th>\n      <th>data</th>\n      <th>last_updated</th>\n      <th>ttl</th>\n    </tr>\n  </thead>\n  <tbody>\n    <tr>\n      <th>stations</th>\n      <td>[{'last_reported': 1611652631, 'eightd_has_ava...</td>\n      <td>1611731795</td>\n      <td>5</td>\n    </tr>\n  </tbody>\n</table>\n</div>"
     },
     "metadata": {},
     "execution_count": 4
    }
   ],
   "source": [
    "df_json = pd.read_json('https://gbfs.capitalbikeshare.com/gbfs/en/station_status.json')\n",
    "df_json"
   ]
  },
  {
   "cell_type": "code",
   "execution_count": 5,
   "metadata": {},
   "outputs": [
    {
     "output_type": "execute_result",
     "data": {
      "text/plain": [
       "621"
      ]
     },
     "metadata": {},
     "execution_count": 5
    }
   ],
   "source": [
    "len(df_json.data['stations'])"
   ]
  },
  {
   "cell_type": "code",
   "execution_count": 6,
   "metadata": {},
   "outputs": [
    {
     "output_type": "execute_result",
     "data": {
      "text/plain": [
       "1"
      ]
     },
     "metadata": {},
     "execution_count": 6
    }
   ],
   "source": [
    "df_json.data['stations'][1]['num_bikes_available']"
   ]
  },
  {
   "cell_type": "code",
   "execution_count": 7,
   "metadata": {},
   "outputs": [
    {
     "output_type": "execute_result",
     "data": {
      "text/plain": [
       "<AxesSubplot:>"
      ]
     },
     "metadata": {},
     "execution_count": 7
    },
    {
     "output_type": "display_data",
     "data": {
      "text/plain": "<Figure size 432x288 with 1 Axes>",
      "image/svg+xml": "<?xml version=\"1.0\" encoding=\"utf-8\" standalone=\"no\"?>\r\n<!DOCTYPE svg PUBLIC \"-//W3C//DTD SVG 1.1//EN\"\r\n  \"http://www.w3.org/Graphics/SVG/1.1/DTD/svg11.dtd\">\r\n<!-- Created with matplotlib (https://matplotlib.org/) -->\r\n<svg height=\"245.2025pt\" version=\"1.1\" viewBox=\"0 0 368.925 245.2025\" width=\"368.925pt\" xmlns=\"http://www.w3.org/2000/svg\" xmlns:xlink=\"http://www.w3.org/1999/xlink\">\r\n <metadata>\r\n  <rdf:RDF xmlns:cc=\"http://creativecommons.org/ns#\" xmlns:dc=\"http://purl.org/dc/elements/1.1/\" xmlns:rdf=\"http://www.w3.org/1999/02/22-rdf-syntax-ns#\">\r\n   <cc:Work>\r\n    <dc:type rdf:resource=\"http://purl.org/dc/dcmitype/StillImage\"/>\r\n    <dc:date>2021-01-27T08:19:22.672532</dc:date>\r\n    <dc:format>image/svg+xml</dc:format>\r\n    <dc:creator>\r\n     <cc:Agent>\r\n      <dc:title>Matplotlib v3.3.2, https://matplotlib.org/</dc:title>\r\n     </cc:Agent>\r\n    </dc:creator>\r\n   </cc:Work>\r\n  </rdf:RDF>\r\n </metadata>\r\n <defs>\r\n  <style type=\"text/css\">*{stroke-linecap:butt;stroke-linejoin:round;}</style>\r\n </defs>\r\n <g id=\"figure_1\">\r\n  <g id=\"patch_1\">\r\n   <path d=\"M -0 245.2025 \r\nL 368.925 245.2025 \r\nL 368.925 0 \r\nL -0 0 \r\nz\r\n\" style=\"fill:none;\"/>\r\n  </g>\r\n  <g id=\"axes_1\">\r\n   <g id=\"patch_2\">\r\n    <path d=\"M 26.925 224.64 \r\nL 361.725 224.64 \r\nL 361.725 7.2 \r\nL 26.925 7.2 \r\nz\r\n\" style=\"fill:#ffffff;\"/>\r\n   </g>\r\n   <g id=\"patch_3\">\r\n    <path clip-path=\"url(#p26eadbac46)\" d=\"M 35.295 224.64 \r\nL 52.035 224.64 \r\nL 52.035 169.417143 \r\nL 35.295 169.417143 \r\nz\r\n\" style=\"fill:#1f77b4;\"/>\r\n   </g>\r\n   <g id=\"patch_4\">\r\n    <path clip-path=\"url(#p26eadbac46)\" d=\"M 68.775 224.64 \r\nL 85.515 224.64 \r\nL 85.515 210.834286 \r\nL 68.775 210.834286 \r\nz\r\n\" style=\"fill:#1f77b4;\"/>\r\n   </g>\r\n   <g id=\"patch_5\">\r\n    <path clip-path=\"url(#p26eadbac46)\" d=\"M 102.255 224.64 \r\nL 118.995 224.64 \r\nL 118.995 31.36 \r\nL 102.255 31.36 \r\nz\r\n\" style=\"fill:#1f77b4;\"/>\r\n   </g>\r\n   <g id=\"patch_6\">\r\n    <path clip-path=\"url(#p26eadbac46)\" d=\"M 135.735 224.64 \r\nL 152.475 224.64 \r\nL 152.475 141.805714 \r\nL 135.735 141.805714 \r\nz\r\n\" style=\"fill:#1f77b4;\"/>\r\n   </g>\r\n   <g id=\"patch_7\">\r\n    <path clip-path=\"url(#p26eadbac46)\" d=\"M 169.215 224.64 \r\nL 185.955 224.64 \r\nL 185.955 169.417143 \r\nL 169.215 169.417143 \r\nz\r\n\" style=\"fill:#1f77b4;\"/>\r\n   </g>\r\n   <g id=\"patch_8\">\r\n    <path clip-path=\"url(#p26eadbac46)\" d=\"M 202.695 224.64 \r\nL 219.435 224.64 \r\nL 219.435 17.554286 \r\nL 202.695 17.554286 \r\nz\r\n\" style=\"fill:#1f77b4;\"/>\r\n   </g>\r\n   <g id=\"patch_9\">\r\n    <path clip-path=\"url(#p26eadbac46)\" d=\"M 236.175 224.64 \r\nL 252.915 224.64 \r\nL 252.915 197.028571 \r\nL 236.175 197.028571 \r\nz\r\n\" style=\"fill:#1f77b4;\"/>\r\n   </g>\r\n   <g id=\"patch_10\">\r\n    <path clip-path=\"url(#p26eadbac46)\" d=\"M 269.655 224.64 \r\nL 286.395 224.64 \r\nL 286.395 141.805714 \r\nL 269.655 141.805714 \r\nz\r\n\" style=\"fill:#1f77b4;\"/>\r\n   </g>\r\n   <g id=\"patch_11\">\r\n    <path clip-path=\"url(#p26eadbac46)\" d=\"M 303.135 224.64 \r\nL 319.875 224.64 \r\nL 319.875 128 \r\nL 303.135 128 \r\nz\r\n\" style=\"fill:#1f77b4;\"/>\r\n   </g>\r\n   <g id=\"patch_12\">\r\n    <path clip-path=\"url(#p26eadbac46)\" d=\"M 336.615 224.64 \r\nL 353.355 224.64 \r\nL 353.355 100.388571 \r\nL 336.615 100.388571 \r\nz\r\n\" style=\"fill:#1f77b4;\"/>\r\n   </g>\r\n   <g id=\"matplotlib.axis_1\">\r\n    <g id=\"xtick_1\">\r\n     <g id=\"line2d_1\">\r\n      <defs>\r\n       <path d=\"M 0 0 \r\nL 0 3.5 \r\n\" id=\"m386041a8b9\" style=\"stroke:#000000;stroke-width:0.8;\"/>\r\n      </defs>\r\n      <g>\r\n       <use style=\"stroke:#000000;stroke-width:0.8;\" x=\"43.665\" xlink:href=\"#m386041a8b9\" y=\"224.64\"/>\r\n      </g>\r\n     </g>\r\n     <g id=\"text_1\">\r\n      <!-- 0 -->\r\n      <g transform=\"translate(46.424375 238.0025)rotate(-90)scale(0.1 -0.1)\">\r\n       <defs>\r\n        <path d=\"M 31.78125 66.40625 \r\nQ 24.171875 66.40625 20.328125 58.90625 \r\nQ 16.5 51.421875 16.5 36.375 \r\nQ 16.5 21.390625 20.328125 13.890625 \r\nQ 24.171875 6.390625 31.78125 6.390625 \r\nQ 39.453125 6.390625 43.28125 13.890625 \r\nQ 47.125 21.390625 47.125 36.375 \r\nQ 47.125 51.421875 43.28125 58.90625 \r\nQ 39.453125 66.40625 31.78125 66.40625 \r\nz\r\nM 31.78125 74.21875 \r\nQ 44.046875 74.21875 50.515625 64.515625 \r\nQ 56.984375 54.828125 56.984375 36.375 \r\nQ 56.984375 17.96875 50.515625 8.265625 \r\nQ 44.046875 -1.421875 31.78125 -1.421875 \r\nQ 19.53125 -1.421875 13.0625 8.265625 \r\nQ 6.59375 17.96875 6.59375 36.375 \r\nQ 6.59375 54.828125 13.0625 64.515625 \r\nQ 19.53125 74.21875 31.78125 74.21875 \r\nz\r\n\" id=\"DejaVuSans-48\"/>\r\n       </defs>\r\n       <use xlink:href=\"#DejaVuSans-48\"/>\r\n      </g>\r\n     </g>\r\n    </g>\r\n    <g id=\"xtick_2\">\r\n     <g id=\"line2d_2\">\r\n      <g>\r\n       <use style=\"stroke:#000000;stroke-width:0.8;\" x=\"77.145\" xlink:href=\"#m386041a8b9\" y=\"224.64\"/>\r\n      </g>\r\n     </g>\r\n     <g id=\"text_2\">\r\n      <!-- 1 -->\r\n      <g transform=\"translate(79.904375 238.0025)rotate(-90)scale(0.1 -0.1)\">\r\n       <defs>\r\n        <path d=\"M 12.40625 8.296875 \r\nL 28.515625 8.296875 \r\nL 28.515625 63.921875 \r\nL 10.984375 60.40625 \r\nL 10.984375 69.390625 \r\nL 28.421875 72.90625 \r\nL 38.28125 72.90625 \r\nL 38.28125 8.296875 \r\nL 54.390625 8.296875 \r\nL 54.390625 0 \r\nL 12.40625 0 \r\nz\r\n\" id=\"DejaVuSans-49\"/>\r\n       </defs>\r\n       <use xlink:href=\"#DejaVuSans-49\"/>\r\n      </g>\r\n     </g>\r\n    </g>\r\n    <g id=\"xtick_3\">\r\n     <g id=\"line2d_3\">\r\n      <g>\r\n       <use style=\"stroke:#000000;stroke-width:0.8;\" x=\"110.625\" xlink:href=\"#m386041a8b9\" y=\"224.64\"/>\r\n      </g>\r\n     </g>\r\n     <g id=\"text_3\">\r\n      <!-- 2 -->\r\n      <g transform=\"translate(113.384375 238.0025)rotate(-90)scale(0.1 -0.1)\">\r\n       <defs>\r\n        <path d=\"M 19.1875 8.296875 \r\nL 53.609375 8.296875 \r\nL 53.609375 0 \r\nL 7.328125 0 \r\nL 7.328125 8.296875 \r\nQ 12.9375 14.109375 22.625 23.890625 \r\nQ 32.328125 33.6875 34.8125 36.53125 \r\nQ 39.546875 41.84375 41.421875 45.53125 \r\nQ 43.3125 49.21875 43.3125 52.78125 \r\nQ 43.3125 58.59375 39.234375 62.25 \r\nQ 35.15625 65.921875 28.609375 65.921875 \r\nQ 23.96875 65.921875 18.8125 64.3125 \r\nQ 13.671875 62.703125 7.8125 59.421875 \r\nL 7.8125 69.390625 \r\nQ 13.765625 71.78125 18.9375 73 \r\nQ 24.125 74.21875 28.421875 74.21875 \r\nQ 39.75 74.21875 46.484375 68.546875 \r\nQ 53.21875 62.890625 53.21875 53.421875 \r\nQ 53.21875 48.921875 51.53125 44.890625 \r\nQ 49.859375 40.875 45.40625 35.40625 \r\nQ 44.1875 33.984375 37.640625 27.21875 \r\nQ 31.109375 20.453125 19.1875 8.296875 \r\nz\r\n\" id=\"DejaVuSans-50\"/>\r\n       </defs>\r\n       <use xlink:href=\"#DejaVuSans-50\"/>\r\n      </g>\r\n     </g>\r\n    </g>\r\n    <g id=\"xtick_4\">\r\n     <g id=\"line2d_4\">\r\n      <g>\r\n       <use style=\"stroke:#000000;stroke-width:0.8;\" x=\"144.105\" xlink:href=\"#m386041a8b9\" y=\"224.64\"/>\r\n      </g>\r\n     </g>\r\n     <g id=\"text_4\">\r\n      <!-- 3 -->\r\n      <g transform=\"translate(146.864375 238.0025)rotate(-90)scale(0.1 -0.1)\">\r\n       <defs>\r\n        <path d=\"M 40.578125 39.3125 \r\nQ 47.65625 37.796875 51.625 33 \r\nQ 55.609375 28.21875 55.609375 21.1875 \r\nQ 55.609375 10.40625 48.1875 4.484375 \r\nQ 40.765625 -1.421875 27.09375 -1.421875 \r\nQ 22.515625 -1.421875 17.65625 -0.515625 \r\nQ 12.796875 0.390625 7.625 2.203125 \r\nL 7.625 11.71875 \r\nQ 11.71875 9.328125 16.59375 8.109375 \r\nQ 21.484375 6.890625 26.8125 6.890625 \r\nQ 36.078125 6.890625 40.9375 10.546875 \r\nQ 45.796875 14.203125 45.796875 21.1875 \r\nQ 45.796875 27.640625 41.28125 31.265625 \r\nQ 36.765625 34.90625 28.71875 34.90625 \r\nL 20.21875 34.90625 \r\nL 20.21875 43.015625 \r\nL 29.109375 43.015625 \r\nQ 36.375 43.015625 40.234375 45.921875 \r\nQ 44.09375 48.828125 44.09375 54.296875 \r\nQ 44.09375 59.90625 40.109375 62.90625 \r\nQ 36.140625 65.921875 28.71875 65.921875 \r\nQ 24.65625 65.921875 20.015625 65.03125 \r\nQ 15.375 64.15625 9.8125 62.3125 \r\nL 9.8125 71.09375 \r\nQ 15.4375 72.65625 20.34375 73.4375 \r\nQ 25.25 74.21875 29.59375 74.21875 \r\nQ 40.828125 74.21875 47.359375 69.109375 \r\nQ 53.90625 64.015625 53.90625 55.328125 \r\nQ 53.90625 49.265625 50.4375 45.09375 \r\nQ 46.96875 40.921875 40.578125 39.3125 \r\nz\r\n\" id=\"DejaVuSans-51\"/>\r\n       </defs>\r\n       <use xlink:href=\"#DejaVuSans-51\"/>\r\n      </g>\r\n     </g>\r\n    </g>\r\n    <g id=\"xtick_5\">\r\n     <g id=\"line2d_5\">\r\n      <g>\r\n       <use style=\"stroke:#000000;stroke-width:0.8;\" x=\"177.585\" xlink:href=\"#m386041a8b9\" y=\"224.64\"/>\r\n      </g>\r\n     </g>\r\n     <g id=\"text_5\">\r\n      <!-- 4 -->\r\n      <g transform=\"translate(180.344375 238.0025)rotate(-90)scale(0.1 -0.1)\">\r\n       <defs>\r\n        <path d=\"M 37.796875 64.3125 \r\nL 12.890625 25.390625 \r\nL 37.796875 25.390625 \r\nz\r\nM 35.203125 72.90625 \r\nL 47.609375 72.90625 \r\nL 47.609375 25.390625 \r\nL 58.015625 25.390625 \r\nL 58.015625 17.1875 \r\nL 47.609375 17.1875 \r\nL 47.609375 0 \r\nL 37.796875 0 \r\nL 37.796875 17.1875 \r\nL 4.890625 17.1875 \r\nL 4.890625 26.703125 \r\nz\r\n\" id=\"DejaVuSans-52\"/>\r\n       </defs>\r\n       <use xlink:href=\"#DejaVuSans-52\"/>\r\n      </g>\r\n     </g>\r\n    </g>\r\n    <g id=\"xtick_6\">\r\n     <g id=\"line2d_6\">\r\n      <g>\r\n       <use style=\"stroke:#000000;stroke-width:0.8;\" x=\"211.065\" xlink:href=\"#m386041a8b9\" y=\"224.64\"/>\r\n      </g>\r\n     </g>\r\n     <g id=\"text_6\">\r\n      <!-- 5 -->\r\n      <g transform=\"translate(213.824375 238.0025)rotate(-90)scale(0.1 -0.1)\">\r\n       <defs>\r\n        <path d=\"M 10.796875 72.90625 \r\nL 49.515625 72.90625 \r\nL 49.515625 64.59375 \r\nL 19.828125 64.59375 \r\nL 19.828125 46.734375 \r\nQ 21.96875 47.46875 24.109375 47.828125 \r\nQ 26.265625 48.1875 28.421875 48.1875 \r\nQ 40.625 48.1875 47.75 41.5 \r\nQ 54.890625 34.8125 54.890625 23.390625 \r\nQ 54.890625 11.625 47.5625 5.09375 \r\nQ 40.234375 -1.421875 26.90625 -1.421875 \r\nQ 22.3125 -1.421875 17.546875 -0.640625 \r\nQ 12.796875 0.140625 7.71875 1.703125 \r\nL 7.71875 11.625 \r\nQ 12.109375 9.234375 16.796875 8.0625 \r\nQ 21.484375 6.890625 26.703125 6.890625 \r\nQ 35.15625 6.890625 40.078125 11.328125 \r\nQ 45.015625 15.765625 45.015625 23.390625 \r\nQ 45.015625 31 40.078125 35.4375 \r\nQ 35.15625 39.890625 26.703125 39.890625 \r\nQ 22.75 39.890625 18.8125 39.015625 \r\nQ 14.890625 38.140625 10.796875 36.28125 \r\nz\r\n\" id=\"DejaVuSans-53\"/>\r\n       </defs>\r\n       <use xlink:href=\"#DejaVuSans-53\"/>\r\n      </g>\r\n     </g>\r\n    </g>\r\n    <g id=\"xtick_7\">\r\n     <g id=\"line2d_7\">\r\n      <g>\r\n       <use style=\"stroke:#000000;stroke-width:0.8;\" x=\"244.545\" xlink:href=\"#m386041a8b9\" y=\"224.64\"/>\r\n      </g>\r\n     </g>\r\n     <g id=\"text_7\">\r\n      <!-- 6 -->\r\n      <g transform=\"translate(247.304375 238.0025)rotate(-90)scale(0.1 -0.1)\">\r\n       <defs>\r\n        <path d=\"M 33.015625 40.375 \r\nQ 26.375 40.375 22.484375 35.828125 \r\nQ 18.609375 31.296875 18.609375 23.390625 \r\nQ 18.609375 15.53125 22.484375 10.953125 \r\nQ 26.375 6.390625 33.015625 6.390625 \r\nQ 39.65625 6.390625 43.53125 10.953125 \r\nQ 47.40625 15.53125 47.40625 23.390625 \r\nQ 47.40625 31.296875 43.53125 35.828125 \r\nQ 39.65625 40.375 33.015625 40.375 \r\nz\r\nM 52.59375 71.296875 \r\nL 52.59375 62.3125 \r\nQ 48.875 64.0625 45.09375 64.984375 \r\nQ 41.3125 65.921875 37.59375 65.921875 \r\nQ 27.828125 65.921875 22.671875 59.328125 \r\nQ 17.53125 52.734375 16.796875 39.40625 \r\nQ 19.671875 43.65625 24.015625 45.921875 \r\nQ 28.375 48.1875 33.59375 48.1875 \r\nQ 44.578125 48.1875 50.953125 41.515625 \r\nQ 57.328125 34.859375 57.328125 23.390625 \r\nQ 57.328125 12.15625 50.6875 5.359375 \r\nQ 44.046875 -1.421875 33.015625 -1.421875 \r\nQ 20.359375 -1.421875 13.671875 8.265625 \r\nQ 6.984375 17.96875 6.984375 36.375 \r\nQ 6.984375 53.65625 15.1875 63.9375 \r\nQ 23.390625 74.21875 37.203125 74.21875 \r\nQ 40.921875 74.21875 44.703125 73.484375 \r\nQ 48.484375 72.75 52.59375 71.296875 \r\nz\r\n\" id=\"DejaVuSans-54\"/>\r\n       </defs>\r\n       <use xlink:href=\"#DejaVuSans-54\"/>\r\n      </g>\r\n     </g>\r\n    </g>\r\n    <g id=\"xtick_8\">\r\n     <g id=\"line2d_8\">\r\n      <g>\r\n       <use style=\"stroke:#000000;stroke-width:0.8;\" x=\"278.025\" xlink:href=\"#m386041a8b9\" y=\"224.64\"/>\r\n      </g>\r\n     </g>\r\n     <g id=\"text_8\">\r\n      <!-- 7 -->\r\n      <g transform=\"translate(280.784375 238.0025)rotate(-90)scale(0.1 -0.1)\">\r\n       <defs>\r\n        <path d=\"M 8.203125 72.90625 \r\nL 55.078125 72.90625 \r\nL 55.078125 68.703125 \r\nL 28.609375 0 \r\nL 18.3125 0 \r\nL 43.21875 64.59375 \r\nL 8.203125 64.59375 \r\nz\r\n\" id=\"DejaVuSans-55\"/>\r\n       </defs>\r\n       <use xlink:href=\"#DejaVuSans-55\"/>\r\n      </g>\r\n     </g>\r\n    </g>\r\n    <g id=\"xtick_9\">\r\n     <g id=\"line2d_9\">\r\n      <g>\r\n       <use style=\"stroke:#000000;stroke-width:0.8;\" x=\"311.505\" xlink:href=\"#m386041a8b9\" y=\"224.64\"/>\r\n      </g>\r\n     </g>\r\n     <g id=\"text_9\">\r\n      <!-- 8 -->\r\n      <g transform=\"translate(314.264375 238.0025)rotate(-90)scale(0.1 -0.1)\">\r\n       <defs>\r\n        <path d=\"M 31.78125 34.625 \r\nQ 24.75 34.625 20.71875 30.859375 \r\nQ 16.703125 27.09375 16.703125 20.515625 \r\nQ 16.703125 13.921875 20.71875 10.15625 \r\nQ 24.75 6.390625 31.78125 6.390625 \r\nQ 38.8125 6.390625 42.859375 10.171875 \r\nQ 46.921875 13.96875 46.921875 20.515625 \r\nQ 46.921875 27.09375 42.890625 30.859375 \r\nQ 38.875 34.625 31.78125 34.625 \r\nz\r\nM 21.921875 38.8125 \r\nQ 15.578125 40.375 12.03125 44.71875 \r\nQ 8.5 49.078125 8.5 55.328125 \r\nQ 8.5 64.0625 14.71875 69.140625 \r\nQ 20.953125 74.21875 31.78125 74.21875 \r\nQ 42.671875 74.21875 48.875 69.140625 \r\nQ 55.078125 64.0625 55.078125 55.328125 \r\nQ 55.078125 49.078125 51.53125 44.71875 \r\nQ 48 40.375 41.703125 38.8125 \r\nQ 48.828125 37.15625 52.796875 32.3125 \r\nQ 56.78125 27.484375 56.78125 20.515625 \r\nQ 56.78125 9.90625 50.3125 4.234375 \r\nQ 43.84375 -1.421875 31.78125 -1.421875 \r\nQ 19.734375 -1.421875 13.25 4.234375 \r\nQ 6.78125 9.90625 6.78125 20.515625 \r\nQ 6.78125 27.484375 10.78125 32.3125 \r\nQ 14.796875 37.15625 21.921875 38.8125 \r\nz\r\nM 18.3125 54.390625 \r\nQ 18.3125 48.734375 21.84375 45.5625 \r\nQ 25.390625 42.390625 31.78125 42.390625 \r\nQ 38.140625 42.390625 41.71875 45.5625 \r\nQ 45.3125 48.734375 45.3125 54.390625 \r\nQ 45.3125 60.0625 41.71875 63.234375 \r\nQ 38.140625 66.40625 31.78125 66.40625 \r\nQ 25.390625 66.40625 21.84375 63.234375 \r\nQ 18.3125 60.0625 18.3125 54.390625 \r\nz\r\n\" id=\"DejaVuSans-56\"/>\r\n       </defs>\r\n       <use xlink:href=\"#DejaVuSans-56\"/>\r\n      </g>\r\n     </g>\r\n    </g>\r\n    <g id=\"xtick_10\">\r\n     <g id=\"line2d_10\">\r\n      <g>\r\n       <use style=\"stroke:#000000;stroke-width:0.8;\" x=\"344.985\" xlink:href=\"#m386041a8b9\" y=\"224.64\"/>\r\n      </g>\r\n     </g>\r\n     <g id=\"text_10\">\r\n      <!-- 9 -->\r\n      <g transform=\"translate(347.744375 238.0025)rotate(-90)scale(0.1 -0.1)\">\r\n       <defs>\r\n        <path d=\"M 10.984375 1.515625 \r\nL 10.984375 10.5 \r\nQ 14.703125 8.734375 18.5 7.8125 \r\nQ 22.3125 6.890625 25.984375 6.890625 \r\nQ 35.75 6.890625 40.890625 13.453125 \r\nQ 46.046875 20.015625 46.78125 33.40625 \r\nQ 43.953125 29.203125 39.59375 26.953125 \r\nQ 35.25 24.703125 29.984375 24.703125 \r\nQ 19.046875 24.703125 12.671875 31.3125 \r\nQ 6.296875 37.9375 6.296875 49.421875 \r\nQ 6.296875 60.640625 12.9375 67.421875 \r\nQ 19.578125 74.21875 30.609375 74.21875 \r\nQ 43.265625 74.21875 49.921875 64.515625 \r\nQ 56.59375 54.828125 56.59375 36.375 \r\nQ 56.59375 19.140625 48.40625 8.859375 \r\nQ 40.234375 -1.421875 26.421875 -1.421875 \r\nQ 22.703125 -1.421875 18.890625 -0.6875 \r\nQ 15.09375 0.046875 10.984375 1.515625 \r\nz\r\nM 30.609375 32.421875 \r\nQ 37.25 32.421875 41.125 36.953125 \r\nQ 45.015625 41.5 45.015625 49.421875 \r\nQ 45.015625 57.28125 41.125 61.84375 \r\nQ 37.25 66.40625 30.609375 66.40625 \r\nQ 23.96875 66.40625 20.09375 61.84375 \r\nQ 16.21875 57.28125 16.21875 49.421875 \r\nQ 16.21875 41.5 20.09375 36.953125 \r\nQ 23.96875 32.421875 30.609375 32.421875 \r\nz\r\n\" id=\"DejaVuSans-57\"/>\r\n       </defs>\r\n       <use xlink:href=\"#DejaVuSans-57\"/>\r\n      </g>\r\n     </g>\r\n    </g>\r\n   </g>\r\n   <g id=\"matplotlib.axis_2\">\r\n    <g id=\"ytick_1\">\r\n     <g id=\"line2d_11\">\r\n      <defs>\r\n       <path d=\"M 0 0 \r\nL -3.5 0 \r\n\" id=\"m65c358d771\" style=\"stroke:#000000;stroke-width:0.8;\"/>\r\n      </defs>\r\n      <g>\r\n       <use style=\"stroke:#000000;stroke-width:0.8;\" x=\"26.925\" xlink:href=\"#m65c358d771\" y=\"224.64\"/>\r\n      </g>\r\n     </g>\r\n     <g id=\"text_11\">\r\n      <!-- 0 -->\r\n      <g transform=\"translate(13.5625 228.439219)scale(0.1 -0.1)\">\r\n       <use xlink:href=\"#DejaVuSans-48\"/>\r\n      </g>\r\n     </g>\r\n    </g>\r\n    <g id=\"ytick_2\">\r\n     <g id=\"line2d_12\">\r\n      <g>\r\n       <use style=\"stroke:#000000;stroke-width:0.8;\" x=\"26.925\" xlink:href=\"#m65c358d771\" y=\"197.028571\"/>\r\n      </g>\r\n     </g>\r\n     <g id=\"text_12\">\r\n      <!-- 2 -->\r\n      <g transform=\"translate(13.5625 200.82779)scale(0.1 -0.1)\">\r\n       <use xlink:href=\"#DejaVuSans-50\"/>\r\n      </g>\r\n     </g>\r\n    </g>\r\n    <g id=\"ytick_3\">\r\n     <g id=\"line2d_13\">\r\n      <g>\r\n       <use style=\"stroke:#000000;stroke-width:0.8;\" x=\"26.925\" xlink:href=\"#m65c358d771\" y=\"169.417143\"/>\r\n      </g>\r\n     </g>\r\n     <g id=\"text_13\">\r\n      <!-- 4 -->\r\n      <g transform=\"translate(13.5625 173.216362)scale(0.1 -0.1)\">\r\n       <use xlink:href=\"#DejaVuSans-52\"/>\r\n      </g>\r\n     </g>\r\n    </g>\r\n    <g id=\"ytick_4\">\r\n     <g id=\"line2d_14\">\r\n      <g>\r\n       <use style=\"stroke:#000000;stroke-width:0.8;\" x=\"26.925\" xlink:href=\"#m65c358d771\" y=\"141.805714\"/>\r\n      </g>\r\n     </g>\r\n     <g id=\"text_14\">\r\n      <!-- 6 -->\r\n      <g transform=\"translate(13.5625 145.604933)scale(0.1 -0.1)\">\r\n       <use xlink:href=\"#DejaVuSans-54\"/>\r\n      </g>\r\n     </g>\r\n    </g>\r\n    <g id=\"ytick_5\">\r\n     <g id=\"line2d_15\">\r\n      <g>\r\n       <use style=\"stroke:#000000;stroke-width:0.8;\" x=\"26.925\" xlink:href=\"#m65c358d771\" y=\"114.194286\"/>\r\n      </g>\r\n     </g>\r\n     <g id=\"text_15\">\r\n      <!-- 8 -->\r\n      <g transform=\"translate(13.5625 117.993504)scale(0.1 -0.1)\">\r\n       <use xlink:href=\"#DejaVuSans-56\"/>\r\n      </g>\r\n     </g>\r\n    </g>\r\n    <g id=\"ytick_6\">\r\n     <g id=\"line2d_16\">\r\n      <g>\r\n       <use style=\"stroke:#000000;stroke-width:0.8;\" x=\"26.925\" xlink:href=\"#m65c358d771\" y=\"86.582857\"/>\r\n      </g>\r\n     </g>\r\n     <g id=\"text_16\">\r\n      <!-- 10 -->\r\n      <g transform=\"translate(7.2 90.382076)scale(0.1 -0.1)\">\r\n       <use xlink:href=\"#DejaVuSans-49\"/>\r\n       <use x=\"63.623047\" xlink:href=\"#DejaVuSans-48\"/>\r\n      </g>\r\n     </g>\r\n    </g>\r\n    <g id=\"ytick_7\">\r\n     <g id=\"line2d_17\">\r\n      <g>\r\n       <use style=\"stroke:#000000;stroke-width:0.8;\" x=\"26.925\" xlink:href=\"#m65c358d771\" y=\"58.971429\"/>\r\n      </g>\r\n     </g>\r\n     <g id=\"text_17\">\r\n      <!-- 12 -->\r\n      <g transform=\"translate(7.2 62.770647)scale(0.1 -0.1)\">\r\n       <use xlink:href=\"#DejaVuSans-49\"/>\r\n       <use x=\"63.623047\" xlink:href=\"#DejaVuSans-50\"/>\r\n      </g>\r\n     </g>\r\n    </g>\r\n    <g id=\"ytick_8\">\r\n     <g id=\"line2d_18\">\r\n      <g>\r\n       <use style=\"stroke:#000000;stroke-width:0.8;\" x=\"26.925\" xlink:href=\"#m65c358d771\" y=\"31.36\"/>\r\n      </g>\r\n     </g>\r\n     <g id=\"text_18\">\r\n      <!-- 14 -->\r\n      <g transform=\"translate(7.2 35.159219)scale(0.1 -0.1)\">\r\n       <use xlink:href=\"#DejaVuSans-49\"/>\r\n       <use x=\"63.623047\" xlink:href=\"#DejaVuSans-52\"/>\r\n      </g>\r\n     </g>\r\n    </g>\r\n   </g>\r\n   <g id=\"patch_13\">\r\n    <path d=\"M 26.925 224.64 \r\nL 26.925 7.2 \r\n\" style=\"fill:none;stroke:#000000;stroke-linecap:square;stroke-linejoin:miter;stroke-width:0.8;\"/>\r\n   </g>\r\n   <g id=\"patch_14\">\r\n    <path d=\"M 361.725 224.64 \r\nL 361.725 7.2 \r\n\" style=\"fill:none;stroke:#000000;stroke-linecap:square;stroke-linejoin:miter;stroke-width:0.8;\"/>\r\n   </g>\r\n   <g id=\"patch_15\">\r\n    <path d=\"M 26.925 224.64 \r\nL 361.725 224.64 \r\n\" style=\"fill:none;stroke:#000000;stroke-linecap:square;stroke-linejoin:miter;stroke-width:0.8;\"/>\r\n   </g>\r\n   <g id=\"patch_16\">\r\n    <path d=\"M 26.925 7.2 \r\nL 361.725 7.2 \r\n\" style=\"fill:none;stroke:#000000;stroke-linecap:square;stroke-linejoin:miter;stroke-width:0.8;\"/>\r\n   </g>\r\n  </g>\r\n </g>\r\n <defs>\r\n  <clipPath id=\"p26eadbac46\">\r\n   <rect height=\"217.44\" width=\"334.8\" x=\"26.925\" y=\"7.2\"/>\r\n  </clipPath>\r\n </defs>\r\n</svg>\r\n",
      "image/png": "[encoded data removed]"
     },
     "metadata": {
      "needs_background": "light"
     }
    }
   ],
   "source": [
    "no_bikes = []\n",
    "for i in range(len(df_json.data['stations'])):\n",
    "    no_bikes.append(df_json.data['stations'][i]['num_bikes_available'])\n",
    "\n",
    "pd.Series(no_bikes)[0:10].plot(kind='bar')"
   ]
  },
  {
   "cell_type": "code",
   "execution_count": null,
   "metadata": {},
   "outputs": [],
   "source": []
  }
 ]
}