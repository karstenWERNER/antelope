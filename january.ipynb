{
 "metadata": {
  "language_info": {
   "codemirror_mode": {
    "name": "ipython",
    "version": 3
   },
   "file_extension": ".py",
   "mimetype": "text/x-python",
   "name": "python",
   "nbconvert_exporter": "python",
   "pygments_lexer": "ipython3",
   "version": "3.8.5-final"
  },
  "orig_nbformat": 2,
  "kernelspec": {
   "name": "python3",
   "display_name": "Python 3",
   "language": "python"
  }
 },
 "nbformat": 4,
 "nbformat_minor": 2,
 "cells": [
  {
   "cell_type": "code",
   "execution_count": 1,
   "metadata": {},
   "outputs": [],
   "source": [
    "import numpy as np\n",
    "import pandas as pd\n",
    "\n",
    "import matplotlib.pyplot as plt\n",
    "import seaborn as sns\n",
    "\n",
    "red_wine = pd.read_csv('https://archive.ics.uci.edu/ml/machine-learning-databases/wine-quality/winequality-red.csv', sep = ';')\n",
    "white_wine = pd.read_csv('https://archive.ics.uci.edu/ml/machine-learning-databases/wine-quality/winequality-white.csv', sep = ';')\n",
    "\n",
    "# create a new variable 'wine_type'\n",
    "red_wine['wine_type'] = 'red'\n",
    "white_wine['wine_type'] = 'white'\n",
    "\n",
    "\n",
    "# bucket wine quality scores into qualitative quality labels\n",
    "red_wine['quality_label'] = red_wine['quality'].apply(lambda value: 'low'\n",
    "if value <= 5 else 'medium'\n",
    "if value <= 7 else 'high')\n",
    "\n",
    "red_wine['quality_label'] = pd.Categorical(red_wine['quality_label'],\n",
    "categories=['low', 'medium', 'high'])\n",
    "\n",
    "white_wine['quality_label'] = white_wine['quality'].apply(lambda value: 'low'\n",
    "if value <= 5 else 'medium'\n",
    "if value <= 7 else 'high')\n",
    "\n",
    "white_wine['quality_label'] = pd.Categorical(white_wine['quality_label'],\n",
    "categories=['low', 'medium', 'high'])\n",
    "\n",
    "wines = pd.concat([red_wine, white_wine])"
   ]
  },
  {
   "cell_type": "code",
   "execution_count": 2,
   "metadata": {},
   "outputs": [
    {
     "output_type": "execute_result",
     "data": {
      "text/plain": [
       "(6497, 14)"
      ]
     },
     "metadata": {},
     "execution_count": 2
    }
   ],
   "source": [
    "wines.shape"
   ]
  },
  {
   "cell_type": "code",
   "execution_count": 9,
   "metadata": {},
   "outputs": [
    {
     "output_type": "execute_result",
     "data": {
      "text/plain": [
       "fixed acidity           0\n",
       "volatile acidity        0\n",
       "citric acid             0\n",
       "residual sugar          0\n",
       "chlorides               0\n",
       "free sulfur dioxide     0\n",
       "total sulfur dioxide    0\n",
       "density                 0\n",
       "pH                      0\n",
       "sulphates               0\n",
       "alcohol                 0\n",
       "quality                 0\n",
       "wine_type               0\n",
       "quality_label           0\n",
       "dtype: int64"
      ]
     },
     "metadata": {},
     "execution_count": 9
    }
   ],
   "source": [
    "wines.isnull().sum()\n"
   ]
  },
  {
   "cell_type": "code",
   "execution_count": 10,
   "metadata": {},
   "outputs": [
    {
     "output_type": "execute_result",
     "data": {
      "text/plain": [
       "'c:\\\\Users\\\\Karsten Werner\\\\Documents\\\\Python\\\\git\\\\antelope'"
      ]
     },
     "metadata": {},
     "execution_count": 10
    }
   ],
   "source": [
    "pwd"
   ]
  },
  {
   "cell_type": "code",
   "execution_count": 12,
   "metadata": {},
   "outputs": [],
   "source": [
    "wine_sales = pd.read_csv('wine_sales_data.csv')"
   ]
  },
  {
   "cell_type": "code",
   "execution_count": 14,
   "metadata": {},
   "outputs": [
    {
     "output_type": "execute_result",
     "data": {
      "text/plain": [
       "Unnamed: 0         0\n",
       "country            5\n",
       "description        0\n",
       "designation    45735\n",
       "points             0\n",
       "price          13695\n",
       "province           5\n",
       "region_1       25060\n",
       "region_2       89977\n",
       "variety            0\n",
       "winery             0\n",
       "dtype: int64"
      ]
     },
     "metadata": {},
     "execution_count": 14
    }
   ],
   "source": [
    "wine_sales.isnull().sum()"
   ]
  },
  {
   "cell_type": "code",
   "execution_count": 34,
   "metadata": {},
   "outputs": [],
   "source": [
    "winw_sales_red = wine_sales[['country','province','points','price']]"
   ]
  },
  {
   "cell_type": "code",
   "execution_count": 35,
   "metadata": {},
   "outputs": [
    {
     "output_type": "execute_result",
     "data": {
      "text/plain": [
       "country         5\n",
       "province        5\n",
       "points          0\n",
       "price       13695\n",
       "dtype: int64"
      ]
     },
     "metadata": {},
     "execution_count": 35
    }
   ],
   "source": [
    "winw_sales_red.isnull().sum()"
   ]
  },
  {
   "cell_type": "code",
   "execution_count": 36,
   "metadata": {},
   "outputs": [
    {
     "output_type": "execute_result",
     "data": {
      "text/plain": [
       "(150930, 4)"
      ]
     },
     "metadata": {},
     "execution_count": 36
    }
   ],
   "source": [
    "winw_sales_red.shape\n"
   ]
  },
  {
   "cell_type": "code",
   "execution_count": 37,
   "metadata": {},
   "outputs": [
    {
     "output_type": "execute_result",
     "data": {
      "text/plain": [
       "<bound method NDFrame.head of        country            province  points  price\n",
       "0           US          California      96  235.0\n",
       "1        Spain      Northern Spain      96  110.0\n",
       "2           US          California      96   90.0\n",
       "3           US              Oregon      96   65.0\n",
       "4       France            Provence      95   66.0\n",
       "...        ...                 ...     ...    ...\n",
       "150925   Italy      Southern Italy      91   20.0\n",
       "150926  France           Champagne      91   27.0\n",
       "150927   Italy      Southern Italy      91   20.0\n",
       "150928  France           Champagne      90   52.0\n",
       "150929   Italy  Northeastern Italy      90   15.0\n",
       "\n",
       "[150930 rows x 4 columns]>"
      ]
     },
     "metadata": {},
     "execution_count": 37
    }
   ],
   "source": [
    "winw_sales_red.head"
   ]
  },
  {
   "cell_type": "code",
   "execution_count": 43,
   "metadata": {},
   "outputs": [],
   "source": [
    "port_vv = winw_sales_red[(winw_sales_red['country'] == 'Portugal') & (winw_sales_red['province'] == 'Vinho Verde')]"
   ]
  },
  {
   "cell_type": "code",
   "execution_count": 44,
   "metadata": {},
   "outputs": [
    {
     "output_type": "execute_result",
     "data": {
      "text/plain": [
       "(396, 4)"
      ]
     },
     "metadata": {},
     "execution_count": 44
    }
   ],
   "source": [
    "port_vv.shape"
   ]
  },
  {
   "cell_type": "code",
   "execution_count": 45,
   "metadata": {},
   "outputs": [
    {
     "output_type": "execute_result",
     "data": {
      "text/plain": [
       "country      0\n",
       "province     0\n",
       "points       0\n",
       "price       86\n",
       "dtype: int64"
      ]
     },
     "metadata": {},
     "execution_count": 45
    }
   ],
   "source": [
    "port_vv.isnull().sum()"
   ]
  },
  {
   "cell_type": "code",
   "execution_count": 46,
   "metadata": {},
   "outputs": [
    {
     "output_type": "execute_result",
     "data": {
      "text/plain": [
       "         country     province  points  price\n",
       "277     Portugal  Vinho Verde      92   35.0\n",
       "993     Portugal  Vinho Verde      85   10.0\n",
       "994     Portugal  Vinho Verde      85    9.0\n",
       "1378    Portugal  Vinho Verde      91    NaN\n",
       "1558    Portugal  Vinho Verde      84   10.0\n",
       "...          ...          ...     ...    ...\n",
       "141129  Portugal  Vinho Verde      83    9.0\n",
       "141143  Portugal  Vinho Verde      82    8.0\n",
       "141148  Portugal  Vinho Verde      82    6.0\n",
       "143472  Portugal  Vinho Verde      86    9.0\n",
       "143575  Portugal  Vinho Verde      87   15.0\n",
       "\n",
       "[396 rows x 4 columns]"
      ],
      "text/html": "<div>\n<style scoped>\n    .dataframe tbody tr th:only-of-type {\n        vertical-align: middle;\n    }\n\n    .dataframe tbody tr th {\n        vertical-align: top;\n    }\n\n    .dataframe thead th {\n        text-align: right;\n    }\n</style>\n<table border=\"1\" class=\"dataframe\">\n  <thead>\n    <tr style=\"text-align: right;\">\n      <th></th>\n      <th>country</th>\n      <th>province</th>\n      <th>points</th>\n      <th>price</th>\n    </tr>\n  </thead>\n  <tbody>\n    <tr>\n      <th>277</th>\n      <td>Portugal</td>\n      <td>Vinho Verde</td>\n      <td>92</td>\n      <td>35.0</td>\n    </tr>\n    <tr>\n      <th>993</th>\n      <td>Portugal</td>\n      <td>Vinho Verde</td>\n      <td>85</td>\n      <td>10.0</td>\n    </tr>\n    <tr>\n      <th>994</th>\n      <td>Portugal</td>\n      <td>Vinho Verde</td>\n      <td>85</td>\n      <td>9.0</td>\n    </tr>\n    <tr>\n      <th>1378</th>\n      <td>Portugal</td>\n      <td>Vinho Verde</td>\n      <td>91</td>\n      <td>NaN</td>\n    </tr>\n    <tr>\n      <th>1558</th>\n      <td>Portugal</td>\n      <td>Vinho Verde</td>\n      <td>84</td>\n      <td>10.0</td>\n    </tr>\n    <tr>\n      <th>...</th>\n      <td>...</td>\n      <td>...</td>\n      <td>...</td>\n      <td>...</td>\n    </tr>\n    <tr>\n      <th>141129</th>\n      <td>Portugal</td>\n      <td>Vinho Verde</td>\n      <td>83</td>\n      <td>9.0</td>\n    </tr>\n    <tr>\n      <th>141143</th>\n      <td>Portugal</td>\n      <td>Vinho Verde</td>\n      <td>82</td>\n      <td>8.0</td>\n    </tr>\n    <tr>\n      <th>141148</th>\n      <td>Portugal</td>\n      <td>Vinho Verde</td>\n      <td>82</td>\n      <td>6.0</td>\n    </tr>\n    <tr>\n      <th>143472</th>\n      <td>Portugal</td>\n      <td>Vinho Verde</td>\n      <td>86</td>\n      <td>9.0</td>\n    </tr>\n    <tr>\n      <th>143575</th>\n      <td>Portugal</td>\n      <td>Vinho Verde</td>\n      <td>87</td>\n      <td>15.0</td>\n    </tr>\n  </tbody>\n</table>\n<p>396 rows × 4 columns</p>\n</div>"
     },
     "metadata": {},
     "execution_count": 46
    }
   ],
   "source": [
    "port_vv"
   ]
  },
  {
   "cell_type": "code",
   "execution_count": 50,
   "metadata": {},
   "outputs": [],
   "source": [
    "port_vv_clean = port_vv.dropna()"
   ]
  },
  {
   "cell_type": "code",
   "execution_count": 52,
   "metadata": {},
   "outputs": [
    {
     "output_type": "execute_result",
     "data": {
      "text/plain": [
       "country     0\n",
       "province    0\n",
       "points      0\n",
       "price       0\n",
       "dtype: int64"
      ]
     },
     "metadata": {},
     "execution_count": 52
    }
   ],
   "source": [
    "port_vv_clean.isnull().sum()"
   ]
  },
  {
   "cell_type": "code",
   "execution_count": 53,
   "metadata": {},
   "outputs": [
    {
     "output_type": "execute_result",
     "data": {
      "text/plain": [
       "5.0"
      ]
     },
     "metadata": {},
     "execution_count": 53
    }
   ],
   "source": [
    "from scipy.stats import iqr\n",
    "\n",
    "iqr(port_vv_clean['price'])"
   ]
  },
  {
   "cell_type": "code",
   "execution_count": 54,
   "metadata": {},
   "outputs": [
    {
     "output_type": "stream",
     "text": [
      "\u001b[1;31mSignature:\u001b[0m\n",
      "\u001b[0miqr\u001b[0m\u001b[1;33m(\u001b[0m\u001b[1;33m\n",
      "\u001b[0m    \u001b[0mx\u001b[0m\u001b[1;33m,\u001b[0m\u001b[1;33m\n",
      "\u001b[0m    \u001b[0maxis\u001b[0m\u001b[1;33m=\u001b[0m\u001b[1;32mNone\u001b[0m\u001b[1;33m,\u001b[0m\u001b[1;33m\n",
      "\u001b[0m    \u001b[0mrng\u001b[0m\u001b[1;33m=\u001b[0m\u001b[1;33m(\u001b[0m\u001b[1;36m25\u001b[0m\u001b[1;33m,\u001b[0m \u001b[1;36m75\u001b[0m\u001b[1;33m)\u001b[0m\u001b[1;33m,\u001b[0m\u001b[1;33m\n",
      "\u001b[0m    \u001b[0mscale\u001b[0m\u001b[1;33m=\u001b[0m\u001b[1;36m1.0\u001b[0m\u001b[1;33m,\u001b[0m\u001b[1;33m\n",
      "\u001b[0m    \u001b[0mnan_policy\u001b[0m\u001b[1;33m=\u001b[0m\u001b[1;34m'propagate'\u001b[0m\u001b[1;33m,\u001b[0m\u001b[1;33m\n",
      "\u001b[0m    \u001b[0minterpolation\u001b[0m\u001b[1;33m=\u001b[0m\u001b[1;34m'linear'\u001b[0m\u001b[1;33m,\u001b[0m\u001b[1;33m\n",
      "\u001b[0m    \u001b[0mkeepdims\u001b[0m\u001b[1;33m=\u001b[0m\u001b[1;32mFalse\u001b[0m\u001b[1;33m,\u001b[0m\u001b[1;33m\n",
      "\u001b[0m\u001b[1;33m)\u001b[0m\u001b[1;33m\u001b[0m\u001b[1;33m\u001b[0m\u001b[0m\n",
      "\u001b[1;31mDocstring:\u001b[0m\n",
      "Compute the interquartile range of the data along the specified axis.\n",
      "\n",
      "The interquartile range (IQR) is the difference between the 75th and\n",
      "25th percentile of the data. It is a measure of the dispersion\n",
      "similar to standard deviation or variance, but is much more robust\n",
      "against outliers [2]_.\n",
      "\n",
      "The ``rng`` parameter allows this function to compute other\n",
      "percentile ranges than the actual IQR. For example, setting\n",
      "``rng=(0, 100)`` is equivalent to `numpy.ptp`.\n",
      "\n",
      "The IQR of an empty array is `np.nan`.\n",
      "\n",
      ".. versionadded:: 0.18.0\n",
      "\n",
      "Parameters\n",
      "----------\n",
      "x : array_like\n",
      "    Input array or object that can be converted to an array.\n",
      "axis : int or sequence of int, optional\n",
      "    Axis along which the range is computed. The default is to\n",
      "    compute the IQR for the entire array.\n",
      "rng : Two-element sequence containing floats in range of [0,100] optional\n",
      "    Percentiles over which to compute the range. Each must be\n",
      "    between 0 and 100, inclusive. The default is the true IQR:\n",
      "    `(25, 75)`. The order of the elements is not important.\n",
      "scale : scalar or str, optional\n",
      "    The numerical value of scale will be divided out of the final\n",
      "    result. The following string values are recognized:\n",
      "\n",
      "      * 'raw' : No scaling, just return the raw IQR.\n",
      "        **Deprecated!**  Use `scale=1` instead.\n",
      "      * 'normal' : Scale by\n",
      "        :math:`2 \\sqrt{2} erf^{-1}(\\frac{1}{2}) \\approx 1.349`.\n",
      "\n",
      "    The default is 1.0. The use of scale='raw' is deprecated.\n",
      "    Array-like scale is also allowed, as long\n",
      "    as it broadcasts correctly to the output such that\n",
      "    ``out / scale`` is a valid operation. The output dimensions\n",
      "    depend on the input array, `x`, the `axis` argument, and the\n",
      "    `keepdims` flag.\n",
      "nan_policy : {'propagate', 'raise', 'omit'}, optional\n",
      "    Defines how to handle when input contains nan.\n",
      "    The following options are available (default is 'propagate'):\n",
      "\n",
      "      * 'propagate': returns nan\n",
      "      * 'raise': throws an error\n",
      "      * 'omit': performs the calculations ignoring nan values\n",
      "interpolation : {'linear', 'lower', 'higher', 'midpoint', 'nearest'}, optional\n",
      "    Specifies the interpolation method to use when the percentile\n",
      "    boundaries lie between two data points `i` and `j`.\n",
      "    The following options are available (default is 'linear'):\n",
      "\n",
      "      * 'linear': `i + (j - i) * fraction`, where `fraction` is the\n",
      "        fractional part of the index surrounded by `i` and `j`.\n",
      "      * 'lower': `i`.\n",
      "      * 'higher': `j`.\n",
      "      * 'nearest': `i` or `j` whichever is nearest.\n",
      "      * 'midpoint': `(i + j) / 2`.\n",
      "\n",
      "keepdims : bool, optional\n",
      "    If this is set to `True`, the reduced axes are left in the\n",
      "    result as dimensions with size one. With this option, the result\n",
      "    will broadcast correctly against the original array `x`.\n",
      "\n",
      "Returns\n",
      "-------\n",
      "iqr : scalar or ndarray\n",
      "    If ``axis=None``, a scalar is returned. If the input contains\n",
      "    integers or floats of smaller precision than ``np.float64``, then the\n",
      "    output data-type is ``np.float64``. Otherwise, the output data-type is\n",
      "    the same as that of the input.\n",
      "\n",
      "See Also\n",
      "--------\n",
      "numpy.std, numpy.var\n",
      "\n",
      "Notes\n",
      "-----\n",
      "This function is heavily dependent on the version of `numpy` that is\n",
      "installed. Versions greater than 1.11.0b3 are highly recommended, as they\n",
      "include a number of enhancements and fixes to `numpy.percentile` and\n",
      "`numpy.nanpercentile` that affect the operation of this function. The\n",
      "following modifications apply:\n",
      "\n",
      "Below 1.10.0 : `nan_policy` is poorly defined.\n",
      "    The default behavior of `numpy.percentile` is used for 'propagate'. This\n",
      "    is a hybrid of 'omit' and 'propagate' that mostly yields a skewed\n",
      "    version of 'omit' since NaNs are sorted to the end of the data. A\n",
      "    warning is raised if there are NaNs in the data.\n",
      "Below 1.9.0: `numpy.nanpercentile` does not exist.\n",
      "    This means that `numpy.percentile` is used regardless of `nan_policy`\n",
      "    and a warning is issued. See previous item for a description of the\n",
      "    behavior.\n",
      "Below 1.9.0: `keepdims` and `interpolation` are not supported.\n",
      "    The keywords get ignored with a warning if supplied with non-default\n",
      "    values. However, multiple axes are still supported.\n",
      "\n",
      "References\n",
      "----------\n",
      ".. [1] \"Interquartile range\" https://en.wikipedia.org/wiki/Interquartile_range\n",
      ".. [2] \"Robust measures of scale\" https://en.wikipedia.org/wiki/Robust_measures_of_scale\n",
      ".. [3] \"Quantile\" https://en.wikipedia.org/wiki/Quantile\n",
      "\n",
      "Examples\n",
      "--------\n",
      ">>> from scipy.stats import iqr\n",
      ">>> x = np.array([[10, 7, 4], [3, 2, 1]])\n",
      ">>> x\n",
      "array([[10,  7,  4],\n",
      "       [ 3,  2,  1]])\n",
      ">>> iqr(x)\n",
      "4.0\n",
      ">>> iqr(x, axis=0)\n",
      "array([ 3.5,  2.5,  1.5])\n",
      ">>> iqr(x, axis=1)\n",
      "array([ 3.,  1.])\n",
      ">>> iqr(x, axis=1, keepdims=True)\n",
      "array([[ 3.],\n",
      "       [ 1.]])\n",
      "\u001b[1;31mFile:\u001b[0m      c:\\programdata\\anaconda3\\lib\\site-packages\\scipy\\stats\\stats.py\n",
      "\u001b[1;31mType:\u001b[0m      function\n"
     ],
     "name": "stdout"
    }
   ],
   "source": [
    "iqr?"
   ]
  },
  {
   "cell_type": "code",
   "execution_count": 57,
   "metadata": {},
   "outputs": [],
   "source": [
    "port_vv_clean.drop(['country', 'province'], axis = 1, inplace = True)"
   ]
  },
  {
   "cell_type": "code",
   "execution_count": 59,
   "metadata": {},
   "outputs": [
    {
     "output_type": "execute_result",
     "data": {
      "text/plain": [
       "           points       price\n",
       "count  310.000000  310.000000\n",
       "mean    86.351613   11.400000\n",
       "std      2.512541    4.821205\n",
       "min     80.000000    5.000000\n",
       "25%     84.000000    8.000000\n",
       "50%     86.000000   10.000000\n",
       "75%     88.000000   13.000000\n",
       "max     92.000000   45.000000"
      ],
      "text/html": "<div>\n<style scoped>\n    .dataframe tbody tr th:only-of-type {\n        vertical-align: middle;\n    }\n\n    .dataframe tbody tr th {\n        vertical-align: top;\n    }\n\n    .dataframe thead th {\n        text-align: right;\n    }\n</style>\n<table border=\"1\" class=\"dataframe\">\n  <thead>\n    <tr style=\"text-align: right;\">\n      <th></th>\n      <th>points</th>\n      <th>price</th>\n    </tr>\n  </thead>\n  <tbody>\n    <tr>\n      <th>count</th>\n      <td>310.000000</td>\n      <td>310.000000</td>\n    </tr>\n    <tr>\n      <th>mean</th>\n      <td>86.351613</td>\n      <td>11.400000</td>\n    </tr>\n    <tr>\n      <th>std</th>\n      <td>2.512541</td>\n      <td>4.821205</td>\n    </tr>\n    <tr>\n      <th>min</th>\n      <td>80.000000</td>\n      <td>5.000000</td>\n    </tr>\n    <tr>\n      <th>25%</th>\n      <td>84.000000</td>\n      <td>8.000000</td>\n    </tr>\n    <tr>\n      <th>50%</th>\n      <td>86.000000</td>\n      <td>10.000000</td>\n    </tr>\n    <tr>\n      <th>75%</th>\n      <td>88.000000</td>\n      <td>13.000000</td>\n    </tr>\n    <tr>\n      <th>max</th>\n      <td>92.000000</td>\n      <td>45.000000</td>\n    </tr>\n  </tbody>\n</table>\n</div>"
     },
     "metadata": {},
     "execution_count": 59
    }
   ],
   "source": [
    "port_vv_clean.describe()"
   ]
  },
  {
   "cell_type": "code",
   "execution_count": 60,
   "metadata": {},
   "outputs": [
    {
     "output_type": "stream",
     "text": [
      "\u001b[1;31mSignature:\u001b[0m\n",
      "\u001b[0mport_vv_clean\u001b[0m\u001b[1;33m.\u001b[0m\u001b[0mdrop\u001b[0m\u001b[1;33m(\u001b[0m\u001b[1;33m\n",
      "\u001b[0m    \u001b[0mlabels\u001b[0m\u001b[1;33m=\u001b[0m\u001b[1;32mNone\u001b[0m\u001b[1;33m,\u001b[0m\u001b[1;33m\n",
      "\u001b[0m    \u001b[0maxis\u001b[0m\u001b[1;33m=\u001b[0m\u001b[1;36m0\u001b[0m\u001b[1;33m,\u001b[0m\u001b[1;33m\n",
      "\u001b[0m    \u001b[0mindex\u001b[0m\u001b[1;33m=\u001b[0m\u001b[1;32mNone\u001b[0m\u001b[1;33m,\u001b[0m\u001b[1;33m\n",
      "\u001b[0m    \u001b[0mcolumns\u001b[0m\u001b[1;33m=\u001b[0m\u001b[1;32mNone\u001b[0m\u001b[1;33m,\u001b[0m\u001b[1;33m\n",
      "\u001b[0m    \u001b[0mlevel\u001b[0m\u001b[1;33m=\u001b[0m\u001b[1;32mNone\u001b[0m\u001b[1;33m,\u001b[0m\u001b[1;33m\n",
      "\u001b[0m    \u001b[0minplace\u001b[0m\u001b[1;33m=\u001b[0m\u001b[1;32mFalse\u001b[0m\u001b[1;33m,\u001b[0m\u001b[1;33m\n",
      "\u001b[0m    \u001b[0merrors\u001b[0m\u001b[1;33m=\u001b[0m\u001b[1;34m'raise'\u001b[0m\u001b[1;33m,\u001b[0m\u001b[1;33m\n",
      "\u001b[0m\u001b[1;33m)\u001b[0m\u001b[1;33m\u001b[0m\u001b[1;33m\u001b[0m\u001b[0m\n",
      "\u001b[1;31mDocstring:\u001b[0m\n",
      "Drop specified labels from rows or columns.\n",
      "\n",
      "Remove rows or columns by specifying label names and corresponding\n",
      "axis, or by specifying directly index or column names. When using a\n",
      "multi-index, labels on different levels can be removed by specifying\n",
      "the level.\n",
      "\n",
      "Parameters\n",
      "----------\n",
      "labels : single label or list-like\n",
      "    Index or column labels to drop.\n",
      "axis : {0 or 'index', 1 or 'columns'}, default 0\n",
      "    Whether to drop labels from the index (0 or 'index') or\n",
      "    columns (1 or 'columns').\n",
      "index : single label or list-like\n",
      "    Alternative to specifying axis (``labels, axis=0``\n",
      "    is equivalent to ``index=labels``).\n",
      "columns : single label or list-like\n",
      "    Alternative to specifying axis (``labels, axis=1``\n",
      "    is equivalent to ``columns=labels``).\n",
      "level : int or level name, optional\n",
      "    For MultiIndex, level from which the labels will be removed.\n",
      "inplace : bool, default False\n",
      "    If False, return a copy. Otherwise, do operation\n",
      "    inplace and return None.\n",
      "errors : {'ignore', 'raise'}, default 'raise'\n",
      "    If 'ignore', suppress error and only existing labels are\n",
      "    dropped.\n",
      "\n",
      "Returns\n",
      "-------\n",
      "DataFrame\n",
      "    DataFrame without the removed index or column labels.\n",
      "\n",
      "Raises\n",
      "------\n",
      "KeyError\n",
      "    If any of the labels is not found in the selected axis.\n",
      "\n",
      "See Also\n",
      "--------\n",
      "DataFrame.loc : Label-location based indexer for selection by label.\n",
      "DataFrame.dropna : Return DataFrame with labels on given axis omitted\n",
      "    where (all or any) data are missing.\n",
      "DataFrame.drop_duplicates : Return DataFrame with duplicate rows\n",
      "    removed, optionally only considering certain columns.\n",
      "Series.drop : Return Series with specified index labels removed.\n",
      "\n",
      "Examples\n",
      "--------\n",
      ">>> df = pd.DataFrame(np.arange(12).reshape(3, 4),\n",
      "...                   columns=['A', 'B', 'C', 'D'])\n",
      ">>> df\n",
      "   A  B   C   D\n",
      "0  0  1   2   3\n",
      "1  4  5   6   7\n",
      "2  8  9  10  11\n",
      "\n",
      "Drop columns\n",
      "\n",
      ">>> df.drop(['B', 'C'], axis=1)\n",
      "   A   D\n",
      "0  0   3\n",
      "1  4   7\n",
      "2  8  11\n",
      "\n",
      ">>> df.drop(columns=['B', 'C'])\n",
      "   A   D\n",
      "0  0   3\n",
      "1  4   7\n",
      "2  8  11\n",
      "\n",
      "Drop a row by index\n",
      "\n",
      ">>> df.drop([0, 1])\n",
      "   A  B   C   D\n",
      "2  8  9  10  11\n",
      "\n",
      "Drop columns and/or rows of MultiIndex DataFrame\n",
      "\n",
      ">>> midx = pd.MultiIndex(levels=[['lama', 'cow', 'falcon'],\n",
      "...                              ['speed', 'weight', 'length']],\n",
      "...                      codes=[[0, 0, 0, 1, 1, 1, 2, 2, 2],\n",
      "...                             [0, 1, 2, 0, 1, 2, 0, 1, 2]])\n",
      ">>> df = pd.DataFrame(index=midx, columns=['big', 'small'],\n",
      "...                   data=[[45, 30], [200, 100], [1.5, 1], [30, 20],\n",
      "...                         [250, 150], [1.5, 0.8], [320, 250],\n",
      "...                         [1, 0.8], [0.3, 0.2]])\n",
      ">>> df\n",
      "                big     small\n",
      "lama    speed   45.0    30.0\n",
      "        weight  200.0   100.0\n",
      "        length  1.5     1.0\n",
      "cow     speed   30.0    20.0\n",
      "        weight  250.0   150.0\n",
      "        length  1.5     0.8\n",
      "falcon  speed   320.0   250.0\n",
      "        weight  1.0     0.8\n",
      "        length  0.3     0.2\n",
      "\n",
      ">>> df.drop(index='cow', columns='small')\n",
      "                big\n",
      "lama    speed   45.0\n",
      "        weight  200.0\n",
      "        length  1.5\n",
      "falcon  speed   320.0\n",
      "        weight  1.0\n",
      "        length  0.3\n",
      "\n",
      ">>> df.drop(index='length', level=1)\n",
      "                big     small\n",
      "lama    speed   45.0    30.0\n",
      "        weight  200.0   100.0\n",
      "cow     speed   30.0    20.0\n",
      "        weight  250.0   150.0\n",
      "falcon  speed   320.0   250.0\n",
      "        weight  1.0     0.8\n",
      "\u001b[1;31mFile:\u001b[0m      c:\\programdata\\anaconda3\\lib\\site-packages\\pandas\\core\\frame.py\n",
      "\u001b[1;31mType:\u001b[0m      method\n"
     ],
     "name": "stdout"
    }
   ],
   "source": [
    "port_vv_clean.drop?"
   ]
  },
  {
   "cell_type": "code",
   "execution_count": 61,
   "metadata": {},
   "outputs": [],
   "source": [
    "quartz = port_vv_clean[ (port_vv_clean['price'] >= 8)\n",
    "                & (port_vv_clean['price'] <= 13) ].index\n",
    "port_vv_clean.drop(quartz , inplace=True)"
   ]
  },
  {
   "cell_type": "code",
   "execution_count": 62,
   "metadata": {},
   "outputs": [
    {
     "output_type": "execute_result",
     "data": {
      "text/plain": [
       "        points  price\n",
       "277         92   35.0\n",
       "2923        90   19.0\n",
       "6621        88   21.0\n",
       "6819        88   21.0\n",
       "10626       84    6.0\n",
       "...        ...    ...\n",
       "140272      84    7.0\n",
       "140543      84    7.0\n",
       "140821      84    6.0\n",
       "141148      82    6.0\n",
       "143575      87   15.0\n",
       "\n",
       "[112 rows x 2 columns]"
      ],
      "text/html": "<div>\n<style scoped>\n    .dataframe tbody tr th:only-of-type {\n        vertical-align: middle;\n    }\n\n    .dataframe tbody tr th {\n        vertical-align: top;\n    }\n\n    .dataframe thead th {\n        text-align: right;\n    }\n</style>\n<table border=\"1\" class=\"dataframe\">\n  <thead>\n    <tr style=\"text-align: right;\">\n      <th></th>\n      <th>points</th>\n      <th>price</th>\n    </tr>\n  </thead>\n  <tbody>\n    <tr>\n      <th>277</th>\n      <td>92</td>\n      <td>35.0</td>\n    </tr>\n    <tr>\n      <th>2923</th>\n      <td>90</td>\n      <td>19.0</td>\n    </tr>\n    <tr>\n      <th>6621</th>\n      <td>88</td>\n      <td>21.0</td>\n    </tr>\n    <tr>\n      <th>6819</th>\n      <td>88</td>\n      <td>21.0</td>\n    </tr>\n    <tr>\n      <th>10626</th>\n      <td>84</td>\n      <td>6.0</td>\n    </tr>\n    <tr>\n      <th>...</th>\n      <td>...</td>\n      <td>...</td>\n    </tr>\n    <tr>\n      <th>140272</th>\n      <td>84</td>\n      <td>7.0</td>\n    </tr>\n    <tr>\n      <th>140543</th>\n      <td>84</td>\n      <td>7.0</td>\n    </tr>\n    <tr>\n      <th>140821</th>\n      <td>84</td>\n      <td>6.0</td>\n    </tr>\n    <tr>\n      <th>141148</th>\n      <td>82</td>\n      <td>6.0</td>\n    </tr>\n    <tr>\n      <th>143575</th>\n      <td>87</td>\n      <td>15.0</td>\n    </tr>\n  </tbody>\n</table>\n<p>112 rows × 2 columns</p>\n</div>"
     },
     "metadata": {},
     "execution_count": 62
    }
   ],
   "source": [
    "port_vv_clean"
   ]
  },
  {
   "cell_type": "code",
   "execution_count": null,
   "metadata": {},
   "outputs": [],
   "source": []
  }
 ]
}