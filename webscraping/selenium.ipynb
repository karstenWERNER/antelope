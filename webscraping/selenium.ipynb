{
 "metadata": {
  "language_info": {
   "codemirror_mode": {
    "name": "ipython",
    "version": 3
   },
   "file_extension": ".py",
   "mimetype": "text/x-python",
   "name": "python",
   "nbconvert_exporter": "python",
   "pygments_lexer": "ipython3",
   "version": 3
  },
  "orig_nbformat": 2
 },
 "nbformat": 4,
 "nbformat_minor": 2,
 "cells": [
  {
   "cell_type": "code",
   "execution_count": null,
   "metadata": {},
   "outputs": [],
   "source": [
    "# needs chromedriver (which is an .exe)\n",
    "import time\n",
    "from bs4 import BeautifulSoup\n",
    "from selenium import webdriver\n",
    "from selenium.webdriver.chrome.options import Options\n",
    "\n",
    "url = \"https://www.sofascore.com/pt/futebol/2018-09-18\"\n",
    "options = Options()\n",
    "options.add_argument('--headless')\n",
    "options.add_argument('--disable-gpu')\n",
    "driver = webdriver.Chrome(chrome_options=options)\n",
    "driver.get(url)\n",
    "time.sleep(3)\n",
    "page = driver.page_source\n",
    "driver.quit()\n",
    "soup = BeautifulSoup(page, 'html.parser')\n",
    "container = soup.find_all('div', attrs={\n",
    "    'class':'js-event-list-tournament-events'})\n",
    "print(container)"
   ]
  }
 ]
}