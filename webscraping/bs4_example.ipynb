{
 "metadata": {
  "language_info": {
   "codemirror_mode": {
    "name": "ipython",
    "version": 3
   },
   "file_extension": ".py",
   "mimetype": "text/x-python",
   "name": "python",
   "nbconvert_exporter": "python",
   "pygments_lexer": "ipython3",
   "version": "3.8.5-final"
  },
  "orig_nbformat": 2,
  "kernelspec": {
   "name": "python3",
   "display_name": "Python 3",
   "language": "python"
  }
 },
 "nbformat": 4,
 "nbformat_minor": 2,
 "cells": [
  {
   "cell_type": "code",
   "execution_count": 18,
   "metadata": {},
   "outputs": [
    {
     "output_type": "stream",
     "name": "stdout",
     "text": [
      "brand: Gigabyte\n\nproduct_name: GIGABYTE AORUS GeForce RTX 3080 DirectX 12 GV-N3080AORUS X-10GD Video Card\n\nshipping: 9.99\n\nbrand: Msi\n\nproduct_name: MSI GeForce RTX 3070 DirectX 12 RTX 3070 GAMING X TRIO Video Card\n\nshipping: 9.99\n\nbrand: Msi\n\nproduct_name: MSI GeForce GT 710 DirectX 12 GT 710 2GD3H LP Video Card\n\nshipping: \n\nbrand: Asrock\n\nproduct_name: ASRock Radeon RX 6800 Challenger Pro Gaming Graphics Card with 16GB GDDR6, AMD RDNA 2 (RX6800 CLP 16GO)\n\nshipping: 9.99\n\nbrand: Gigabyte\n\nproduct_name: GIGABYTE GeForce RTX 3070 DirectX 12 GV-N3070VISION OC-8GD Video Card\n\nshipping: 9.99\n\nbrand: Asus\n\nproduct_name: ASUS ROG Strix GeForce RTX 3080 ROG-STRIX-RTX3080-O10G-WHITE Video Card\n\nshipping: \n\nbrand: Msi\n\nproduct_name: Replacement Only Return Policy\n\nshipping: 9.99\n\nbrand: Sapphire Tech\n\nproduct_name: SAPPHIRE Radeon RX 6800 DirectX 12 21305-01-20G Video Card\n\nshipping: \n\nbrand: Gigabyte\n\nproduct_name: GIGABYTE AORUS GeForce RTX 3080 XTREME WATERFORCE WB 10G Graphics Card, WATERFORCE Water Block Cooling System, 10GB 320-bit GDDR6X, GV-N3080AORUSX WB-10GD Video Card\n\nshipping: 6.99\n\nbrand: Powercolor\n\nproduct_name: PowerColor Fighter AMD Radeon RX 6800 Gaming Graphics card with 16GB GDDR6 Memory, Powered by AMD RDNA 2, Raytracing, PCI Express 4.0, HDMI 2.1, AMD Infinity Cache\n\nshipping: 9.99\n\nbrand: Evga\n\nproduct_name: EVGA GeForce RTX 3080 XC3 BLACK GAMING Video Card, 10G-P5-3881-KR, 10GB GDDR6X, iCX3 Cooling, ARGB LED\n\nshipping: 9.99\n\nbrand: Xfx\n\nproduct_name: XFX Speedster MERC319 Radeon RX 6800 BLACK 16GB GDDR6 HDMI DisplayPort PCIe 4.0 Gaming Graphic Card, RX-68XLATBD9\n\nshipping: 9.99\n\n"
     ]
    }
   ],
   "source": [
    "from bs4 import BeautifulSoup as soup  # HTML data structure\n",
    "from urllib.request import urlopen as uReq  # Web client\n",
    "\n",
    "# URl to web scrap from.\n",
    "# in this example we web scrap graphics cards from Newegg.com\n",
    "#page_url = \"http://www.newegg.com/Product/ProductList.aspx?Submit=ENE&N=-1&IsNodeId=1&Description=GTX&bop=And&Page=1&PageSize=36&order=BESTMATCH\"\n",
    "\n",
    "page_url = \"https://www.newegg.com/Video-Cards-Video-Devices/Category/ID-38\"\n",
    "# opens the connection and downloads html page from url\n",
    "uClient = uReq(page_url)\n",
    "\n",
    "#page_html = uClient.read()\n",
    "#uClient.close()\n",
    "\n",
    "# parses html into a soup data structure to traverse html\n",
    "# as if it were a json data type. \"html.parser\" is known to bs4 (as is lxml f.e)\n",
    "page_soup = soup(uClient.read(), \"html.parser\")\n",
    "uClient.close()\n",
    "\n",
    "# finds each product from the store page\n",
    "containers = page_soup.findAll(\"div\", {\"class\": \"item-container\"})\n",
    "\n",
    "# name the output file to write to local disk\n",
    "out_filename = \"graphics_cards.csv\"\n",
    "# header of csv file to be written\n",
    "headers = \"brand,product_name,shipping \\n\"\n",
    "\n",
    "# opens file, and writes headers\n",
    "f = open(out_filename, \"w\")\n",
    "f.write(headers)\n",
    "\n",
    "# loops over each product and grabs attributes about\n",
    "# each product\n",
    "for container in containers:\n",
    "    # Finds all link tags \"a\" from within the first div.\n",
    "    make_rating_sp = container.div.select(\"a\")\n",
    "\n",
    "    # Grabs the title from the image title attribute\n",
    "    # Then does proper casing using .title()\n",
    "    brand = make_rating_sp[0].img[\"title\"].title()\n",
    "\n",
    "    # Grabs the text within the second \"(a)\" tag from within\n",
    "    # the list of queries.\n",
    "    product_name = container.div.select(\"a\")[2].text\n",
    "\n",
    "    # Grabs the product shipping information by searching\n",
    "    # all lists with the class \"price-ship\".\n",
    "    # Then cleans the text of white space with strip()\n",
    "    # Cleans the strip of \"Shipping $\" if it exists to just get number\n",
    "    shipping = container.findAll(\"li\", {\"class\": \"price-ship\"})[0].text.strip().replace(\"$\", \"\").replace(\" Shipping\", \"\")\n",
    "\n",
    "    # prints the dataset to console\n",
    "    print(\"brand: \" + brand + \"\\n\")\n",
    "    print(\"product_name: \" + product_name + \"\\n\")\n",
    "    print(\"shipping: \" + shipping + \"\\n\")\n",
    "\n",
    "    # writes the dataset to file\n",
    "    f.write(brand + \", \" + product_name.replace(\",\", \"|\") + \", \" + shipping + \"\\n\")\n",
    "\n",
    "f.close()  # Close the file\n"
   ]
  },
  {
   "cell_type": "code",
   "execution_count": 19,
   "metadata": {},
   "outputs": [
    {
     "output_type": "execute_result",
     "data": {
      "text/plain": [
       "<span class=\"hid-text\">Search</span>"
      ]
     },
     "metadata": {},
     "execution_count": 19
    }
   ],
   "source": [
    "page_soup.body.span"
   ]
  },
  {
   "cell_type": "code",
   "execution_count": 20,
   "metadata": {},
   "outputs": [
    {
     "output_type": "execute_result",
     "data": {
      "text/plain": [
       "pan></a></div><a class=\"item-title\" href=\"https://www.newegg.com/gigabyte-geforce-rtx-3070-gv-n3070vision-oc-8gd/p/N82E16814932360?Item=N82E16814932360\" title=\"View Details\">GIGABYTE GeForce RTX 3070 DirectX 12 GV-N3070VISION OC-8GD Video Card</a><p class=\"item-promo\"><i class=\"item-promo-icon\"></i>OUT OF STOCK</p><ul class=\"item-features\"><li><strong>Max Resolution:</strong> 7680 x 4320</li><li><strong>DisplayPort:</strong> 2 x DisplayPort 1.4a</li><li><strong>HDMI:</strong> 2 x HDMI 2.1</li><li><strong>Card Dimensions (L x H):</strong> 11.26\" x 4.53\"</li><li><strong>Model #: </strong>GV-N3070VISIONOC-8GD</li><li><strong>Item #: </strong>N82E16814932360</li><li><strong>Return Policy: </strong><a href=\"https://kb.newegg.com/Article/Index/12/3?id=1167#80\" target=\"_blank\" title=\"Replacement Only Return Policy(New Window)\">Replacement Only Return Policy</a></li></ul></div><div class=\"item-action\"><ul class=\"price\"><li class=\"price-was\"></li><li class=\"price-map\"> </li><li class=\"price-current\"><span class=\"price-current-label\"></span>$<strong>779</strong><sup>.99</sup> <span class=\"price-current-range\"><abbr title=\"to\">–</abbr></span></li><li class=\"price-save\"></li><li class=\"price-ship\">$9.99 Shipping</li></ul><div class=\"item-operate hidden-action-button\"><div class=\"item-button-area\"><button class=\"btn btn-mini\" title=\"View Details \">View Details <i class=\"fas fa-caret-right\"></i></button></div><div class=\"item-compare-box\"><label class=\"form-checkbox\"><input autocomplete=\"off\" type=\"checkbox\"/><span class=\"form-checkbox-title\">Compare</span></label></div></div></div><div class=\"item-stock\" id=\"stock_14-932-360\"></div></div>,\n",
       " <div class=\"item-container\"><a class=\"item-img\" href=\"https://www.newegg.com/asus-geforce-rtx-3080-rog-strix-rtx3080-o10g-white/p/N82E16814126483?Item=N82E16814126483\"><img alt=\"ASUS ROG Strix GeForce RTX 3080 ROG-STRIX-RTX3080-O10G-WHITE 10GB 320-Bit GDDR6X PCI Express 4.0 Video Card\" src=\"https://c1.neweggimages.com/ProductImageCompressAll300/14-126-483-V19.jpg\" title=\"ASUS ROG Strix GeForce RTX 3080 ROG-STRIX-RTX3080-O10G-WHITE 10GB 320-Bit GDDR6X PCI Express 4.0 Video Card\"/></a><div class=\"item-info\"><div class=\"item-branding\"><a class=\"item-brand\" href=\"https://www.newegg.com/ASUS/BrandStore/ID-1315\"><img alt=\"ASUS\" src=\"https://c1.neweggimages.com/Brandimage_70x28/Brand1315.gif\" title=\"ASUS\"/></a><a class=\"item-rating\" href=\"https://www.newegg.com/asus-geforce-rtx-3080-rog-strix-rtx3080-o10g-white/p/N82E16814126483?IsFeedbackTab=true&amp;Item=N82E16814126483#scrollFullInfo\" title=\"Rating + 5\"><i class=\"rating rating-5\"></i><span class=\"item-rating-num\">(5)</span></a></div><a class=\"item-title\" href=\"https://www.newegg.com/asus-geforce-rtx-3080-rog-strix-rtx3080-o10g-white/p/N82E16814126483?Item=N82E16814126483\" title=\"View Details\">ASUS ROG Strix GeForce RTX 3080 ROG-STRIX-RTX3080-O10G-WHITE Video Card</a><p class=\"item-promo\"><i class=\"item-promo-icon\"></i>OUT OF STOCK</p><ul class=\"item-features\"><li><strong>Chipset Manufacturer:</strong> NVIDIA</li><li><strong>GPU Series:</strong> NVIDIA GeForce RTX 30 Series</li><li><strong>CUDA Cores:</strong> 8704</li><li><strong>Model #: </strong>STRIXRTX3080O10G-WHT</li><li><strong>Item #: </strong>N82E16814126483</li><li><strong>Return Policy: </strong><a href=\"https://kb.newegg.com/Article/Index/12/3?id=1167#44\" target=\"_blank\" title=\"Standard Return Policy(New Window)\">Standard Return Policy</a></li></ul></div><div class=\"item-action\"><ul class=\"price\"><li class=\"price-was\"></li><li class=\"price-map\"></li><li class=\"price-current\"></li><li class=\"price-save\"></li><li class=\"price-note\"></li><li class=\"price-ship\"></li></ul><div class=\"item-operate hidden-action-button\"><div class=\"item-button-area\"><span class=\"btn btn-message btn-mini\">Out of Stock </span></div><div class=\"item-compare-box\"><label class=\"form-checkbox\"><input autocomplete=\"off\" type=\"checkbox\"/><span class=\"form-checkbox-title\">Compare</span></label></div></div></div><div class=\"item-stock\" id=\"stock_14-126-483\"></div></div>,\n",
       " <div class=\"item-container\"><a class=\"item-img\" href=\"https://www.newegg.com/msi-geforce-rtx-3090-rtx-3090-ventus-3x-24g/p/N82E16814137599?Item=N82E16814137599\"><img alt=\"MSI GeForce RTX 3090 DirectX 12 RTX 3090 VENTUS 3X 24G 24GB 384-Bit GDDR6X PCI Express 4.0 HDCP Ready SLI Support Video Card\" src=\"https://c1.neweggimages.com/ProductImageCompressAll300/14-137-599-V28.jpg\" title=\"MSI GeForce RTX 3090 DirectX 12 RTX 3090 VENTUS 3X 24G 24GB 384-Bit GDDR6X PCI Express 4.0 HDCP Ready SLI Support Video Card\"/></a><div class=\"item-info\"><div class=\"item-branding\"><a class=\"item-brand\" href=\"https://www.newegg.com/MSI/BrandStore/ID-1312\"><img alt=\"MSI\" src=\"https://c1.neweggimages.com/Brandimage_70x28/Brand1312.gif\" title=\"MSI\"/></a></div><a class=\"item-title\" href=\"https://www.newegg.com/msi-geforce-rtx-3090-rtx-3090-ventus-3x-24g/p/N82E16814137599?Item=N82E16814137599\" title=\"View Details\">MSI GeForce RTX 3090 DirectX 12 RTX 3090 VENTUS 3X 24G Video Card</a><p class=\"item-promo\"><i class=\"item-promo-icon\"></i>OUT OF STOCK</p><ul class=\"item-features\"><li><strong>Max Resolution:</strong> 7680 x 4320</li><li><strong>DisplayPort:</strong> 3 x DisplayPort 1.4a</li><li><strong>HDMI:</strong> 1 x HDMI 2.1</li><li><strong>Card Dimensions (L x H):</strong> 12.01\" x 4.72\"</li><li><strong>Model #: </strong>3090Ventus3X24G</li><li><strong>Item #: </strong>N82E16814137599</li><li><strong>Return Policy: </strong><a href=\"https://kb.newegg.com/Article/Index/12/3?id=1167#80\" target=\"_blank\" title=\"Replacement Only Return Policy(New Window)\">Replacement Only Return Policy</a></li></ul></div><div class=\"item-action\"><ul class=\"price\"><li class=\"price-was\"></li><li class=\"price-map\"> </li><li class=\"price-current\"><span class=\"price-current-label\"></span>$<strong>1,949</strong><sup>.99</sup> <span class=\"price-current-range\"><abbr title=\"to\">–</abbr></span></li><li class=\"price-save\"></li><li class=\"price-ship\">$9.99 Shipping</li></ul><div class=\"item-operate hidden-action-button\"><div class=\"item-button-area\"><button class=\"btn btn-secondary btn-mini\" title=\"Auto Notify \">Auto Notify <i class=\"fas fa-caret-right\"></i></button></div><div class=\"item-compare-box\"><label class=\"form-checkbox\"><input autocomplete=\"off\" type=\"checkbox\"/><span class=\"form-checkbox-title\">Compare</span></label></div></div></div><div class=\"item-stock\" id=\"stock_14-137-599\"></div></div>,\n",
       " <div class=\"item-container\"><a class=\"item-img\" href=\"https://www.newegg.com/sapphire-radeon-rx-6800-21305-01-20g/p/N82E16814202389?Item=N82E16814202389\"><img alt=\"SAPPHIRE Radeon RX 6800 DirectX 12 21305-01-20G 16GB 256-Bit GDDR6 PCI Express 4.0 x16 ATX Video Card\" src=\"https://c1.neweggimages.com/ProductImageCompressAll300/14-202-389-V01.jpg\" title=\"SAPPHIRE Radeon RX 6800 DirectX 12 21305-01-20G 16GB 256-Bit GDDR6 PCI Express 4.0 x16 ATX Video Card\"/></a><div class=\"item-info\"><div class=\"item-branding\"><a class=\"item-brand\" href=\"https://www.newegg.com/Sapphire-Tech/BrandStore/ID-1561\"><img alt=\"Sapphire Tech\" src=\"https://c1.neweggimages.com/Brandimage_70x28/Brand1561.gif\" title=\"Sapphire Tech\"/></a><a class=\"item-rating\" href=\"https://www.newegg.com/sapphire-radeon-rx-6800-21305-01-20g/p/N82E16814202389?IsFeedbackTab=true&amp;Item=N82E16814202389#scrollFullInfo\" title=\"Rating + 4\"><i class=\"rating rating-4\"></i><span class=\"item-rating-num\">(7)</span></a></div><a class=\"item-title\" href=\"https://www.newegg.com/sapphire-radeon-rx-6800-21305-01-20g/p/N82E16814202389?Item=N82E16814202389\" title=\"View Details\">SAPPHIRE Radeon RX 6800 DirectX 12 21305-01-20G Video Card</a><p class=\"item-promo\"><i class=\"item-promo-icon\"></i>OUT OF STOCK</p><ul class=\"item-features\"><li><strong>Max Resolution:</strong> 7680 x 4320</li><li><strong>DisplayPort:</strong> 2 x DisplayPort 1.4</li><li><strong>HDMI:</strong> 1 x HDMI 2.1</li><li><strong>Card Dimensions (L x H):</strong> 10.50\" x 4.71\"</li><li><strong>Model #: </strong>21305-01-20G</li><li><strong>Item #: </strong>N82E16814202389</li><li><strong>Return Policy: </strong><a href=\"https://kb.newegg.com/Article/Index/12/3?id=1167#80\" target=\"_blank\" title=\"Replacement Only Return Policy(New Window)\">Replacement Only Return Policy</a></li></ul></div><div class=\"item-action\"><ul class=\"price\"><li class=\"price-was\"></li><li class=\"price-map\"></li><li class=\"price-current\"></li><li class=\"price-save\"></li><li class=\"price-note\"></li><li class=\"price-ship\"></li></ul><div class=\"item-operate hidden-action-button\"><div class=\"item-button-area\"><span class=\"btn btn-message btn-mini\">Out of Stock </span></div><div class=\"item-compare-box\"><label class=\"form-checkbox\"><input autocomplete=\"off\" type=\"checkbox\"/><span class=\"form-checkbox-title\">Compare</span></label></div></div></div><div class=\"item-stock\" id=\"stock_14-202-389\"></div></div>,\n",
       " <div class=\"item-container\"><a class=\"item-img\" href=\"https://www.newegg.com/gigabyte-geforce-rtx-3080-gv-n3080aorusx-wb-10gd/p/N82E16814932371?Item=N82E16814932371\"><img alt=\"GIGABYTE AORUS GeForce RTX 3080 XTREME WATERFORCE WB 10G Graphics Card, WATERFORCE Water Block Cooling System, 10GB 320-bit GDDR6X, GV-N3080AORUSX WB-10GD Video Card\" src=\"https://c1.neweggimages.com/ProductImageCompressAll300/14-932-371-V01.jpg\" title=\"GIGABYTE AORUS GeForce RTX 3080 XTREME WATERFORCE WB 10G Graphics Card, WATERFORCE Water Block Cooling System, 10GB 320-bit GDDR6X, GV-N3080AORUSX WB-10GD Video Card\"/></a><div class=\"item-info\"><div class=\"item-branding\"><a class=\"item-brand\" href=\"https://www.newegg.com/GIGABYTE/BrandStore/ID-1314\"><img alt=\"GIGABYTE\" src=\"https://c1.neweggimages.com/Brandimage_70x28/Brand1314.gif\" title=\"GIGABYTE\"/></a><a class=\"item-rating\" href=\"https://www.newegg.com/gigabyte-geforce-rtx-3080-gv-n3080aorusx-wb-10gd/p/N82E16814932371?IsFeedbackTab=true&amp;Item=N82E16814932371#scrollFullInfo\" title=\"Rating + 4\"><i class=\"rating rating-4\"></i><span class=\"item-rating-num\">(4)</span></a></div><a class=\"item-title\" href=\"https://www.newegg.com/gigabyte-geforce-rtx-3080-gv-n3080aorusx-wb-10gd/p/N82E16814932371?Item=N82E16814932371\" title=\"View Details\">GIGABYTE AORUS GeForce RTX 3080 XTREME WATERFORCE WB 10G Graphics Card, WATERFORCE Water Block Cooling System, 10GB 320-bit GDDR6X, GV-N3080AORUSX WB-10GD Video Card</a><p class=\"item-promo\"><i class=\"item-promo-icon\"></i>OUT OF STOCK</p><ul class=\"item-features\"><li><strong>Max Resolution:</strong> 7680 x 4320 @ 60 Hz</li><li><strong>DisplayPort:</strong> 3 x DisplayPort 1.4a</li><li><strong>HDMI:</strong> 2 x HDMI 2.1, 1 x HDMI 2.0 (The middle HDMI output supports up to HDMI 2.0)</li><li><strong>Card Dimensions (L x H):</strong> 9.92\" x 6.42\"</li><li><strong>Model #: </strong>GV-N3080AORUSXWB10GD</li><li><strong>Item #: </strong>N82E16814932371</li><li><strong>Return Policy: </strong><a href=\"https://kb.newegg.com/Article/Index/12/3?id=1167#44\" target=\"_blank\" title=\"Standard Return Policy(New Window)\">Standard Return Policy</a></li></ul></div><div class=\"item-action\"><ul class=\"price\"><li class=\"price-was\"></li><li class=\"price-map\"> </li><li class=\"price-current\"><span class=\"price-current-label\"></span>$<strong>999</strong><sup>.99</sup> <span class=\"price-current-range\"><abbr title=\"to\">–</abbr></span></li><li class=\"price-save\"></li><li class=\"price-ship\">$6.99 Shipping</li></ul><div class=\"item-operate hidden-action-button\"><div class=\"item-button-area\"><button class=\"btn btn-mini\" title=\"View Details \">View Details <i class=\"fas fa-caret-right\"></i></button></div><div class=\"item-compare-box\"><label class=\"form-checkbox\"><input autocomplete=\"off\" type=\"checkbox\"/><span class=\"form-checkbox-title\">Compare</span></label></div></div></div><div class=\"item-stock\" id=\"stock_14-932-371\"></div></div>,\n",
       " <div class=\"item-container\"><a class=\"item-img\" href=\"https://www.newegg.com/powercolor-radeon-rx-6800-axrx-6800-16gbd6-3dh-oc/p/N82E16814131771?Item=N82E16814131771\"><img alt=\"PowerColor Fighter AMD Radeon RX 6800 Gaming Graphics card with 16GB GDDR6 Memory, Powered by AMD RDNA 2, Raytracing, PCI Express 4.0, HDMI 2.1, AMD Infinity Cache\" src=\"https://c1.neweggimages.com/ProductImageCompressAll300/14-131-771-V03.jpg\" title=\"PowerColor Fighter AMD Radeon RX 6800 Gaming Graphics card with 16GB GDDR6 Memory, Powered by AMD RDNA 2, Raytracing, PCI Express 4.0, HDMI 2.1, AMD Infinity Cache\"/></a><div class=\"item-info\"><div class=\"item-branding\"><a class=\"item-brand\" href=\"https://www.newegg.com/PowerColor/BrandStore/ID-1419\"><img alt=\"PowerColor\" src=\"https://c1.neweggimages.com/Brandimage_70x28/Brand1419.gif\" title=\"PowerColor\"/></a><a class=\"item-rating\" href=\"https://www.newegg.com/powercolor-radeon-rx-6800-axrx-6800-16gbd6-3dh-oc/p/N82E16814131771?IsFeedbackTab=true&amp;Item=N82E16814131771#scrollFullInfo\" title=\"Rating + 5\"><i class=\"rating rating-5\"></i><span class=\"item-rating-num\">(1)</span></a></div><a class=\"item-title\" href=\"https://www.newegg.com/powercolor-radeon-rx-6800-axrx-6800-16gbd6-3dh-oc/p/N82E16814131771?Item=N82E16814131771\" title=\"View Details\">PowerColor Fighter AMD Radeon RX 6800 Gaming Graphics card with 16GB GDDR6 Memory, Powered by AMD RDNA 2, Raytracing, PCI Express 4.0, HDMI 2.1, AMD Infinity Cache</a><p class=\"item-promo\"><i class=\"item-promo-icon\"></i>OUT OF STOCK</p><ul class=\"item-features\"><li><strong>Chipset Manufacturer:</strong> AMD</li><li><strong>GPU Series:</strong> AMD Radeon RX 6000 Series</li><li><strong>Stream Processors:</strong> 3840 Stream Processors</li><li><strong>Model #: </strong>6800 16GBD6-3DH/OC</li><li><strong>Item #: </strong>N82E16814131771</li><li><strong>Return Policy: </strong><a href=\"https://kb.newegg.com/Article/Index/12/3?id=1167#80\" target=\"_blank\" title=\"Replacement Only Return Policy(New Window)\">Replacement Only Return Policy</a></li></ul></div><div class=\"item-action\"><ul class=\"price\"><li class=\"price-was\"></li><li class=\"price-map\"> </li><li class=\"price-current\"><span class=\"price-current-label\"></span>$<strong>909</strong><sup>.99</sup> <span class=\"price-current-range\"><abbr title=\"to\">–</abbr></span></li><li class=\"price-save\"></li><li class=\"price-ship\">$9.99 Shipping</li></ul><div class=\"item-operate hidden-action-button\"><div class=\"item-button-area\"><button class=\"btn btn-mini\" title=\"View Details \">View Details <i class=\"fas fa-caret-right\"></i></button></div><div class=\"item-compare-box\"><label class=\"form-checkbox\"><input autocomplete=\"off\" type=\"checkbox\"/><span class=\"form-checkbox-title\">Compare</span></label></div></div></div><div class=\"item-stock\" id=\"stock_14-131-771\"></div></div>,\n",
       " <div class=\"item-container\"><a class=\"item-img\" href=\"https://www.newegg.com/evga-geforce-rtx-3080-10g-p5-3881-kr/p/N82E16814487522?Item=N82E16814487522\"><img alt=\"EVGA GeForce RTX 3080 XC3 BLACK GAMING Video Card, 10G-P5-3881-KR, 10GB GDDR6X, iCX3 Cooling, ARGB LED\" src=\"https://c1.neweggimages.com/ProductImageCompressAll300/14-487-522-01.jpg\" title=\"EVGA GeForce RTX 3080 XC3 BLACK GAMING Video Card, 10G-P5-3881-KR, 10GB GDDR6X, iCX3 Cooling, ARGB LED\"/></a><div class=\"item-info\"><div class=\"item-branding\"><a class=\"item-brand\" href=\"https://www.newegg.com/EVGA/BrandStore/ID-1402\"><img alt=\"EVGA\" src=\"https://c1.neweggimages.com/Brandimage_70x28/Brand1402.gif\" title=\"EVGA\"/></a><a class=\"item-rating\" href=\"https://www.newegg.com/evga-geforce-rtx-3080-10g-p5-3881-kr/p/N82E16814487522?IsFeedbackTab=true&amp;Item=N82E16814487522#scrollFullInfo\" title=\"Rating + 4\"><i class=\"rating rating-4\"></i><span class=\"item-rating-num\">(6)</span></a></div><a class=\"item-title\" href=\"https://www.newegg.com/evga-geforce-rtx-3080-10g-p5-3881-kr/p/N82E16814487522?Item=N82E16814487522\" title=\"View Details\">EVGA GeForce RTX 3080 XC3 BLACK GAMING Video Card, 10G-P5-3881-KR, 10GB GDDR6X, iCX3 Cooling, ARGB LED</a><p class=\"item-promo\"><i class=\"item-promo-icon\"></i>OUT OF STOCK</p><ul class=\"item-features\"><li><strong>Max Resolution:</strong> 7680 x 4320</li><li><strong>DisplayPort:</strong> 3 x DisplayPort 1.4a</li><li><strong>HDMI:</strong> 1 x HDMI 2.1</li><li><strong>Card Dimensions (L x H):</strong> 11.23\" x 4.38\"</li><li><strong>Model #: </strong>10G-P5-3881-KR</li><li><strong>Item #: </strong>N82E16814487522</li><li><strong>Return Policy: </strong><a href=\"https://kb.newegg.com/Article/Index/12/3?id=1167#80\" target=\"_blank\" title=\"Replacement Only Return Policy(New Window)\">Replacement Only Return Policy</a></li></ul></div><div class=\"item-action\"><ul class=\"price\"><li class=\"price-was\"></li><li class=\"price-map\"> </li><li class=\"price-current\"><span class=\"price-current-label\"></span>$<strong>814</strong><sup>.99</sup> <span class=\"price-current-range\"><abbr title=\"to\">–</abbr></span></li><li class=\"price-save\"></li><li class=\"price-ship\">$9.99 Shipping</li></ul><div class=\"item-operate hidden-action-button\"><div class=\"item-button-area\"><button class=\"btn btn-mini\" title=\"View Details \">View Details <i class=\"fas fa-caret-right\"></i></button></div><div class=\"item-compare-box\"><label class=\"form-checkbox\"><input autocomplete=\"off\" type=\"checkbox\"/><span class=\"form-checkbox-title\">Compare</span></label></div></div></div><div class=\"item-stock\" id=\"stock_14-487-522\"></div></div>,\n",
       " <div class=\"item-container\"><a class=\"item-img\" href=\"https://www.newegg.com/xfx-radeon-rx-6800-rx-68xlatbd9/p/N82E16814150845?Item=N82E16814150845\"><img alt=\"XFX Speedster MERC319 Radeon RX 6800 BLACK 16GB GDDR6 HDMI DisplayPort PCIe 4.0 Gaming Graphic Card, RX-68XLATBD9\" src=\"https://c1.neweggimages.com/ProductImageCompressAll300/14-150-845-V02.jpg\" title=\"XFX Speedster MERC319 Radeon RX 6800 BLACK 16GB GDDR6 HDMI DisplayPort PCIe 4.0 Gaming Graphic Card, RX-68XLATBD9\"/></a><div class=\"item-info\"><div class=\"item-branding\"><a class=\"item-brand\" href=\"https://www.newegg.com/XFX/BrandStore/ID-1669\"><img alt=\"XFX\" src=\"https://c1.neweggimages.com/Brandimage_70x28/Brand1669.gif\" title=\"XFX\"/></a><a class=\"item-rating\" href=\"https://www.newegg.com/xfx-radeon-rx-6800-rx-68xlatbd9/p/N82E16814150845?IsFeedbackTab=true&amp;Item=N82E16814150845#scrollFullInfo\" title=\"Rating + 4\"><i class=\"rating rating-4\"></i><span class=\"item-rating-num\">(8)</span></a></div><a class=\"item-title\" href=\"https://www.newegg.com/xfx-radeon-rx-6800-rx-68xlatbd9/p/N82E16814150845?Item=N82E16814150845\" title=\"View Details\">XFX Speedster MERC319 Radeon RX 6800 BLACK 16GB GDDR6 HDMI DisplayPort PCIe 4.0 Gaming Graphic Card, RX-68XLATBD9</a><p class=\"item-promo\"><i class=\"item-promo-icon\"></i>OUT OF STOCK</p><ul class=\"item-features\"><li><strong>Core Clock:</strong> Primary Balanced BIOS: 1850 MHz\n",
       " Stealth BIOS: 1775 MHz</li><li><strong>DisplayPort:</strong> 3 x DisplayPort 1.4</li><li><strong>HDMI:</strong> 1 x HDMI 2.1</li><li><strong>Card Dimensions (L x H):</strong> 13.39\" x 5.43\"</li><li><strong>Model #: </strong>RX-68XLATBD9</li><li><strong>Item #: </strong>N82E16814150845</li><li><strong>Return Policy: </strong><a href=\"https://kb.newegg.com/Article/Index/12/3?id=1167#44\" target=\"_blank\" title=\"Standard Return Policy(New Window)\">Standard Return Policy</a></li></ul></div><div class=\"item-action\"><ul class=\"price\"><li class=\"price-was\"></li><li class=\"price-map\"> </li><li class=\"price-current\"><span class=\"price-current-label\"></span>$<strong>899</strong><sup>.99</sup> <a class=\"price-current-num\" href=\"https://www.newegg.com/xfx-radeon-rx-6800-rx-68xlatbd9/p/N82E16814150845?Item=N82E16814150845&amp;buyingoptions=New\">(3 Offers)</a><span class=\"price-current-range\"><abbr title=\"to\">–</abbr></span></li><li class=\"price-save\"></li><li class=\"price-ship\">$9.99 Shipping</li></ul><div class=\"item-operate hidden-action-button\"><div class=\"item-button-area\"><button class=\"btn btn-mini\" title=\"View Details \">View Details <i class=\"fas fa-caret-right\"></i></button></div><div class=\"item-compare-box\"><label class=\"form-checkbox\"><input autocomplete=\"off\" type=\"checkbox\"/><span class=\"form-checkbox-title\">Compare</span></label></div></div></div><div class=\"item-stock\" id=\"stock_14-150-845\"></div></div>]"
      ]
     },
     "metadata": {},
     "execution_count": 20
    }
   ],
   "source": [
    "page_soup.findAll(\"div\", {\"class\":\"item-container\"})"
   ]
  },
  {
   "cell_type": "code",
   "execution_count": 21,
   "metadata": {},
   "outputs": [
    {
     "output_type": "execute_result",
     "data": {
      "text/plain": [
       "12"
      ]
     },
     "metadata": {},
     "execution_count": 21
    }
   ],
   "source": [
    "len(containers)"
   ]
  },
  {
   "cell_type": "code",
   "execution_count": 22,
   "metadata": {},
   "outputs": [
    {
     "output_type": "execute_result",
     "data": {
      "text/plain": [
       "<div class=\"item-container\"><a class=\"item-img\" href=\"https://www.newegg.com/gigabyte-geforce-rtx-3080-gv-n3080aorus-x-10gd/p/N82E16814932345?Item=N82E16814932345\"><img alt=\"GIGABYTE AORUS GeForce RTX 3080 DirectX 12 GV-N3080AORUS X-10GD 10GB 320-Bit GDDR6X PCI Express 4.0 x16 ATX Video Card\" src=\"https://c1.neweggimages.com/ProductImageCompressAll300/14-932-345-01.jpg\" title=\"GIGABYTE AORUS GeForce RTX 3080 DirectX 12 GV-N3080AORUS X-10GD 10GB 320-Bit GDDR6X PCI Express 4.0 x16 ATX Video Card\"/></a><div class=\"item-info\"><div class=\"item-branding\"><a class=\"item-brand\" href=\"https://www.newegg.com/GIGABYTE/BrandStore/ID-1314\"><img alt=\"GIGABYTE\" src=\"https://c1.neweggimages.com/Brandimage_70x28/Brand1314.gif\" title=\"GIGABYTE\"/></a><a class=\"item-rating\" href=\"https://www.newegg.com/gigabyte-geforce-rtx-3080-gv-n3080aorus-x-10gd/p/N82E16814932345?IsFeedbackTab=true&amp;Item=N82E16814932345#scrollFullInfo\" title=\"Rating + 4\"><i class=\"rating rating-4\"></i><span class=\"item-rating-num\">(36)</span></a></div><a class=\"item-title\" href=\"https://www.newegg.com/gigabyte-geforce-rtx-3080-gv-n3080aorus-x-10gd/p/N82E16814932345?Item=N82E16814932345\" title=\"View Details\">GIGABYTE AORUS GeForce RTX 3080 DirectX 12 GV-N3080AORUS X-10GD Video Card</a><p class=\"item-promo\"><i class=\"item-promo-icon\"></i>OUT OF STOCK</p><ul class=\"item-features\"><li><strong>Max Resolution:</strong> 7680 x 4320</li><li><strong>DisplayPort:</strong> 3 x DisplayPort 1.4a</li><li><strong>HDMI:</strong> 2 x HDMI 2.1, 1 x HDMI 2.0 (The middle HDMI output supports up to HDMI 2.0)</li><li><strong>Card Dimensions (L x H):</strong> 12.56\" x 5.51\"</li><li><strong>Model #: </strong>GV-N3080AORUS X-10GD</li><li><strong>Item #: </strong>N82E16814932345</li><li><strong>Return Policy: </strong><a href=\"https://kb.newegg.com/Article/Index/12/3?id=1167#80\" target=\"_blank\" title=\"Replacement Only Return Policy(New Window)\">Replacement Only Return Policy</a></li></ul></div><div class=\"item-action\"><ul class=\"price\"><li class=\"price-was\"></li><li class=\"price-map\"> </li><li class=\"price-current\"><span class=\"price-current-label\"></span>$<strong>929</strong><sup>.99</sup> <span class=\"price-current-range\"><abbr title=\"to\">–</abbr></span></li><li class=\"price-save\"></li><li class=\"price-ship\">$9.99 Shipping</li></ul><div class=\"item-operate hidden-action-button\"><div class=\"item-button-area\"><button class=\"btn btn-mini\" title=\"View Details \">View Details <i class=\"fas fa-caret-right\"></i></button></div><div class=\"item-compare-box\"><label class=\"form-checkbox\"><input autocomplete=\"off\" type=\"checkbox\"/><span class=\"form-checkbox-title\">Compare</span></label></div></div></div><div class=\"item-stock\" id=\"stock_14-932-345\"></div></div>"
      ]
     },
     "metadata": {},
     "execution_count": 22
    }
   ],
   "source": [
    "containers[0]"
   ]
  },
  {
   "cell_type": "code",
   "execution_count": null,
   "metadata": {},
   "outputs": [],
   "source": []
  }
 ]
}