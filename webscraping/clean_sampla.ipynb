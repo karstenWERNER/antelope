{
 "metadata": {
  "language_info": {
   "codemirror_mode": {
    "name": "ipython",
    "version": 3
   },
   "file_extension": ".py",
   "mimetype": "text/x-python",
   "name": "python",
   "nbconvert_exporter": "python",
   "pygments_lexer": "ipython3",
   "version": "3.8.5-final"
  },
  "orig_nbformat": 2,
  "kernelspec": {
   "name": "python3",
   "display_name": "Python 3.8.5 64-bit (conda)",
   "metadata": {
    "interpreter": {
     "hash": "b3ba2566441a7c06988d0923437866b63cedc61552a5af99d1f4fb67d367b25f"
    }
   }
  }
 },
 "nbformat": 4,
 "nbformat_minor": 2,
 "cells": [
  {
   "cell_type": "code",
   "execution_count": 3,
   "metadata": {},
   "outputs": [],
   "source": [
    "import numpy as np\n",
    "import pandas as pd\n",
    "\n",
    "import matplotlib.pyplot as plt\n",
    "import seaborn as sns\n",
    "plt.style.use('seaborn')\n",
    "\n",
    "search_smartphone_df = pd.read_csv('search_smartphone.csv')\n",
    "search_processor_df = pd.read_csv('search_processor.csv')\n",
    "search_mouse_df = pd.read_csv('search_mouse.csv')\n",
    "search_monitor_df = pd.read_csv('search_monitor.csv')\n",
    "search_laptop_df = pd.read_csv('search_laptop.csv')\n",
    "search_keyboard_df = pd.read_csv('search_keyboard.csv')\n",
    "search_headphone_df = pd.read_csv('search_headphone.csv')\n",
    "search_dslr_df = pd.read_csv('search_dslr.csv')\n",
    "\n",
    "smartphone_df = pd.read_csv('product_output_smartphone.csv')\n",
    "processor_df = pd.read_csv('product_output_processor.csv')\n",
    "mouse_df = pd.read_csv('product_output_mouse.csv')\n",
    "monitor_df = pd.read_csv('product_output_monitor.csv')\n",
    "laptop_df = pd.read_csv('product_output_laptop.csv')\n",
    "keyboard_df = pd.read_csv('product_output_keyboard.csv')\n",
    "headphones_df = pd.read_csv('product_output_headphones.csv')\n",
    "dslr_df = pd.read_csv('product_output_dslr.csv')\n"
   ]
  },
  {
   "cell_type": "code",
   "execution_count": 4,
   "metadata": {},
   "outputs": [
    {
     "output_type": "execute_result",
     "data": {
      "text/plain": [
       "        Unnamed: 0  Best_seller_rank  Item_weight\n",
       "count  3495.000000      3.495000e+03  3308.000000\n",
       "mean   4012.135050      1.466127e+04     1.714272\n",
       "std    2721.921742      6.937294e+04     2.607883\n",
       "min       0.000000      0.000000e+00     0.000160\n",
       "25%    1534.000000      9.350000e+01     0.460800\n",
       "50%    3683.000000      4.350000e+02     1.152000\n",
       "75%    6434.500000      1.679000e+03     2.000000\n",
       "max    8715.000000      1.315597e+06    52.000000"
      ],
      "text/html": "<div>\n<style scoped>\n    .dataframe tbody tr th:only-of-type {\n        vertical-align: middle;\n    }\n\n    .dataframe tbody tr th {\n        vertical-align: top;\n    }\n\n    .dataframe thead th {\n        text-align: right;\n    }\n</style>\n<table border=\"1\" class=\"dataframe\">\n  <thead>\n    <tr style=\"text-align: right;\">\n      <th></th>\n      <th>Unnamed: 0</th>\n      <th>Best_seller_rank</th>\n      <th>Item_weight</th>\n    </tr>\n  </thead>\n  <tbody>\n    <tr>\n      <th>count</th>\n      <td>3495.000000</td>\n      <td>3.495000e+03</td>\n      <td>3308.000000</td>\n    </tr>\n    <tr>\n      <th>mean</th>\n      <td>4012.135050</td>\n      <td>1.466127e+04</td>\n      <td>1.714272</td>\n    </tr>\n    <tr>\n      <th>std</th>\n      <td>2721.921742</td>\n      <td>6.937294e+04</td>\n      <td>2.607883</td>\n    </tr>\n    <tr>\n      <th>min</th>\n      <td>0.000000</td>\n      <td>0.000000e+00</td>\n      <td>0.000160</td>\n    </tr>\n    <tr>\n      <th>25%</th>\n      <td>1534.000000</td>\n      <td>9.350000e+01</td>\n      <td>0.460800</td>\n    </tr>\n    <tr>\n      <th>50%</th>\n      <td>3683.000000</td>\n      <td>4.350000e+02</td>\n      <td>1.152000</td>\n    </tr>\n    <tr>\n      <th>75%</th>\n      <td>6434.500000</td>\n      <td>1.679000e+03</td>\n      <td>2.000000</td>\n    </tr>\n    <tr>\n      <th>max</th>\n      <td>8715.000000</td>\n      <td>1.315597e+06</td>\n      <td>52.000000</td>\n    </tr>\n  </tbody>\n</table>\n</div>"
     },
     "metadata": {},
     "execution_count": 4
    }
   ],
   "source": [
    "dslr_df.describe()"
   ]
  },
  {
   "cell_type": "code",
   "execution_count": 5,
   "metadata": {},
   "outputs": [
    {
     "output_type": "execute_result",
     "data": {
      "text/plain": [
       "   Unnamed: 0        ASIN                                              Title  \\\n",
       "0           0  B087T9B6X5  Canon EOS Rebel T100 DSLR Camera with 18-55mm ...   \n",
       "1           1  B08DQ4QQ6R  Canon EOS 4000D / Rebel T100 Digital SLR Camer...   \n",
       "2           2  B07Y5K1215  EOS 4000D Digital Camera with EF-S 18-55MM F/3...   \n",
       "3           3  B087SJ9S4W  Canon EOS Rebel T7 DSLR Camera with 18-55mm f/...   \n",
       "4           4  B07WFQYDD5  Canon DSLR Camera [EOS 90D] with Built-in Wi-F...   \n",
       "\n",
       "   Best_seller_rank Best_Sellers_Rank_fields  Item_weight  \\\n",
       "0              5336             Electronics          1.05   \n",
       "1              8273             Electronics          7.02   \n",
       "2             65740             Electronics          3.85   \n",
       "3             11370             Electronics          1.05   \n",
       "4              6672             Electronics          1.32   \n",
       "\n",
       "        Item_model_number First_date_available             Manufacturer  \n",
       "0    Canon EOS Rebel T100           2020-04-28  Al's Variety-Canon Intl  \n",
       "1                   4000D           2020-07-27       Canon Cameras Inc.  \n",
       "2  CN4000D-1855IIIDBB64GB           2019-02-22                Deal-Expo  \n",
       "3      Canon EOS Rebel T7           2020-04-28   ALS VARIETY-Canon Intl  \n",
       "4                3616C002           2019-08-28                Canon USA  "
      ],
      "text/html": "<div>\n<style scoped>\n    .dataframe tbody tr th:only-of-type {\n        vertical-align: middle;\n    }\n\n    .dataframe tbody tr th {\n        vertical-align: top;\n    }\n\n    .dataframe thead th {\n        text-align: right;\n    }\n</style>\n<table border=\"1\" class=\"dataframe\">\n  <thead>\n    <tr style=\"text-align: right;\">\n      <th></th>\n      <th>Unnamed: 0</th>\n      <th>ASIN</th>\n      <th>Title</th>\n      <th>Best_seller_rank</th>\n      <th>Best_Sellers_Rank_fields</th>\n      <th>Item_weight</th>\n      <th>Item_model_number</th>\n      <th>First_date_available</th>\n      <th>Manufacturer</th>\n    </tr>\n  </thead>\n  <tbody>\n    <tr>\n      <th>0</th>\n      <td>0</td>\n      <td>B087T9B6X5</td>\n      <td>Canon EOS Rebel T100 DSLR Camera with 18-55mm ...</td>\n      <td>5336</td>\n      <td>Electronics</td>\n      <td>1.05</td>\n      <td>Canon EOS Rebel T100</td>\n      <td>2020-04-28</td>\n      <td>Al's Variety-Canon Intl</td>\n    </tr>\n    <tr>\n      <th>1</th>\n      <td>1</td>\n      <td>B08DQ4QQ6R</td>\n      <td>Canon EOS 4000D / Rebel T100 Digital SLR Camer...</td>\n      <td>8273</td>\n      <td>Electronics</td>\n      <td>7.02</td>\n      <td>4000D</td>\n      <td>2020-07-27</td>\n      <td>Canon Cameras Inc.</td>\n    </tr>\n    <tr>\n      <th>2</th>\n      <td>2</td>\n      <td>B07Y5K1215</td>\n      <td>EOS 4000D Digital Camera with EF-S 18-55MM F/3...</td>\n      <td>65740</td>\n      <td>Electronics</td>\n      <td>3.85</td>\n      <td>CN4000D-1855IIIDBB64GB</td>\n      <td>2019-02-22</td>\n      <td>Deal-Expo</td>\n    </tr>\n    <tr>\n      <th>3</th>\n      <td>3</td>\n      <td>B087SJ9S4W</td>\n      <td>Canon EOS Rebel T7 DSLR Camera with 18-55mm f/...</td>\n      <td>11370</td>\n      <td>Electronics</td>\n      <td>1.05</td>\n      <td>Canon EOS Rebel T7</td>\n      <td>2020-04-28</td>\n      <td>ALS VARIETY-Canon Intl</td>\n    </tr>\n    <tr>\n      <th>4</th>\n      <td>4</td>\n      <td>B07WFQYDD5</td>\n      <td>Canon DSLR Camera [EOS 90D] with Built-in Wi-F...</td>\n      <td>6672</td>\n      <td>Electronics</td>\n      <td>1.32</td>\n      <td>3616C002</td>\n      <td>2019-08-28</td>\n      <td>Canon USA</td>\n    </tr>\n  </tbody>\n</table>\n</div>"
     },
     "metadata": {},
     "execution_count": 5
    }
   ],
   "source": [
    "dslr_df.head()"
   ]
  },
  {
   "cell_type": "code",
   "execution_count": 6,
   "metadata": {},
   "outputs": [
    {
     "output_type": "execute_result",
     "data": {
      "text/plain": [
       "Unnamed: 0                    int64\n",
       "ASIN                         object\n",
       "Title                        object\n",
       "Best_seller_rank              int64\n",
       "Best_Sellers_Rank_fields     object\n",
       "Item_weight                 float64\n",
       "Item_model_number            object\n",
       "First_date_available         object\n",
       "Manufacturer                 object\n",
       "dtype: object"
      ]
     },
     "metadata": {},
     "execution_count": 6
    }
   ],
   "source": [
    "dslr_df.dtypes"
   ]
  },
  {
   "cell_type": "code",
   "execution_count": 7,
   "metadata": {},
   "outputs": [
    {
     "output_type": "execute_result",
     "data": {
      "text/plain": [
       "Unnamed: 0                           int64\n",
       "ASIN                                object\n",
       "title                               object\n",
       "Batteries                           object\n",
       "Best_Sellers_Rank                    int64\n",
       "Best_Sellers_Rank_fields            object\n",
       "Brand                               object\n",
       "Card_Description                    object\n",
       "Chipset_Brand                       object\n",
       "Color                               object\n",
       "Computer_Memory_Type                object\n",
       "Customer_Reviews                    object\n",
       "Date_First_Available                object\n",
       "Memory_Speed_(GB)                  float64\n",
       "Graphics_Coprocessor                object\n",
       "Hard_Drive_Interface                object\n",
       "Hardware_Platform                   object\n",
       "Is_Discontinued_By_Manufacturer     object\n",
       "Item_Weight_(pounds)               float64\n",
       "Item_model_number                   object\n",
       "Manufacturer                        object\n",
       "Max_Screen_Resolution               object\n",
       "Memory_Speed_(GHz)                 float64\n",
       "Number_of_USB_2.0_Ports            float64\n",
       "Operating_System                    object\n",
       "Power_Source                        object\n",
       "Processor_Count                    float64\n",
       "Product_Dimensions_(inches)         object\n",
       "Series                              object\n",
       "Wireless_Type                       object\n",
       "seller                              object\n",
       "seller_link                         object\n",
       "dtype: object"
      ]
     },
     "metadata": {},
     "execution_count": 7
    }
   ],
   "source": [
    "processor_df.dtypes"
   ]
  },
  {
   "cell_type": "code",
   "execution_count": 9,
   "metadata": {},
   "outputs": [
    {
     "output_type": "execute_result",
     "data": {
      "text/plain": [
       "   Unnamed: 0        ASIN                                              title  \\\n",
       "0           0  B07STGGQ18  AMD Ryzen 5 3600 6-Core, 12-Thread Unlocked De...   \n",
       "1           1  B07B41WS48  AMD Ryzen 5 2600 Processor with Wraith Stealth...   \n",
       "\n",
       "  Batteries  Best_Sellers_Rank  Best_Sellers_Rank_fields Brand  \\\n",
       "0       NaN                  1   Computer CPU Processors   AMD   \n",
       "1       NaN                 17   Computer CPU Processors   AMD   \n",
       "\n",
       "  Card_Description Chipset_Brand Color  ... Memory_Speed_(GHz)  \\\n",
       "0              NaN           NaN   NaN  ...                NaN   \n",
       "1              NaN           NaN   NaN  ...                NaN   \n",
       "\n",
       "  Number_of_USB_2.0_Ports Operating_System  Power_Source Processor_Count  \\\n",
       "0                     NaN              NaN           NaN             6.0   \n",
       "1                     NaN              NaN           NaN             6.0   \n",
       "\n",
       "  Product_Dimensions_(inches)   Series Wireless_Type  seller seller_link  \n",
       "0         1.57 x 1.57 x 0.24   Ryzen 5           NaN     NaN         NaN  \n",
       "1            1.6 x 1.6 x 0.3       NaN       802.11a     NaN         NaN  \n",
       "\n",
       "[2 rows x 32 columns]"
      ],
      "text/html": "<div>\n<style scoped>\n    .dataframe tbody tr th:only-of-type {\n        vertical-align: middle;\n    }\n\n    .dataframe tbody tr th {\n        vertical-align: top;\n    }\n\n    .dataframe thead th {\n        text-align: right;\n    }\n</style>\n<table border=\"1\" class=\"dataframe\">\n  <thead>\n    <tr style=\"text-align: right;\">\n      <th></th>\n      <th>Unnamed: 0</th>\n      <th>ASIN</th>\n      <th>title</th>\n      <th>Batteries</th>\n      <th>Best_Sellers_Rank</th>\n      <th>Best_Sellers_Rank_fields</th>\n      <th>Brand</th>\n      <th>Card_Description</th>\n      <th>Chipset_Brand</th>\n      <th>Color</th>\n      <th>...</th>\n      <th>Memory_Speed_(GHz)</th>\n      <th>Number_of_USB_2.0_Ports</th>\n      <th>Operating_System</th>\n      <th>Power_Source</th>\n      <th>Processor_Count</th>\n      <th>Product_Dimensions_(inches)</th>\n      <th>Series</th>\n      <th>Wireless_Type</th>\n      <th>seller</th>\n      <th>seller_link</th>\n    </tr>\n  </thead>\n  <tbody>\n    <tr>\n      <th>0</th>\n      <td>0</td>\n      <td>B07STGGQ18</td>\n      <td>AMD Ryzen 5 3600 6-Core, 12-Thread Unlocked De...</td>\n      <td>NaN</td>\n      <td>1</td>\n      <td>Computer CPU Processors</td>\n      <td>AMD</td>\n      <td>NaN</td>\n      <td>NaN</td>\n      <td>NaN</td>\n      <td>...</td>\n      <td>NaN</td>\n      <td>NaN</td>\n      <td>NaN</td>\n      <td>NaN</td>\n      <td>6.0</td>\n      <td>1.57 x 1.57 x 0.24</td>\n      <td>Ryzen 5</td>\n      <td>NaN</td>\n      <td>NaN</td>\n      <td>NaN</td>\n    </tr>\n    <tr>\n      <th>1</th>\n      <td>1</td>\n      <td>B07B41WS48</td>\n      <td>AMD Ryzen 5 2600 Processor with Wraith Stealth...</td>\n      <td>NaN</td>\n      <td>17</td>\n      <td>Computer CPU Processors</td>\n      <td>AMD</td>\n      <td>NaN</td>\n      <td>NaN</td>\n      <td>NaN</td>\n      <td>...</td>\n      <td>NaN</td>\n      <td>NaN</td>\n      <td>NaN</td>\n      <td>NaN</td>\n      <td>6.0</td>\n      <td>1.6 x 1.6 x 0.3</td>\n      <td>NaN</td>\n      <td>802.11a</td>\n      <td>NaN</td>\n      <td>NaN</td>\n    </tr>\n  </tbody>\n</table>\n<p>2 rows × 32 columns</p>\n</div>"
     },
     "metadata": {},
     "execution_count": 9
    }
   ],
   "source": [
    "processor_df.head(2)"
   ]
  },
  {
   "cell_type": "code",
   "execution_count": 15,
   "metadata": {},
   "outputs": [
    {
     "output_type": "execute_result",
     "data": {
      "text/plain": [
       "Unnamed: 0                                0\n",
       "Title                                     0\n",
       "ASIN                                      0\n",
       "Brand                                   636\n",
       "Best_Sellers_Rank                         0\n",
       "Best_Sellers_Ranking_Fields               3\n",
       "Product_Dimensions_Inches                 1\n",
       "Item_Weight_Pounds                        1\n",
       "Date_First_Available                     20\n",
       "Is_Discontinued_By_Manufacturer         943\n",
       "Item_Model_Number                       763\n",
       "Batteries                              1174\n",
       "Voltage                                1338\n",
       "Series                                 1300\n",
       "National_Stock_Number                  1342\n",
       "Chipset_Brand                          1343\n",
       "Batteries_Required                     1341\n",
       "Wireless_Type                          1343\n",
       "Standing_screen_display_size_Inches    1343\n",
       "Max_Screen_Resolution_Pixels           1343\n",
       "Part_Number                            1341\n",
       "Item_Package_Quantity                  1342\n",
       "Color                                   696\n",
       "Number_of_USB_2point0_Ports            1344\n",
       "Number_of_USB_3point0_Ports            1344\n",
       "Computer_Memory_Type                   1339\n",
       "Average_Battery_Life_In_Hours          1343\n",
       "Processor_Count                        1339\n",
       "dtype: int64"
      ]
     },
     "metadata": {},
     "execution_count": 15
    }
   ],
   "source": [
    "mouse_df.isna().sum()"
   ]
  },
  {
   "cell_type": "code",
   "execution_count": null,
   "metadata": {},
   "outputs": [],
   "source": []
  }
 ]
}