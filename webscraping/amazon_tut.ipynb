{
 "metadata": {
  "language_info": {
   "codemirror_mode": {
    "name": "ipython",
    "version": 3
   },
   "file_extension": ".py",
   "mimetype": "text/x-python",
   "name": "python",
   "nbconvert_exporter": "python",
   "pygments_lexer": "ipython3",
   "version": "3.8.5-final"
  },
  "orig_nbformat": 2,
  "kernelspec": {
   "name": "python3",
   "display_name": "Python 3",
   "language": "python"
  }
 },
 "nbformat": 4,
 "nbformat_minor": 2,
 "cells": [
  {
   "cell_type": "code",
   "execution_count": 3,
   "metadata": {},
   "outputs": [],
   "source": [
    "# https://www.journaldev.com/44473/scrape-amazon-product-information-beautiful-soup#sending-a-request-to-a-url\n",
    "from bs4 import BeautifulSoup # HTML data structure\n",
    "import requests\n",
    "\n",
    "#HEADERS = ({'User-Agent':\n",
    "#            'Mozilla/5.0 (X11; Linux x86_64) AppleWebKit/537.36 (KHTML, like Gecko) Chrome/44.0.2403.157 Safari/537.36',\n",
    "#            'Accept-Language': 'en-US, en;q=0.5'})\n",
    "\n",
    "HEADERS = ({'User-Agent':\n",
    "            'Mozilla/5.0 (Windows NT 10.0; Win64; x64) AppleWebKit/537.36 (KHTML, like Gecko) Chrome/74.0.3729.169 Safari/537.36',\n",
    "            'Accept-Language': 'en-US, en;q=0.5'})\n",
    "\n",
    "# URl to web scrap from.\n",
    "page_url = \"https://www.amazon.com/Hisense-40-Inch-Class-Compatibility-40H4F/dp/B084B1T8KK/\"\n",
    "\n",
    "webpage = requests.get(page_url, headers=HEADERS)\n",
    "\n",
    "soup = BeautifulSoup(webpage.content, \"lxml\")\n",
    "\n",
    "# Outer Tag Object and attributes\n",
    "title = soup.find(\"span\", attrs={\"id\":'productTitle'}).string.strip()\n",
    "price = soup.find(\"span\", attrs={\"id\":'priceblock_ourprice'}).string.strip()\n",
    "rating = soup.find(\"i\", attrs={\"class\":'a-icon a-icon-star a-star-4-5'}).string.strip()\n",
    "size = soup.find(\"span\", attrs={\"class\":'selection'}).string.strip()\n",
    "shipping = soup.find(\"span\", attrs={\"class\":\"a-size-base a-color-secondary\"}).string.strip()\n",
    "# The following is is in a table\n",
    "features = soup.find(\"table\", attrs={\"class\":'a-normal a-spacing-micro'})"
   ]
  },
  {
   "cell_type": "code",
   "execution_count": 4,
   "metadata": {},
   "outputs": [
    {
     "output_type": "execute_result",
     "data": {
      "text/plain": [
       "<table class=\"a-normal a-spacing-micro\">\n",
       "<tr class=\"a-spacing-small\">\n",
       "<td class=\"a-span3\">\n",
       "<span class=\"a-size-base a-text-bold\">Mounting Type</span>\n",
       "</td>\n",
       "<td class=\"a-span9\">\n",
       "<span class=\"a-size-base\">TV stand (included), wall mount (hardware sold separately)</span>\n",
       "</td>\n",
       "</tr>\n",
       "<tr class=\"a-spacing-small\">\n",
       "<td class=\"a-span3\">\n",
       "<span class=\"a-size-base a-text-bold\">Brand</span>\n",
       "</td>\n",
       "<td class=\"a-span9\">\n",
       "<span class=\"a-size-base\">Hisense</span>\n",
       "</td>\n",
       "</tr>\n",
       "<tr class=\"a-spacing-small\">\n",
       "<td class=\"a-span3\">\n",
       "<span class=\"a-size-base a-text-bold\">Resolution</span>\n",
       "</td>\n",
       "<td class=\"a-span9\">\n",
       "<span class=\"a-size-base\">1080p</span>\n",
       "</td>\n",
       "</tr>\n",
       "<tr class=\"a-spacing-small\">\n",
       "<td class=\"a-span3\">\n",
       "<span class=\"a-size-base a-text-bold\">Connectivity Technology</span>\n",
       "</td>\n",
       "<td class=\"a-span9\">\n",
       "<span class=\"a-size-base\">Wireless</span>\n",
       "</td>\n",
       "</tr>\n",
       "<tr class=\"a-spacing-small\">\n",
       "<td class=\"a-span3\">\n",
       "<span class=\"a-size-base a-text-bold\">Display Technology</span>\n",
       "</td>\n",
       "<td class=\"a-span9\">\n",
       "<span class=\"a-size-base\">LED</span>\n",
       "</td>\n",
       "</tr>\n",
       "</table>"
      ]
     },
     "metadata": {},
     "execution_count": 4
    }
   ],
   "source": [
    "features"
   ]
  },
  {
   "cell_type": "code",
   "execution_count": 7,
   "metadata": {},
   "outputs": [
    {
     "output_type": "stream",
     "name": "stdout",
     "text": [
      "\n\nMounting Type\n\n\nTV stand (included), wall mount (hardware sold separately)\n\n\n\n\nBrand\n\n\nHisense\n\n\n\n\nResolution\n\n\n1080p\n\n\n\n\nConnectivity Technology\n\n\nWireless\n\n\n\n\nDisplay Technology\n\n\nLED\n\n\n"
     ]
    }
   ],
   "source": [
    "rows  = features.find_all('tr')\n",
    "for row in rows:\n",
    "    print(row.get_text())"
   ]
  },
  {
   "cell_type": "code",
   "execution_count": 9,
   "metadata": {},
   "outputs": [
    {
     "output_type": "stream",
     "name": "stdout",
     "text": [
      "<tr class=\"a-spacing-small\">\n<td class=\"a-span3\">\n<span class=\"a-size-base a-text-bold\">Mounting Type</span>\n</td>\n<td class=\"a-span9\">\n<span class=\"a-size-base\">TV stand (included), wall mount (hardware sold separately)</span>\n</td>\n</tr>\n<tr class=\"a-spacing-small\">\n<td class=\"a-span3\">\n<span class=\"a-size-base a-text-bold\">Brand</span>\n</td>\n<td class=\"a-span9\">\n<span class=\"a-size-base\">Hisense</span>\n</td>\n</tr>\n<tr class=\"a-spacing-small\">\n<td class=\"a-span3\">\n<span class=\"a-size-base a-text-bold\">Resolution</span>\n</td>\n<td class=\"a-span9\">\n<span class=\"a-size-base\">1080p</span>\n</td>\n</tr>\n<tr class=\"a-spacing-small\">\n<td class=\"a-span3\">\n<span class=\"a-size-base a-text-bold\">Connectivity Technology</span>\n</td>\n<td class=\"a-span9\">\n<span class=\"a-size-base\">Wireless</span>\n</td>\n</tr>\n<tr class=\"a-spacing-small\">\n<td class=\"a-span3\">\n<span class=\"a-size-base a-text-bold\">Display Technology</span>\n</td>\n<td class=\"a-span9\">\n<span class=\"a-size-base\">LED</span>\n</td>\n</tr>\n"
     ]
    }
   ],
   "source": [
    "for row in rows:\n",
    "    print(row)"
   ]
  },
  {
   "cell_type": "code",
   "execution_count": null,
   "metadata": {},
   "outputs": [],
   "source": [
    "# Something like this would be nice:\n",
    " for tag in soup.find_all('li'):\n",
    "        print(f'{tag.name}: {tag.text}')"
   ]
  },
  {
   "cell_type": "code",
   "execution_count": 34,
   "metadata": {},
   "outputs": [
    {
     "output_type": "execute_result",
     "data": {
      "text/plain": [
       "'Hisense 40-Inch Class H4 Series LED Roku Smart TV with Alexa Compatibility (40H4F, 2020 Model)'"
      ]
     },
     "metadata": {},
     "execution_count": 34
    }
   ],
   "source": [
    "title"
   ]
  },
  {
   "cell_type": "code",
   "execution_count": 15,
   "metadata": {},
   "outputs": [],
   "source": [
    "# Inner NavigableString Object\n",
    "# when .string.strip() above is omitted\n",
    "#title_value = title.string"
   ]
  },
  {
   "cell_type": "code",
   "execution_count": 16,
   "metadata": {},
   "outputs": [
    {
     "output_type": "execute_result",
     "data": {
      "text/plain": [
       "'\\n\\n\\n\\n\\n\\n\\n\\nHisense 40-Inch Class H4 Series LED Roku Smart TV with Alexa Compatibility (40H4F, 2020 Model)\\n\\n\\n\\n\\n\\n\\n'"
      ]
     },
     "metadata": {},
     "execution_count": 16
    }
   ],
   "source": [
    "# when .string.strip() above is omitted\n",
    "#title_value"
   ]
  },
  {
   "cell_type": "code",
   "execution_count": 17,
   "metadata": {},
   "outputs": [],
   "source": [
    "# Title as a string value\n",
    "#title_string = title_value.strip()"
   ]
  },
  {
   "cell_type": "code",
   "execution_count": 18,
   "metadata": {},
   "outputs": [
    {
     "output_type": "execute_result",
     "data": {
      "text/plain": [
       "'Hisense 40-Inch Class H4 Series LED Roku Smart TV with Alexa Compatibility (40H4F, 2020 Model)'"
      ]
     },
     "metadata": {},
     "execution_count": 18
    }
   ],
   "source": [
    "#title_string"
   ]
  },
  {
   "cell_type": "code",
   "execution_count": 19,
   "metadata": {},
   "outputs": [
    {
     "output_type": "stream",
     "name": "stdout",
     "text": [
      "<class 'bs4.element.Tag'>\n<class 'bs4.element.NavigableString'>\n<class 'str'>\n\nProduct Title =  Hisense 40-Inch Class H4 Series LED Roku Smart TV with Alexa Compatibility (40H4F, 2020 Model)\n"
     ]
    }
   ],
   "source": [
    "# Printing types of values for efficient understanding\n",
    "print(type(title))\n",
    "print(type(title_value))\n",
    "print(type(title_string))\n",
    "print()\n",
    " \n",
    "# Printing Product Title\n",
    "print(\"Product Title = \", title_string)\n"
   ]
  },
  {
   "cell_type": "code",
   "execution_count": 21,
   "metadata": {},
   "outputs": [
    {
     "output_type": "execute_result",
     "data": {
      "text/plain": [
       "<i class=\"a-icon a-icon-star a-star-4-5\"><span class=\"a-icon-alt\">4.6 out of 5 stars</span></i>"
      ]
     },
     "metadata": {},
     "execution_count": 21
    }
   ],
   "source": [
    "rating"
   ]
  },
  {
   "cell_type": "code",
   "execution_count": 26,
   "metadata": {},
   "outputs": [
    {
     "output_type": "execute_result",
     "data": {
      "text/plain": [
       "'4.6 out of 5 stars'"
      ]
     },
     "metadata": {},
     "execution_count": 26
    }
   ],
   "source": [
    "# .string.strip() will be added to declaration of rating itself\n",
    "# rating.string.strip()"
   ]
  },
  {
   "cell_type": "code",
   "execution_count": 38,
   "metadata": {},
   "outputs": [
    {
     "output_type": "execute_result",
     "data": {
      "text/plain": [
       "'Hisense 40-Inch Class H4 Series LED Roku Smart TV with Alexa Compatibility (40H4F, 2020 Model)'"
      ]
     },
     "metadata": {},
     "execution_count": 38
    }
   ],
   "source": [
    "title"
   ]
  },
  {
   "cell_type": "code",
   "execution_count": 35,
   "metadata": {},
   "outputs": [
    {
     "output_type": "execute_result",
     "data": {
      "text/plain": [
       "'40-Inch'"
      ]
     },
     "metadata": {},
     "execution_count": 35
    }
   ],
   "source": [
    "\n",
    "\n",
    "size"
   ]
  },
  {
   "cell_type": "code",
   "execution_count": 37,
   "metadata": {},
   "outputs": [
    {
     "output_type": "execute_result",
     "data": {
      "text/plain": [
       "'$209.99'"
      ]
     },
     "metadata": {},
     "execution_count": 37
    }
   ],
   "source": [
    "price"
   ]
  },
  {
   "cell_type": "code",
   "execution_count": 36,
   "metadata": {},
   "outputs": [
    {
     "output_type": "execute_result",
     "data": {
      "text/plain": [
       "'4.6 out of 5 stars'"
      ]
     },
     "metadata": {},
     "execution_count": 36
    }
   ],
   "source": [
    "rating"
   ]
  },
  {
   "cell_type": "code",
   "execution_count": 32,
   "metadata": {},
   "outputs": [
    {
     "output_type": "execute_result",
     "data": {
      "text/plain": [
       "'$209.99'"
      ]
     },
     "metadata": {},
     "execution_count": 32
    }
   ],
   "source": [
    "#price.string.strip()"
   ]
  },
  {
   "cell_type": "code",
   "execution_count": 53,
   "metadata": {},
   "outputs": [
    {
     "output_type": "execute_result",
     "data": {
      "text/plain": [
       "'$261.27 Shipping & Import Fees Deposit to Germany'"
      ]
     },
     "metadata": {},
     "execution_count": 53
    }
   ],
   "source": [
    "shipping"
   ]
  },
  {
   "cell_type": "code",
   "execution_count": null,
   "metadata": {},
   "outputs": [],
   "source": [
    "\"\"\" from bs4 import BeautifulSoup\n",
    "import requests\n",
    " \n",
    "# Function to extract Product Title\n",
    "def get_title(soup):\n",
    "     \n",
    "    try:\n",
    "        # Outer Tag Object\n",
    "        title = soup.find(\"span\", attrs={\"id\":'productTitle'})\n",
    " \n",
    "        # Inner NavigableString Object\n",
    "        title_value = title.string\n",
    " \n",
    "        # Title as a string value\n",
    "        title_string = title_value.strip()\n",
    " \n",
    "        # # Printing types of values for efficient understanding\n",
    "        # print(type(title))\n",
    "        # print(type(title_value))\n",
    "        # print(type(title_string))\n",
    "        # print()\n",
    " \n",
    "    except AttributeError:\n",
    "        title_string = \"\"   \n",
    " \n",
    "    return title_string\n",
    " \n",
    "# Function to extract Product Price\n",
    "def get_price(soup):\n",
    " \n",
    "    try:\n",
    "        price = soup.find(\"span\", attrs={'id':'priceblock_ourprice'}).string.strip()\n",
    " \n",
    "    except AttributeError:\n",
    "        price = \"\"  \n",
    " \n",
    "    return price\n",
    " \n",
    "# Function to extract Product Rating\n",
    "def get_rating(soup):\n",
    " \n",
    "    try:\n",
    "        rating = soup.find(\"i\", attrs={'class':'a-icon a-icon-star a-star-4-5'}).string.strip()\n",
    "         \n",
    "    except AttributeError:\n",
    "         \n",
    "        try:\n",
    "            rating = soup.find(\"span\", attrs={'class':'a-icon-alt'}).string.strip()\n",
    "        except:\n",
    "            rating = \"\" \n",
    " \n",
    "    return rating\n",
    " \n",
    "# Function to extract Number of User Reviews\n",
    "def get_review_count(soup):\n",
    "    try:\n",
    "        review_count = soup.find(\"span\", attrs={'id':'acrCustomerReviewText'}).string.strip()\n",
    "         \n",
    "    except AttributeError:\n",
    "        review_count = \"\"   \n",
    " \n",
    "    return review_count\n",
    " \n",
    "# Function to extract Availability Status\n",
    "def get_availability(soup):\n",
    "    try:\n",
    "        available = soup.find(\"div\", attrs={'id':'availability'})\n",
    "        available = available.find(\"span\").string.strip()\n",
    " \n",
    "    except AttributeError:\n",
    "        available = \"\"  \n",
    " \n",
    "    return available    \n",
    " \n",
    "if __name__ == '__main__':\n",
    " \n",
    "    # Headers for request\n",
    "    HEADERS = ({'User-Agent':\n",
    "                'Mozilla/5.0 (X11; Linux x86_64) AppleWebKit/537.36 (KHTML, like Gecko) Chrome/44.0.2403.157 Safari/537.36',\n",
    "                'Accept-Language': 'en-US, en;q=0.5'})\n",
    " \n",
    "    # The webpage URL\n",
    "    URL = \"https://www.amazon.com/Sony-PlayStation-Pro-1TB-Console-4/dp/B07K14XKZH/\"\n",
    " \n",
    "    # HTTP Request\n",
    "    webpage = requests.get(URL, headers=HEADERS)\n",
    " \n",
    "    # Soup Object containing all data\n",
    "    soup = BeautifulSoup(webpage.content, \"lxml\")\n",
    " \n",
    "    # Function calls to display all necessary product information\n",
    "    print(\"Product Title =\", get_title(soup))\n",
    "    print(\"Product Price =\", get_price(soup))\n",
    "    print(\"Product Rating =\", get_rating(soup))\n",
    "    print(\"Number of Product Reviews =\", get_review_count(soup))\n",
    "    print(\"Availability =\", get_availability(soup))\n",
    "    print()\n",
    "    print()\n",
    "    \"\"\""
   ]
  }
 ]
}