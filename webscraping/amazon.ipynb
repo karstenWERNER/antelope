{
 "metadata": {
  "language_info": {
   "codemirror_mode": {
    "name": "ipython",
    "version": 3
   },
   "file_extension": ".py",
   "mimetype": "text/x-python",
   "name": "python",
   "nbconvert_exporter": "python",
   "pygments_lexer": "ipython3",
   "version": "3.8.5-final"
  },
  "orig_nbformat": 2,
  "kernelspec": {
   "name": "python3",
   "display_name": "Python 3",
   "language": "python"
  }
 },
 "nbformat": 4,
 "nbformat_minor": 2,
 "cells": [
  {
   "cell_type": "code",
   "execution_count": 65,
   "metadata": {},
   "outputs": [],
   "source": [
    "from bs4 import BeautifulSoup # HTML data structure\n",
    "import requests\n",
    "\n",
    "#HEADERS = ({'User-Agent':\n",
    "#            'Mozilla/5.0 (X11; Linux x86_64) AppleWebKit/537.36 (KHTML, like Gecko) Chrome/44.0.2403.157 Safari/537.36',\n",
    "#            'Accept-Language': 'en-US, en;q=0.5'})\n",
    "\n",
    "HEADERS = ({'User-Agent':\n",
    "            'Mozilla/5.0 (Windows NT 10.0; Win64; x64) AppleWebKit/537.36 (KHTML, like Gecko) Chrome/74.0.3729.169 Safari/537.36',\n",
    "            'Accept-Language': 'en-US, en;q=0.5'})\n",
    "\n",
    "# URl to web scrap from.\n",
    "page_url = \"https://www.amazon.com/All-New-Insignia-NS-65DF710NA21-65-inch-Smart/dp/B08CVV2Z32/\"\n",
    "\n",
    "\n",
    "webpage = requests.get(page_url, headers=HEADERS)\n",
    "\n",
    "soup = BeautifulSoup(webpage.content, \"lxml\")\n",
    "\n",
    "# Outer Tag Object and attributes\n",
    "title = soup.find(\"span\", attrs={\"id\":'productTitle'}).string.strip()\n",
    "price = soup.find(\"span\", attrs={\"id\":'priceblock_dealprice'}).string.strip()\n",
    "#price = soup.find(\"span\", attrs={\"id\":'priceblock_ourprice'}).string.strip()\n",
    "rating = soup.find(\"i\", attrs={\"class\":'a-icon a-icon-star a-star-4-5'}).string.strip()\n",
    "size = soup.find(\"span\", attrs={\"class\":'selection'}).string.strip()\n",
    "#shipping = soup.find(\"span\", attrs={\"class\":\"a-size-base a-color-secondary\"}).string.strip()\n",
    "# The following is is in a table\n",
    "#resolution = soup.find(\"span\", attrs={\"class\":'a-span3 a-span9'})\n",
    "#display_tech = soup.find(\"span\", attrs={\"class\":'a-span3 a-span9'})\n",
    "#brand = soup.find(\"span\", attrs={\"class\":'a-span3 a-span9'})"
   ]
  },
  {
   "cell_type": "code",
   "execution_count": 60,
   "metadata": {},
   "outputs": [
    {
     "output_type": "execute_result",
     "data": {
      "text/plain": [
       "'All New Insignia NS-70DF710NA21 70-inch Smart 4K UHD - FireTV Edition, Released 2020'"
      ]
     },
     "metadata": {},
     "execution_count": 60
    }
   ],
   "source": [
    "title"
   ]
  },
  {
   "cell_type": "code",
   "execution_count": 66,
   "metadata": {},
   "outputs": [
    {
     "output_type": "execute_result",
     "data": {
      "text/plain": [
       "'4.6 out of 5 stars'"
      ]
     },
     "metadata": {},
     "execution_count": 66
    }
   ],
   "source": [
    "rating"
   ]
  },
  {
   "cell_type": "code",
   "execution_count": 67,
   "metadata": {},
   "outputs": [
    {
     "output_type": "execute_result",
     "data": {
      "text/plain": [
       "'70-inch'"
      ]
     },
     "metadata": {},
     "execution_count": 67
    }
   ],
   "source": [
    "\n",
    "\n",
    "size"
   ]
  },
  {
   "cell_type": "code",
   "execution_count": 68,
   "metadata": {},
   "outputs": [
    {
     "output_type": "execute_result",
     "data": {
      "text/plain": [
       "'$549.99'"
      ]
     },
     "metadata": {},
     "execution_count": 68
    }
   ],
   "source": [
    "price"
   ]
  },
  {
   "cell_type": "code",
   "execution_count": 53,
   "metadata": {},
   "outputs": [
    {
     "output_type": "execute_result",
     "data": {
      "text/plain": [
       "'$261.27 Shipping & Import Fees Deposit to Germany'"
      ]
     },
     "metadata": {},
     "execution_count": 53
    }
   ],
   "source": [
    "shipping"
   ]
  },
  {
   "cell_type": "code",
   "execution_count": null,
   "metadata": {},
   "outputs": [],
   "source": []
  }
 ]
}