{
 "metadata": {
  "language_info": {
   "codemirror_mode": {
    "name": "ipython",
    "version": 3
   },
   "file_extension": ".py",
   "mimetype": "text/x-python",
   "name": "python",
   "nbconvert_exporter": "python",
   "pygments_lexer": "ipython3",
   "version": "3.8.5-final"
  },
  "orig_nbformat": 2,
  "kernelspec": {
   "name": "python3",
   "display_name": "Python 3",
   "language": "python"
  }
 },
 "nbformat": 4,
 "nbformat_minor": 2,
 "cells": [
  {
   "cell_type": "code",
   "execution_count": 1,
   "metadata": {},
   "outputs": [],
   "source": [
    "from bs4 import BeautifulSoup\n",
    "import requests\n",
    "from __future__ import print_function\n",
    "\n",
    "import mysql.connector\n",
    "from mysql.connector import errorcode\n",
    "\n",
    "HEADERS = ({'User-Agent':\n",
    "            'Mozilla/5.0 (Windows NT 10.0; Win64; x64) AppleWebKit/537.36 (KHTML, like Gecko) Chrome/74.0.3729.169 Safari/537.36',\n",
    "            'Accept-Language': 'en-US, en;q=0.5'})\n",
    "\n",
    "# URl to web scrap from.\n",
    "page_url = \"https://www.amazon.com/All-New-Insignia-NS-65DF710NA21-65-inch-Smart/dp/B08CVV2Z32/\"\n",
    "\n",
    "\n",
    "webpage = requests.get(page_url, headers=HEADERS)\n",
    "\n",
    "soup = BeautifulSoup(webpage.content, \"lxml\")\n",
    "\n",
    "# Outer Tag Object and attributes\n",
    "title = soup.find(\"span\", attrs={\"id\":'productTitle'}).string.strip()\n",
    "# This is a special deal, so the id is named dealprice and not ourprice\n",
    "#price = soup.find(\"span\", attrs={\"id\":'priceblock_ourprice'}).string.strip()\n",
    "price = soup.find(\"span\", attrs={\"id\":'priceblock_dealprice'}).string.strip()\n",
    "rating = soup.find(\"i\", attrs={\"class\":'a-icon a-icon-star a-star-4-5'}).string.strip()\n",
    "size = soup.find(\"span\", attrs={\"class\":'selection'}).string.strip()\n",
    "\n",
    "# The product is not available for Germany, so no shipping price\n",
    "#shipping = soup.find(\"span\", attrs={\"class\":\"a-size-base a-color-secondary\"}).string.strip()"
   ]
  },
  {
   "cell_type": "code",
   "execution_count": 2,
   "metadata": {},
   "outputs": [
    {
     "output_type": "execute_result",
     "data": {
      "text/plain": [
       "'All New Insignia NS-70DF710NA21 70-inch Smart 4K UHD - FireTV Edition, Released 2020'"
      ]
     },
     "metadata": {},
     "execution_count": 2
    }
   ],
   "source": [
    "title"
   ]
  },
  {
   "cell_type": "code",
   "execution_count": 3,
   "metadata": {},
   "outputs": [
    {
     "output_type": "execute_result",
     "data": {
      "text/plain": [
       "'4.6 out of 5 stars'"
      ]
     },
     "metadata": {},
     "execution_count": 3
    }
   ],
   "source": [
    "rating"
   ]
  },
  {
   "cell_type": "code",
   "execution_count": 4,
   "metadata": {},
   "outputs": [
    {
     "output_type": "execute_result",
     "data": {
      "text/plain": [
       "'70-inch'"
      ]
     },
     "metadata": {},
     "execution_count": 4
    }
   ],
   "source": [
    "size"
   ]
  },
  {
   "cell_type": "code",
   "execution_count": 5,
   "metadata": {},
   "outputs": [
    {
     "output_type": "execute_result",
     "data": {
      "text/plain": [
       "'$549.99'"
      ]
     },
     "metadata": {},
     "execution_count": 5
    }
   ],
   "source": [
    "price"
   ]
  },
  {
   "cell_type": "code",
   "execution_count": 6,
   "metadata": {},
   "outputs": [],
   "source": [
    "# Put everything intoSQL db\n",
    "DB_NAME = 'amazon'\n",
    "\n",
    "\n",
    "cnx = mysql.connector.connect(user='root', password='kieselgur')\n",
    "cursor = cnx.cursor()\n",
    "\n",
    "def create_database(cursor):\n",
    "    try:\n",
    "        cursor.execute(\n",
    "            \"CREATE DATABASE {} DEFAULT CHARACTER SET 'utf8'\".format(DB_NAME))\n",
    "    except mysql.connector.Error as err:\n",
    "        print(\"Failed creating database: {}\".format(err))\n",
    "        exit(1)\n",
    "\n",
    "try:\n",
    "    cursor.execute(\"USE {}\".format(DB_NAME))\n",
    "except mysql.connector.Error as err:\n",
    "    print(\"Database {} does not exists.\".format(DB_NAME))\n",
    "    if err.errno == errorcode.ER_BAD_DB_ERROR:\n",
    "        create_database(cursor)\n",
    "        print(\"Database {} created successfully.\".format(DB_NAME))\n",
    "        cnx.database = DB_NAME\n",
    "    else:\n",
    "        print(err)\n",
    "        exit(1)\n",
    "\n",
    "cursor.close()\n",
    "cnx.close()"
   ]
  },
  {
   "cell_type": "code",
   "execution_count": 13,
   "metadata": {},
   "outputs": [
    {
     "output_type": "stream",
     "name": "stdout",
     "text": [
      "Creating table televisionsets: OK\n"
     ]
    }
   ],
   "source": [
    "cnx = mysql.connector.connect(user='root', password='kieselgur', database=DB_NAME)\n",
    "cursor = cnx.cursor()\n",
    "\n",
    "TABLES = {}\n",
    "TABLES['televisionsets'] = (\n",
    "    \"CREATE TABLE `televisionsets` (\"\n",
    "    \"  `id` int(11) NOT NULL AUTO_INCREMENT,\"\n",
    "    \"  `title` varchar(200) NOT NULL,\"\n",
    "    \"  `rating` varchar(64) NOT NULL,\"\n",
    "    \"  `size` varchar(64) NOT NULL,\"\n",
    "    \"  `price` varchar(64) NOT NULL,\"\n",
    "    \"  PRIMARY KEY (`id`)\"\n",
    "    \") ENGINE=InnoDB\")\n",
    "\n",
    "for table_name in TABLES:\n",
    "    table_description = TABLES[table_name]\n",
    "    try:\n",
    "        print(\"Creating table {}: \".format(table_name), end='')\n",
    "        cursor.execute(table_description)\n",
    "    except mysql.connector.Error as err:\n",
    "        if err.errno == errorcode.ER_TABLE_EXISTS_ERROR:\n",
    "            print(\"already exists.\")\n",
    "        else:\n",
    "            print(err.msg)\n",
    "    else:\n",
    "        print(\"OK\")\n",
    "\n",
    "cursor.close()\n",
    "cnx.close()"
   ]
  },
  {
   "cell_type": "code",
   "execution_count": 14,
   "metadata": {},
   "outputs": [],
   "source": [
    "cnx = mysql.connector.connect(user='root', password='kieselgur', database=DB_NAME)\n",
    "cursor = cnx.cursor()\n",
    "\n",
    "add_tv = (\"INSERT INTO televisionsets \"\n",
    "              \"(title, rating, size, price) \"\n",
    "              \"VALUES (%s, %s, %s, %s)\")\n",
    "\n",
    "data_tv = ( title, rating, size, price )\n",
    "\n",
    "cursor.execute(add_tv, data_tv)\n",
    "#id = cursor.lastrowid\n",
    "\n",
    "# Make sure data is committed to the database\n",
    "cnx.commit()\n",
    "\n",
    "cursor.close()\n",
    "cnx.close()\n"
   ]
  },
  {
   "cell_type": "code",
   "execution_count": null,
   "metadata": {},
   "outputs": [],
   "source": []
  }
 ]
}