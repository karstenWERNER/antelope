{
 "metadata": {
  "language_info": {
   "codemirror_mode": {
    "name": "ipython",
    "version": 3
   },
   "file_extension": ".py",
   "mimetype": "text/x-python",
   "name": "python",
   "nbconvert_exporter": "python",
   "pygments_lexer": "ipython3",
   "version": "3.8.5-final"
  },
  "orig_nbformat": 2,
  "kernelspec": {
   "name": "python3",
   "display_name": "Python 3",
   "language": "python"
  }
 },
 "nbformat": 4,
 "nbformat_minor": 2,
 "cells": [
  {
   "cell_type": "code",
   "execution_count": 1,
   "metadata": {},
   "outputs": [],
   "source": [
    "# Here we are using the suggestion fro https://github.com/CodeAcademyBerlin/Data-Science/blob/master/Module%202/Week%204/Task1.md\n",
    "# for url\n",
    "f = open('search_processors_urls.txt', 'w+')\n",
    "url = 'https://www.amazon.com/s?k=processor&rh=n%3A229189&ref=nb_sb_noss_2'\n",
    "# possible alternative\n",
    "# https://www.amazon.com/s?k=Processor&rh=n%3A17923671011%2Cn%3A229189&dc&qid=1613535079&rnid=2941120011&ref=sr_nr_n_2\n",
    "f.write(url)\n",
    "f.write('\\n')\n",
    "\n",
    "for i in range(2,401):\n",
    "    url = 'https://www.amazon.com/s?k=processor&i=computers&rh=n%3A229189%2Cp_n_condition-type%3A2224371011&dc&page=' + str(i) + '&qid=1613531258&rnid=2224369011&ref=sr_pg_' + str(i)\n",
    "    f.write(url)\n",
    "    f.write('\\n')\n",
    "f.close()"
   ]
  },
  {
   "cell_type": "code",
   "execution_count": 2,
   "metadata": {},
   "outputs": [],
   "source": [
    "# Frome here on forward we are using what is shown in the browser when searchin on amazon.com\n",
    "f = open('search_laptops_urls.txt', 'w+')\n",
    "url = 'https://www.amazon.com/s?k=laptop&i=computers&rh=n%3A13896617011%2Cp_n_condition-type%3A2224371011&dc&qid=1613532301&ref=sr_ex_p_n_date_0'\n",
    "f.write(url)\n",
    "f.write('\\n')\n",
    "\n",
    "for i in range(2,401):\n",
    "    url = 'https://www.amazon.com/s?k=laptop&i=computers&rh=n%3A13896617011%2Cp_n_condition-type%3A2224371011&dc&page=' + str(i) + '&qid=1613532450&ref=sr_pg_' + str(i)\n",
    "    f.write(url)\n",
    "    f.write('\\n')\n",
    "f.close()"
   ]
  },
  {
   "cell_type": "code",
   "execution_count": 3,
   "metadata": {},
   "outputs": [],
   "source": [
    "f = open('search_monitors_urls.txt', 'w+')\n",
    "url = 'https://www.amazon.com/s?k=monitor&i=computers&rh=n%3A1292115011%2Cp_n_condition-type%3A2224371011&dc&qid=1613532828&rnid=2224369011&ref=sr_nr_p_n_condition-type_1'\n",
    "f.write(url)\n",
    "f.write('\\n')\n",
    "\n",
    "for i in range(2,401):\n",
    "    url = 'https://www.amazon.com/s?k=monitor&i=computers&rh=n%3A1292115011%2Cp_n_condition-type%3A2224371011&dc&page=' + str(i) + '&qid=1613532858&rnid=2224369011&ref=sr_pg_' + str(i)\n",
    "    f.write(url)\n",
    "    f.write('\\n')\n",
    "f.close()"
   ]
  },
  {
   "cell_type": "code",
   "execution_count": 10,
   "metadata": {},
   "outputs": [],
   "source": [
    "f = open('search_mice_urls.txt', 'w+')\n",
    "url = 'https://www.amazon.com/s?k=mouse&i=computers&rh=n%3A11548956011%2Cp_n_condition-type%3A2224371011&dc&qid=1613533218&rnid=2224369011&ref=sr_nr_p_n_condition-type_1'\n",
    "f.write(url)\n",
    "f.write('\\n')\n",
    "\n",
    "for i in range(2,401):\n",
    "    url = 'https://www.amazon.com/s?k=mouse&i=computers&rh=n%3A11548956011%2Cp_n_condition-type%3A2224371011&dc&page=' + str(i) + '&qid=1613533238&rnid=2224369011&ref=sr_pg_' + str(i)\n",
    "    f.write(url)\n",
    "    f.write('\\n')\n",
    "f.close()"
   ]
  },
  {
   "cell_type": "code",
   "execution_count": 5,
   "metadata": {},
   "outputs": [],
   "source": [
    "f = open('search_keyboards_urls.txt', 'w+')\n",
    "url = 'https://www.amazon.com/s?k=keyboard&rh=n%3A12879431&dc&qid=1613533377&rnid=2941120011&ref=sr_nr_n_2'\n",
    "f.write(url)\n",
    "f.write('\\n')\n",
    "\n",
    "for i in range(2,401):\n",
    "    url = 'https://www.amazon.com/s?k=keyboard&i=computers&rh=n%3A12879431&dc&page=' + str(i) + '&qid=1613533386&rnid=2941120011&ref=sr_pg_' + str(i)\n",
    "    f.write(url)\n",
    "    f.write('\\n')\n",
    "f.close()"
   ]
  },
  {
   "cell_type": "code",
   "execution_count": 9,
   "metadata": {},
   "outputs": [],
   "source": [
    "f = open('search_cameras_urls.txt', 'w+')\n",
    "url = 'https://www.amazon.com/s?k=dslr+camera&i=photo&rh=n%3A281052%2Cp_n_condition-type%3A2224371011&dc&crid=37UWOY1J5269Y&qid=1613615242&rnid=2224369011&sprefix=DS%2Caps%2C268&ref=sr_nr_p_n_condition-type_1'\n",
    "f.write(url)\n",
    "f.write('\\n')\n",
    "\n",
    "for i in range(2,401):\n",
    "    url = 'https://www.amazon.com/s?k=dslr+camera&i=photo&rh=n%3A281052%2Cp_n_condition-type%3A2224371011&dc&page=' + str(i) + '&crid=37UWOY1J5269Y&qid=1613615278&rnid=2224369011&sprefix=DS%2Caps%2C268&ref=sr_pg_' + str(i)\n",
    "    f.write(url)\n",
    "    f.write('\\n')\n",
    "f.close()"
   ]
  },
  {
   "cell_type": "code",
   "execution_count": 8,
   "metadata": {},
   "outputs": [],
   "source": [
    "f = open('search_smartphones_urls.txt', 'w+')\n",
    "url = 'https://www.amazon.com/s?i=mobile&bbn=7072561011&rh=n%3A7072561011%2Cp_n_shipping_option-bin%3A3242350011%2Cp_n_condition-type%3A6503240011&dc&qid=1613534111&rnid=6503239011&ref=sr_nr_p_n_condition-type_1'\n",
    "f.write(url)\n",
    "f.write('\\n')\n",
    "\n",
    "for i in range(2,401):\n",
    "    url = 'https://www.amazon.com/s?i=mobile&bbn=7072561011&rh=n%3A7072561011%2Cp_n_shipping_option-bin%3A3242350011%2Cp_n_condition-type%3A6503240011&dc&page=' + str(i) + '&qid=1613534124&rnid=6503239011&ref=sr_pg_' + str(i)\n",
    "    f.write(url)\n",
    "    f.write('\\n')\n",
    "f.close()"
   ]
  },
  {
   "cell_type": "code",
   "execution_count": 7,
   "metadata": {},
   "outputs": [],
   "source": [
    "f = open('search_headphones_urls.txt', 'w+')\n",
    "url = 'https://www.amazon.com/s?k=headphones&i=electronics&rh=n%3A172541%2Cp_n_condition-type%3A2224371011&dc&qid=1613534292&rnid=2224369011&ref=sr_nr_p_n_condition-type_1'\n",
    "f.write(url)\n",
    "f.write('\\n')\n",
    "\n",
    "for i in range(2,401):\n",
    "    url = 'https://www.amazon.com/s?k=headphones&i=electronics&rh=n%3A172541%2Cp_n_condition-type%3A2224371011&dc&page=' + str(i) + '&qid=1613534299&rnid=2224369011&ref=sr_pg_' + str(i)\n",
    "    f.write(url)\n",
    "    f.write('\\n')\n",
    "f.close()"
   ]
  },
  {
   "cell_type": "code",
   "execution_count": null,
   "metadata": {},
   "outputs": [],
   "source": []
  }
 ]
}