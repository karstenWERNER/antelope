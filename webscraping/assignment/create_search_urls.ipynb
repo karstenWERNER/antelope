{
 "metadata": {
  "language_info": {
   "codemirror_mode": {
    "name": "ipython",
    "version": 3
   },
   "file_extension": ".py",
   "mimetype": "text/x-python",
   "name": "python",
   "nbconvert_exporter": "python",
   "pygments_lexer": "ipython3",
   "version": "3.8.5-final"
  },
  "orig_nbformat": 2,
  "kernelspec": {
   "name": "python3",
   "display_name": "Python 3",
   "language": "python"
  }
 },
 "nbformat": 4,
 "nbformat_minor": 2,
 "cells": [
  {
   "cell_type": "code",
   "execution_count": 11,
   "metadata": {},
   "outputs": [],
   "source": [
    "# Here we are using the suggestion fro https://github.com/CodeAcademyBerlin/Data-Science/blob/master/Module%202/Week%204/Task1.md\n",
    "# for url\n",
    "f = open('search_processors_urls.txt', 'w+')\n",
    "url = 'https://www.amazon.com/s?k=processor&rh=n%3A229189&ref=nb_sb_noss_2'\n",
    "# possible alternative\n",
    "# https://www.amazon.com/s?k=Processor&rh=n%3A17923671011%2Cn%3A229189&dc&qid=1613535079&rnid=2941120011&ref=sr_nr_n_2\n",
    "f.write(url)\n",
    "f.write('\\n')\n",
    "\n",
    "for i in range(2,401):\n",
    "    url = 'https://www.amazon.com/s?k=processor&i=computers&rh=n%3A229189%2Cp_n_condition-type%3A2224371011&dc&page=' + str(i) + '&qid=1613531258&rnid=2224369011&ref=sr_pg_' + str(i)\n",
    "    f.write(url)\n",
    "    f.write('\\n')\n",
    "f.close()"
   ]
  },
  {
   "cell_type": "code",
   "execution_count": 12,
   "metadata": {},
   "outputs": [],
   "source": [
    "# Frome here on forward we are using what is shown in the browser when searchin on amazon.com\n",
    "f = open('search_laptops_urls.txt', 'w+')\n",
    "url = 'https://www.amazon.com/s?k=laptop&i=electronics-intl-ship&ref=nb_sb_noss_2'\n",
    "f.write(url)\n",
    "f.write('\\n')\n",
    "\n",
    "for i in range(2,401):\n",
    "    url = 'https://www.amazon.com/s?k=laptop&i=electronics-intl-ship&page=' + str(i) + '&qid=1614163256&ref=sr_pg_' + str(i)\n",
    "    f.write(url)\n",
    "    f.write('\\n')\n",
    "f.close()"
   ]
  },
  {
   "cell_type": "code",
   "execution_count": 13,
   "metadata": {},
   "outputs": [],
   "source": [
    "f = open('search_monitors_urls.txt', 'w+')\n",
    "url = 'https://www.amazon.com/s?k=monitor&i=computers-intl-ship&ref=nb_sb_noss_2'\n",
    "f.write(url)\n",
    "f.write('\\n')\n",
    "\n",
    "for i in range(2,401):\n",
    "    url = 'https://www.amazon.com/s?k=monitor&i=computers-intl-ship&page=' + str(i) + '&qid=1614163494&ref=sr_pg' + str(i)\n",
    "    f.write(url)\n",
    "    f.write('\\n')\n",
    "f.close()"
   ]
  },
  {
   "cell_type": "code",
   "execution_count": 14,
   "metadata": {},
   "outputs": [],
   "source": [
    "f = open('search_mice_urls.txt', 'w+')\n",
    "url = 'https://www.amazon.com/s?k=mouse&i=computers-intl-ship&ref=nb_sb_noss_2'\n",
    "f.write(url)\n",
    "f.write('\\n')\n",
    "\n",
    "for i in range(2,401):\n",
    "    url = 'https://www.amazon.com/s?k=mouse&i=computers-intl-ship&page=' + str(i) + '&qid=1614163595&ref=sr_pg_' + str(i)\n",
    "    f.write(url)\n",
    "    f.write('\\n')\n",
    "f.close()"
   ]
  },
  {
   "cell_type": "code",
   "execution_count": 15,
   "metadata": {},
   "outputs": [],
   "source": [
    "f = open('search_keyboards_urls.txt', 'w+')\n",
    "url = 'https://www.amazon.com/s?k=keyboard&i=computers-intl-ship&ref=nb_sb_noss_2'\n",
    "f.write(url)\n",
    "f.write('\\n')\n",
    "\n",
    "for i in range(2,401):\n",
    "    url = 'https://www.amazon.com/s?k=keyboard&i=computers-intl-ship&page=' + str(i) + '&qid=1614163695&ref=sr_pg_' + str(i)\n",
    "    f.write(url)\n",
    "    f.write('\\n')\n",
    "f.close()"
   ]
  },
  {
   "cell_type": "code",
   "execution_count": 16,
   "metadata": {},
   "outputs": [],
   "source": [
    "f = open('search_cameras_urls.txt', 'w+')\n",
    "url = 'https://www.amazon.com/s?k=dslr+camera&i=electronics-intl-ship&ref=nb_sb_noss_2'\n",
    "f.write(url)\n",
    "f.write('\\n')\n",
    "\n",
    "for i in range(2,401):\n",
    "    url = 'https://www.amazon.com/s?k=dslr+camera&i=electronics-intl-ship&page=' + str(i) + '&qid=1614164025&ref=sr_pg_' + str(i)\n",
    "    f.write(url)\n",
    "    f.write('\\n')\n",
    "f.close()"
   ]
  },
  {
   "cell_type": "code",
   "execution_count": 17,
   "metadata": {},
   "outputs": [],
   "source": [
    "f = open('search_smartphones_urls.txt', 'w+')\n",
    "url = 'https://www.amazon.com/s?k=smartphone&i=electronics-intl-ship&ref=nb_sb_noss_2'\n",
    "f.write(url)\n",
    "f.write('\\n')\n",
    "\n",
    "for i in range(2,401):\n",
    "    url = 'https://www.amazon.com/s?k=smartphone&i=electronics-intl-ship&page=' + str(i) + '&qid=1614164142&ref=sr_pg_' + str(i)\n",
    "    f.write(url)\n",
    "    f.write('\\n')\n",
    "f.close()"
   ]
  },
  {
   "cell_type": "code",
   "execution_count": 18,
   "metadata": {},
   "outputs": [],
   "source": [
    "f = open('search_headphones_urls.txt', 'w+')\n",
    "url = 'https://www.amazon.com/s?k=headphones&i=electronics-intl-ship&ref=nb_sb_noss_2'\n",
    "f.write(url)\n",
    "f.write('\\n')\n",
    "\n",
    "for i in range(2,401):\n",
    "    url = 'https://www.amazon.com/s?k=headphones&i=electronics-intl-ship&page=' + str(i) + '&qid=1614164278&ref=sr_pg_' + str(i)\n",
    "    f.write(url)\n",
    "    f.write('\\n')\n",
    "f.close()"
   ]
  },
  {
   "cell_type": "code",
   "execution_count": null,
   "metadata": {},
   "outputs": [],
   "source": []
  }
 ]
}