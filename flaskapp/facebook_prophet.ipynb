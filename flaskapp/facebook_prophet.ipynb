{
 "metadata": {
  "language_info": {
   "codemirror_mode": {
    "name": "ipython",
    "version": 3
   },
   "file_extension": ".py",
   "mimetype": "text/x-python",
   "name": "python",
   "nbconvert_exporter": "python",
   "pygments_lexer": "ipython3",
   "version": "3.8.5-final"
  },
  "orig_nbformat": 2,
  "kernelspec": {
   "name": "python3",
   "display_name": "Python 3",
   "language": "python"
  }
 },
 "nbformat": 4,
 "nbformat_minor": 2,
 "cells": [
  {
   "cell_type": "code",
   "execution_count": 1,
   "metadata": {},
   "outputs": [
    {
     "output_type": "stream",
     "name": "stderr",
     "text": [
      "Importing plotly failed. Interactive plots will not work.\n",
      "INFO:numexpr.utils:NumExpr defaulting to 2 threads.\n",
      "INFO:fbprophet:Disabling daily seasonality. Run prophet with daily_seasonality=True to override this.\n"
     ]
    },
    {
     "output_type": "error",
     "ename": "KeyError",
     "evalue": "'metric_file'",
     "traceback": [
      "\u001b[1;31m---------------------------------------------------------------------------\u001b[0m",
      "\u001b[1;31mKeyError\u001b[0m                                  Traceback (most recent call last)",
      "\u001b[1;31mKeyError\u001b[0m: 'metric_file'"
     ]
    }
   ],
   "source": [
    "import pandas as pd\n",
    "import matplotlib.pyplot as plt\n",
    "\n",
    "from fbprophet import Prophet\n",
    "\n",
    "\n",
    "# Load test data: log-transformed daily page views for the Wikipedia page for Peyton Manning.\n",
    "df = pd.read_csv(\"https://raw.githubusercontent.com/facebook/prophet/master/examples/example_wp_log_peyton_manning.csv\")\n",
    "\n",
    "# Model fit\n",
    "m = Prophet() #Instanticate from Prophet class. \n",
    "m.fit(df) # Fit the Prophet model.\n",
    "\n",
    "# Predict\n",
    "future = m.make_future_dataframe(periods=365) # Make future date data frame for the next 365 days (it gives daily because it follows the frequency in input dataframe by default).\n",
    "forecast = m.predict(future) # Predict future value.\n",
    "\n",
    "# Plot results\n",
    "fig1 = m.plot(forecast) # Plot the fit to past data and future forcast.\n",
    "fig2 = m.plot_components(forecast) # Plot breakdown of components.\n",
    "plt.show()\n",
    "forecast # Displaying various results in table format."
   ]
  },
  {
   "cell_type": "code",
   "execution_count": null,
   "metadata": {},
   "outputs": [],
   "source": []
  },
  {
   "cell_type": "code",
   "execution_count": null,
   "metadata": {},
   "outputs": [],
   "source": [
    "import pandas as pd\n",
    "pd.set_option('display.max_columns', None)\n",
    "import numpy as np\n",
    "from fbprophet import Prophet\n",
    "%matplotlib inline\n",
    "import matplotlib.pyplot as plt\n",
    "sample=pd.read_csv('hour.csv')"
   ]
  },
  {
   "cell_type": "code",
   "execution_count": null,
   "metadata": {},
   "outputs": [],
   "source": [
    "model1=Prophet(interval_width=0.95) # by default is 80%"
   ]
  },
  {
   "cell_type": "code",
   "execution_count": null,
   "metadata": {},
   "outputs": [],
   "source": [
    "model2=Prophet(interval_width=0.95, yearly_seasonality=True,weekly_seasonality=True, holidays=us_public_holidays,changepoint_prior_scale=2)\n",
    "model2.add_seasonality(name=’monthly’, period=30.5,fourier_order=5, prior_scale=0.02)"
   ]
  },
  {
   "cell_type": "code",
   "execution_count": null,
   "metadata": {},
   "outputs": [],
   "source": [
    "import pandas as pd\n",
    "from fbprophet import Prophet\n",
    "\n",
    "df = pd.read_csv('https://github.com/facebook/prophet/blob/master/examples/example_wp_log_peyton_manning.csv')\n",
    "df.head()\n",
    "\n"
   ]
  },
  {
   "cell_type": "code",
   "execution_count": null,
   "metadata": {},
   "outputs": [],
   "source": []
  }
 ]
}