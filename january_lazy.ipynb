{
 "metadata": {
  "language_info": {
   "codemirror_mode": {
    "name": "ipython",
    "version": 3
   },
   "file_extension": ".py",
   "mimetype": "text/x-python",
   "name": "python",
   "nbconvert_exporter": "python",
   "pygments_lexer": "ipython3",
   "version": "3.8.5-final"
  },
  "orig_nbformat": 2,
  "kernelspec": {
   "name": "python3",
   "display_name": "Python 3",
   "language": "python"
  }
 },
 "nbformat": 4,
 "nbformat_minor": 2,
 "cells": [
  {
   "cell_type": "code",
   "execution_count": 1,
   "metadata": {},
   "outputs": [],
   "source": [
    "import numpy as np\n",
    "import pandas as pd\n",
    "\n",
    "import matplotlib.pyplot as plt\n",
    "import seaborn as sns\n",
    "\n",
    "#from lazypredict.Supervised import LazyClassifier, LazyRegressor\n",
    "from sklearn.model_selection import train_test_split\n",
    "from sklearn import datasets\n",
    "\n",
    "red_wine = pd.read_csv('https://archive.ics.uci.edu/ml/machine-learning-databases/wine-quality/winequality-red.csv', sep = ';')\n",
    "white_wine = pd.read_csv('https://archive.ics.uci.edu/ml/machine-learning-databases/wine-quality/winequality-white.csv', sep = ';')\n",
    "\n",
    "# create a new variable 'wine_type'\n",
    "red_wine['wine_type'] = 'red'\n",
    "white_wine['wine_type'] = 'white'\n",
    "\n",
    "\n",
    "# bucket wine quality scores into qualitative quality labels\n",
    "red_wine['quality_label'] = red_wine['quality'].apply(lambda value: 'low'\n",
    "if value <= 5 else 'medium'\n",
    "if value <= 7 else 'high')\n",
    "\n",
    "red_wine['quality_label'] = pd.Categorical(red_wine['quality_label'],\n",
    "categories=['low', 'medium', 'high'])\n",
    "\n",
    "white_wine['quality_label'] = white_wine['quality'].apply(lambda value: 'low'\n",
    "if value <= 5 else 'medium'\n",
    "if value <= 7 else 'high')\n",
    "\n",
    "white_wine['quality_label'] = pd.Categorical(white_wine['quality_label'],\n",
    "categories=['low', 'medium', 'high'])\n",
    "\n",
    "wines = pd.concat([red_wine, white_wine])"
   ]
  },
  {
   "cell_type": "code",
   "execution_count": 2,
   "metadata": {},
   "outputs": [
    {
     "output_type": "execute_result",
     "data": {
      "text/plain": [
       "(6497, 14)"
      ]
     },
     "metadata": {},
     "execution_count": 2
    }
   ],
   "source": [
    "wines.shape"
   ]
  },
  {
   "cell_type": "code",
   "execution_count": 4,
   "metadata": {},
   "outputs": [
    {
     "output_type": "execute_result",
     "data": {
      "text/plain": [
       "   fixed acidity  volatile acidity  citric acid  residual sugar  chlorides  \\\n",
       "0            7.4              0.70         0.00             1.9      0.076   \n",
       "0            7.0              0.27         0.36            20.7      0.045   \n",
       "\n",
       "   free sulfur dioxide  total sulfur dioxide  density    pH  sulphates  \\\n",
       "0                 11.0                  34.0   0.9978  3.51       0.56   \n",
       "0                 45.0                 170.0   1.0010  3.00       0.45   \n",
       "\n",
       "   alcohol  quality wine_type quality_label  \n",
       "0      9.4        5       red           low  \n",
       "0      8.8        6     white        medium  "
      ],
      "text/html": "<div>\n<style scoped>\n    .dataframe tbody tr th:only-of-type {\n        vertical-align: middle;\n    }\n\n    .dataframe tbody tr th {\n        vertical-align: top;\n    }\n\n    .dataframe thead th {\n        text-align: right;\n    }\n</style>\n<table border=\"1\" class=\"dataframe\">\n  <thead>\n    <tr style=\"text-align: right;\">\n      <th></th>\n      <th>fixed acidity</th>\n      <th>volatile acidity</th>\n      <th>citric acid</th>\n      <th>residual sugar</th>\n      <th>chlorides</th>\n      <th>free sulfur dioxide</th>\n      <th>total sulfur dioxide</th>\n      <th>density</th>\n      <th>pH</th>\n      <th>sulphates</th>\n      <th>alcohol</th>\n      <th>quality</th>\n      <th>wine_type</th>\n      <th>quality_label</th>\n    </tr>\n  </thead>\n  <tbody>\n    <tr>\n      <th>0</th>\n      <td>7.4</td>\n      <td>0.70</td>\n      <td>0.00</td>\n      <td>1.9</td>\n      <td>0.076</td>\n      <td>11.0</td>\n      <td>34.0</td>\n      <td>0.9978</td>\n      <td>3.51</td>\n      <td>0.56</td>\n      <td>9.4</td>\n      <td>5</td>\n      <td>red</td>\n      <td>low</td>\n    </tr>\n    <tr>\n      <th>0</th>\n      <td>7.0</td>\n      <td>0.27</td>\n      <td>0.36</td>\n      <td>20.7</td>\n      <td>0.045</td>\n      <td>45.0</td>\n      <td>170.0</td>\n      <td>1.0010</td>\n      <td>3.00</td>\n      <td>0.45</td>\n      <td>8.8</td>\n      <td>6</td>\n      <td>white</td>\n      <td>medium</td>\n    </tr>\n  </tbody>\n</table>\n</div>"
     },
     "metadata": {},
     "execution_count": 4
    }
   ],
   "source": [
    "wines.loc[0,:]"
   ]
  },
  {
   "cell_type": "code",
   "execution_count": null,
   "metadata": {},
   "outputs": [],
   "source": [
    "wines.isnull().sum()\n"
   ]
  },
  {
   "cell_type": "code",
   "execution_count": null,
   "metadata": {},
   "outputs": [],
   "source": [
    "wine_sales = pd.read_csv('wine_sales_data.csv')"
   ]
  },
  {
   "cell_type": "code",
   "execution_count": 6,
   "metadata": {},
   "outputs": [
    {
     "output_type": "execute_result",
     "data": {
      "text/plain": [
       "Unnamed: 0         0\n",
       "country            5\n",
       "description        0\n",
       "designation    45735\n",
       "points             0\n",
       "price          13695\n",
       "province           5\n",
       "region_1       25060\n",
       "region_2       89977\n",
       "variety            0\n",
       "winery             0\n",
       "dtype: int64"
      ]
     },
     "metadata": {},
     "execution_count": 6
    }
   ],
   "source": [
    "wine_sales.isnull().sum()"
   ]
  },
  {
   "cell_type": "code",
   "execution_count": 7,
   "metadata": {},
   "outputs": [],
   "source": [
    "winw_sales_red = wine_sales[['country','province','points','price']]"
   ]
  },
  {
   "cell_type": "code",
   "execution_count": 8,
   "metadata": {},
   "outputs": [
    {
     "output_type": "execute_result",
     "data": {
      "text/plain": [
       "country         5\n",
       "province        5\n",
       "points          0\n",
       "price       13695\n",
       "dtype: int64"
      ]
     },
     "metadata": {},
     "execution_count": 8
    }
   ],
   "source": [
    "winw_sales_red.isnull().sum()"
   ]
  },
  {
   "cell_type": "code",
   "execution_count": 9,
   "metadata": {},
   "outputs": [
    {
     "output_type": "execute_result",
     "data": {
      "text/plain": [
       "(150930, 4)"
      ]
     },
     "metadata": {},
     "execution_count": 9
    }
   ],
   "source": [
    "winw_sales_red.shape\n"
   ]
  },
  {
   "cell_type": "code",
   "execution_count": 10,
   "metadata": {},
   "outputs": [
    {
     "output_type": "execute_result",
     "data": {
      "text/plain": [
       "<bound method NDFrame.head of        country            province  points  price\n",
       "0           US          California      96 235.00\n",
       "1        Spain      Northern Spain      96 110.00\n",
       "2           US          California      96  90.00\n",
       "3           US              Oregon      96  65.00\n",
       "4       France            Provence      95  66.00\n",
       "...        ...                 ...     ...    ...\n",
       "150925   Italy      Southern Italy      91  20.00\n",
       "150926  France           Champagne      91  27.00\n",
       "150927   Italy      Southern Italy      91  20.00\n",
       "150928  France           Champagne      90  52.00\n",
       "150929   Italy  Northeastern Italy      90  15.00\n",
       "\n",
       "[150930 rows x 4 columns]>"
      ]
     },
     "metadata": {},
     "execution_count": 10
    }
   ],
   "source": [
    "winw_sales_red.head"
   ]
  },
  {
   "cell_type": "code",
   "execution_count": 11,
   "metadata": {},
   "outputs": [],
   "source": [
    "port_vv = winw_sales_red[(winw_sales_red['country'] == 'Portugal') & (winw_sales_red['province'] == 'Vinho Verde')]"
   ]
  },
  {
   "cell_type": "code",
   "execution_count": 12,
   "metadata": {},
   "outputs": [
    {
     "output_type": "execute_result",
     "data": {
      "text/plain": [
       "(396, 4)"
      ]
     },
     "metadata": {},
     "execution_count": 12
    }
   ],
   "source": [
    "port_vv.shape"
   ]
  },
  {
   "cell_type": "code",
   "execution_count": 13,
   "metadata": {},
   "outputs": [
    {
     "output_type": "execute_result",
     "data": {
      "text/plain": [
       "country      0\n",
       "province     0\n",
       "points       0\n",
       "price       86\n",
       "dtype: int64"
      ]
     },
     "metadata": {},
     "execution_count": 13
    }
   ],
   "source": [
    "port_vv.isnull().sum()"
   ]
  },
  {
   "cell_type": "code",
   "execution_count": 14,
   "metadata": {},
   "outputs": [
    {
     "output_type": "execute_result",
     "data": {
      "text/plain": [
       "         country     province  points  price\n",
       "277     Portugal  Vinho Verde      92  35.00\n",
       "993     Portugal  Vinho Verde      85  10.00\n",
       "994     Portugal  Vinho Verde      85   9.00\n",
       "1378    Portugal  Vinho Verde      91    NaN\n",
       "1558    Portugal  Vinho Verde      84  10.00\n",
       "...          ...          ...     ...    ...\n",
       "141129  Portugal  Vinho Verde      83   9.00\n",
       "141143  Portugal  Vinho Verde      82   8.00\n",
       "141148  Portugal  Vinho Verde      82   6.00\n",
       "143472  Portugal  Vinho Verde      86   9.00\n",
       "143575  Portugal  Vinho Verde      87  15.00\n",
       "\n",
       "[396 rows x 4 columns]"
      ],
      "text/html": "<div>\n<style scoped>\n    .dataframe tbody tr th:only-of-type {\n        vertical-align: middle;\n    }\n\n    .dataframe tbody tr th {\n        vertical-align: top;\n    }\n\n    .dataframe thead th {\n        text-align: right;\n    }\n</style>\n<table border=\"1\" class=\"dataframe\">\n  <thead>\n    <tr style=\"text-align: right;\">\n      <th></th>\n      <th>country</th>\n      <th>province</th>\n      <th>points</th>\n      <th>price</th>\n    </tr>\n  </thead>\n  <tbody>\n    <tr>\n      <th>277</th>\n      <td>Portugal</td>\n      <td>Vinho Verde</td>\n      <td>92</td>\n      <td>35.00</td>\n    </tr>\n    <tr>\n      <th>993</th>\n      <td>Portugal</td>\n      <td>Vinho Verde</td>\n      <td>85</td>\n      <td>10.00</td>\n    </tr>\n    <tr>\n      <th>994</th>\n      <td>Portugal</td>\n      <td>Vinho Verde</td>\n      <td>85</td>\n      <td>9.00</td>\n    </tr>\n    <tr>\n      <th>1378</th>\n      <td>Portugal</td>\n      <td>Vinho Verde</td>\n      <td>91</td>\n      <td>NaN</td>\n    </tr>\n    <tr>\n      <th>1558</th>\n      <td>Portugal</td>\n      <td>Vinho Verde</td>\n      <td>84</td>\n      <td>10.00</td>\n    </tr>\n    <tr>\n      <th>...</th>\n      <td>...</td>\n      <td>...</td>\n      <td>...</td>\n      <td>...</td>\n    </tr>\n    <tr>\n      <th>141129</th>\n      <td>Portugal</td>\n      <td>Vinho Verde</td>\n      <td>83</td>\n      <td>9.00</td>\n    </tr>\n    <tr>\n      <th>141143</th>\n      <td>Portugal</td>\n      <td>Vinho Verde</td>\n      <td>82</td>\n      <td>8.00</td>\n    </tr>\n    <tr>\n      <th>141148</th>\n      <td>Portugal</td>\n      <td>Vinho Verde</td>\n      <td>82</td>\n      <td>6.00</td>\n    </tr>\n    <tr>\n      <th>143472</th>\n      <td>Portugal</td>\n      <td>Vinho Verde</td>\n      <td>86</td>\n      <td>9.00</td>\n    </tr>\n    <tr>\n      <th>143575</th>\n      <td>Portugal</td>\n      <td>Vinho Verde</td>\n      <td>87</td>\n      <td>15.00</td>\n    </tr>\n  </tbody>\n</table>\n<p>396 rows × 4 columns</p>\n</div>"
     },
     "metadata": {},
     "execution_count": 14
    }
   ],
   "source": [
    "port_vv"
   ]
  },
  {
   "cell_type": "code",
   "execution_count": 15,
   "metadata": {},
   "outputs": [],
   "source": [
    "port_vv_clean = port_vv.dropna()"
   ]
  },
  {
   "cell_type": "code",
   "execution_count": 16,
   "metadata": {},
   "outputs": [
    {
     "output_type": "execute_result",
     "data": {
      "text/plain": [
       "country     0\n",
       "province    0\n",
       "points      0\n",
       "price       0\n",
       "dtype: int64"
      ]
     },
     "metadata": {},
     "execution_count": 16
    }
   ],
   "source": [
    "port_vv_clean.isnull().sum()"
   ]
  },
  {
   "cell_type": "code",
   "execution_count": 18,
   "metadata": {},
   "outputs": [],
   "source": [
    "port_vv_clean.drop(['country', 'province'], axis = 1, inplace = True)"
   ]
  },
  {
   "cell_type": "code",
   "execution_count": 19,
   "metadata": {},
   "outputs": [
    {
     "output_type": "execute_result",
     "data": {
      "text/plain": [
       "       points  price\n",
       "count  310.00 310.00\n",
       "mean    86.35  11.40\n",
       "std      2.51   4.82\n",
       "min     80.00   5.00\n",
       "25%     84.00   8.00\n",
       "50%     86.00  10.00\n",
       "75%     88.00  13.00\n",
       "max     92.00  45.00"
      ],
      "text/html": "<div>\n<style scoped>\n    .dataframe tbody tr th:only-of-type {\n        vertical-align: middle;\n    }\n\n    .dataframe tbody tr th {\n        vertical-align: top;\n    }\n\n    .dataframe thead th {\n        text-align: right;\n    }\n</style>\n<table border=\"1\" class=\"dataframe\">\n  <thead>\n    <tr style=\"text-align: right;\">\n      <th></th>\n      <th>points</th>\n      <th>price</th>\n    </tr>\n  </thead>\n  <tbody>\n    <tr>\n      <th>count</th>\n      <td>310.00</td>\n      <td>310.00</td>\n    </tr>\n    <tr>\n      <th>mean</th>\n      <td>86.35</td>\n      <td>11.40</td>\n    </tr>\n    <tr>\n      <th>std</th>\n      <td>2.51</td>\n      <td>4.82</td>\n    </tr>\n    <tr>\n      <th>min</th>\n      <td>80.00</td>\n      <td>5.00</td>\n    </tr>\n    <tr>\n      <th>25%</th>\n      <td>84.00</td>\n      <td>8.00</td>\n    </tr>\n    <tr>\n      <th>50%</th>\n      <td>86.00</td>\n      <td>10.00</td>\n    </tr>\n    <tr>\n      <th>75%</th>\n      <td>88.00</td>\n      <td>13.00</td>\n    </tr>\n    <tr>\n      <th>max</th>\n      <td>92.00</td>\n      <td>45.00</td>\n    </tr>\n  </tbody>\n</table>\n</div>"
     },
     "metadata": {},
     "execution_count": 19
    }
   ],
   "source": [
    "port_vv_clean.describe()"
   ]
  },
  {
   "cell_type": "code",
   "execution_count": 20,
   "metadata": {},
   "outputs": [],
   "source": [
    "price_irq = port_vv_clean[port_vv_clean['price'].between(port_vv_clean['price'].quantile(0.25), port_vv_clean['price'].quantile(0.75))]"
   ]
  },
  {
   "cell_type": "code",
   "execution_count": 21,
   "metadata": {},
   "outputs": [
    {
     "output_type": "execute_result",
     "data": {
      "text/plain": [
       "       points  price\n",
       "count  198.00 198.00\n",
       "mean    85.98  10.29\n",
       "std      2.28   1.72\n",
       "min     80.00   8.00\n",
       "25%     84.00   9.00\n",
       "50%     85.50  10.00\n",
       "75%     88.00  12.00\n",
       "max     91.00  13.00"
      ],
      "text/html": "<div>\n<style scoped>\n    .dataframe tbody tr th:only-of-type {\n        vertical-align: middle;\n    }\n\n    .dataframe tbody tr th {\n        vertical-align: top;\n    }\n\n    .dataframe thead th {\n        text-align: right;\n    }\n</style>\n<table border=\"1\" class=\"dataframe\">\n  <thead>\n    <tr style=\"text-align: right;\">\n      <th></th>\n      <th>points</th>\n      <th>price</th>\n    </tr>\n  </thead>\n  <tbody>\n    <tr>\n      <th>count</th>\n      <td>198.00</td>\n      <td>198.00</td>\n    </tr>\n    <tr>\n      <th>mean</th>\n      <td>85.98</td>\n      <td>10.29</td>\n    </tr>\n    <tr>\n      <th>std</th>\n      <td>2.28</td>\n      <td>1.72</td>\n    </tr>\n    <tr>\n      <th>min</th>\n      <td>80.00</td>\n      <td>8.00</td>\n    </tr>\n    <tr>\n      <th>25%</th>\n      <td>84.00</td>\n      <td>9.00</td>\n    </tr>\n    <tr>\n      <th>50%</th>\n      <td>85.50</td>\n      <td>10.00</td>\n    </tr>\n    <tr>\n      <th>75%</th>\n      <td>88.00</td>\n      <td>12.00</td>\n    </tr>\n    <tr>\n      <th>max</th>\n      <td>91.00</td>\n      <td>13.00</td>\n    </tr>\n  </tbody>\n</table>\n</div>"
     },
     "metadata": {},
     "execution_count": 21
    }
   ],
   "source": [
    "price_irq.describe()"
   ]
  },
  {
   "cell_type": "code",
   "execution_count": 23,
   "metadata": {},
   "outputs": [
    {
     "output_type": "execute_result",
     "data": {
      "text/plain": [
       "   fixed acidity  volatile acidity  citric acid  residual sugar  chlorides  \\\n",
       "0           7.40              0.70         0.00            1.90       0.08   \n",
       "1           7.80              0.88         0.00            2.60       0.10   \n",
       "2           7.80              0.76         0.04            2.30       0.09   \n",
       "3          11.20              0.28         0.56            1.90       0.07   \n",
       "4           7.40              0.70         0.00            1.90       0.08   \n",
       "\n",
       "   free sulfur dioxide  total sulfur dioxide  density   pH  sulphates  \\\n",
       "0                11.00                 34.00     1.00 3.51       0.56   \n",
       "1                25.00                 67.00     1.00 3.20       0.68   \n",
       "2                15.00                 54.00     1.00 3.26       0.65   \n",
       "3                17.00                 60.00     1.00 3.16       0.58   \n",
       "4                11.00                 34.00     1.00 3.51       0.56   \n",
       "\n",
       "   alcohol  quality wine_type quality_label  \n",
       "0     9.40        5       red           low  \n",
       "1     9.80        5       red           low  \n",
       "2     9.80        5       red           low  \n",
       "3     9.80        6       red        medium  \n",
       "4     9.40        5       red           low  "
      ],
      "text/html": "<div>\n<style scoped>\n    .dataframe tbody tr th:only-of-type {\n        vertical-align: middle;\n    }\n\n    .dataframe tbody tr th {\n        vertical-align: top;\n    }\n\n    .dataframe thead th {\n        text-align: right;\n    }\n</style>\n<table border=\"1\" class=\"dataframe\">\n  <thead>\n    <tr style=\"text-align: right;\">\n      <th></th>\n      <th>fixed acidity</th>\n      <th>volatile acidity</th>\n      <th>citric acid</th>\n      <th>residual sugar</th>\n      <th>chlorides</th>\n      <th>free sulfur dioxide</th>\n      <th>total sulfur dioxide</th>\n      <th>density</th>\n      <th>pH</th>\n      <th>sulphates</th>\n      <th>alcohol</th>\n      <th>quality</th>\n      <th>wine_type</th>\n      <th>quality_label</th>\n    </tr>\n  </thead>\n  <tbody>\n    <tr>\n      <th>0</th>\n      <td>7.40</td>\n      <td>0.70</td>\n      <td>0.00</td>\n      <td>1.90</td>\n      <td>0.08</td>\n      <td>11.00</td>\n      <td>34.00</td>\n      <td>1.00</td>\n      <td>3.51</td>\n      <td>0.56</td>\n      <td>9.40</td>\n      <td>5</td>\n      <td>red</td>\n      <td>low</td>\n    </tr>\n    <tr>\n      <th>1</th>\n      <td>7.80</td>\n      <td>0.88</td>\n      <td>0.00</td>\n      <td>2.60</td>\n      <td>0.10</td>\n      <td>25.00</td>\n      <td>67.00</td>\n      <td>1.00</td>\n      <td>3.20</td>\n      <td>0.68</td>\n      <td>9.80</td>\n      <td>5</td>\n      <td>red</td>\n      <td>low</td>\n    </tr>\n    <tr>\n      <th>2</th>\n      <td>7.80</td>\n      <td>0.76</td>\n      <td>0.04</td>\n      <td>2.30</td>\n      <td>0.09</td>\n      <td>15.00</td>\n      <td>54.00</td>\n      <td>1.00</td>\n      <td>3.26</td>\n      <td>0.65</td>\n      <td>9.80</td>\n      <td>5</td>\n      <td>red</td>\n      <td>low</td>\n    </tr>\n    <tr>\n      <th>3</th>\n      <td>11.20</td>\n      <td>0.28</td>\n      <td>0.56</td>\n      <td>1.90</td>\n      <td>0.07</td>\n      <td>17.00</td>\n      <td>60.00</td>\n      <td>1.00</td>\n      <td>3.16</td>\n      <td>0.58</td>\n      <td>9.80</td>\n      <td>6</td>\n      <td>red</td>\n      <td>medium</td>\n    </tr>\n    <tr>\n      <th>4</th>\n      <td>7.40</td>\n      <td>0.70</td>\n      <td>0.00</td>\n      <td>1.90</td>\n      <td>0.08</td>\n      <td>11.00</td>\n      <td>34.00</td>\n      <td>1.00</td>\n      <td>3.51</td>\n      <td>0.56</td>\n      <td>9.40</td>\n      <td>5</td>\n      <td>red</td>\n      <td>low</td>\n    </tr>\n  </tbody>\n</table>\n</div>"
     },
     "metadata": {},
     "execution_count": 23
    }
   ],
   "source": [
    "wines.head()"
   ]
  },
  {
   "cell_type": "code",
   "execution_count": 24,
   "metadata": {},
   "outputs": [],
   "source": [
    "wtp_features = wines.iloc[:,:-3]\n",
    "wtp_feature_names = wtp_features.columns\n",
    "wtp_class_labels = np.array(wines['wine_type'])\n",
    "\n",
    "X_train, X_test, y_train, y_test = train_test_split(wtp_features, wtp_class_labels, test_size=.2, random_state=42)"
   ]
  },
  {
   "cell_type": "code",
   "execution_count": 25,
   "metadata": {},
   "outputs": [
    {
     "output_type": "stream",
     "name": "stderr",
     "text": [
      " 97%|█████████▋| 29/30 [00:04<00:00,  8.69it/s][14:00:05] WARNING: C:/Users/Administrator/workspace/xgboost-win64_release_1.3.0/src/learner.cc:1061: Starting in XGBoost 1.3.0, the default evaluation metric used with the objective 'binary:logistic' was changed from 'error' to 'logloss'. Explicitly set eval_metric if you'd like to restore the old behavior.\n",
      "100%|██████████| 30/30 [00:04<00:00,  6.43it/s]\n"
     ]
    }
   ],
   "source": [
    "clf = LazyClassifier(predictions=True)\n",
    "models, predictions = clf.fit(X_train, X_test, y_train, y_test)"
   ]
  },
  {
   "cell_type": "code",
   "execution_count": 26,
   "metadata": {},
   "outputs": [
    {
     "output_type": "execute_result",
     "data": {
      "text/plain": [
       "                               Accuracy  Balanced Accuracy ROC AUC  F1 Score  \\\n",
       "Model                                                                          \n",
       "ExtraTreesClassifier               1.00               0.99    None      1.00   \n",
       "LGBMClassifier                     1.00               0.99    None      1.00   \n",
       "RandomForestClassifier             0.99               0.99    None      0.99   \n",
       "LabelPropagation                   0.99               0.99    None      0.99   \n",
       "LinearDiscriminantAnalysis         0.99               0.99    None      0.99   \n",
       "LabelSpreading                     0.99               0.99    None      0.99   \n",
       "XGBClassifier                      0.99               0.99    None      0.99   \n",
       "SVC                                0.99               0.99    None      0.99   \n",
       "RidgeClassifier                    0.99               0.99    None      0.99   \n",
       "RidgeClassifierCV                  0.99               0.99    None      0.99   \n",
       "AdaBoostClassifier                 0.99               0.99    None      0.99   \n",
       "CalibratedClassifierCV             0.99               0.99    None      0.99   \n",
       "LinearSVC                          0.99               0.99    None      0.99   \n",
       "BaggingClassifier                  0.99               0.99    None      0.99   \n",
       "KNeighborsClassifier               0.99               0.99    None      0.99   \n",
       "PassiveAggressiveClassifier        0.99               0.99    None      0.99   \n",
       "LogisticRegression                 0.99               0.98    None      0.99   \n",
       "NearestCentroid                    0.99               0.98    None      0.99   \n",
       "QuadraticDiscriminantAnalysis      0.98               0.98    None      0.98   \n",
       "SGDClassifier                      0.99               0.98    None      0.99   \n",
       "DecisionTreeClassifier             0.98               0.98    None      0.98   \n",
       "Perceptron                         0.98               0.98    None      0.98   \n",
       "GaussianNB                         0.97               0.97    None      0.97   \n",
       "ExtraTreeClassifier                0.97               0.96    None      0.97   \n",
       "BernoulliNB                        0.97               0.95    None      0.97   \n",
       "DummyClassifier                    0.64               0.52    None      0.63   \n",
       "\n",
       "                               Time Taken  \n",
       "Model                                      \n",
       "ExtraTreesClassifier                 0.29  \n",
       "LGBMClassifier                       0.08  \n",
       "RandomForestClassifier               0.53  \n",
       "LabelPropagation                     0.89  \n",
       "LinearDiscriminantAnalysis           0.06  \n",
       "LabelSpreading                       1.18  \n",
       "XGBClassifier                        0.14  \n",
       "SVC                                  0.08  \n",
       "RidgeClassifier                      0.04  \n",
       "RidgeClassifierCV                    0.03  \n",
       "AdaBoostClassifier                   0.40  \n",
       "CalibratedClassifierCV               0.20  \n",
       "LinearSVC                            0.05  \n",
       "BaggingClassifier                    0.18  \n",
       "KNeighborsClassifier                 0.14  \n",
       "PassiveAggressiveClassifier          0.02  \n",
       "LogisticRegression                   0.04  \n",
       "NearestCentroid                      0.02  \n",
       "QuadraticDiscriminantAnalysis        0.02  \n",
       "SGDClassifier                        0.03  \n",
       "DecisionTreeClassifier               0.05  \n",
       "Perceptron                           0.02  \n",
       "GaussianNB                           0.02  \n",
       "ExtraTreeClassifier                  0.02  \n",
       "BernoulliNB                          0.07  \n",
       "DummyClassifier                      0.02  "
      ],
      "text/html": "<div>\n<style scoped>\n    .dataframe tbody tr th:only-of-type {\n        vertical-align: middle;\n    }\n\n    .dataframe tbody tr th {\n        vertical-align: top;\n    }\n\n    .dataframe thead th {\n        text-align: right;\n    }\n</style>\n<table border=\"1\" class=\"dataframe\">\n  <thead>\n    <tr style=\"text-align: right;\">\n      <th></th>\n      <th>Accuracy</th>\n      <th>Balanced Accuracy</th>\n      <th>ROC AUC</th>\n      <th>F1 Score</th>\n      <th>Time Taken</th>\n    </tr>\n    <tr>\n      <th>Model</th>\n      <th></th>\n      <th></th>\n      <th></th>\n      <th></th>\n      <th></th>\n    </tr>\n  </thead>\n  <tbody>\n    <tr>\n      <th>ExtraTreesClassifier</th>\n      <td>1.00</td>\n      <td>0.99</td>\n      <td>None</td>\n      <td>1.00</td>\n      <td>0.29</td>\n    </tr>\n    <tr>\n      <th>LGBMClassifier</th>\n      <td>1.00</td>\n      <td>0.99</td>\n      <td>None</td>\n      <td>1.00</td>\n      <td>0.08</td>\n    </tr>\n    <tr>\n      <th>RandomForestClassifier</th>\n      <td>0.99</td>\n      <td>0.99</td>\n      <td>None</td>\n      <td>0.99</td>\n      <td>0.53</td>\n    </tr>\n    <tr>\n      <th>LabelPropagation</th>\n      <td>0.99</td>\n      <td>0.99</td>\n      <td>None</td>\n      <td>0.99</td>\n      <td>0.89</td>\n    </tr>\n    <tr>\n      <th>LinearDiscriminantAnalysis</th>\n      <td>0.99</td>\n      <td>0.99</td>\n      <td>None</td>\n      <td>0.99</td>\n      <td>0.06</td>\n    </tr>\n    <tr>\n      <th>LabelSpreading</th>\n      <td>0.99</td>\n      <td>0.99</td>\n      <td>None</td>\n      <td>0.99</td>\n      <td>1.18</td>\n    </tr>\n    <tr>\n      <th>XGBClassifier</th>\n      <td>0.99</td>\n      <td>0.99</td>\n      <td>None</td>\n      <td>0.99</td>\n      <td>0.14</td>\n    </tr>\n    <tr>\n      <th>SVC</th>\n      <td>0.99</td>\n      <td>0.99</td>\n      <td>None</td>\n      <td>0.99</td>\n      <td>0.08</td>\n    </tr>\n    <tr>\n      <th>RidgeClassifier</th>\n      <td>0.99</td>\n      <td>0.99</td>\n      <td>None</td>\n      <td>0.99</td>\n      <td>0.04</td>\n    </tr>\n    <tr>\n      <th>RidgeClassifierCV</th>\n      <td>0.99</td>\n      <td>0.99</td>\n      <td>None</td>\n      <td>0.99</td>\n      <td>0.03</td>\n    </tr>\n    <tr>\n      <th>AdaBoostClassifier</th>\n      <td>0.99</td>\n      <td>0.99</td>\n      <td>None</td>\n      <td>0.99</td>\n      <td>0.40</td>\n    </tr>\n    <tr>\n      <th>CalibratedClassifierCV</th>\n      <td>0.99</td>\n      <td>0.99</td>\n      <td>None</td>\n      <td>0.99</td>\n      <td>0.20</td>\n    </tr>\n    <tr>\n      <th>LinearSVC</th>\n      <td>0.99</td>\n      <td>0.99</td>\n      <td>None</td>\n      <td>0.99</td>\n      <td>0.05</td>\n    </tr>\n    <tr>\n      <th>BaggingClassifier</th>\n      <td>0.99</td>\n      <td>0.99</td>\n      <td>None</td>\n      <td>0.99</td>\n      <td>0.18</td>\n    </tr>\n    <tr>\n      <th>KNeighborsClassifier</th>\n      <td>0.99</td>\n      <td>0.99</td>\n      <td>None</td>\n      <td>0.99</td>\n      <td>0.14</td>\n    </tr>\n    <tr>\n      <th>PassiveAggressiveClassifier</th>\n      <td>0.99</td>\n      <td>0.99</td>\n      <td>None</td>\n      <td>0.99</td>\n      <td>0.02</td>\n    </tr>\n    <tr>\n      <th>LogisticRegression</th>\n      <td>0.99</td>\n      <td>0.98</td>\n      <td>None</td>\n      <td>0.99</td>\n      <td>0.04</td>\n    </tr>\n    <tr>\n      <th>NearestCentroid</th>\n      <td>0.99</td>\n      <td>0.98</td>\n      <td>None</td>\n      <td>0.99</td>\n      <td>0.02</td>\n    </tr>\n    <tr>\n      <th>QuadraticDiscriminantAnalysis</th>\n      <td>0.98</td>\n      <td>0.98</td>\n      <td>None</td>\n      <td>0.98</td>\n      <td>0.02</td>\n    </tr>\n    <tr>\n      <th>SGDClassifier</th>\n      <td>0.99</td>\n      <td>0.98</td>\n      <td>None</td>\n      <td>0.99</td>\n      <td>0.03</td>\n    </tr>\n    <tr>\n      <th>DecisionTreeClassifier</th>\n      <td>0.98</td>\n      <td>0.98</td>\n      <td>None</td>\n      <td>0.98</td>\n      <td>0.05</td>\n    </tr>\n    <tr>\n      <th>Perceptron</th>\n      <td>0.98</td>\n      <td>0.98</td>\n      <td>None</td>\n      <td>0.98</td>\n      <td>0.02</td>\n    </tr>\n    <tr>\n      <th>GaussianNB</th>\n      <td>0.97</td>\n      <td>0.97</td>\n      <td>None</td>\n      <td>0.97</td>\n      <td>0.02</td>\n    </tr>\n    <tr>\n      <th>ExtraTreeClassifier</th>\n      <td>0.97</td>\n      <td>0.96</td>\n      <td>None</td>\n      <td>0.97</td>\n      <td>0.02</td>\n    </tr>\n    <tr>\n      <th>BernoulliNB</th>\n      <td>0.97</td>\n      <td>0.95</td>\n      <td>None</td>\n      <td>0.97</td>\n      <td>0.07</td>\n    </tr>\n    <tr>\n      <th>DummyClassifier</th>\n      <td>0.64</td>\n      <td>0.52</td>\n      <td>None</td>\n      <td>0.63</td>\n      <td>0.02</td>\n    </tr>\n  </tbody>\n</table>\n</div>"
     },
     "metadata": {},
     "execution_count": 26
    }
   ],
   "source": [
    "models"
   ]
  },
  {
   "cell_type": "code",
   "execution_count": 2,
   "metadata": {},
   "outputs": [
    {
     "output_type": "error",
     "ename": "NameError",
     "evalue": "name 'models' is not defined",
     "traceback": [
      "\u001b[1;31m---------------------------------------------------------------------------\u001b[0m",
      "\u001b[1;31mNameError\u001b[0m                                 Traceback (most recent call last)",
      "\u001b[1;32m<ipython-input-2-de50d08bc487>\u001b[0m in \u001b[0;36m<module>\u001b[1;34m\u001b[0m\n\u001b[1;32m----> 1\u001b[1;33m \u001b[0mmodels\u001b[0m\u001b[1;33m.\u001b[0m\u001b[0mtype\u001b[0m\u001b[1;33m(\u001b[0m\u001b[1;33m)\u001b[0m\u001b[1;33m\u001b[0m\u001b[1;33m\u001b[0m\u001b[0m\n\u001b[0m",
      "\u001b[1;31mNameError\u001b[0m: name 'models' is not defined"
     ]
    }
   ],
   "source": [
    "models.type()"
   ]
  },
  {
   "cell_type": "code",
   "execution_count": 27,
   "metadata": {},
   "outputs": [
    {
     "output_type": "execute_result",
     "data": {
      "text/plain": [
       "     AdaBoostClassifier BaggingClassifier BernoulliNB CalibratedClassifierCV  \\\n",
       "0                 white             white       white                  white   \n",
       "1                   red               red       white                    red   \n",
       "2                 white             white       white                  white   \n",
       "3                 white             white       white                  white   \n",
       "4                 white             white       white                  white   \n",
       "...                 ...               ...         ...                    ...   \n",
       "1295                red               red         red                    red   \n",
       "1296              white             white       white                  white   \n",
       "1297              white             white       white                  white   \n",
       "1298              white             white       white                  white   \n",
       "1299              white             white       white                  white   \n",
       "\n",
       "     DecisionTreeClassifier DummyClassifier ExtraTreeClassifier  \\\n",
       "0                     white           white               white   \n",
       "1                       red             red                 red   \n",
       "2                     white           white               white   \n",
       "3                     white           white               white   \n",
       "4                     white           white               white   \n",
       "...                     ...             ...                 ...   \n",
       "1295                    red           white                 red   \n",
       "1296                  white           white               white   \n",
       "1297                  white           white               white   \n",
       "1298                  white           white               white   \n",
       "1299                  white           white               white   \n",
       "\n",
       "     ExtraTreesClassifier GaussianNB KNeighborsClassifier  ...  \\\n",
       "0                   white      white                white  ...   \n",
       "1                     red        red                  red  ...   \n",
       "2                   white      white                white  ...   \n",
       "3                   white      white                white  ...   \n",
       "4                   white      white                white  ...   \n",
       "...                   ...        ...                  ...  ...   \n",
       "1295                  red        red                  red  ...   \n",
       "1296                white      white                white  ...   \n",
       "1297                white      white                white  ...   \n",
       "1298                white      white                white  ...   \n",
       "1299                white      white                white  ...   \n",
       "\n",
       "     PassiveAggressiveClassifier Perceptron QuadraticDiscriminantAnalysis  \\\n",
       "0                          white      white                         white   \n",
       "1                            red        red                           red   \n",
       "2                          white      white                         white   \n",
       "3                          white      white                         white   \n",
       "4                          white      white                         white   \n",
       "...                          ...        ...                           ...   \n",
       "1295                         red        red                           red   \n",
       "1296                       white      white                         white   \n",
       "1297                       white      white                         white   \n",
       "1298                       white      white                         white   \n",
       "1299                       white      white                         white   \n",
       "\n",
       "     RandomForestClassifier RidgeClassifier RidgeClassifierCV SGDClassifier  \\\n",
       "0                     white           white             white         white   \n",
       "1                       red             red               red           red   \n",
       "2                     white           white             white         white   \n",
       "3                     white           white             white         white   \n",
       "4                     white           white             white         white   \n",
       "...                     ...             ...               ...           ...   \n",
       "1295                    red             red               red           red   \n",
       "1296                  white           white             white         white   \n",
       "1297                  white           white             white         white   \n",
       "1298                  white           white             white         white   \n",
       "1299                  white           white             white         white   \n",
       "\n",
       "        SVC XGBClassifier LGBMClassifier  \n",
       "0     white         white          white  \n",
       "1       red           red            red  \n",
       "2     white         white          white  \n",
       "3     white         white          white  \n",
       "4     white         white          white  \n",
       "...     ...           ...            ...  \n",
       "1295    red           red            red  \n",
       "1296  white         white          white  \n",
       "1297  white         white          white  \n",
       "1298  white         white          white  \n",
       "1299  white         white          white  \n",
       "\n",
       "[1300 rows x 26 columns]"
      ],
      "text/html": "<div>\n<style scoped>\n    .dataframe tbody tr th:only-of-type {\n        vertical-align: middle;\n    }\n\n    .dataframe tbody tr th {\n        vertical-align: top;\n    }\n\n    .dataframe thead th {\n        text-align: right;\n    }\n</style>\n<table border=\"1\" class=\"dataframe\">\n  <thead>\n    <tr style=\"text-align: right;\">\n      <th></th>\n      <th>AdaBoostClassifier</th>\n      <th>BaggingClassifier</th>\n      <th>BernoulliNB</th>\n      <th>CalibratedClassifierCV</th>\n      <th>DecisionTreeClassifier</th>\n      <th>DummyClassifier</th>\n      <th>ExtraTreeClassifier</th>\n      <th>ExtraTreesClassifier</th>\n      <th>GaussianNB</th>\n      <th>KNeighborsClassifier</th>\n      <th>...</th>\n      <th>PassiveAggressiveClassifier</th>\n      <th>Perceptron</th>\n      <th>QuadraticDiscriminantAnalysis</th>\n      <th>RandomForestClassifier</th>\n      <th>RidgeClassifier</th>\n      <th>RidgeClassifierCV</th>\n      <th>SGDClassifier</th>\n      <th>SVC</th>\n      <th>XGBClassifier</th>\n      <th>LGBMClassifier</th>\n    </tr>\n  </thead>\n  <tbody>\n    <tr>\n      <th>0</th>\n      <td>white</td>\n      <td>white</td>\n      <td>white</td>\n      <td>white</td>\n      <td>white</td>\n      <td>white</td>\n      <td>white</td>\n      <td>white</td>\n      <td>white</td>\n      <td>white</td>\n      <td>...</td>\n      <td>white</td>\n      <td>white</td>\n      <td>white</td>\n      <td>white</td>\n      <td>white</td>\n      <td>white</td>\n      <td>white</td>\n      <td>white</td>\n      <td>white</td>\n      <td>white</td>\n    </tr>\n    <tr>\n      <th>1</th>\n      <td>red</td>\n      <td>red</td>\n      <td>white</td>\n      <td>red</td>\n      <td>red</td>\n      <td>red</td>\n      <td>red</td>\n      <td>red</td>\n      <td>red</td>\n      <td>red</td>\n      <td>...</td>\n      <td>red</td>\n      <td>red</td>\n      <td>red</td>\n      <td>red</td>\n      <td>red</td>\n      <td>red</td>\n      <td>red</td>\n      <td>red</td>\n      <td>red</td>\n      <td>red</td>\n    </tr>\n    <tr>\n      <th>2</th>\n      <td>white</td>\n      <td>white</td>\n      <td>white</td>\n      <td>white</td>\n      <td>white</td>\n      <td>white</td>\n      <td>white</td>\n      <td>white</td>\n      <td>white</td>\n      <td>white</td>\n      <td>...</td>\n      <td>white</td>\n      <td>white</td>\n      <td>white</td>\n      <td>white</td>\n      <td>white</td>\n      <td>white</td>\n      <td>white</td>\n      <td>white</td>\n      <td>white</td>\n      <td>white</td>\n    </tr>\n    <tr>\n      <th>3</th>\n      <td>white</td>\n      <td>white</td>\n      <td>white</td>\n      <td>white</td>\n      <td>white</td>\n      <td>white</td>\n      <td>white</td>\n      <td>white</td>\n      <td>white</td>\n      <td>white</td>\n      <td>...</td>\n      <td>white</td>\n      <td>white</td>\n      <td>white</td>\n      <td>white</td>\n      <td>white</td>\n      <td>white</td>\n      <td>white</td>\n      <td>white</td>\n      <td>white</td>\n      <td>white</td>\n    </tr>\n    <tr>\n      <th>4</th>\n      <td>white</td>\n      <td>white</td>\n      <td>white</td>\n      <td>white</td>\n      <td>white</td>\n      <td>white</td>\n      <td>white</td>\n      <td>white</td>\n      <td>white</td>\n      <td>white</td>\n      <td>...</td>\n      <td>white</td>\n      <td>white</td>\n      <td>white</td>\n      <td>white</td>\n      <td>white</td>\n      <td>white</td>\n      <td>white</td>\n      <td>white</td>\n      <td>white</td>\n      <td>white</td>\n    </tr>\n    <tr>\n      <th>...</th>\n      <td>...</td>\n      <td>...</td>\n      <td>...</td>\n      <td>...</td>\n      <td>...</td>\n      <td>...</td>\n      <td>...</td>\n      <td>...</td>\n      <td>...</td>\n      <td>...</td>\n      <td>...</td>\n      <td>...</td>\n      <td>...</td>\n      <td>...</td>\n      <td>...</td>\n      <td>...</td>\n      <td>...</td>\n      <td>...</td>\n      <td>...</td>\n      <td>...</td>\n      <td>...</td>\n    </tr>\n    <tr>\n      <th>1295</th>\n      <td>red</td>\n      <td>red</td>\n      <td>red</td>\n      <td>red</td>\n      <td>red</td>\n      <td>white</td>\n      <td>red</td>\n      <td>red</td>\n      <td>red</td>\n      <td>red</td>\n      <td>...</td>\n      <td>red</td>\n      <td>red</td>\n      <td>red</td>\n      <td>red</td>\n      <td>red</td>\n      <td>red</td>\n      <td>red</td>\n      <td>red</td>\n      <td>red</td>\n      <td>red</td>\n    </tr>\n    <tr>\n      <th>1296</th>\n      <td>white</td>\n      <td>white</td>\n      <td>white</td>\n      <td>white</td>\n      <td>white</td>\n      <td>white</td>\n      <td>white</td>\n      <td>white</td>\n      <td>white</td>\n      <td>white</td>\n      <td>...</td>\n      <td>white</td>\n      <td>white</td>\n      <td>white</td>\n      <td>white</td>\n      <td>white</td>\n      <td>white</td>\n      <td>white</td>\n      <td>white</td>\n      <td>white</td>\n      <td>white</td>\n    </tr>\n    <tr>\n      <th>1297</th>\n      <td>white</td>\n      <td>white</td>\n      <td>white</td>\n      <td>white</td>\n      <td>white</td>\n      <td>white</td>\n      <td>white</td>\n      <td>white</td>\n      <td>white</td>\n      <td>white</td>\n      <td>...</td>\n      <td>white</td>\n      <td>white</td>\n      <td>white</td>\n      <td>white</td>\n      <td>white</td>\n      <td>white</td>\n      <td>white</td>\n      <td>white</td>\n      <td>white</td>\n      <td>white</td>\n    </tr>\n    <tr>\n      <th>1298</th>\n      <td>white</td>\n      <td>white</td>\n      <td>white</td>\n      <td>white</td>\n      <td>white</td>\n      <td>white</td>\n      <td>white</td>\n      <td>white</td>\n      <td>white</td>\n      <td>white</td>\n      <td>...</td>\n      <td>white</td>\n      <td>white</td>\n      <td>white</td>\n      <td>white</td>\n      <td>white</td>\n      <td>white</td>\n      <td>white</td>\n      <td>white</td>\n      <td>white</td>\n      <td>white</td>\n    </tr>\n    <tr>\n      <th>1299</th>\n      <td>white</td>\n      <td>white</td>\n      <td>white</td>\n      <td>white</td>\n      <td>white</td>\n      <td>white</td>\n      <td>white</td>\n      <td>white</td>\n      <td>white</td>\n      <td>white</td>\n      <td>...</td>\n      <td>white</td>\n      <td>white</td>\n      <td>white</td>\n      <td>white</td>\n      <td>white</td>\n      <td>white</td>\n      <td>white</td>\n      <td>white</td>\n      <td>white</td>\n      <td>white</td>\n    </tr>\n  </tbody>\n</table>\n<p>1300 rows × 26 columns</p>\n</div>"
     },
     "metadata": {},
     "execution_count": 27
    }
   ],
   "source": [
    "predictions"
   ]
  },
  {
   "cell_type": "code",
   "execution_count": null,
   "metadata": {},
   "outputs": [],
   "source": []
  }
 ]
}